{
    "nbformat": 4,
    "nbformat_minor": 5,
    "metadata": {
        "kernelspec": {
            "display_name": "Python",
            "language": "python",
            "name": "python"
        },
        "language_info": {
            "name": "python"
        }
    },
    "cells": [
        {
            "id": "dbfe7a90",
            "cell_type": "markdown",
            "source": "<div class='alert alert-warning'>\n\nSciPy's interactive examples with Jupyterlite are experimental and may not always work as expected. Execution of cells containing imports may result in large downloads (up to 60MB of content for the first import from SciPy). Load times when importing from SciPy may take roughly 10-20 seconds. If you notice any problems, feel free to open an [issue](https://github.com/scipy/scipy/issues/new/choose).\n\n</div>",
            "metadata": {}
        },
        {
            "id": "3d96266f",
            "cell_type": "markdown",
            "source": "Generate a noisy signal to be filtered:\n",
            "metadata": {}
        },
        {
            "id": "2dc37ef2",
            "cell_type": "code",
            "metadata": {},
            "execution_count": null,
            "source": "import numpy as np\nfrom scipy import signal\nimport matplotlib.pyplot as plt\nrng = np.random.default_rng()\nt = np.linspace(-1, 1, 201)\nx = (np.sin(2*np.pi*0.75*t*(1-t) + 2.1) +\n     0.1*np.sin(2*np.pi*1.25*t + 1) +\n     0.18*np.cos(2*np.pi*3.85*t))\nxn = x + rng.standard_normal(len(t)) * 0.08",
            "outputs": []
        },
        {
            "id": "1cc03e66",
            "cell_type": "markdown",
            "source": "Create an order 3 lowpass butterworth filter:\n",
            "metadata": {}
        },
        {
            "id": "da5adcae",
            "cell_type": "code",
            "metadata": {},
            "execution_count": null,
            "source": "b, a = signal.butter(3, 0.05)",
            "outputs": []
        },
        {
            "id": "b0a76845",
            "cell_type": "markdown",
            "source": "Apply the filter to xn.  Use lfilter_zi to choose the initial condition of\nthe filter:\n",
            "metadata": {}
        },
        {
            "id": "a2e14cf2",
            "cell_type": "code",
            "metadata": {},
            "execution_count": null,
            "source": "zi = signal.lfilter_zi(b, a)\nz, _ = signal.lfilter(b, a, xn, zi=zi*xn[0])",
            "outputs": []
        },
        {
            "id": "eedc7c14",
            "cell_type": "markdown",
            "source": "Apply the filter again, to have a result filtered at an order the same as\nfiltfilt:\n",
            "metadata": {}
        },
        {
            "id": "8f8c6ecf",
            "cell_type": "code",
            "metadata": {},
            "execution_count": null,
            "source": "z2, _ = signal.lfilter(b, a, z, zi=zi*z[0])",
            "outputs": []
        },
        {
            "id": "ef6e348e",
            "cell_type": "markdown",
            "source": "Use filtfilt to apply the filter:\n",
            "metadata": {}
        },
        {
            "id": "e3e4bcf4",
            "cell_type": "code",
            "metadata": {},
            "execution_count": null,
            "source": "y = signal.filtfilt(b, a, xn)",
            "outputs": []
        },
        {
            "id": "9bf4c129",
            "cell_type": "markdown",
            "source": "Plot the original signal and the various filtered versions:\n",
            "metadata": {}
        },
        {
            "id": "e260ca4e",
            "cell_type": "code",
            "metadata": {},
            "execution_count": null,
            "source": "plt.figure\nplt.plot(t, xn, 'b', alpha=0.75)\nplt.plot(t, z, 'r--', t, z2, 'r', t, y, 'k')\nplt.legend(('noisy signal', 'lfilter, once', 'lfilter, twice',\n            'filtfilt'), loc='best')\nplt.grid(True)\nplt.show()",
            "outputs": []
        }
    ]
}