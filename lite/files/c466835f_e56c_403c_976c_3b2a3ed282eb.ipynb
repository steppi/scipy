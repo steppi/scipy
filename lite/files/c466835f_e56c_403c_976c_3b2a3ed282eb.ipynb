{
    "nbformat": 4,
    "nbformat_minor": 5,
    "metadata": {
        "kernelspec": {
            "display_name": "Python",
            "language": "python",
            "name": "python"
        },
        "language_info": {
            "name": "python"
        }
    },
    "cells": [
        {
            "id": "e725f7c9",
            "cell_type": "markdown",
            "source": "<div class='alert alert-warning'>\n\nSciPy's interactive examples with Jupyterlite are experimental and may not always work as expected. Execution of cells containing imports may result in large downloads (up to 60MB of content for the first import from SciPy). Load times when importing from SciPy may take roughly 10-20 seconds. If you notice any problems, feel free to open an [issue](https://github.com/scipy/scipy/issues/new/choose).\n\n</div>",
            "metadata": {}
        },
        {
            "id": "a97d4101",
            "cell_type": "code",
            "metadata": {},
            "execution_count": null,
            "source": "import numpy as np\nfrom scipy import special\nfrom scipy import stats\nimport matplotlib.pyplot as plt",
            "outputs": []
        },
        {
            "id": "c306ae9b",
            "cell_type": "markdown",
            "source": "Plot the CDF of the non-central F distribution, for nc=0.  Compare with the\nF-distribution from scipy.stats:\n",
            "metadata": {}
        },
        {
            "id": "f5bb9161",
            "cell_type": "code",
            "metadata": {},
            "execution_count": null,
            "source": "x = np.linspace(-1, 8, num=500)\ndfn = 3\ndfd = 2\nncf_stats = stats.f.cdf(x, dfn, dfd)\nncf_special = special.ncfdtr(dfn, dfd, 0, x)",
            "outputs": []
        },
        {
            "id": "01125221",
            "cell_type": "code",
            "metadata": {},
            "execution_count": null,
            "source": "fig = plt.figure()\nax = fig.add_subplot(111)\nax.plot(x, ncf_stats, 'b-', lw=3)\nax.plot(x, ncf_special, 'r-')\nplt.show()",
            "outputs": []
        }
    ]
}