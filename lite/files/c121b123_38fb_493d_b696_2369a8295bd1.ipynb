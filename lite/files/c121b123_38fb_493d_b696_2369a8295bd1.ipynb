{
    "nbformat": 4,
    "nbformat_minor": 5,
    "metadata": {
        "kernelspec": {
            "display_name": "Python",
            "language": "python",
            "name": "python"
        },
        "language_info": {
            "name": "python"
        }
    },
    "cells": [
        {
            "id": "0e5298fb",
            "cell_type": "markdown",
            "source": "<div class='alert alert-warning'>\n\nSciPy's interactive examples with Jupyterlite are experimental and may not always work as expected. Execution of cells containing imports may result in large downloads (up to 60MB of content for the first import from SciPy). Load times when importing from SciPy may take roughly 10-20 seconds. If you notice any problems, feel free to open an [issue](https://github.com/scipy/scipy/issues/new/choose).\n\n</div>",
            "metadata": {}
        },
        {
            "id": "663884f5",
            "cell_type": "code",
            "metadata": {},
            "execution_count": null,
            "source": "import numpy as np\nimport matplotlib.pyplot as plt\nfrom scipy.spatial import Delaunay, delaunay_plot_2d",
            "outputs": []
        },
        {
            "id": "1eb44330",
            "cell_type": "markdown",
            "source": "The Delaunay triangulation of a set of random points:\n",
            "metadata": {}
        },
        {
            "id": "949e7067",
            "cell_type": "code",
            "metadata": {},
            "execution_count": null,
            "source": "rng = np.random.default_rng()\npoints = rng.random((30, 2))\ntri = Delaunay(points)",
            "outputs": []
        },
        {
            "id": "ea0e2928",
            "cell_type": "markdown",
            "source": "Plot it:\n",
            "metadata": {}
        },
        {
            "id": "eeddca63",
            "cell_type": "code",
            "metadata": {},
            "execution_count": null,
            "source": "_ = delaunay_plot_2d(tri)\nplt.show()",
            "outputs": []
        }
    ]
}