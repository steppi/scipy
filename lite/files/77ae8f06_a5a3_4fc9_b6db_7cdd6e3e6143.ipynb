{
    "nbformat": 4,
    "nbformat_minor": 5,
    "metadata": {
        "kernelspec": {
            "display_name": "Python",
            "language": "python",
            "name": "python"
        },
        "language_info": {
            "name": "python"
        }
    },
    "cells": [
        {
            "id": "90b6214e",
            "cell_type": "markdown",
            "source": "<div class='alert alert-warning'>\n\nSciPy's interactive examples with Jupyterlite are experimental and may not always work as expected. Execution of cells containing imports may result in large downloads (up to 60MB of content for the first import from SciPy). Load times when importing from SciPy may take roughly 10-20 seconds. If you notice any problems, feel free to open an [issue](https://github.com/scipy/scipy/issues/new/choose).\n\n</div>",
            "metadata": {}
        },
        {
            "id": "5c740970",
            "cell_type": "code",
            "metadata": {},
            "execution_count": null,
            "source": "from scipy import ndimage\nimport numpy as np\na = np.array(([0,1,1,1,1],\n              [0,0,1,1,1],\n              [0,1,1,1,1],\n              [0,1,1,1,0],\n              [0,1,1,0,0]))\nndimage.distance_transform_edt(a)",
            "outputs": [
                {
                    "output_type": "execute_result",
                    "metadata": {},
                    "data": {
                        "text/plain": "array([[ 0.    ,  1.    ,  1.4142,  2.2361,  3.    ],\n       [ 0.    ,  0.    ,  1.    ,  2.    ,  2.    ],\n       [ 0.    ,  1.    ,  1.4142,  1.4142,  1.    ],\n       [ 0.    ,  1.    ,  1.4142,  1.    ,  0.    ],\n       [ 0.    ,  1.    ,  1.    ,  0.    ,  0.    ]])"
                    },
                    "execution_count": null
                }
            ]
        },
        {
            "id": "4ec57964",
            "cell_type": "markdown",
            "source": "With a sampling of 2 units along x, 1 along y:\n",
            "metadata": {}
        },
        {
            "id": "a6a1898f",
            "cell_type": "code",
            "metadata": {},
            "execution_count": null,
            "source": "ndimage.distance_transform_edt(a, sampling=[2,1])",
            "outputs": [
                {
                    "output_type": "execute_result",
                    "metadata": {},
                    "data": {
                        "text/plain": "array([[ 0.    ,  1.    ,  2.    ,  2.8284,  3.6056],\n       [ 0.    ,  0.    ,  1.    ,  2.    ,  3.    ],\n       [ 0.    ,  1.    ,  2.    ,  2.2361,  2.    ],\n       [ 0.    ,  1.    ,  2.    ,  1.    ,  0.    ],\n       [ 0.    ,  1.    ,  1.    ,  0.    ,  0.    ]])"
                    },
                    "execution_count": null
                }
            ]
        },
        {
            "id": "dbee19ed",
            "cell_type": "markdown",
            "source": "Asking for indices as well:\n",
            "metadata": {}
        },
        {
            "id": "1923e491",
            "cell_type": "code",
            "metadata": {},
            "execution_count": null,
            "source": "edt, inds = ndimage.distance_transform_edt(a, return_indices=True)\ninds",
            "outputs": [
                {
                    "output_type": "execute_result",
                    "metadata": {},
                    "data": {
                        "text/plain": "array([[[0, 0, 1, 1, 3],\n        [1, 1, 1, 1, 3],\n        [2, 2, 1, 3, 3],\n        [3, 3, 4, 4, 3],\n        [4, 4, 4, 4, 4]],\n       [[0, 0, 1, 1, 4],\n        [0, 1, 1, 1, 4],\n        [0, 0, 1, 4, 4],\n        [0, 0, 3, 3, 4],\n        [0, 0, 3, 3, 4]]])"
                    },
                    "execution_count": null
                }
            ]
        },
        {
            "id": "ce0db2a9",
            "cell_type": "markdown",
            "source": "With arrays provided for inplace outputs:\n",
            "metadata": {}
        },
        {
            "id": "581e056f",
            "cell_type": "code",
            "metadata": {},
            "execution_count": null,
            "source": "indices = np.zeros(((np.ndim(a),) + a.shape), dtype=np.int32)\nndimage.distance_transform_edt(a, return_indices=True, indices=indices)",
            "outputs": [
                {
                    "output_type": "execute_result",
                    "metadata": {},
                    "data": {
                        "text/plain": "array([[ 0.    ,  1.    ,  1.4142,  2.2361,  3.    ],\n       [ 0.    ,  0.    ,  1.    ,  2.    ,  2.    ],\n       [ 0.    ,  1.    ,  1.4142,  1.4142,  1.    ],\n       [ 0.    ,  1.    ,  1.4142,  1.    ,  0.    ],\n       [ 0.    ,  1.    ,  1.    ,  0.    ,  0.    ]])"
                    },
                    "execution_count": null
                }
            ]
        },
        {
            "id": "3626e177",
            "cell_type": "code",
            "metadata": {},
            "execution_count": null,
            "source": "indices",
            "outputs": [
                {
                    "output_type": "execute_result",
                    "metadata": {},
                    "data": {
                        "text/plain": "array([[[0, 0, 1, 1, 3],\n        [1, 1, 1, 1, 3],\n        [2, 2, 1, 3, 3],\n        [3, 3, 4, 4, 3],\n        [4, 4, 4, 4, 4]],\n       [[0, 0, 1, 1, 4],\n        [0, 1, 1, 1, 4],\n        [0, 0, 1, 4, 4],\n        [0, 0, 3, 3, 4],\n        [0, 0, 3, 3, 4]]])"
                    },
                    "execution_count": null
                }
            ]
        }
    ]
}