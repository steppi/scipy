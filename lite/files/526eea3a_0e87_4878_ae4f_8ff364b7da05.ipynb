{
    "nbformat": 4,
    "nbformat_minor": 5,
    "metadata": {
        "kernelspec": {
            "display_name": "Python",
            "language": "python",
            "name": "python"
        },
        "language_info": {
            "name": "python"
        }
    },
    "cells": [
        {
            "id": "5feb22a9",
            "cell_type": "markdown",
            "source": "<div class='alert alert-warning'>\n\nSciPy's interactive examples with Jupyterlite are experimental and may not always work as expected. Execution of cells containing imports may result in large downloads (up to 60MB of content for the first import from SciPy). Load times when importing from SciPy may take roughly 10-20 seconds. If you notice any problems, feel free to open an [issue](https://github.com/scipy/scipy/issues/new/choose).\n\n</div>",
            "metadata": {}
        },
        {
            "id": "2136b3a0",
            "cell_type": "code",
            "metadata": {},
            "execution_count": null,
            "source": "import numpy as np\nfrom scipy.stats import nakagami\nimport matplotlib.pyplot as plt\nfig, ax = plt.subplots(1, 1)",
            "outputs": []
        },
        {
            "id": "930faf50",
            "cell_type": "markdown",
            "source": "Calculate the first four moments:\n",
            "metadata": {}
        },
        {
            "id": "6c8b47a5",
            "cell_type": "code",
            "metadata": {},
            "execution_count": null,
            "source": "nu = 4.97\nmean, var, skew, kurt = nakagami.stats(nu, moments='mvsk')",
            "outputs": []
        },
        {
            "id": "41ffd638",
            "cell_type": "markdown",
            "source": "Display the probability density function (``pdf``):\n",
            "metadata": {}
        },
        {
            "id": "a1d5bcce",
            "cell_type": "code",
            "metadata": {},
            "execution_count": null,
            "source": "x = np.linspace(nakagami.ppf(0.01, nu),\n                nakagami.ppf(0.99, nu), 100)\nax.plot(x, nakagami.pdf(x, nu),\n       'r-', lw=5, alpha=0.6, label='nakagami pdf')",
            "outputs": []
        },
        {
            "id": "e497ba4e",
            "cell_type": "markdown",
            "source": "Alternatively, the distribution object can be called (as a function)\nto fix the shape, location and scale parameters. This returns a \"frozen\"\nRV object holding the given parameters fixed.\n\nFreeze the distribution and display the frozen ``pdf``:\n",
            "metadata": {}
        },
        {
            "id": "0dca445b",
            "cell_type": "code",
            "metadata": {},
            "execution_count": null,
            "source": "rv = nakagami(nu)\nax.plot(x, rv.pdf(x), 'k-', lw=2, label='frozen pdf')",
            "outputs": []
        },
        {
            "id": "87d11daf",
            "cell_type": "markdown",
            "source": "Check accuracy of ``cdf`` and ``ppf``:\n",
            "metadata": {}
        },
        {
            "id": "1be3cfb3",
            "cell_type": "code",
            "metadata": {},
            "execution_count": null,
            "source": "vals = nakagami.ppf([0.001, 0.5, 0.999], nu)\nnp.allclose([0.001, 0.5, 0.999], nakagami.cdf(vals, nu))",
            "outputs": [
                {
                    "output_type": "execute_result",
                    "metadata": {},
                    "data": {
                        "text/plain": "True"
                    },
                    "execution_count": null
                }
            ]
        },
        {
            "id": "8b76c958",
            "cell_type": "markdown",
            "source": "Generate random numbers:\n",
            "metadata": {}
        },
        {
            "id": "8ce6aa31",
            "cell_type": "code",
            "metadata": {},
            "execution_count": null,
            "source": "r = nakagami.rvs(nu, size=1000)",
            "outputs": []
        },
        {
            "id": "6e7ac923",
            "cell_type": "markdown",
            "source": "And compare the histogram:\n",
            "metadata": {}
        },
        {
            "id": "b1ea6b8f",
            "cell_type": "code",
            "metadata": {},
            "execution_count": null,
            "source": "ax.hist(r, density=True, bins='auto', histtype='stepfilled', alpha=0.2)\nax.set_xlim([x[0], x[-1]])\nax.legend(loc='best', frameon=False)\nplt.show()",
            "outputs": []
        }
    ]
}