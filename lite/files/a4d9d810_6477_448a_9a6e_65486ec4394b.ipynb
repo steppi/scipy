{
    "nbformat": 4,
    "nbformat_minor": 5,
    "metadata": {
        "kernelspec": {
            "display_name": "Python",
            "language": "python",
            "name": "python"
        },
        "language_info": {
            "name": "python"
        }
    },
    "cells": [
        {
            "id": "89664581",
            "cell_type": "markdown",
            "source": "<div class='alert alert-warning'>\n\nSciPy's interactive examples with Jupyterlite are experimental and may not always work as expected. Execution of cells containing imports may result in large downloads (up to 60MB of content for the first import from SciPy). Load times when importing from SciPy may take roughly 10-20 seconds. If you notice any problems, feel free to open an [issue](https://github.com/scipy/scipy/issues/new/choose).\n\n</div>",
            "metadata": {}
        },
        {
            "id": "50384b96",
            "cell_type": "code",
            "metadata": {},
            "execution_count": null,
            "source": "from scipy.sparse import csr_matrix\nfrom scipy.sparse.csgraph import reverse_cuthill_mckee",
            "outputs": []
        },
        {
            "id": "527a7dfe",
            "cell_type": "code",
            "metadata": {},
            "execution_count": null,
            "source": "graph = [\n[0, 1, 2, 0],\n[0, 0, 0, 1],\n[2, 0, 0, 3],\n[0, 0, 0, 0]\n]\ngraph = csr_matrix(graph)\nprint(graph)",
            "outputs": [
                {
                    "output_type": "execute_result",
                    "metadata": {},
                    "data": {
                        "text/plain": "  (0, 1)    1\n  (0, 2)    2\n  (1, 3)    1\n  (2, 0)    2\n  (2, 3)    3"
                    },
                    "execution_count": null
                }
            ]
        },
        {
            "id": "b013855d",
            "cell_type": "code",
            "metadata": {},
            "execution_count": null,
            "source": "reverse_cuthill_mckee(graph)",
            "outputs": [
                {
                    "output_type": "execute_result",
                    "metadata": {},
                    "data": {
                        "text/plain": "array([3, 2, 1, 0], dtype=int32)"
                    },
                    "execution_count": null
                }
            ]
        }
    ]
}