{
    "nbformat": 4,
    "nbformat_minor": 5,
    "metadata": {
        "kernelspec": {
            "display_name": "Python",
            "language": "python",
            "name": "python"
        },
        "language_info": {
            "name": "python"
        }
    },
    "cells": [
        {
            "id": "3ed4cf18",
            "cell_type": "markdown",
            "source": "<div class='alert alert-warning'>\n\nSciPy's interactive examples with Jupyterlite are experimental and may not always work as expected. Execution of cells containing imports may result in large downloads (up to 60MB of content for the first import from SciPy). Load times when importing from SciPy may take roughly 10-20 seconds. If you notice any problems, feel free to open an [issue](https://github.com/scipy/scipy/issues/new/choose).\n\n</div>",
            "metadata": {}
        },
        {
            "id": "b54c873a",
            "cell_type": "markdown",
            "source": "In [3], the effective dose of acetazolamide for the prophylaxis of acute\nmountain sickness was investigated. The study notably concluded:\n\n    Acetazolamide 250 mg, 500 mg, and 750 mg daily were all efficacious for\n    preventing acute mountain sickness. Acetazolamide 250 mg was the lowest\n    effective dose with available evidence for this indication.\n\nThe following table summarizes the results of the experiment in which\nsome participants took a daily dose of acetazolamide 250 mg while others\ntook a placebo.\nCases of acute mountain sickness were recorded\n```\n\nAcetazolamide   Control/Placebo\nAcute mountain sickness            7           17\nNo                                15            5\n\n```\nIs there evidence that the acetazolamide 250 mg reduces the risk of\nacute mountain sickness?\nWe begin by formulating a null hypothesis $H_0$:\n\n    The odds of experiencing acute mountain sickness are the same with\n    the acetazolamide treatment as they are with placebo.\n\nLet's assess the plausibility of this hypothesis with\nFisher's test.\n",
            "metadata": {}
        },
        {
            "id": "0ae7bca5",
            "cell_type": "code",
            "metadata": {},
            "execution_count": null,
            "source": "from scipy.stats import fisher_exact\nres = fisher_exact([[7, 17], [15, 5]], alternative='less')\nres.statistic",
            "outputs": [
                {
                    "output_type": "execute_result",
                    "metadata": {},
                    "data": {
                        "text/plain": "0.13725490196078433"
                    },
                    "execution_count": null
                }
            ]
        },
        {
            "id": "7ac74680",
            "cell_type": "code",
            "metadata": {},
            "execution_count": null,
            "source": "res.pvalue",
            "outputs": [
                {
                    "output_type": "execute_result",
                    "metadata": {},
                    "data": {
                        "text/plain": "0.0028841933752349743"
                    },
                    "execution_count": null
                }
            ]
        },
        {
            "id": "904279a8",
            "cell_type": "markdown",
            "source": "Using a significance level of 5%, we would reject the null hypothesis in\nfavor of the alternative hypothesis: \"The odds of experiencing acute\nmountain sickness with acetazolamide treatment are less than the odds of\nexperiencing acute mountain sickness with placebo.\"\n\n.. note\n```\n\nBecause the null distribution of Fisher's exact test is formed under\nthe assumption that both row and column sums are fixed, the result of\nthe test are conservative when applied to an experiment in which the\nrow sums are not fixed.\n\nIn this case, the column sums are fixed; there are 22 subjects in each\ngroup. But the number of cases of acute mountain sickness is not\n(and cannot be) fixed before conducting the experiment. It is a\nconsequence.\n\nBoschloo's test does not depend on the assumption that the row sums\nare fixed, and consequently, it provides a more powerful test in this\nsituation.\n\n>>> from scipy.stats import boschloo_exact\n>>> res = boschloo_exact([[7, 17], [15, 5]], alternative='less')\n>>> res.statistic\n0.0028841933752349743\n>>> res.pvalue\n0.0015141406667567101\n\nWe verify that the p-value is less than with `fisher_exact`.\n```",
            "metadata": {}
        }
    ]
}