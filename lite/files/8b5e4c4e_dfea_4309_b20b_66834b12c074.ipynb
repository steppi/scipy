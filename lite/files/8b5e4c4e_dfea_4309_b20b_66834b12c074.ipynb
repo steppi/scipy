{
    "nbformat": 4,
    "nbformat_minor": 5,
    "metadata": {
        "kernelspec": {
            "display_name": "Python",
            "language": "python",
            "name": "python"
        },
        "language_info": {
            "name": "python"
        }
    },
    "cells": [
        {
            "id": "50ef1528",
            "cell_type": "markdown",
            "source": "<div class='alert alert-warning'>\n\nSciPy's interactive examples with Jupyterlite are experimental and may not always work as expected. Execution of cells containing imports may result in large downloads (up to 60MB of content for the first import from SciPy). Load times when importing from SciPy may take roughly 10-20 seconds. If you notice any problems, feel free to open an [issue](https://github.com/scipy/scipy/issues/new/choose).\n\n</div>",
            "metadata": {}
        },
        {
            "id": "e51bba51",
            "cell_type": "code",
            "metadata": {},
            "execution_count": null,
            "source": "import numpy as np\nimport scipy.special as sc",
            "outputs": []
        },
        {
            "id": "d6e3b4f6",
            "cell_type": "markdown",
            "source": "It is one when `z` is zero.\n",
            "metadata": {}
        },
        {
            "id": "13a1d280",
            "cell_type": "code",
            "metadata": {},
            "execution_count": null,
            "source": "sc.hyp0f1(1, 0)",
            "outputs": [
                {
                    "output_type": "execute_result",
                    "metadata": {},
                    "data": {
                        "text/plain": "1.0"
                    },
                    "execution_count": null
                }
            ]
        },
        {
            "id": "e3c10ed1",
            "cell_type": "markdown",
            "source": "It is the limit of the confluent hypergeometric function as `q`\ngoes to infinity.\n",
            "metadata": {}
        },
        {
            "id": "d3deae37",
            "cell_type": "code",
            "metadata": {},
            "execution_count": null,
            "source": "q = np.array([1, 10, 100, 1000])\nv = 1\nz = 1\nsc.hyp1f1(q, v, z / q)",
            "outputs": [
                {
                    "output_type": "execute_result",
                    "metadata": {},
                    "data": {
                        "text/plain": "array([2.71828183, 2.31481985, 2.28303778, 2.27992985])"
                    },
                    "execution_count": null
                }
            ]
        },
        {
            "id": "a4f5ac6c",
            "cell_type": "code",
            "metadata": {},
            "execution_count": null,
            "source": "sc.hyp0f1(v, z)",
            "outputs": [
                {
                    "output_type": "execute_result",
                    "metadata": {},
                    "data": {
                        "text/plain": "2.2795853023360673"
                    },
                    "execution_count": null
                }
            ]
        },
        {
            "id": "7d096e36",
            "cell_type": "markdown",
            "source": "It is related to Bessel functions.\n",
            "metadata": {}
        },
        {
            "id": "eb64c025",
            "cell_type": "code",
            "metadata": {},
            "execution_count": null,
            "source": "n = 1\nx = np.linspace(0, 1, 5)\nsc.jv(n, x)",
            "outputs": [
                {
                    "output_type": "execute_result",
                    "metadata": {},
                    "data": {
                        "text/plain": "array([0.        , 0.12402598, 0.24226846, 0.3492436 , 0.44005059])"
                    },
                    "execution_count": null
                }
            ]
        },
        {
            "id": "82be23c5",
            "cell_type": "code",
            "metadata": {},
            "execution_count": null,
            "source": "(0.5 * x)**n / sc.factorial(n) * sc.hyp0f1(n + 1, -0.25 * x**2)",
            "outputs": [
                {
                    "output_type": "execute_result",
                    "metadata": {},
                    "data": {
                        "text/plain": "array([0.        , 0.12402598, 0.24226846, 0.3492436 , 0.44005059])"
                    },
                    "execution_count": null
                }
            ]
        }
    ]
}