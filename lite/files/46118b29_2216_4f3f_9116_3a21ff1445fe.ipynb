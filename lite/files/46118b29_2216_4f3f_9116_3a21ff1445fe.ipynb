{
    "nbformat": 4,
    "nbformat_minor": 5,
    "metadata": {
        "kernelspec": {
            "display_name": "Python",
            "language": "python",
            "name": "python"
        },
        "language_info": {
            "name": "python"
        }
    },
    "cells": [
        {
            "id": "9d7590b2",
            "cell_type": "markdown",
            "source": "<div class='alert alert-warning'>\n\nSciPy's interactive examples with Jupyterlite are experimental and may not always work as expected. Execution of cells containing imports may result in large downloads (up to 60MB of content for the first import from SciPy). Load times when importing from SciPy may take roughly 10-20 seconds. If you notice any problems, feel free to open an [issue](https://github.com/scipy/scipy/issues/new/choose).\n\n</div>",
            "metadata": {}
        },
        {
            "id": "f1365f97",
            "cell_type": "markdown",
            "source": "Find the directed Hausdorff distance between two 2-D arrays of\ncoordinates:\n",
            "metadata": {}
        },
        {
            "id": "bb79ecf2",
            "cell_type": "code",
            "metadata": {},
            "execution_count": null,
            "source": "from scipy.spatial.distance import directed_hausdorff\nimport numpy as np\nu = np.array([(1.0, 0.0),\n              (0.0, 1.0),\n              (-1.0, 0.0),\n              (0.0, -1.0)])\nv = np.array([(2.0, 0.0),\n              (0.0, 2.0),\n              (-2.0, 0.0),\n              (0.0, -4.0)])",
            "outputs": []
        },
        {
            "id": "da03bcf5",
            "cell_type": "code",
            "metadata": {},
            "execution_count": null,
            "source": "directed_hausdorff(u, v)[0]",
            "outputs": [
                {
                    "output_type": "execute_result",
                    "metadata": {},
                    "data": {
                        "text/plain": "2.23606797749979"
                    },
                    "execution_count": null
                }
            ]
        },
        {
            "id": "6de41cf7",
            "cell_type": "code",
            "metadata": {},
            "execution_count": null,
            "source": "directed_hausdorff(v, u)[0]",
            "outputs": [
                {
                    "output_type": "execute_result",
                    "metadata": {},
                    "data": {
                        "text/plain": "3.0"
                    },
                    "execution_count": null
                }
            ]
        },
        {
            "id": "8a918e69",
            "cell_type": "markdown",
            "source": "Find the general (symmetric) Hausdorff distance between two 2-D\narrays of coordinates:\n",
            "metadata": {}
        },
        {
            "id": "f2ec257b",
            "cell_type": "code",
            "metadata": {},
            "execution_count": null,
            "source": "max(directed_hausdorff(u, v)[0], directed_hausdorff(v, u)[0])",
            "outputs": [
                {
                    "output_type": "execute_result",
                    "metadata": {},
                    "data": {
                        "text/plain": "3.0"
                    },
                    "execution_count": null
                }
            ]
        },
        {
            "id": "aaa7914b",
            "cell_type": "markdown",
            "source": "Find the indices of the points that generate the Hausdorff distance\n(the Hausdorff pair):\n",
            "metadata": {}
        },
        {
            "id": "6cd69ddd",
            "cell_type": "code",
            "metadata": {},
            "execution_count": null,
            "source": "directed_hausdorff(v, u)[1:]",
            "outputs": [
                {
                    "output_type": "execute_result",
                    "metadata": {},
                    "data": {
                        "text/plain": "(3, 3)"
                    },
                    "execution_count": null
                }
            ]
        }
    ]
}