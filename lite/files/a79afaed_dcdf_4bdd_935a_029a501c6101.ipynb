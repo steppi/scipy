{
    "nbformat": 4,
    "nbformat_minor": 5,
    "metadata": {
        "kernelspec": {
            "display_name": "Python",
            "language": "python",
            "name": "python"
        },
        "language_info": {
            "name": "python"
        }
    },
    "cells": [
        {
            "id": "74992f77",
            "cell_type": "markdown",
            "source": "<div class='alert alert-warning'>\n\nSciPy's interactive examples with Jupyterlite are experimental and may not always work as expected. Execution of cells containing imports may result in large downloads (up to 60MB of content for the first import from SciPy). Load times when importing from SciPy may take roughly 10-20 seconds. If you notice any problems, feel free to open an [issue](https://github.com/scipy/scipy/issues/new/choose).\n\n</div>",
            "metadata": {}
        },
        {
            "id": "e6db3470",
            "cell_type": "code",
            "metadata": {},
            "execution_count": null,
            "source": "from scipy import signal\nimport matplotlib.pyplot as plt",
            "outputs": []
        },
        {
            "id": "88c2a0f5",
            "cell_type": "markdown",
            "source": "Construct the transfer function $H(z) = \\frac{1}{z^2 + 2z + 3}$ with\na sampling time of 0.05 seconds:\n",
            "metadata": {}
        },
        {
            "id": "ee4e33d6",
            "cell_type": "code",
            "metadata": {},
            "execution_count": null,
            "source": "sys = signal.TransferFunction([1], [1, 2, 3], dt=0.05)",
            "outputs": []
        },
        {
            "id": "f3579e2a",
            "cell_type": "markdown",
            "source": "Equivalent: sys.bode()\n",
            "metadata": {}
        },
        {
            "id": "fcf8df07",
            "cell_type": "code",
            "metadata": {},
            "execution_count": null,
            "source": "w, mag, phase = signal.dbode(sys)",
            "outputs": []
        },
        {
            "id": "324b8b76",
            "cell_type": "code",
            "metadata": {},
            "execution_count": null,
            "source": "plt.figure()\nplt.semilogx(w, mag)    # Bode magnitude plot\nplt.figure()\nplt.semilogx(w, phase)  # Bode phase plot\nplt.show()",
            "outputs": []
        }
    ]
}