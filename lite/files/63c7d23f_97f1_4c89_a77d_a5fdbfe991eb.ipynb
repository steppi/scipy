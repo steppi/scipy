{
    "nbformat": 4,
    "nbformat_minor": 5,
    "metadata": {
        "kernelspec": {
            "display_name": "Python",
            "language": "python",
            "name": "python"
        },
        "language_info": {
            "name": "python"
        }
    },
    "cells": [
        {
            "id": "1d63864a",
            "cell_type": "markdown",
            "source": "<div class='alert alert-warning'>\n\nSciPy's interactive examples with Jupyterlite are experimental and may not always work as expected. Execution of cells containing imports may result in large downloads (up to 60MB of content for the first import from SciPy). Load times when importing from SciPy may take roughly 10-20 seconds. If you notice any problems, feel free to open an [issue](https://github.com/scipy/scipy/issues/new/choose).\n\n</div>",
            "metadata": {}
        },
        {
            "id": "e5e0aebd",
            "cell_type": "code",
            "metadata": {},
            "execution_count": null,
            "source": "from scipy.cluster.hierarchy import fcluster, is_isomorphic\nfrom scipy.cluster.hierarchy import single, complete\nfrom scipy.spatial.distance import pdist",
            "outputs": []
        },
        {
            "id": "4d486983",
            "cell_type": "markdown",
            "source": "Two flat cluster assignments can be isomorphic if they represent the same\ncluster assignment, with different labels.\n\nFor example, we can use the `scipy.cluster.hierarchy.single`: method\nand flatten the output to four clusters:\n",
            "metadata": {}
        },
        {
            "id": "d740a837",
            "cell_type": "code",
            "metadata": {},
            "execution_count": null,
            "source": "X = [[0, 0], [0, 1], [1, 0],\n     [0, 4], [0, 3], [1, 4],\n     [4, 0], [3, 0], [4, 1],\n     [4, 4], [3, 4], [4, 3]]",
            "outputs": []
        },
        {
            "id": "360de255",
            "cell_type": "code",
            "metadata": {},
            "execution_count": null,
            "source": "Z = single(pdist(X))\nT = fcluster(Z, 1, criterion='distance')\nT",
            "outputs": [
                {
                    "output_type": "execute_result",
                    "metadata": {},
                    "data": {
                        "text/plain": "array([3, 3, 3, 4, 4, 4, 2, 2, 2, 1, 1, 1], dtype=int32)"
                    },
                    "execution_count": null
                }
            ]
        },
        {
            "id": "7614eb79",
            "cell_type": "markdown",
            "source": "We can then do the same using the\n`scipy.cluster.hierarchy.complete`: method:\n",
            "metadata": {}
        },
        {
            "id": "067339d2",
            "cell_type": "code",
            "metadata": {},
            "execution_count": null,
            "source": "Z = complete(pdist(X))\nT_ = fcluster(Z, 1.5, criterion='distance')\nT_",
            "outputs": [
                {
                    "output_type": "execute_result",
                    "metadata": {},
                    "data": {
                        "text/plain": "array([1, 1, 1, 2, 2, 2, 3, 3, 3, 4, 4, 4], dtype=int32)"
                    },
                    "execution_count": null
                }
            ]
        },
        {
            "id": "0abd129d",
            "cell_type": "markdown",
            "source": "As we can see, in both cases we obtain four clusters and all the data\npoints are distributed in the same way - the only thing that changes\nare the flat cluster labels (3 => 1, 4 =>2, 2 =>3 and 4 =>1), so both\ncluster assignments are isomorphic:\n",
            "metadata": {}
        },
        {
            "id": "17e1a044",
            "cell_type": "code",
            "metadata": {},
            "execution_count": null,
            "source": "is_isomorphic(T, T_)",
            "outputs": [
                {
                    "output_type": "execute_result",
                    "metadata": {},
                    "data": {
                        "text/plain": "True"
                    },
                    "execution_count": null
                }
            ]
        }
    ]
}