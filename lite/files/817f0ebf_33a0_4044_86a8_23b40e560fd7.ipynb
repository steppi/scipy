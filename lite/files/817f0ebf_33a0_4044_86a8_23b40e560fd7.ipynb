{
    "nbformat": 4,
    "nbformat_minor": 5,
    "metadata": {
        "kernelspec": {
            "display_name": "Python",
            "language": "python",
            "name": "python"
        },
        "language_info": {
            "name": "python"
        }
    },
    "cells": [
        {
            "id": "d656ad76",
            "cell_type": "markdown",
            "source": "<div class='alert alert-warning'>\n\nSciPy's interactive examples with Jupyterlite are experimental and may not always work as expected. Execution of cells containing imports may result in large downloads (up to 60MB of content for the first import from SciPy). Load times when importing from SciPy may take roughly 10-20 seconds. If you notice any problems, feel free to open an [issue](https://github.com/scipy/scipy/issues/new/choose).\n\n</div>",
            "metadata": {}
        },
        {
            "id": "c9abbab8",
            "cell_type": "code",
            "metadata": {},
            "execution_count": null,
            "source": "import numpy as np\nimport matplotlib.pyplot as plt\nfrom scipy.spatial import Voronoi, voronoi_plot_2d",
            "outputs": []
        },
        {
            "id": "6fea16c9",
            "cell_type": "markdown",
            "source": "Create a set of points for the example:\n",
            "metadata": {}
        },
        {
            "id": "0554df47",
            "cell_type": "code",
            "metadata": {},
            "execution_count": null,
            "source": "rng = np.random.default_rng()\npoints = rng.random((10,2))",
            "outputs": []
        },
        {
            "id": "2066e019",
            "cell_type": "markdown",
            "source": "Generate the Voronoi diagram for the points:\n",
            "metadata": {}
        },
        {
            "id": "97936fc4",
            "cell_type": "code",
            "metadata": {},
            "execution_count": null,
            "source": "vor = Voronoi(points)",
            "outputs": []
        },
        {
            "id": "ff67d94e",
            "cell_type": "markdown",
            "source": "Use `voronoi_plot_2d` to plot the diagram:\n",
            "metadata": {}
        },
        {
            "id": "3c133124",
            "cell_type": "code",
            "metadata": {},
            "execution_count": null,
            "source": "fig = voronoi_plot_2d(vor)",
            "outputs": []
        },
        {
            "id": "5df4afe1",
            "cell_type": "markdown",
            "source": "Use `voronoi_plot_2d` to plot the diagram again, with some settings\ncustomized:\n",
            "metadata": {}
        },
        {
            "id": "a455bcf0",
            "cell_type": "code",
            "metadata": {},
            "execution_count": null,
            "source": "fig = voronoi_plot_2d(vor, show_vertices=False, line_colors='orange',\n                      line_width=2, line_alpha=0.6, point_size=2)\nplt.show()",
            "outputs": []
        }
    ]
}