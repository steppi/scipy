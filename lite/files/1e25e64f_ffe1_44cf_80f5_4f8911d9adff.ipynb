{
    "nbformat": 4,
    "nbformat_minor": 5,
    "metadata": {
        "kernelspec": {
            "display_name": "Python",
            "language": "python",
            "name": "python"
        },
        "language_info": {
            "name": "python"
        }
    },
    "cells": [
        {
            "id": "0cc5339a",
            "cell_type": "markdown",
            "source": "<div class='alert alert-warning'>\n\nSciPy's interactive examples with Jupyterlite are experimental and may not always work as expected. Execution of cells containing imports may result in large downloads (up to 60MB of content for the first import from SciPy). Load times when importing from SciPy may take roughly 10-20 seconds. If you notice any problems, feel free to open an [issue](https://github.com/scipy/scipy/issues/new/choose).\n\n</div>",
            "metadata": {}
        },
        {
            "id": "6bf978b2",
            "cell_type": "code",
            "metadata": {},
            "execution_count": null,
            "source": "from scipy import ndimage, datasets\nimport matplotlib.pyplot as plt\nfig = plt.figure(figsize=(10, 3))\nax1, ax2, ax3 = fig.subplots(1, 3)\nimg = datasets.ascent()\nimg_45 = ndimage.rotate(img, 45, reshape=False)\nfull_img_45 = ndimage.rotate(img, 45, reshape=True)\nax1.imshow(img, cmap='gray')\nax1.set_axis_off()\nax2.imshow(img_45, cmap='gray')\nax2.set_axis_off()\nax3.imshow(full_img_45, cmap='gray')\nax3.set_axis_off()\nfig.set_layout_engine('tight')\nplt.show()",
            "outputs": []
        },
        {
            "id": "da493a3b",
            "cell_type": "code",
            "metadata": {},
            "execution_count": null,
            "source": "print(img.shape)",
            "outputs": [
                {
                    "output_type": "execute_result",
                    "metadata": {},
                    "data": {
                        "text/plain": "(512, 512)"
                    },
                    "execution_count": null
                }
            ]
        },
        {
            "id": "8a537fbe",
            "cell_type": "code",
            "metadata": {},
            "execution_count": null,
            "source": "print(img_45.shape)",
            "outputs": [
                {
                    "output_type": "execute_result",
                    "metadata": {},
                    "data": {
                        "text/plain": "(512, 512)"
                    },
                    "execution_count": null
                }
            ]
        },
        {
            "id": "cc1ea4ba",
            "cell_type": "code",
            "metadata": {},
            "execution_count": null,
            "source": "print(full_img_45.shape)",
            "outputs": [
                {
                    "output_type": "execute_result",
                    "metadata": {},
                    "data": {
                        "text/plain": "(724, 724)"
                    },
                    "execution_count": null
                }
            ]
        }
    ]
}