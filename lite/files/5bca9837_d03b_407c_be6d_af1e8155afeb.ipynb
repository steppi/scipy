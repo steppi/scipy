{
    "nbformat": 4,
    "nbformat_minor": 5,
    "metadata": {
        "kernelspec": {
            "display_name": "Python",
            "language": "python",
            "name": "python"
        },
        "language_info": {
            "name": "python"
        }
    },
    "cells": [
        {
            "id": "3ca2ab25",
            "cell_type": "markdown",
            "source": "<div class='alert alert-warning'>\n\nSciPy's interactive examples with Jupyterlite are experimental and may not always work as expected. Execution of cells containing imports may result in large downloads (up to 60MB of content for the first import from SciPy). Load times when importing from SciPy may take roughly 10-20 seconds. If you notice any problems, feel free to open an [issue](https://github.com/scipy/scipy/issues/new/choose).\n\n</div>",
            "metadata": {}
        },
        {
            "id": "bd86726e",
            "cell_type": "code",
            "metadata": {},
            "execution_count": null,
            "source": "import numpy as np\nfrom scipy import signal\nfrom scipy.fft import fftshift\nimport matplotlib.pyplot as plt\nrng = np.random.default_rng()",
            "outputs": []
        },
        {
            "id": "89da969a",
            "cell_type": "markdown",
            "source": "Generate a test signal, a 2 Vrms sine wave whose frequency is slowly\nmodulated around 3kHz, corrupted by white noise of exponentially\ndecreasing magnitude sampled at 10 kHz.\n",
            "metadata": {}
        },
        {
            "id": "58d32940",
            "cell_type": "code",
            "metadata": {},
            "execution_count": null,
            "source": "fs = 10e3\nN = 1e5\namp = 2 * np.sqrt(2)\nnoise_power = 0.01 * fs / 2\ntime = np.arange(N) / float(fs)\nmod = 500*np.cos(2*np.pi*0.25*time)\ncarrier = amp * np.sin(2*np.pi*3e3*time + mod)\nnoise = rng.normal(scale=np.sqrt(noise_power), size=time.shape)\nnoise *= np.exp(-time/5)\nx = carrier + noise",
            "outputs": []
        },
        {
            "id": "6f3f8f9e",
            "cell_type": "markdown",
            "source": "Compute and plot the spectrogram.\n",
            "metadata": {}
        },
        {
            "id": "a2c84b2a",
            "cell_type": "code",
            "metadata": {},
            "execution_count": null,
            "source": "f, t, Sxx = signal.spectrogram(x, fs)\nplt.pcolormesh(t, f, Sxx, shading='gouraud')\nplt.ylabel('Frequency [Hz]')\nplt.xlabel('Time [sec]')\nplt.show()",
            "outputs": []
        },
        {
            "id": "b802bb46",
            "cell_type": "markdown",
            "source": "Note, if using output that is not one sided, then use the following:\n",
            "metadata": {}
        },
        {
            "id": "ee1c35bf",
            "cell_type": "code",
            "metadata": {},
            "execution_count": null,
            "source": "f, t, Sxx = signal.spectrogram(x, fs, return_onesided=False)\nplt.pcolormesh(t, fftshift(f), fftshift(Sxx, axes=0), shading='gouraud')\nplt.ylabel('Frequency [Hz]')\nplt.xlabel('Time [sec]')\nplt.show()",
            "outputs": []
        }
    ]
}