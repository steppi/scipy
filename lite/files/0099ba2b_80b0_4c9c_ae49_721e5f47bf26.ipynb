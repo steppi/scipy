{
    "nbformat": 4,
    "nbformat_minor": 5,
    "metadata": {
        "kernelspec": {
            "display_name": "Python",
            "language": "python",
            "name": "python"
        },
        "language_info": {
            "name": "python"
        }
    },
    "cells": [
        {
            "id": "a69dd425",
            "cell_type": "markdown",
            "source": "<div class='alert alert-warning'>\n\nSciPy's interactive examples with Jupyterlite are experimental and may not always work as expected. Execution of cells containing imports may result in large downloads (up to 60MB of content for the first import from SciPy). Load times when importing from SciPy may take roughly 10-20 seconds. If you notice any problems, feel free to open an [issue](https://github.com/scipy/scipy/issues/new/choose).\n\n</div>",
            "metadata": {}
        },
        {
            "id": "d20baac8",
            "cell_type": "markdown",
            "source": "In [1], the influence of drugs on blood count measurements on three groups\nof animal is investigated.\n\nThe following table summarizes the results of the experiment in which\ntwo groups received different drugs, and one group acted as a control.\nBlood counts (in millions of cells per cubic millimeter) were recorded\n```\n\n```",
            "metadata": {}
        },
        {
            "id": "c1e2ef31",
            "cell_type": "code",
            "metadata": {},
            "execution_count": null,
            "source": "import numpy as np\ncontrol = np.array([7.40, 8.50, 7.20, 8.24, 9.84, 8.32])\ndrug_a = np.array([9.76, 8.80, 7.68, 9.36])\ndrug_b = np.array([12.80, 9.68, 12.16, 9.20, 10.55])",
            "outputs": []
        },
        {
            "id": "c52344cd",
            "cell_type": "markdown",
            "source": "We would like to see if the means between any of the groups are\nsignificantly different. First, visually examine a box and whisker plot.\n",
            "metadata": {}
        },
        {
            "id": "723c4e79",
            "cell_type": "code",
            "metadata": {},
            "execution_count": null,
            "source": "import matplotlib.pyplot as plt\nfig, ax = plt.subplots(1, 1)\nax.boxplot([control, drug_a, drug_b])\nax.set_xticklabels([\"Control\", \"Drug A\", \"Drug B\"])  # doctest: +SKIP\nax.set_ylabel(\"mean\")  # doctest: +SKIP\nplt.show()",
            "outputs": []
        },
        {
            "id": "b34f042c",
            "cell_type": "markdown",
            "source": "Note the overlapping interquartile ranges of the drug A group and control\ngroup and the apparent separation between the drug B group and control\ngroup.\n\nNext, we will use Dunnett's test to assess whether the difference\nbetween group means is significant while controlling the family-wise error\nrate: the probability of making any false discoveries.\nLet the null hypothesis be that the experimental groups have the same\nmean as the control and the alternative be that an experimental group does\nnot have the same mean as the control. We will consider a 5% family-wise\nerror rate to be acceptable, and therefore we choose 0.05 as the threshold\nfor significance.\n",
            "metadata": {}
        },
        {
            "id": "12bbeae3",
            "cell_type": "code",
            "metadata": {},
            "execution_count": null,
            "source": "from scipy.stats import dunnett\nres = dunnett(drug_a, drug_b, control=control)\nres.pvalue",
            "outputs": [
                {
                    "output_type": "execute_result",
                    "metadata": {},
                    "data": {
                        "text/plain": "array([0.62004941, 0.0059035 ])  # may vary"
                    },
                    "execution_count": null
                }
            ]
        },
        {
            "id": "d03ce2a7",
            "cell_type": "markdown",
            "source": "The p-value corresponding with the comparison between group A and control\nexceeds 0.05, so we do not reject the null hypothesis for that comparison.\nHowever, the p-value corresponding with the comparison between group B\nand control is less than 0.05, so we consider the experimental results\nto be evidence against the null hypothesis in favor of the alternative:\ngroup B has a different mean than the control group.\n",
            "metadata": {}
        }
    ]
}