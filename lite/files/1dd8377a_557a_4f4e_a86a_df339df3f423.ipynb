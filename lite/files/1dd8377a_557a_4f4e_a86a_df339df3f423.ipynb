{
    "nbformat": 4,
    "nbformat_minor": 5,
    "metadata": {
        "kernelspec": {
            "display_name": "Python",
            "language": "python",
            "name": "python"
        },
        "language_info": {
            "name": "python"
        }
    },
    "cells": [
        {
            "id": "762c4589",
            "cell_type": "markdown",
            "source": "<div class='alert alert-warning'>\n\nSciPy's interactive examples with Jupyterlite are experimental and may not always work as expected. Execution of cells containing imports may result in large downloads (up to 60MB of content for the first import from SciPy). Load times when importing from SciPy may take roughly 10-20 seconds. If you notice any problems, feel free to open an [issue](https://github.com/scipy/scipy/issues/new/choose).\n\n</div>",
            "metadata": {}
        },
        {
            "id": "8a19d685",
            "cell_type": "code",
            "metadata": {},
            "execution_count": null,
            "source": "import scipy.special as sc",
            "outputs": []
        },
        {
            "id": "173307e9",
            "cell_type": "markdown",
            "source": "It starts at infinity and monotonically decreases to 0.\n",
            "metadata": {}
        },
        {
            "id": "c78ff469",
            "cell_type": "code",
            "metadata": {},
            "execution_count": null,
            "source": "sc.gammainccinv(0.5, [0, 0.1, 0.5, 1])",
            "outputs": [
                {
                    "output_type": "execute_result",
                    "metadata": {},
                    "data": {
                        "text/plain": "array([       inf, 1.35277173, 0.22746821, 0.        ])"
                    },
                    "execution_count": null
                }
            ]
        },
        {
            "id": "8219c733",
            "cell_type": "markdown",
            "source": "It inverts the upper incomplete gamma function.\n",
            "metadata": {}
        },
        {
            "id": "4843bd63",
            "cell_type": "code",
            "metadata": {},
            "execution_count": null,
            "source": "a, x = 0.5, [0, 0.1, 0.5, 1]\nsc.gammaincc(a, sc.gammainccinv(a, x))",
            "outputs": [
                {
                    "output_type": "execute_result",
                    "metadata": {},
                    "data": {
                        "text/plain": "array([0. , 0.1, 0.5, 1. ])"
                    },
                    "execution_count": null
                }
            ]
        },
        {
            "id": "8bba0147",
            "cell_type": "code",
            "metadata": {},
            "execution_count": null,
            "source": "a, x = 0.5, [0, 10, 50]\nsc.gammainccinv(a, sc.gammaincc(a, x))",
            "outputs": [
                {
                    "output_type": "execute_result",
                    "metadata": {},
                    "data": {
                        "text/plain": "array([ 0., 10., 50.])"
                    },
                    "execution_count": null
                }
            ]
        }
    ]
}