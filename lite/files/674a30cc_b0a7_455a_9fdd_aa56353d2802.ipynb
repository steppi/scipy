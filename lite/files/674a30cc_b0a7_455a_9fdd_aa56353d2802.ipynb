{
    "nbformat": 4,
    "nbformat_minor": 5,
    "metadata": {
        "kernelspec": {
            "display_name": "Python",
            "language": "python",
            "name": "python"
        },
        "language_info": {
            "name": "python"
        }
    },
    "cells": [
        {
            "id": "5bca2ccd",
            "cell_type": "markdown",
            "source": "<div class='alert alert-warning'>\n\nSciPy's interactive examples with Jupyterlite are experimental and may not always work as expected. Execution of cells containing imports may result in large downloads (up to 60MB of content for the first import from SciPy). Load times when importing from SciPy may take roughly 10-20 seconds. If you notice any problems, feel free to open an [issue](https://github.com/scipy/scipy/issues/new/choose).\n\n</div>",
            "metadata": {}
        },
        {
            "id": "71b99958",
            "cell_type": "code",
            "metadata": {},
            "execution_count": null,
            "source": "from scipy import signal\nimport matplotlib.pyplot as plt",
            "outputs": []
        },
        {
            "id": "f93e82ac",
            "cell_type": "code",
            "metadata": {},
            "execution_count": null,
            "source": "M = 100\ns = 4.0\nw = 2.0\nwavelet = signal.morlet(M, s, w)\nplt.plot(wavelet.real, label=\"real\")\nplt.plot(wavelet.imag, label=\"imag\")\nplt.legend()\nplt.show()",
            "outputs": []
        }
    ]
}