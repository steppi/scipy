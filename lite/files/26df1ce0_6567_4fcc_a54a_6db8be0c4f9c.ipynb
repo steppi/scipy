{
    "nbformat": 4,
    "nbformat_minor": 5,
    "metadata": {
        "kernelspec": {
            "display_name": "Python",
            "language": "python",
            "name": "python"
        },
        "language_info": {
            "name": "python"
        }
    },
    "cells": [
        {
            "id": "abc182eb",
            "cell_type": "markdown",
            "source": "<div class='alert alert-warning'>\n\nSciPy's interactive examples with Jupyterlite are experimental and may not always work as expected. Execution of cells containing imports may result in large downloads (up to 60MB of content for the first import from SciPy). Load times when importing from SciPy may take roughly 10-20 seconds. If you notice any problems, feel free to open an [issue](https://github.com/scipy/scipy/issues/new/choose).\n\n</div>",
            "metadata": {}
        },
        {
            "id": "44d360d6",
            "cell_type": "code",
            "metadata": {},
            "execution_count": null,
            "source": "from scipy.spatial.transform import Rotation as R\nimport numpy as np\nr = R.from_quat(np.eye(4))\nr.as_quat()",
            "outputs": [
                {
                    "output_type": "execute_result",
                    "metadata": {},
                    "data": {
                        "text/plain": "array([[ 1., 0., 0., 0.],\n       [ 0., 1., 0., 0.],\n       [ 0., 0., 1., 0.],\n       [ 0., 0., 0., 1.]])"
                    },
                    "execution_count": null
                }
            ]
        },
        {
            "id": "4d926f9d",
            "cell_type": "code",
            "metadata": {},
            "execution_count": null,
            "source": "r.magnitude()",
            "outputs": [
                {
                    "output_type": "execute_result",
                    "metadata": {},
                    "data": {
                        "text/plain": "array([3.14159265, 3.14159265, 3.14159265, 0.        ])"
                    },
                    "execution_count": null
                }
            ]
        },
        {
            "id": "8b524372",
            "cell_type": "markdown",
            "source": "Magnitude of a single rotation:\n",
            "metadata": {}
        },
        {
            "id": "ccecd348",
            "cell_type": "code",
            "metadata": {},
            "execution_count": null,
            "source": "r[0].magnitude()",
            "outputs": [
                {
                    "output_type": "execute_result",
                    "metadata": {},
                    "data": {
                        "text/plain": "3.141592653589793"
                    },
                    "execution_count": null
                }
            ]
        }
    ]
}