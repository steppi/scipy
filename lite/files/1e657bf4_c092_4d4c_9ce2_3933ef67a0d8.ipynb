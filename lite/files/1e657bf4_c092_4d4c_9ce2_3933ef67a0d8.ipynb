{
    "nbformat": 4,
    "nbformat_minor": 5,
    "metadata": {
        "kernelspec": {
            "display_name": "Python",
            "language": "python",
            "name": "python"
        },
        "language_info": {
            "name": "python"
        }
    },
    "cells": [
        {
            "id": "d29713cd",
            "cell_type": "markdown",
            "source": "<div class='alert alert-warning'>\n\nSciPy's interactive examples with Jupyterlite are experimental and may not always work as expected. Execution of cells containing imports may result in large downloads (up to 60MB of content for the first import from SciPy). Load times when importing from SciPy may take roughly 10-20 seconds. If you notice any problems, feel free to open an [issue](https://github.com/scipy/scipy/issues/new/choose).\n\n</div>",
            "metadata": {}
        },
        {
            "id": "e5db0d4e",
            "cell_type": "code",
            "metadata": {},
            "execution_count": null,
            "source": "import numpy as np\nfrom scipy.special import log_ndtr, ndtr",
            "outputs": []
        },
        {
            "id": "caa7ef53",
            "cell_type": "markdown",
            "source": "The benefit of ``log_ndtr(x)`` over the naive implementation\n``np.log(ndtr(x))`` is most evident with moderate to large positive\nvalues of ``x``:\n",
            "metadata": {}
        },
        {
            "id": "5565c477",
            "cell_type": "code",
            "metadata": {},
            "execution_count": null,
            "source": "x = np.array([6, 7, 9, 12, 15, 25])\nlog_ndtr(x)",
            "outputs": [
                {
                    "output_type": "execute_result",
                    "metadata": {},
                    "data": {
                        "text/plain": "array([-9.86587646e-010, -1.27981254e-012, -1.12858841e-019,\n       -1.77648211e-033, -3.67096620e-051, -3.05669671e-138])"
                    },
                    "execution_count": null
                }
            ]
        },
        {
            "id": "03605c0b",
            "cell_type": "markdown",
            "source": "The results of the naive calculation for the moderate ``x`` values\nhave only 5 or 6 correct significant digits. For values of ``x``\ngreater than approximately 8.3, the naive expression returns 0:\n",
            "metadata": {}
        },
        {
            "id": "0598318f",
            "cell_type": "code",
            "metadata": {},
            "execution_count": null,
            "source": "np.log(ndtr(x))",
            "outputs": [
                {
                    "output_type": "execute_result",
                    "metadata": {},
                    "data": {
                        "text/plain": "array([-9.86587701e-10, -1.27986510e-12,  0.00000000e+00,\n        0.00000000e+00,  0.00000000e+00,  0.00000000e+00])"
                    },
                    "execution_count": null
                }
            ]
        }
    ]
}