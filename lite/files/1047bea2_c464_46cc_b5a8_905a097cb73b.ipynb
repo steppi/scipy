{
    "nbformat": 4,
    "nbformat_minor": 5,
    "metadata": {
        "kernelspec": {
            "display_name": "Python",
            "language": "python",
            "name": "python"
        },
        "language_info": {
            "name": "python"
        }
    },
    "cells": [
        {
            "id": "a5081e55",
            "cell_type": "markdown",
            "source": "<div class='alert alert-warning'>\n\nSciPy's interactive examples with Jupyterlite are experimental and may not always work as expected. Execution of cells containing imports may result in large downloads (up to 60MB of content for the first import from SciPy). Load times when importing from SciPy may take roughly 10-20 seconds. If you notice any problems, feel free to open an [issue](https://github.com/scipy/scipy/issues/new/choose).\n\n</div>",
            "metadata": {}
        },
        {
            "id": "1501f4cb",
            "cell_type": "markdown",
            "source": "Design a 4th-order digital Butterworth filter with cut-off of 100 Hz in a\nsystem with sample rate of 1000 Hz, and plot the frequency response:\n",
            "metadata": {}
        },
        {
            "id": "52b8f4f7",
            "cell_type": "code",
            "metadata": {},
            "execution_count": null,
            "source": "import numpy as np\nfrom scipy import signal\nz, p, k = signal.butter(4, 100, output='zpk', fs=1000)\nw, h = signal.freqz_zpk(z, p, k, fs=1000)",
            "outputs": []
        },
        {
            "id": "b685b9c8",
            "cell_type": "code",
            "metadata": {},
            "execution_count": null,
            "source": "import matplotlib.pyplot as plt\nfig = plt.figure()\nax1 = fig.add_subplot(1, 1, 1)\nax1.set_title('Digital filter frequency response')",
            "outputs": []
        },
        {
            "id": "9c4e14fd",
            "cell_type": "code",
            "metadata": {},
            "execution_count": null,
            "source": "ax1.plot(w, 20 * np.log10(abs(h)), 'b')\nax1.set_ylabel('Amplitude [dB]', color='b')\nax1.set_xlabel('Frequency [Hz]')\nax1.grid(True)",
            "outputs": []
        },
        {
            "id": "25fcdc61",
            "cell_type": "code",
            "metadata": {},
            "execution_count": null,
            "source": "ax2 = ax1.twinx()\nangles = np.unwrap(np.angle(h))\nax2.plot(w, angles, 'g')\nax2.set_ylabel('Angle [radians]', color='g')",
            "outputs": []
        },
        {
            "id": "1a3ee172",
            "cell_type": "code",
            "metadata": {},
            "execution_count": null,
            "source": "plt.axis('tight')\nplt.show()",
            "outputs": []
        }
    ]
}