{
    "nbformat": 4,
    "nbformat_minor": 5,
    "metadata": {
        "kernelspec": {
            "display_name": "Python",
            "language": "python",
            "name": "python"
        },
        "language_info": {
            "name": "python"
        }
    },
    "cells": [
        {
            "id": "c5b81e4b",
            "cell_type": "markdown",
            "source": "<div class='alert alert-warning'>\n\nSciPy's interactive examples with Jupyterlite are experimental and may not always work as expected. Execution of cells containing imports may result in large downloads (up to 60MB of content for the first import from SciPy). Load times when importing from SciPy may take roughly 10-20 seconds. If you notice any problems, feel free to open an [issue](https://github.com/scipy/scipy/issues/new/choose).\n\n</div>",
            "metadata": {}
        },
        {
            "id": "5c60fff1",
            "cell_type": "markdown",
            "source": "Suppose we wish to test the null hypothesis that a sample is distributed\naccording to the standard normal.\nWe choose a confidence level of 95%; that is, we will reject the null\nhypothesis in favor of the alternative if the p-value is less than 0.05.\n\nWhen testing uniformly distributed data, we would expect the\nnull hypothesis to be rejected.\n",
            "metadata": {}
        },
        {
            "id": "e04a5ab6",
            "cell_type": "code",
            "metadata": {},
            "execution_count": null,
            "source": "import numpy as np\nfrom scipy import stats\nrng = np.random.default_rng()\nstats.ks_1samp(stats.uniform.rvs(size=100, random_state=rng),\n               stats.norm.cdf)",
            "outputs": [
                {
                    "output_type": "execute_result",
                    "metadata": {},
                    "data": {
                        "text/plain": "KstestResult(statistic=0.5001899973268688, pvalue=1.1616392184763533e-23)"
                    },
                    "execution_count": null
                }
            ]
        },
        {
            "id": "a602ba1c",
            "cell_type": "markdown",
            "source": "Indeed, the p-value is lower than our threshold of 0.05, so we reject the\nnull hypothesis in favor of the default \"two-sided\" alternative: the data\nare *not* distributed according to the standard normal.\n\nWhen testing random variates from the standard normal distribution, we\nexpect the data to be consistent with the null hypothesis most of the time.\n",
            "metadata": {}
        },
        {
            "id": "9af843d9",
            "cell_type": "code",
            "metadata": {},
            "execution_count": null,
            "source": "x = stats.norm.rvs(size=100, random_state=rng)\nstats.ks_1samp(x, stats.norm.cdf)",
            "outputs": [
                {
                    "output_type": "execute_result",
                    "metadata": {},
                    "data": {
                        "text/plain": "KstestResult(statistic=0.05345882212970396, pvalue=0.9227159037744717)"
                    },
                    "execution_count": null
                }
            ]
        },
        {
            "id": "f2f90ba3",
            "cell_type": "markdown",
            "source": "As expected, the p-value of 0.92 is not below our threshold of 0.05, so\nwe cannot reject the null hypothesis.\n\nSuppose, however, that the random variates are distributed according to\na normal distribution that is shifted toward greater values. In this case,\nthe cumulative density function (CDF) of the underlying distribution tends\nto be *less* than the CDF of the standard normal. Therefore, we would\nexpect the null hypothesis to be rejected with ``alternative='less'``:\n",
            "metadata": {}
        },
        {
            "id": "24995714",
            "cell_type": "code",
            "metadata": {},
            "execution_count": null,
            "source": "x = stats.norm.rvs(size=100, loc=0.5, random_state=rng)\nstats.ks_1samp(x, stats.norm.cdf, alternative='less')",
            "outputs": [
                {
                    "output_type": "execute_result",
                    "metadata": {},
                    "data": {
                        "text/plain": "KstestResult(statistic=0.17482387821055168, pvalue=0.001913921057766743)"
                    },
                    "execution_count": null
                }
            ]
        },
        {
            "id": "404a431c",
            "cell_type": "markdown",
            "source": "and indeed, with p-value smaller than our threshold, we reject the null\nhypothesis in favor of the alternative.",
            "metadata": {}
        }
    ]
}