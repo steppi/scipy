{
    "nbformat": 4,
    "nbformat_minor": 5,
    "metadata": {
        "kernelspec": {
            "display_name": "Python",
            "language": "python",
            "name": "python"
        },
        "language_info": {
            "name": "python"
        }
    },
    "cells": [
        {
            "id": "79d624ee",
            "cell_type": "markdown",
            "source": "<div class='alert alert-warning'>\n\nSciPy's interactive examples with Jupyterlite are experimental and may not always work as expected. Execution of cells containing imports may result in large downloads (up to 60MB of content for the first import from SciPy). Load times when importing from SciPy may take roughly 10-20 seconds. If you notice any problems, feel free to open an [issue](https://github.com/scipy/scipy/issues/new/choose).\n\n</div>",
            "metadata": {}
        },
        {
            "id": "05386f4e",
            "cell_type": "code",
            "metadata": {},
            "execution_count": null,
            "source": "import numpy as np\nfrom scipy.special import wrightomega, lambertw",
            "outputs": []
        },
        {
            "id": "d99d37c0",
            "cell_type": "code",
            "metadata": {},
            "execution_count": null,
            "source": "wrightomega([-2, -1, 0, 1, 2])",
            "outputs": [
                {
                    "output_type": "execute_result",
                    "metadata": {},
                    "data": {
                        "text/plain": "array([0.12002824, 0.27846454, 0.56714329, 1.        , 1.5571456 ])"
                    },
                    "execution_count": null
                }
            ]
        },
        {
            "id": "0e7f31ec",
            "cell_type": "markdown",
            "source": "Complex input:\n",
            "metadata": {}
        },
        {
            "id": "b7d8a9a4",
            "cell_type": "code",
            "metadata": {},
            "execution_count": null,
            "source": "wrightomega(3 + 5j)",
            "outputs": [
                {
                    "output_type": "execute_result",
                    "metadata": {},
                    "data": {
                        "text/plain": "(1.5804428632097158+3.8213626783287937j)"
                    },
                    "execution_count": null
                }
            ]
        },
        {
            "id": "1edd56e3",
            "cell_type": "markdown",
            "source": "Verify that ``wrightomega(z)`` satisfies ``w + log(w) = z``:\n",
            "metadata": {}
        },
        {
            "id": "b1cee1d5",
            "cell_type": "code",
            "metadata": {},
            "execution_count": null,
            "source": "w = -5 + 4j\nwrightomega(w + np.log(w))",
            "outputs": [
                {
                    "output_type": "execute_result",
                    "metadata": {},
                    "data": {
                        "text/plain": "(-5+4j)"
                    },
                    "execution_count": null
                }
            ]
        },
        {
            "id": "61813317",
            "cell_type": "markdown",
            "source": "Verify the connection to ``lambertw``:\n",
            "metadata": {}
        },
        {
            "id": "7a67bff0",
            "cell_type": "code",
            "metadata": {},
            "execution_count": null,
            "source": "z = 0.5 + 3j\nwrightomega(z)",
            "outputs": [
                {
                    "output_type": "execute_result",
                    "metadata": {},
                    "data": {
                        "text/plain": "(0.0966015889280649+1.4937828458191993j)"
                    },
                    "execution_count": null
                }
            ]
        },
        {
            "id": "0564d7e4",
            "cell_type": "code",
            "metadata": {},
            "execution_count": null,
            "source": "lambertw(np.exp(z))",
            "outputs": [
                {
                    "output_type": "execute_result",
                    "metadata": {},
                    "data": {
                        "text/plain": "(0.09660158892806493+1.4937828458191993j)"
                    },
                    "execution_count": null
                }
            ]
        },
        {
            "id": "6724c8ea",
            "cell_type": "code",
            "metadata": {},
            "execution_count": null,
            "source": "z = 0.5 + 4j\nwrightomega(z)",
            "outputs": [
                {
                    "output_type": "execute_result",
                    "metadata": {},
                    "data": {
                        "text/plain": "(-0.3362123489037213+2.282986001579032j)"
                    },
                    "execution_count": null
                }
            ]
        },
        {
            "id": "67ebaa2c",
            "cell_type": "code",
            "metadata": {},
            "execution_count": null,
            "source": "lambertw(np.exp(z), k=1)",
            "outputs": [
                {
                    "output_type": "execute_result",
                    "metadata": {},
                    "data": {
                        "text/plain": "(-0.33621234890372115+2.282986001579032j)"
                    },
                    "execution_count": null
                }
            ]
        }
    ]
}