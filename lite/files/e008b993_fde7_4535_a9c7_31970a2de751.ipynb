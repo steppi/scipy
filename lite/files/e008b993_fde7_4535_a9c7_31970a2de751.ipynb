{
    "nbformat": 4,
    "nbformat_minor": 5,
    "metadata": {
        "kernelspec": {
            "display_name": "Python",
            "language": "python",
            "name": "python"
        },
        "language_info": {
            "name": "python"
        }
    },
    "cells": [
        {
            "id": "918034b5",
            "cell_type": "markdown",
            "source": "<div class='alert alert-warning'>\n\nSciPy's interactive examples with Jupyterlite are experimental and may not always work as expected. Execution of cells containing imports may result in large downloads (up to 60MB of content for the first import from SciPy). Load times when importing from SciPy may take roughly 10-20 seconds. If you notice any problems, feel free to open an [issue](https://github.com/scipy/scipy/issues/new/choose).\n\n</div>",
            "metadata": {}
        },
        {
            "id": "b4716640",
            "cell_type": "code",
            "metadata": {},
            "execution_count": null,
            "source": "from scipy.cluster.hierarchy import ward, dendrogram, leaves_list\nfrom scipy.spatial.distance import pdist\nfrom matplotlib import pyplot as plt",
            "outputs": []
        },
        {
            "id": "a1b9edce",
            "cell_type": "code",
            "metadata": {},
            "execution_count": null,
            "source": "X = [[0, 0], [0, 1], [1, 0],\n     [0, 4], [0, 3], [1, 4],\n     [4, 0], [3, 0], [4, 1],\n     [4, 4], [3, 4], [4, 3]]",
            "outputs": []
        },
        {
            "id": "bb6315af",
            "cell_type": "code",
            "metadata": {},
            "execution_count": null,
            "source": "Z = ward(pdist(X))",
            "outputs": []
        },
        {
            "id": "fb18d930",
            "cell_type": "markdown",
            "source": "The linkage matrix ``Z`` represents a dendrogram, that is, a tree that\nencodes the structure of the clustering performed.\n`scipy.cluster.hierarchy.leaves_list` shows the mapping between\nindices in the ``X`` dataset and leaves in the dendrogram:\n",
            "metadata": {}
        },
        {
            "id": "f5874e48",
            "cell_type": "code",
            "metadata": {},
            "execution_count": null,
            "source": "leaves_list(Z)",
            "outputs": [
                {
                    "output_type": "execute_result",
                    "metadata": {},
                    "data": {
                        "text/plain": "array([ 2,  0,  1,  5,  3,  4,  8,  6,  7, 11,  9, 10], dtype=int32)"
                    },
                    "execution_count": null
                }
            ]
        },
        {
            "id": "92d4f145",
            "cell_type": "code",
            "metadata": {},
            "execution_count": null,
            "source": "fig = plt.figure(figsize=(25, 10))\ndn = dendrogram(Z)\nplt.show()",
            "outputs": []
        }
    ]
}