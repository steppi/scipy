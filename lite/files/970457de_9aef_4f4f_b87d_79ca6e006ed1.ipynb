{
    "nbformat": 4,
    "nbformat_minor": 5,
    "metadata": {
        "kernelspec": {
            "display_name": "Python",
            "language": "python",
            "name": "python"
        },
        "language_info": {
            "name": "python"
        }
    },
    "cells": [
        {
            "id": "27a5bb4f",
            "cell_type": "markdown",
            "source": "<div class='alert alert-warning'>\n\nSciPy's interactive examples with Jupyterlite are experimental and may not always work as expected. Execution of cells containing imports may result in large downloads (up to 60MB of content for the first import from SciPy). Load times when importing from SciPy may take roughly 10-20 seconds. If you notice any problems, feel free to open an [issue](https://github.com/scipy/scipy/issues/new/choose).\n\n</div>",
            "metadata": {}
        },
        {
            "id": "9a7f0fea",
            "cell_type": "code",
            "metadata": {},
            "execution_count": null,
            "source": "import numpy as np\nfrom scipy.stats import ncx2\nimport matplotlib.pyplot as plt\nfig, ax = plt.subplots(1, 1)",
            "outputs": []
        },
        {
            "id": "56c7cda0",
            "cell_type": "markdown",
            "source": "Calculate the first four moments:\n",
            "metadata": {}
        },
        {
            "id": "72056fb9",
            "cell_type": "code",
            "metadata": {},
            "execution_count": null,
            "source": "df, nc = 21, 1.06\nmean, var, skew, kurt = ncx2.stats(df, nc, moments='mvsk')",
            "outputs": []
        },
        {
            "id": "2fbe172d",
            "cell_type": "markdown",
            "source": "Display the probability density function (``pdf``):\n",
            "metadata": {}
        },
        {
            "id": "6e235a22",
            "cell_type": "code",
            "metadata": {},
            "execution_count": null,
            "source": "x = np.linspace(ncx2.ppf(0.01, df, nc),\n                ncx2.ppf(0.99, df, nc), 100)\nax.plot(x, ncx2.pdf(x, df, nc),\n       'r-', lw=5, alpha=0.6, label='ncx2 pdf')",
            "outputs": []
        },
        {
            "id": "2c621a27",
            "cell_type": "markdown",
            "source": "Alternatively, the distribution object can be called (as a function)\nto fix the shape, location and scale parameters. This returns a \"frozen\"\nRV object holding the given parameters fixed.\n\nFreeze the distribution and display the frozen ``pdf``:\n",
            "metadata": {}
        },
        {
            "id": "7c7bc68c",
            "cell_type": "code",
            "metadata": {},
            "execution_count": null,
            "source": "rv = ncx2(df, nc)\nax.plot(x, rv.pdf(x), 'k-', lw=2, label='frozen pdf')",
            "outputs": []
        },
        {
            "id": "e61ba5a4",
            "cell_type": "markdown",
            "source": "Check accuracy of ``cdf`` and ``ppf``:\n",
            "metadata": {}
        },
        {
            "id": "29f8e5b5",
            "cell_type": "code",
            "metadata": {},
            "execution_count": null,
            "source": "vals = ncx2.ppf([0.001, 0.5, 0.999], df, nc)\nnp.allclose([0.001, 0.5, 0.999], ncx2.cdf(vals, df, nc))",
            "outputs": [
                {
                    "output_type": "execute_result",
                    "metadata": {},
                    "data": {
                        "text/plain": "True"
                    },
                    "execution_count": null
                }
            ]
        },
        {
            "id": "031f4173",
            "cell_type": "markdown",
            "source": "Generate random numbers:\n",
            "metadata": {}
        },
        {
            "id": "993eb956",
            "cell_type": "code",
            "metadata": {},
            "execution_count": null,
            "source": "r = ncx2.rvs(df, nc, size=1000)",
            "outputs": []
        },
        {
            "id": "5e94e2be",
            "cell_type": "markdown",
            "source": "And compare the histogram:\n",
            "metadata": {}
        },
        {
            "id": "7a5178e1",
            "cell_type": "code",
            "metadata": {},
            "execution_count": null,
            "source": "ax.hist(r, density=True, bins='auto', histtype='stepfilled', alpha=0.2)\nax.set_xlim([x[0], x[-1]])\nax.legend(loc='best', frameon=False)\nplt.show()",
            "outputs": []
        }
    ]
}