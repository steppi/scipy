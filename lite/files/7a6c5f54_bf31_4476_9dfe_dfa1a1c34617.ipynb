{
    "nbformat": 4,
    "nbformat_minor": 5,
    "metadata": {
        "kernelspec": {
            "display_name": "Python",
            "language": "python",
            "name": "python"
        },
        "language_info": {
            "name": "python"
        }
    },
    "cells": [
        {
            "id": "2d50202f",
            "cell_type": "markdown",
            "source": "<div class='alert alert-warning'>\n\nSciPy's interactive examples with Jupyterlite are experimental and may not always work as expected. Execution of cells containing imports may result in large downloads (up to 60MB of content for the first import from SciPy). Load times when importing from SciPy may take roughly 10-20 seconds. If you notice any problems, feel free to open an [issue](https://github.com/scipy/scipy/issues/new/choose).\n\n</div>",
            "metadata": {}
        },
        {
            "id": "816e711d",
            "cell_type": "markdown",
            "source": "Create an optimal linear-phase filter, then convert it to minimum phase:\n",
            "metadata": {}
        },
        {
            "id": "dd424337",
            "cell_type": "code",
            "metadata": {},
            "execution_count": null,
            "source": "import numpy as np\nfrom scipy.signal import remez, minimum_phase, freqz, group_delay\nimport matplotlib.pyplot as plt\nfreq = [0, 0.2, 0.3, 1.0]\ndesired = [1, 0]\nh_linear = remez(151, freq, desired, fs=2.)",
            "outputs": []
        },
        {
            "id": "5360fee2",
            "cell_type": "markdown",
            "source": "Convert it to minimum phase:\n",
            "metadata": {}
        },
        {
            "id": "7e6d22ed",
            "cell_type": "code",
            "metadata": {},
            "execution_count": null,
            "source": "h_min_hom = minimum_phase(h_linear, method='homomorphic')\nh_min_hil = minimum_phase(h_linear, method='hilbert')",
            "outputs": []
        },
        {
            "id": "eaa0a003",
            "cell_type": "markdown",
            "source": "Compare the three filters:\n",
            "metadata": {}
        },
        {
            "id": "3f04f004",
            "cell_type": "code",
            "metadata": {},
            "execution_count": null,
            "source": "fig, axs = plt.subplots(4, figsize=(4, 8))\nfor h, style, color in zip((h_linear, h_min_hom, h_min_hil),\n                           ('-', '-', '--'), ('k', 'r', 'c')):\n    w, H = freqz(h)\n    w, gd = group_delay((h, 1))\n    w /= np.pi\n    axs[0].plot(h, color=color, linestyle=style)\n    axs[1].plot(w, np.abs(H), color=color, linestyle=style)\n    axs[2].plot(w, 20 * np.log10(np.abs(H)), color=color, linestyle=style)\n    axs[3].plot(w, gd, color=color, linestyle=style)\nfor ax in axs:\n    ax.grid(True, color='0.5')\n    ax.fill_between(freq[1:3], *ax.get_ylim(), color='#ffeeaa', zorder=1)\naxs[0].set(xlim=[0, len(h_linear) - 1], ylabel='Amplitude', xlabel='Samples')\naxs[1].legend(['Linear', 'Min-Hom', 'Min-Hil'], title='Phase')\nfor ax, ylim in zip(axs[1:], ([0, 1.1], [-150, 10], [-60, 60])):\n    ax.set(xlim=[0, 1], ylim=ylim, xlabel='Frequency')\naxs[1].set(ylabel='Magnitude')\naxs[2].set(ylabel='Magnitude (dB)')\naxs[3].set(ylabel='Group delay')\nplt.tight_layout()",
            "outputs": []
        }
    ]
}