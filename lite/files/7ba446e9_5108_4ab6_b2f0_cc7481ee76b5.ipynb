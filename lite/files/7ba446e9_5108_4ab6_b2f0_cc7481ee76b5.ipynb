{
    "nbformat": 4,
    "nbformat_minor": 5,
    "metadata": {
        "kernelspec": {
            "display_name": "Python",
            "language": "python",
            "name": "python"
        },
        "language_info": {
            "name": "python"
        }
    },
    "cells": [
        {
            "id": "cd0042ca",
            "cell_type": "markdown",
            "source": "<div class='alert alert-warning'>\n\nSciPy's interactive examples with Jupyterlite are experimental and may not always work as expected. Execution of cells containing imports may result in large downloads (up to 60MB of content for the first import from SciPy). Load times when importing from SciPy may take roughly 10-20 seconds. If you notice any problems, feel free to open an [issue](https://github.com/scipy/scipy/issues/new/choose).\n\n</div>",
            "metadata": {}
        },
        {
            "id": "528afea6",
            "cell_type": "code",
            "metadata": {},
            "execution_count": null,
            "source": "import numpy as np\nfrom scipy import signal\nimport matplotlib.pyplot as plt\nt = np.linspace(-1, 1, 200, endpoint=False)\nsig  = np.cos(2 * np.pi * 7 * t) + signal.gausspulse(t - 0.4, fc=2)\nwidths = np.arange(1, 31)\ncwtmatr = signal.cwt(sig, signal.ricker, widths)",
            "outputs": []
        },
        {
            "id": "35ab8902",
            "cell_type": "markdown",
            "source": ".. note:: For cwt matrix plotting it is advisable to flip the y-axis\n",
            "metadata": {}
        },
        {
            "id": "c7d23d3b",
            "cell_type": "code",
            "metadata": {},
            "execution_count": null,
            "source": "cwtmatr_yflip = np.flipud(cwtmatr)\nplt.imshow(cwtmatr_yflip, extent=[-1, 1, 1, 31], cmap='PRGn', aspect='auto',\n           vmax=abs(cwtmatr).max(), vmin=-abs(cwtmatr).max())\nplt.show()",
            "outputs": []
        }
    ]
}