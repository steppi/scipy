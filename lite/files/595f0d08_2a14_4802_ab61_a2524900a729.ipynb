{
    "nbformat": 4,
    "nbformat_minor": 5,
    "metadata": {
        "kernelspec": {
            "display_name": "Python",
            "language": "python",
            "name": "python"
        },
        "language_info": {
            "name": "python"
        }
    },
    "cells": [
        {
            "id": "0de04223",
            "cell_type": "markdown",
            "source": "<div class='alert alert-warning'>\n\nSciPy's interactive examples with Jupyterlite are experimental and may not always work as expected. Execution of cells containing imports may result in large downloads (up to 60MB of content for the first import from SciPy). Load times when importing from SciPy may take roughly 10-20 seconds. If you notice any problems, feel free to open an [issue](https://github.com/scipy/scipy/issues/new/choose).\n\n</div>",
            "metadata": {}
        },
        {
            "id": "3f8a3583",
            "cell_type": "markdown",
            "source": "Consider the following data from [3], which studied the relationship\nbetween free proline (an amino acid) and total collagen (a protein often\nfound in connective tissue) in unhealthy human livers.\n\nThe ``x`` and ``y`` arrays below record measurements of the two compounds.\nThe observations are paired: each free proline measurement was taken from\nthe same liver as the total collagen measurement at the same index.\n",
            "metadata": {}
        },
        {
            "id": "613906f3",
            "cell_type": "code",
            "metadata": {},
            "execution_count": null,
            "source": "import numpy as np\n# total collagen (mg/g dry weight of liver)\nx = np.array([7.1, 7.1, 7.2, 8.3, 9.4, 10.5, 11.4])\n# free proline (μ mole/g dry weight of liver)\ny = np.array([2.8, 2.9, 2.8, 2.6, 3.5, 4.6, 5.0])",
            "outputs": []
        },
        {
            "id": "22e7445a",
            "cell_type": "markdown",
            "source": "These data were analyzed in [4] using Spearman's correlation coefficient,\na statistic sensitive to monotonic correlation between the samples.\n",
            "metadata": {}
        },
        {
            "id": "de252f1a",
            "cell_type": "code",
            "metadata": {},
            "execution_count": null,
            "source": "from scipy import stats\nres = stats.spearmanr(x, y)\nres.statistic",
            "outputs": [
                {
                    "output_type": "execute_result",
                    "metadata": {},
                    "data": {
                        "text/plain": "0.7000000000000001"
                    },
                    "execution_count": null
                }
            ]
        },
        {
            "id": "92a423d8",
            "cell_type": "markdown",
            "source": "The value of this statistic tends to be high (close to 1) for samples with\na strongly positive ordinal correlation, low (close to -1) for samples with\na strongly negative ordinal correlation, and small in magnitude (close to\nzero) for samples with weak ordinal correlation.\n\nThe test is performed by comparing the observed value of the\nstatistic against the null distribution: the distribution of statistic\nvalues derived under the null hypothesis that total collagen and free\nproline measurements are independent.\n\nFor this test, the statistic can be transformed such that the null\ndistribution for large samples is Student's t distribution with\n``len(x) - 2`` degrees of freedom.\n",
            "metadata": {}
        },
        {
            "id": "8e16a302",
            "cell_type": "code",
            "metadata": {},
            "execution_count": null,
            "source": "import matplotlib.pyplot as plt\ndof = len(x)-2  # len(x) == len(y)\ndist = stats.t(df=dof)\nt_vals = np.linspace(-5, 5, 100)\npdf = dist.pdf(t_vals)\nfig, ax = plt.subplots(figsize=(8, 5))\ndef plot(ax):  # we'll reuse this\n    ax.plot(t_vals, pdf)\n    ax.set_title(\"Spearman's Rho Test Null Distribution\")\n    ax.set_xlabel(\"statistic\")\n    ax.set_ylabel(\"probability density\")\nplot(ax)\nplt.show()",
            "outputs": []
        },
        {
            "id": "88a8bf0f",
            "cell_type": "markdown",
            "source": "The comparison is quantified by the p-value: the proportion of values in\nthe null distribution as extreme or more extreme than the observed\nvalue of the statistic. In a two-sided test in which the statistic is\npositive, elements of the null distribution greater than the transformed\nstatistic and elements of the null distribution less than the negative of\nthe observed statistic are both considered \"more extreme\".\n",
            "metadata": {}
        },
        {
            "id": "19145c0e",
            "cell_type": "code",
            "metadata": {},
            "execution_count": null,
            "source": "fig, ax = plt.subplots(figsize=(8, 5))\nplot(ax)\nrs = res.statistic  # original statistic\ntransformed = rs * np.sqrt(dof / ((rs+1.0)*(1.0-rs)))\npvalue = dist.cdf(-transformed) + dist.sf(transformed)\nannotation = (f'p-value={pvalue:.4f}\\n(shaded area)')\nprops = dict(facecolor='black', width=1, headwidth=5, headlength=8)\n_ = ax.annotate(annotation, (2.7, 0.025), (3, 0.03), arrowprops=props)\ni = t_vals >= transformed\nax.fill_between(t_vals[i], y1=0, y2=pdf[i], color='C0')\ni = t_vals <= -transformed\nax.fill_between(t_vals[i], y1=0, y2=pdf[i], color='C0')\nax.set_xlim(-5, 5)\nax.set_ylim(0, 0.1)\nplt.show()",
            "outputs": []
        },
        {
            "id": "f34889b0",
            "cell_type": "code",
            "metadata": {},
            "execution_count": null,
            "source": "res.pvalue",
            "outputs": [
                {
                    "output_type": "execute_result",
                    "metadata": {},
                    "data": {
                        "text/plain": "0.07991669030889909  # two-sided p-value"
                    },
                    "execution_count": null
                }
            ]
        },
        {
            "id": "24481319",
            "cell_type": "markdown",
            "source": "If the p-value is \"small\" - that is, if there is a low probability of\nsampling data from independent distributions that produces such an extreme\nvalue of the statistic - this may be taken as evidence against the null\nhypothesis in favor of the alternative: the distribution of total collagen\nand free proline are *not* independent. Note that:\n\n- The inverse is not true; that is, the test is not used to provide\n  evidence for the null hypothesis.\n- The threshold for values that will be considered \"small\" is a choice that\n  should be made before the data is analyzed [5] with consideration of the\n  risks of both false positives (incorrectly rejecting the null hypothesis)\n  and false negatives (failure to reject a false null hypothesis).\n- Small p-values are not evidence for a *large* effect; rather, they can\n  only provide evidence for a \"significant\" effect, meaning that they are\n  unlikely to have occurred under the null hypothesis.\n\nSuppose that before performing the experiment, the authors had reason\nto predict a positive correlation between the total collagen and free\nproline measurements, and that they had chosen to assess the plausibility\nof the null hypothesis against a one-sided alternative: free proline has a\npositive ordinal correlation with total collagen. In this case, only those\nvalues in the null distribution that are as great or greater than the\nobserved statistic are considered to be more extreme.\n",
            "metadata": {}
        },
        {
            "id": "800c8d71",
            "cell_type": "code",
            "metadata": {},
            "execution_count": null,
            "source": "res = stats.spearmanr(x, y, alternative='greater')\nres.statistic",
            "outputs": [
                {
                    "output_type": "execute_result",
                    "metadata": {},
                    "data": {
                        "text/plain": "0.7000000000000001  # same statistic"
                    },
                    "execution_count": null
                }
            ]
        },
        {
            "id": "024d36e8",
            "cell_type": "code",
            "metadata": {},
            "execution_count": null,
            "source": "fig, ax = plt.subplots(figsize=(8, 5))\nplot(ax)\npvalue = dist.sf(transformed)\nannotation = (f'p-value={pvalue:.6f}\\n(shaded area)')\nprops = dict(facecolor='black', width=1, headwidth=5, headlength=8)\n_ = ax.annotate(annotation, (3, 0.018), (3.5, 0.03), arrowprops=props)\ni = t_vals >= transformed\nax.fill_between(t_vals[i], y1=0, y2=pdf[i], color='C0')\nax.set_xlim(1, 5)\nax.set_ylim(0, 0.1)\nplt.show()",
            "outputs": []
        },
        {
            "id": "b75eba0d",
            "cell_type": "code",
            "metadata": {},
            "execution_count": null,
            "source": "res.pvalue",
            "outputs": [
                {
                    "output_type": "execute_result",
                    "metadata": {},
                    "data": {
                        "text/plain": "0.03995834515444954  # one-sided p-value; half of the two-sided p-value"
                    },
                    "execution_count": null
                }
            ]
        },
        {
            "id": "86745fd6",
            "cell_type": "markdown",
            "source": "Note that the t-distribution provides an asymptotic approximation of the\nnull distribution; it is only accurate for samples with many observations.\nFor small samples, it may be more appropriate to perform a permutation\ntest: Under the null hypothesis that total collagen and free proline are\nindependent, each of the free proline measurements were equally likely to\nhave been observed with any of the total collagen measurements. Therefore,\nwe can form an *exact* null distribution by calculating the statistic under\neach possible pairing of elements between ``x`` and ``y``.\n",
            "metadata": {}
        },
        {
            "id": "67c5cacf",
            "cell_type": "code",
            "metadata": {},
            "execution_count": null,
            "source": "def statistic(x):  # explore all possible pairings by permuting `x`\n    rs = stats.spearmanr(x, y).statistic  # ignore pvalue\n    transformed = rs * np.sqrt(dof / ((rs+1.0)*(1.0-rs)))\n    return transformed\nref = stats.permutation_test((x,), statistic, alternative='greater',\n                             permutation_type='pairings')\nfig, ax = plt.subplots(figsize=(8, 5))\nplot(ax)\nax.hist(ref.null_distribution, np.linspace(-5, 5, 26),\n        density=True)\nax.legend(['aymptotic approximation\\n(many observations)',\n           f'exact \\n({len(ref.null_distribution)} permutations)'])\nplt.show()",
            "outputs": []
        },
        {
            "id": "61fbd1cc",
            "cell_type": "code",
            "metadata": {},
            "execution_count": null,
            "source": "ref.pvalue",
            "outputs": [
                {
                    "output_type": "execute_result",
                    "metadata": {},
                    "data": {
                        "text/plain": "0.04563492063492063  # exact one-sided p-value"
                    },
                    "execution_count": null
                }
            ]
        }
    ]
}