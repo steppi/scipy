{
    "nbformat": 4,
    "nbformat_minor": 5,
    "metadata": {
        "kernelspec": {
            "display_name": "Python",
            "language": "python",
            "name": "python"
        },
        "language_info": {
            "name": "python"
        }
    },
    "cells": [
        {
            "id": "fef7e337",
            "cell_type": "markdown",
            "source": "<div class='alert alert-warning'>\n\nSciPy's interactive examples with Jupyterlite are experimental and may not always work as expected. Execution of cells containing imports may result in large downloads (up to 60MB of content for the first import from SciPy). Load times when importing from SciPy may take roughly 10-20 seconds. If you notice any problems, feel free to open an [issue](https://github.com/scipy/scipy/issues/new/choose).\n\n</div>",
            "metadata": {}
        },
        {
            "id": "805f71d5",
            "cell_type": "markdown",
            "source": "In [2], the pulse rate (per minute) of a group of seven students was\nmeasured before exercise, immediately after exercise and 5 minutes\nafter exercise. Is there evidence to suggest that the pulse rates on\nthese three occasions are similar?\n\nWe begin by formulating a null hypothesis $H_0$:\n\n    The pulse rates are identical on these three occasions.\n\nLet's assess the plausibility of this hypothesis with a Friedman test.\n",
            "metadata": {}
        },
        {
            "id": "12ddcf57",
            "cell_type": "code",
            "metadata": {},
            "execution_count": null,
            "source": "from scipy.stats import friedmanchisquare\nbefore = [72, 96, 88, 92, 74, 76, 82]\nimmediately_after = [120, 120, 132, 120, 101, 96, 112]\nfive_min_after = [76, 95, 104, 96, 84, 72, 76]\nres = friedmanchisquare(before, immediately_after, five_min_after)\nres.statistic",
            "outputs": [
                {
                    "output_type": "execute_result",
                    "metadata": {},
                    "data": {
                        "text/plain": "10.57142857142857"
                    },
                    "execution_count": null
                }
            ]
        },
        {
            "id": "d4fa0f81",
            "cell_type": "code",
            "metadata": {},
            "execution_count": null,
            "source": "res.pvalue",
            "outputs": [
                {
                    "output_type": "execute_result",
                    "metadata": {},
                    "data": {
                        "text/plain": "0.005063414171757498"
                    },
                    "execution_count": null
                }
            ]
        },
        {
            "id": "e3c0ae62",
            "cell_type": "markdown",
            "source": "Using a significance level of 5%, we would reject the null hypothesis in\nfavor of the alternative hypothesis: \"the pulse rates are different on\nthese three occasions\".",
            "metadata": {}
        }
    ]
}