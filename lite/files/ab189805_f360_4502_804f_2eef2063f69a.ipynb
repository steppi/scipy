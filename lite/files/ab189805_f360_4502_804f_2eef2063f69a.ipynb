{
    "nbformat": 4,
    "nbformat_minor": 5,
    "metadata": {
        "kernelspec": {
            "display_name": "Python",
            "language": "python",
            "name": "python"
        },
        "language_info": {
            "name": "python"
        }
    },
    "cells": [
        {
            "id": "614c9b71",
            "cell_type": "markdown",
            "source": "<div class='alert alert-warning'>\n\nSciPy's interactive examples with Jupyterlite are experimental and may not always work as expected. Execution of cells containing imports may result in large downloads (up to 60MB of content for the first import from SciPy). Load times when importing from SciPy may take roughly 10-20 seconds. If you notice any problems, feel free to open an [issue](https://github.com/scipy/scipy/issues/new/choose).\n\n</div>",
            "metadata": {}
        },
        {
            "id": "565693ae",
            "cell_type": "code",
            "metadata": {},
            "execution_count": null,
            "source": "import numpy as np\nfrom scipy.stats import pearson3\nimport matplotlib.pyplot as plt\nfig, ax = plt.subplots(1, 1)",
            "outputs": []
        },
        {
            "id": "f9ee0131",
            "cell_type": "markdown",
            "source": "Calculate the first four moments:\n",
            "metadata": {}
        },
        {
            "id": "f9f1fc05",
            "cell_type": "code",
            "metadata": {},
            "execution_count": null,
            "source": "skew = -2\nmean, var, skew, kurt = pearson3.stats(skew, moments='mvsk')",
            "outputs": []
        },
        {
            "id": "444624fb",
            "cell_type": "markdown",
            "source": "Display the probability density function (``pdf``):\n",
            "metadata": {}
        },
        {
            "id": "6268c201",
            "cell_type": "code",
            "metadata": {},
            "execution_count": null,
            "source": "x = np.linspace(pearson3.ppf(0.01, skew),\n                pearson3.ppf(0.99, skew), 100)\nax.plot(x, pearson3.pdf(x, skew),\n       'r-', lw=5, alpha=0.6, label='pearson3 pdf')",
            "outputs": []
        },
        {
            "id": "4b4715e5",
            "cell_type": "markdown",
            "source": "Alternatively, the distribution object can be called (as a function)\nto fix the shape, location and scale parameters. This returns a \"frozen\"\nRV object holding the given parameters fixed.\n\nFreeze the distribution and display the frozen ``pdf``:\n",
            "metadata": {}
        },
        {
            "id": "b1003879",
            "cell_type": "code",
            "metadata": {},
            "execution_count": null,
            "source": "rv = pearson3(skew)\nax.plot(x, rv.pdf(x), 'k-', lw=2, label='frozen pdf')",
            "outputs": []
        },
        {
            "id": "41464acc",
            "cell_type": "markdown",
            "source": "Check accuracy of ``cdf`` and ``ppf``:\n",
            "metadata": {}
        },
        {
            "id": "65c56b67",
            "cell_type": "code",
            "metadata": {},
            "execution_count": null,
            "source": "vals = pearson3.ppf([0.001, 0.5, 0.999], skew)\nnp.allclose([0.001, 0.5, 0.999], pearson3.cdf(vals, skew))",
            "outputs": [
                {
                    "output_type": "execute_result",
                    "metadata": {},
                    "data": {
                        "text/plain": "True"
                    },
                    "execution_count": null
                }
            ]
        },
        {
            "id": "3f46103d",
            "cell_type": "markdown",
            "source": "Generate random numbers:\n",
            "metadata": {}
        },
        {
            "id": "37d8daf9",
            "cell_type": "code",
            "metadata": {},
            "execution_count": null,
            "source": "r = pearson3.rvs(skew, size=1000)",
            "outputs": []
        },
        {
            "id": "86d26b3d",
            "cell_type": "markdown",
            "source": "And compare the histogram:\n",
            "metadata": {}
        },
        {
            "id": "2f05bda0",
            "cell_type": "code",
            "metadata": {},
            "execution_count": null,
            "source": "ax.hist(r, density=True, bins='auto', histtype='stepfilled', alpha=0.2)\nax.set_xlim([x[0], x[-1]])\nax.legend(loc='best', frameon=False)\nplt.show()",
            "outputs": []
        }
    ]
}