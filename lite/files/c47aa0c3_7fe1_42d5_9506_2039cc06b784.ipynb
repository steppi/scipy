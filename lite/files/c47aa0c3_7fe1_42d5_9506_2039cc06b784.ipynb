{
    "nbformat": 4,
    "nbformat_minor": 5,
    "metadata": {
        "kernelspec": {
            "display_name": "Python",
            "language": "python",
            "name": "python"
        },
        "language_info": {
            "name": "python"
        }
    },
    "cells": [
        {
            "id": "da53b409",
            "cell_type": "markdown",
            "source": "<div class='alert alert-warning'>\n\nSciPy's interactive examples with Jupyterlite are experimental and may not always work as expected. Execution of cells containing imports may result in large downloads (up to 60MB of content for the first import from SciPy). Load times when importing from SciPy may take roughly 10-20 seconds. If you notice any problems, feel free to open an [issue](https://github.com/scipy/scipy/issues/new/choose).\n\n</div>",
            "metadata": {}
        },
        {
            "id": "934f4640",
            "cell_type": "markdown",
            "source": "Evaluate the functions at one point.\n",
            "metadata": {}
        },
        {
            "id": "f4cbde81",
            "cell_type": "code",
            "metadata": {},
            "execution_count": null,
            "source": "from scipy.special import itj0y0\nint_j, int_y = itj0y0(1.)\nint_j, int_y",
            "outputs": [
                {
                    "output_type": "execute_result",
                    "metadata": {},
                    "data": {
                        "text/plain": "(0.9197304100897596, -0.637069376607422)"
                    },
                    "execution_count": null
                }
            ]
        },
        {
            "id": "504b6e4c",
            "cell_type": "markdown",
            "source": "Evaluate the functions at several points.\n",
            "metadata": {}
        },
        {
            "id": "f510a4c9",
            "cell_type": "code",
            "metadata": {},
            "execution_count": null,
            "source": "import numpy as np\npoints = np.array([0., 1.5, 3.])\nint_j, int_y = itj0y0(points)\nint_j, int_y",
            "outputs": [
                {
                    "output_type": "execute_result",
                    "metadata": {},
                    "data": {
                        "text/plain": "(array([0.        , 1.24144951, 1.38756725]),\n array([ 0.        , -0.51175903,  0.19765826]))"
                    },
                    "execution_count": null
                }
            ]
        },
        {
            "id": "60e17169",
            "cell_type": "markdown",
            "source": "Plot the functions from 0 to 10.\n",
            "metadata": {}
        },
        {
            "id": "bbb016da",
            "cell_type": "code",
            "metadata": {},
            "execution_count": null,
            "source": "import matplotlib.pyplot as plt\nfig, ax = plt.subplots()\nx = np.linspace(0., 10., 1000)\nint_j, int_y = itj0y0(x)\nax.plot(x, int_j, label=r\"$\\int_0^x J_0(t)\\,dt$\")\nax.plot(x, int_y, label=r\"$\\int_0^x Y_0(t)\\,dt$\")\nax.legend()\nplt.show()",
            "outputs": []
        }
    ]
}