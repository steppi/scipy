{
    "nbformat": 4,
    "nbformat_minor": 5,
    "metadata": {
        "kernelspec": {
            "display_name": "Python",
            "language": "python",
            "name": "python"
        },
        "language_info": {
            "name": "python"
        }
    },
    "cells": [
        {
            "id": "a88b8a92",
            "cell_type": "markdown",
            "source": "<div class='alert alert-warning'>\n\nSciPy's interactive examples with Jupyterlite are experimental and may not always work as expected. Execution of cells containing imports may result in large downloads (up to 60MB of content for the first import from SciPy). Load times when importing from SciPy may take roughly 10-20 seconds. If you notice any problems, feel free to open an [issue](https://github.com/scipy/scipy/issues/new/choose).\n\n</div>",
            "metadata": {}
        },
        {
            "id": "7a1ae07b",
            "cell_type": "markdown",
            "source": "Estimate the fastest method for a given input:\n",
            "metadata": {}
        },
        {
            "id": "9ece95f4",
            "cell_type": "code",
            "metadata": {},
            "execution_count": null,
            "source": "import numpy as np\nfrom scipy import signal\nrng = np.random.default_rng()\nimg = rng.random((32, 32))\nfilter = rng.random((8, 8))\nmethod = signal.choose_conv_method(img, filter, mode='same')\nmethod",
            "outputs": [
                {
                    "output_type": "execute_result",
                    "metadata": {},
                    "data": {
                        "text/plain": "'fft'"
                    },
                    "execution_count": null
                }
            ]
        },
        {
            "id": "b3f25e2a",
            "cell_type": "markdown",
            "source": "This can then be applied to other arrays of the same dtype and shape:\n",
            "metadata": {}
        },
        {
            "id": "745982df",
            "cell_type": "code",
            "metadata": {},
            "execution_count": null,
            "source": "img2 = rng.random((32, 32))\nfilter2 = rng.random((8, 8))\ncorr2 = signal.correlate(img2, filter2, mode='same', method=method)\nconv2 = signal.convolve(img2, filter2, mode='same', method=method)",
            "outputs": []
        },
        {
            "id": "68065cf4",
            "cell_type": "markdown",
            "source": "The output of this function (``method``) works with `correlate` and\n`convolve`.",
            "metadata": {}
        }
    ]
}