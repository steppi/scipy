{
    "nbformat": 4,
    "nbformat_minor": 5,
    "metadata": {
        "kernelspec": {
            "display_name": "Python",
            "language": "python",
            "name": "python"
        },
        "language_info": {
            "name": "python"
        }
    },
    "cells": [
        {
            "id": "1aac4fc2",
            "cell_type": "markdown",
            "source": "<div class='alert alert-warning'>\n\nSciPy's interactive examples with Jupyterlite are experimental and may not always work as expected. Execution of cells containing imports may result in large downloads (up to 60MB of content for the first import from SciPy). Load times when importing from SciPy may take roughly 10-20 seconds. If you notice any problems, feel free to open an [issue](https://github.com/scipy/scipy/issues/new/choose).\n\n</div>",
            "metadata": {}
        },
        {
            "id": "60f4a106",
            "cell_type": "code",
            "metadata": {},
            "execution_count": null,
            "source": "import numpy as np\na = np.array([[ 0.    ,  0.2146,  0.5962,  0.    ],\n              [ 0.    ,  0.7778,  0.    ,  0.    ],\n              [ 0.    ,  0.    ,  0.    ,  0.    ],\n              [ 0.    ,  0.    ,  0.7181,  0.2787],\n              [ 0.    ,  0.    ,  0.6573,  0.3094]])\nfrom scipy import ndimage\nndimage.histogram(a, 0, 1, 10)",
            "outputs": [
                {
                    "output_type": "execute_result",
                    "metadata": {},
                    "data": {
                        "text/plain": "array([13,  0,  2,  1,  0,  1,  1,  2,  0,  0])"
                    },
                    "execution_count": null
                }
            ]
        },
        {
            "id": "b68aaa8f",
            "cell_type": "markdown",
            "source": "With labels and no indices, non-zero elements are counted:\n",
            "metadata": {}
        },
        {
            "id": "0f85b742",
            "cell_type": "code",
            "metadata": {},
            "execution_count": null,
            "source": "lbl, nlbl = ndimage.label(a)\nndimage.histogram(a, 0, 1, 10, lbl)",
            "outputs": [
                {
                    "output_type": "execute_result",
                    "metadata": {},
                    "data": {
                        "text/plain": "array([0, 0, 2, 1, 0, 1, 1, 2, 0, 0])"
                    },
                    "execution_count": null
                }
            ]
        },
        {
            "id": "71c3c83c",
            "cell_type": "markdown",
            "source": "Indices can be used to count only certain objects:\n",
            "metadata": {}
        },
        {
            "id": "c4f782a3",
            "cell_type": "code",
            "metadata": {},
            "execution_count": null,
            "source": "ndimage.histogram(a, 0, 1, 10, lbl, 2)",
            "outputs": [
                {
                    "output_type": "execute_result",
                    "metadata": {},
                    "data": {
                        "text/plain": "array([0, 0, 1, 1, 0, 0, 1, 1, 0, 0])"
                    },
                    "execution_count": null
                }
            ]
        }
    ]
}