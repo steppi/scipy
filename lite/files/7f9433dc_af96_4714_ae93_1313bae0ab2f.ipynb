{
    "nbformat": 4,
    "nbformat_minor": 5,
    "metadata": {
        "kernelspec": {
            "display_name": "Python",
            "language": "python",
            "name": "python"
        },
        "language_info": {
            "name": "python"
        }
    },
    "cells": [
        {
            "id": "190fb167",
            "cell_type": "markdown",
            "source": "<div class='alert alert-warning'>\n\nSciPy's interactive examples with Jupyterlite are experimental and may not always work as expected. Execution of cells containing imports may result in large downloads (up to 60MB of content for the first import from SciPy). Load times when importing from SciPy may take roughly 10-20 seconds. If you notice any problems, feel free to open an [issue](https://github.com/scipy/scipy/issues/new/choose).\n\n</div>",
            "metadata": {}
        },
        {
            "id": "f492742c",
            "cell_type": "code",
            "metadata": {},
            "execution_count": null,
            "source": "import numpy as np\nfrom scipy.signal import freqs_zpk, iirfilter",
            "outputs": []
        },
        {
            "id": "28057009",
            "cell_type": "code",
            "metadata": {},
            "execution_count": null,
            "source": "z, p, k = iirfilter(4, [1, 10], 1, 60, analog=True, ftype='cheby1',\n                    output='zpk')",
            "outputs": []
        },
        {
            "id": "0ad54738",
            "cell_type": "code",
            "metadata": {},
            "execution_count": null,
            "source": "w, h = freqs_zpk(z, p, k, worN=np.logspace(-1, 2, 1000))",
            "outputs": []
        },
        {
            "id": "7950c64b",
            "cell_type": "code",
            "metadata": {},
            "execution_count": null,
            "source": "import matplotlib.pyplot as plt\nplt.semilogx(w, 20 * np.log10(abs(h)))\nplt.xlabel('Frequency')\nplt.ylabel('Amplitude response [dB]')\nplt.grid(True)\nplt.show()",
            "outputs": []
        }
    ]
}