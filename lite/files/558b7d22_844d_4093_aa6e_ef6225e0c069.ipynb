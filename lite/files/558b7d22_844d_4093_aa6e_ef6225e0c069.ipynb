{
    "nbformat": 4,
    "nbformat_minor": 5,
    "metadata": {
        "kernelspec": {
            "display_name": "Python",
            "language": "python",
            "name": "python"
        },
        "language_info": {
            "name": "python"
        }
    },
    "cells": [
        {
            "id": "0a01c19a",
            "cell_type": "markdown",
            "source": "<div class='alert alert-warning'>\n\nSciPy's interactive examples with Jupyterlite are experimental and may not always work as expected. Execution of cells containing imports may result in large downloads (up to 60MB of content for the first import from SciPy). Load times when importing from SciPy may take roughly 10-20 seconds. If you notice any problems, feel free to open an [issue](https://github.com/scipy/scipy/issues/new/choose).\n\n</div>",
            "metadata": {}
        },
        {
            "id": "676ebde4",
            "cell_type": "markdown",
            "source": "Construct the transfer function\n$H(s) = \\frac{5(s - 1)(s - 2)}{(s - 3)(s - 4)}$:\n",
            "metadata": {}
        },
        {
            "id": "4646ad9e",
            "cell_type": "code",
            "metadata": {},
            "execution_count": null,
            "source": "from scipy import signal",
            "outputs": []
        },
        {
            "id": "9caddf1f",
            "cell_type": "code",
            "metadata": {},
            "execution_count": null,
            "source": "signal.ZerosPolesGain([1, 2], [3, 4], 5)",
            "outputs": [
                {
                    "output_type": "execute_result",
                    "metadata": {},
                    "data": {
                        "text/plain": "ZerosPolesGainContinuous(\narray([1, 2]),\narray([3, 4]),\n5,\ndt: None\n)"
                    },
                    "execution_count": null
                }
            ]
        },
        {
            "id": "af6524e7",
            "cell_type": "markdown",
            "source": "Construct the transfer function\n$H(z) = \\frac{5(z - 1)(z - 2)}{(z - 3)(z - 4)}$ with a sampling time\nof 0.1 seconds:\n",
            "metadata": {}
        },
        {
            "id": "b7d1cf18",
            "cell_type": "code",
            "metadata": {},
            "execution_count": null,
            "source": "signal.ZerosPolesGain([1, 2], [3, 4], 5, dt=0.1)",
            "outputs": [
                {
                    "output_type": "execute_result",
                    "metadata": {},
                    "data": {
                        "text/plain": "ZerosPolesGainDiscrete(\narray([1, 2]),\narray([3, 4]),\n5,\ndt: 0.1\n)"
                    },
                    "execution_count": null
                }
            ]
        }
    ]
}