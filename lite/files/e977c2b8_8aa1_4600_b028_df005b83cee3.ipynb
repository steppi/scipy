{
    "nbformat": 4,
    "nbformat_minor": 5,
    "metadata": {
        "kernelspec": {
            "display_name": "Python",
            "language": "python",
            "name": "python"
        },
        "language_info": {
            "name": "python"
        }
    },
    "cells": [
        {
            "id": "74323cf6",
            "cell_type": "markdown",
            "source": "<div class='alert alert-warning'>\n\nSciPy's interactive examples with Jupyterlite are experimental and may not always work as expected. Execution of cells containing imports may result in large downloads (up to 60MB of content for the first import from SciPy). Load times when importing from SciPy may take roughly 10-20 seconds. If you notice any problems, feel free to open an [issue](https://github.com/scipy/scipy/issues/new/choose).\n\n</div>",
            "metadata": {}
        },
        {
            "id": "2a2f7ebd",
            "cell_type": "code",
            "metadata": {},
            "execution_count": null,
            "source": "from scipy.linalg import invpascal, pascal\ninvp = invpascal(5)\ninvp",
            "outputs": [
                {
                    "output_type": "execute_result",
                    "metadata": {},
                    "data": {
                        "text/plain": "array([[  5, -10,  10,  -5,   1],\n       [-10,  30, -35,  19,  -4],\n       [ 10, -35,  46, -27,   6],\n       [ -5,  19, -27,  17,  -4],\n       [  1,  -4,   6,  -4,   1]])"
                    },
                    "execution_count": null
                }
            ]
        },
        {
            "id": "d3a16f98",
            "cell_type": "code",
            "metadata": {},
            "execution_count": null,
            "source": "p = pascal(5)\np.dot(invp)",
            "outputs": [
                {
                    "output_type": "execute_result",
                    "metadata": {},
                    "data": {
                        "text/plain": "array([[ 1.,  0.,  0.,  0.,  0.],\n       [ 0.,  1.,  0.,  0.,  0.],\n       [ 0.,  0.,  1.,  0.,  0.],\n       [ 0.,  0.,  0.,  1.,  0.],\n       [ 0.,  0.,  0.,  0.,  1.]])"
                    },
                    "execution_count": null
                }
            ]
        },
        {
            "id": "6fc29b02",
            "cell_type": "markdown",
            "source": "An example of the use of `kind` and `exact`:\n",
            "metadata": {}
        },
        {
            "id": "023b4531",
            "cell_type": "code",
            "metadata": {},
            "execution_count": null,
            "source": "invpascal(5, kind='lower', exact=False)",
            "outputs": [
                {
                    "output_type": "execute_result",
                    "metadata": {},
                    "data": {
                        "text/plain": "array([[ 1., -0.,  0., -0.,  0.],\n       [-1.,  1., -0.,  0., -0.],\n       [ 1., -2.,  1., -0.,  0.],\n       [-1.,  3., -3.,  1., -0.],\n       [ 1., -4.,  6., -4.,  1.]])"
                    },
                    "execution_count": null
                }
            ]
        }
    ]
}