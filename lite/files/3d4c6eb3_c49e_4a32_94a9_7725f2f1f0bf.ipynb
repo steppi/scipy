{
    "nbformat": 4,
    "nbformat_minor": 5,
    "metadata": {
        "kernelspec": {
            "display_name": "Python",
            "language": "python",
            "name": "python"
        },
        "language_info": {
            "name": "python"
        }
    },
    "cells": [
        {
            "id": "60d28a41",
            "cell_type": "markdown",
            "source": "<div class='alert alert-warning'>\n\nSciPy's interactive examples with Jupyterlite are experimental and may not always work as expected. Execution of cells containing imports may result in large downloads (up to 60MB of content for the first import from SciPy). Load times when importing from SciPy may take roughly 10-20 seconds. If you notice any problems, feel free to open an [issue](https://github.com/scipy/scipy/issues/new/choose).\n\n</div>",
            "metadata": {}
        },
        {
            "id": "974f8604",
            "cell_type": "markdown",
            "source": "Suppose we wish to infer from measurements whether the weights of adult\nhuman males in a medical study are not normally distributed [3].\nThe weights (lbs) are recorded in the array ``x`` below.\n",
            "metadata": {}
        },
        {
            "id": "d680fcd2",
            "cell_type": "code",
            "metadata": {},
            "execution_count": null,
            "source": "import numpy as np\nx = np.array([148, 154, 158, 160, 161, 162, 166, 170, 182, 195, 236])",
            "outputs": []
        },
        {
            "id": "a3964452",
            "cell_type": "markdown",
            "source": "The normality test of [1] and [2] begins by computing a statistic based\non the sample skewness and kurtosis.\n",
            "metadata": {}
        },
        {
            "id": "30436a95",
            "cell_type": "code",
            "metadata": {},
            "execution_count": null,
            "source": "from scipy import stats\nres = stats.normaltest(x)\nres.statistic",
            "outputs": [
                {
                    "output_type": "execute_result",
                    "metadata": {},
                    "data": {
                        "text/plain": "13.034263121192582"
                    },
                    "execution_count": null
                }
            ]
        },
        {
            "id": "cd23ff2b",
            "cell_type": "markdown",
            "source": "(The test warns that our sample has too few observations to perform the\ntest. We'll return to this at the end of the example.)\nBecause the normal distribution has zero skewness and zero\n(\"excess\" or \"Fisher\") kurtosis, the value of this statistic tends to be\nlow for samples drawn from a normal distribution.\n\nThe test is performed by comparing the observed value of the statistic\nagainst the null distribution: the distribution of statistic values derived\nunder the null hypothesis that the weights were drawn from a normal\ndistribution.\nFor this normality test, the null distribution for very large samples is\nthe chi-squared distribution with two degrees of freedom.\n",
            "metadata": {}
        },
        {
            "id": "8f0bfa7c",
            "cell_type": "code",
            "metadata": {},
            "execution_count": null,
            "source": "import matplotlib.pyplot as plt\ndist = stats.chi2(df=2)\nstat_vals = np.linspace(0, 16, 100)\npdf = dist.pdf(stat_vals)\nfig, ax = plt.subplots(figsize=(8, 5))\ndef plot(ax):  # we'll reuse this\n    ax.plot(stat_vals, pdf)\n    ax.set_title(\"Normality Test Null Distribution\")\n    ax.set_xlabel(\"statistic\")\n    ax.set_ylabel(\"probability density\")\nplot(ax)\nplt.show()",
            "outputs": []
        },
        {
            "id": "b63d66d9",
            "cell_type": "markdown",
            "source": "The comparison is quantified by the p-value: the proportion of values in\nthe null distribution greater than or equal to the observed value of the\nstatistic.\n",
            "metadata": {}
        },
        {
            "id": "00656ccc",
            "cell_type": "code",
            "metadata": {},
            "execution_count": null,
            "source": "fig, ax = plt.subplots(figsize=(8, 5))\nplot(ax)\npvalue = dist.sf(res.statistic)\nannotation = (f'p-value={pvalue:.6f}\\n(shaded area)')\nprops = dict(facecolor='black', width=1, headwidth=5, headlength=8)\n_ = ax.annotate(annotation, (13.5, 5e-4), (14, 5e-3), arrowprops=props)\ni = stat_vals >= res.statistic  # index more extreme statistic values\nax.fill_between(stat_vals[i], y1=0, y2=pdf[i])\nax.set_xlim(8, 16)\nax.set_ylim(0, 0.01)\nplt.show()",
            "outputs": []
        },
        {
            "id": "c4ec4782",
            "cell_type": "code",
            "metadata": {},
            "execution_count": null,
            "source": "res.pvalue",
            "outputs": [
                {
                    "output_type": "execute_result",
                    "metadata": {},
                    "data": {
                        "text/plain": "0.0014779023013100172"
                    },
                    "execution_count": null
                }
            ]
        },
        {
            "id": "88161c48",
            "cell_type": "markdown",
            "source": "If the p-value is \"small\" - that is, if there is a low probability of\nsampling data from a normally distributed population that produces such an\nextreme value of the statistic - this may be taken as evidence against\nthe null hypothesis in favor of the alternative: the weights were not\ndrawn from a normal distribution. Note that:\n\n- The inverse is not true; that is, the test is not used to provide\n  evidence for the null hypothesis.\n- The threshold for values that will be considered \"small\" is a choice that\n  should be made before the data is analyzed [4] with consideration of the\n  risks of both false positives (incorrectly rejecting the null hypothesis)\n  and false negatives (failure to reject a false null hypothesis).\n\nNote that the chi-squared distribution provides an asymptotic\napproximation of the null distribution; it is only accurate for samples\nwith many observations. This is the reason we received a warning at the\nbeginning of the example; our sample is quite small. In this case,\n`scipy.stats.monte_carlo_test` may provide a more accurate, albeit\nstochastic, approximation of the exact p-value.\n",
            "metadata": {}
        },
        {
            "id": "827be924",
            "cell_type": "code",
            "metadata": {},
            "execution_count": null,
            "source": "def statistic(x, axis):\n    # Get only the `normaltest` statistic; ignore approximate p-value\n    return stats.normaltest(x, axis=axis).statistic\nres = stats.monte_carlo_test(x, stats.norm.rvs, statistic,\n                             alternative='greater')\nfig, ax = plt.subplots(figsize=(8, 5))\nplot(ax)\nax.hist(res.null_distribution, np.linspace(0, 25, 50),\n        density=True)\nax.legend(['aymptotic approximation (many observations)',\n           'Monte Carlo approximation (11 observations)'])\nax.set_xlim(0, 14)\nplt.show()",
            "outputs": []
        },
        {
            "id": "0d91ca02",
            "cell_type": "code",
            "metadata": {},
            "execution_count": null,
            "source": "res.pvalue",
            "outputs": [
                {
                    "output_type": "execute_result",
                    "metadata": {},
                    "data": {
                        "text/plain": "0.0082  # may vary"
                    },
                    "execution_count": null
                }
            ]
        },
        {
            "id": "320d98c5",
            "cell_type": "markdown",
            "source": "Furthermore, despite their stochastic nature, p-values computed in this way\ncan be used to exactly control the rate of false rejections of the null\nhypothesis [5].\n",
            "metadata": {}
        }
    ]
}