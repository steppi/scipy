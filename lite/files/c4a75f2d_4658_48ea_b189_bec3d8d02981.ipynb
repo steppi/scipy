{
    "nbformat": 4,
    "nbformat_minor": 5,
    "metadata": {
        "kernelspec": {
            "display_name": "Python",
            "language": "python",
            "name": "python"
        },
        "language_info": {
            "name": "python"
        }
    },
    "cells": [
        {
            "id": "85cfe63f",
            "cell_type": "markdown",
            "source": "<div class='alert alert-warning'>\n\nSciPy's interactive examples with Jupyterlite are experimental and may not always work as expected. Execution of cells containing imports may result in large downloads (up to 60MB of content for the first import from SciPy). Load times when importing from SciPy may take roughly 10-20 seconds. If you notice any problems, feel free to open an [issue](https://github.com/scipy/scipy/issues/new/choose).\n\n</div>",
            "metadata": {}
        },
        {
            "id": "056aac26",
            "cell_type": "code",
            "metadata": {},
            "execution_count": null,
            "source": "import numpy as np\nfrom scipy.stats import dweibull\nimport matplotlib.pyplot as plt\nfig, ax = plt.subplots(1, 1)",
            "outputs": []
        },
        {
            "id": "a3c5feb4",
            "cell_type": "markdown",
            "source": "Calculate the first four moments:\n",
            "metadata": {}
        },
        {
            "id": "e6ae9143",
            "cell_type": "code",
            "metadata": {},
            "execution_count": null,
            "source": "c = 2.07\nmean, var, skew, kurt = dweibull.stats(c, moments='mvsk')",
            "outputs": []
        },
        {
            "id": "ad7d67c0",
            "cell_type": "markdown",
            "source": "Display the probability density function (``pdf``):\n",
            "metadata": {}
        },
        {
            "id": "9eecb86e",
            "cell_type": "code",
            "metadata": {},
            "execution_count": null,
            "source": "x = np.linspace(dweibull.ppf(0.01, c),\n                dweibull.ppf(0.99, c), 100)\nax.plot(x, dweibull.pdf(x, c),\n       'r-', lw=5, alpha=0.6, label='dweibull pdf')",
            "outputs": []
        },
        {
            "id": "fa2a49cf",
            "cell_type": "markdown",
            "source": "Alternatively, the distribution object can be called (as a function)\nto fix the shape, location and scale parameters. This returns a \"frozen\"\nRV object holding the given parameters fixed.\n\nFreeze the distribution and display the frozen ``pdf``:\n",
            "metadata": {}
        },
        {
            "id": "e1c8d3bd",
            "cell_type": "code",
            "metadata": {},
            "execution_count": null,
            "source": "rv = dweibull(c)\nax.plot(x, rv.pdf(x), 'k-', lw=2, label='frozen pdf')",
            "outputs": []
        },
        {
            "id": "7a32901b",
            "cell_type": "markdown",
            "source": "Check accuracy of ``cdf`` and ``ppf``:\n",
            "metadata": {}
        },
        {
            "id": "d2e5e13e",
            "cell_type": "code",
            "metadata": {},
            "execution_count": null,
            "source": "vals = dweibull.ppf([0.001, 0.5, 0.999], c)\nnp.allclose([0.001, 0.5, 0.999], dweibull.cdf(vals, c))",
            "outputs": [
                {
                    "output_type": "execute_result",
                    "metadata": {},
                    "data": {
                        "text/plain": "True"
                    },
                    "execution_count": null
                }
            ]
        },
        {
            "id": "a1705658",
            "cell_type": "markdown",
            "source": "Generate random numbers:\n",
            "metadata": {}
        },
        {
            "id": "546453e8",
            "cell_type": "code",
            "metadata": {},
            "execution_count": null,
            "source": "r = dweibull.rvs(c, size=1000)",
            "outputs": []
        },
        {
            "id": "7039f3ac",
            "cell_type": "markdown",
            "source": "And compare the histogram:\n",
            "metadata": {}
        },
        {
            "id": "2efa5dfb",
            "cell_type": "code",
            "metadata": {},
            "execution_count": null,
            "source": "ax.hist(r, density=True, bins='auto', histtype='stepfilled', alpha=0.2)\nax.set_xlim([x[0], x[-1]])\nax.legend(loc='best', frameon=False)\nplt.show()",
            "outputs": []
        }
    ]
}