{
    "nbformat": 4,
    "nbformat_minor": 5,
    "metadata": {
        "kernelspec": {
            "display_name": "Python",
            "language": "python",
            "name": "python"
        },
        "language_info": {
            "name": "python"
        }
    },
    "cells": [
        {
            "id": "0f971898",
            "cell_type": "markdown",
            "source": "<div class='alert alert-warning'>\n\nSciPy's interactive examples with Jupyterlite are experimental and may not always work as expected. Execution of cells containing imports may result in large downloads (up to 60MB of content for the first import from SciPy). Load times when importing from SciPy may take roughly 10-20 seconds. If you notice any problems, feel free to open an [issue](https://github.com/scipy/scipy/issues/new/choose).\n\n</div>",
            "metadata": {}
        },
        {
            "id": "dd79b2d8",
            "cell_type": "markdown",
            "source": "Three-quarters of the given values lie below a given score:\n",
            "metadata": {}
        },
        {
            "id": "ead376fc",
            "cell_type": "code",
            "metadata": {},
            "execution_count": null,
            "source": "import numpy as np\nfrom scipy import stats\nstats.percentileofscore([1, 2, 3, 4], 3)",
            "outputs": [
                {
                    "output_type": "execute_result",
                    "metadata": {},
                    "data": {
                        "text/plain": "75.0"
                    },
                    "execution_count": null
                }
            ]
        },
        {
            "id": "596c2bfe",
            "cell_type": "markdown",
            "source": "With multiple matches, note how the scores of the two matches, 0.6\nand 0.8 respectively, are averaged:\n",
            "metadata": {}
        },
        {
            "id": "928418d5",
            "cell_type": "code",
            "metadata": {},
            "execution_count": null,
            "source": "stats.percentileofscore([1, 2, 3, 3, 4], 3)",
            "outputs": [
                {
                    "output_type": "execute_result",
                    "metadata": {},
                    "data": {
                        "text/plain": "70.0"
                    },
                    "execution_count": null
                }
            ]
        },
        {
            "id": "b854d131",
            "cell_type": "markdown",
            "source": "Only 2/5 values are strictly less than 3:\n",
            "metadata": {}
        },
        {
            "id": "d88bccfe",
            "cell_type": "code",
            "metadata": {},
            "execution_count": null,
            "source": "stats.percentileofscore([1, 2, 3, 3, 4], 3, kind='strict')",
            "outputs": [
                {
                    "output_type": "execute_result",
                    "metadata": {},
                    "data": {
                        "text/plain": "40.0"
                    },
                    "execution_count": null
                }
            ]
        },
        {
            "id": "6bc4949c",
            "cell_type": "markdown",
            "source": "But 4/5 values are less than or equal to 3:\n",
            "metadata": {}
        },
        {
            "id": "8bab1019",
            "cell_type": "code",
            "metadata": {},
            "execution_count": null,
            "source": "stats.percentileofscore([1, 2, 3, 3, 4], 3, kind='weak')",
            "outputs": [
                {
                    "output_type": "execute_result",
                    "metadata": {},
                    "data": {
                        "text/plain": "80.0"
                    },
                    "execution_count": null
                }
            ]
        },
        {
            "id": "53859b29",
            "cell_type": "markdown",
            "source": "The average between the weak and the strict scores is:\n",
            "metadata": {}
        },
        {
            "id": "9ea10380",
            "cell_type": "code",
            "metadata": {},
            "execution_count": null,
            "source": "stats.percentileofscore([1, 2, 3, 3, 4], 3, kind='mean')",
            "outputs": [
                {
                    "output_type": "execute_result",
                    "metadata": {},
                    "data": {
                        "text/plain": "60.0"
                    },
                    "execution_count": null
                }
            ]
        },
        {
            "id": "dbff5deb",
            "cell_type": "markdown",
            "source": "Score arrays (of any dimensionality) are supported:\n",
            "metadata": {}
        },
        {
            "id": "322a0584",
            "cell_type": "code",
            "metadata": {},
            "execution_count": null,
            "source": "stats.percentileofscore([1, 2, 3, 3, 4], [2, 3])",
            "outputs": [
                {
                    "output_type": "execute_result",
                    "metadata": {},
                    "data": {
                        "text/plain": "array([40., 70.])"
                    },
                    "execution_count": null
                }
            ]
        },
        {
            "id": "8df2a0af",
            "cell_type": "markdown",
            "source": "The inputs can be infinite:\n",
            "metadata": {}
        },
        {
            "id": "111f48fd",
            "cell_type": "code",
            "metadata": {},
            "execution_count": null,
            "source": "stats.percentileofscore([-np.inf, 0, 1, np.inf], [1, 2, np.inf])",
            "outputs": [
                {
                    "output_type": "execute_result",
                    "metadata": {},
                    "data": {
                        "text/plain": "array([75., 75., 100.])"
                    },
                    "execution_count": null
                }
            ]
        },
        {
            "id": "d64ba194",
            "cell_type": "markdown",
            "source": "If `a` is empty, then the resulting percentiles are all `nan`:\n",
            "metadata": {}
        },
        {
            "id": "4e02a8d4",
            "cell_type": "code",
            "metadata": {},
            "execution_count": null,
            "source": "stats.percentileofscore([], [1, 2])",
            "outputs": [
                {
                    "output_type": "execute_result",
                    "metadata": {},
                    "data": {
                        "text/plain": "array([nan, nan])"
                    },
                    "execution_count": null
                }
            ]
        }
    ]
}