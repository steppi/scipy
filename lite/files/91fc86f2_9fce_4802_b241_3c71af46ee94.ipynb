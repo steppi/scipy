{
    "nbformat": 4,
    "nbformat_minor": 5,
    "metadata": {
        "kernelspec": {
            "display_name": "Python",
            "language": "python",
            "name": "python"
        },
        "language_info": {
            "name": "python"
        }
    },
    "cells": [
        {
            "id": "78b0bca1",
            "cell_type": "markdown",
            "source": "<div class='alert alert-warning'>\n\nSciPy's interactive examples with Jupyterlite are experimental and may not always work as expected. Execution of cells containing imports may result in large downloads (up to 60MB of content for the first import from SciPy). Load times when importing from SciPy may take roughly 10-20 seconds. If you notice any problems, feel free to open an [issue](https://github.com/scipy/scipy/issues/new/choose).\n\n</div>",
            "metadata": {}
        },
        {
            "id": "c74bebc2",
            "cell_type": "markdown",
            "source": "Suppose we wish to infer from measurements whether the weights of adult\nhuman males in a medical study are not normally distributed [2].\nThe weights (lbs) are recorded in the array ``x`` below.\n",
            "metadata": {}
        },
        {
            "id": "794176dd",
            "cell_type": "code",
            "metadata": {},
            "execution_count": null,
            "source": "import numpy as np\nx = np.array([148, 154, 158, 160, 161, 162, 166, 170, 182, 195, 236])",
            "outputs": []
        },
        {
            "id": "ff3e28c4",
            "cell_type": "markdown",
            "source": "The Jarque-Bera test begins by computing a statistic based on the sample\nskewness and kurtosis.\n",
            "metadata": {}
        },
        {
            "id": "43dc5445",
            "cell_type": "code",
            "metadata": {},
            "execution_count": null,
            "source": "from scipy import stats\nres = stats.jarque_bera(x)\nres.statistic",
            "outputs": [
                {
                    "output_type": "execute_result",
                    "metadata": {},
                    "data": {
                        "text/plain": "6.982848237344646"
                    },
                    "execution_count": null
                }
            ]
        },
        {
            "id": "684ddb37",
            "cell_type": "markdown",
            "source": "Because the normal distribution has zero skewness and zero\n(\"excess\" or \"Fisher\") kurtosis, the value of this statistic tends to be\nlow for samples drawn from a normal distribution.\n\nThe test is performed by comparing the observed value of the statistic\nagainst the null distribution: the distribution of statistic values derived\nunder the null hypothesis that the weights were drawn from a normal\ndistribution.\nFor the Jarque-Bera test, the null distribution for very large samples is\nthe chi-squared distribution with two degrees of freedom.\n",
            "metadata": {}
        },
        {
            "id": "7f2721d9",
            "cell_type": "code",
            "metadata": {},
            "execution_count": null,
            "source": "import matplotlib.pyplot as plt\ndist = stats.chi2(df=2)\njb_val = np.linspace(0, 11, 100)\npdf = dist.pdf(jb_val)\nfig, ax = plt.subplots(figsize=(8, 5))\ndef jb_plot(ax):  # we'll reuse this\n    ax.plot(jb_val, pdf)\n    ax.set_title(\"Jarque-Bera Null Distribution\")\n    ax.set_xlabel(\"statistic\")\n    ax.set_ylabel(\"probability density\")\njb_plot(ax)\nplt.show()",
            "outputs": []
        },
        {
            "id": "f1f24190",
            "cell_type": "markdown",
            "source": "The comparison is quantified by the p-value: the proportion of values in\nthe null distribution greater than or equal to the observed value of the\nstatistic.\n",
            "metadata": {}
        },
        {
            "id": "2d960fc2",
            "cell_type": "code",
            "metadata": {},
            "execution_count": null,
            "source": "fig, ax = plt.subplots(figsize=(8, 5))\njb_plot(ax)\npvalue = dist.sf(res.statistic)\nannotation = (f'p-value={pvalue:.6f}\\n(shaded area)')\nprops = dict(facecolor='black', width=1, headwidth=5, headlength=8)\n_ = ax.annotate(annotation, (7.5, 0.01), (8, 0.05), arrowprops=props)\ni = jb_val >= res.statistic  # indices of more extreme statistic values\nax.fill_between(jb_val[i], y1=0, y2=pdf[i])\nax.set_xlim(0, 11)\nax.set_ylim(0, 0.3)\nplt.show()",
            "outputs": []
        },
        {
            "id": "3b09675b",
            "cell_type": "code",
            "metadata": {},
            "execution_count": null,
            "source": "res.pvalue",
            "outputs": [
                {
                    "output_type": "execute_result",
                    "metadata": {},
                    "data": {
                        "text/plain": "0.03045746622458189"
                    },
                    "execution_count": null
                }
            ]
        },
        {
            "id": "dd2a117d",
            "cell_type": "markdown",
            "source": "If the p-value is \"small\" - that is, if there is a low probability of\nsampling data from a normally distributed population that produces such an\nextreme value of the statistic - this may be taken as evidence against\nthe null hypothesis in favor of the alternative: the weights were not\ndrawn from a normal distribution. Note that:\n\n- The inverse is not true; that is, the test is not used to provide\n  evidence for the null hypothesis.\n- The threshold for values that will be considered \"small\" is a choice that\n  should be made before the data is analyzed [3] with consideration of the\n  risks of both false positives (incorrectly rejecting the null hypothesis)\n  and false negatives (failure to reject a false null hypothesis).\n\nNote that the chi-squared distribution provides an asymptotic approximation\nof the null distribution; it is only accurate for samples with many\nobservations. For small samples like ours, `scipy.stats.monte_carlo_test`\nmay provide a more accurate, albeit stochastic, approximation of the\nexact p-value.\n",
            "metadata": {}
        },
        {
            "id": "6b1a3d95",
            "cell_type": "code",
            "metadata": {},
            "execution_count": null,
            "source": "def statistic(x, axis):\n    # underlying calculation of the Jarque Bera statistic\n    s = stats.skew(x, axis=axis)\n    k = stats.kurtosis(x, axis=axis)\n    return x.shape[axis]/6 * (s**2 + k**2/4)\nres = stats.monte_carlo_test(x, stats.norm.rvs, statistic,\n                             alternative='greater')\nfig, ax = plt.subplots(figsize=(8, 5))\njb_plot(ax)\nax.hist(res.null_distribution, np.linspace(0, 10, 50),\n        density=True)\nax.legend(['aymptotic approximation (many observations)',\n           'Monte Carlo approximation (11 observations)'])\nplt.show()",
            "outputs": []
        },
        {
            "id": "bf63075a",
            "cell_type": "code",
            "metadata": {},
            "execution_count": null,
            "source": "res.pvalue",
            "outputs": [
                {
                    "output_type": "execute_result",
                    "metadata": {},
                    "data": {
                        "text/plain": "0.0097  # may vary"
                    },
                    "execution_count": null
                }
            ]
        },
        {
            "id": "88e611e6",
            "cell_type": "markdown",
            "source": "Furthermore, despite their stochastic nature, p-values computed in this way\ncan be used to exactly control the rate of false rejections of the null\nhypothesis [4].\n",
            "metadata": {}
        }
    ]
}