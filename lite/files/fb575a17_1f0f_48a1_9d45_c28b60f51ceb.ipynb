{
    "nbformat": 4,
    "nbformat_minor": 5,
    "metadata": {
        "kernelspec": {
            "display_name": "Python",
            "language": "python",
            "name": "python"
        },
        "language_info": {
            "name": "python"
        }
    },
    "cells": [
        {
            "id": "4e9b00bc",
            "cell_type": "markdown",
            "source": "<div class='alert alert-warning'>\n\nSciPy's interactive examples with Jupyterlite are experimental and may not always work as expected. Execution of cells containing imports may result in large downloads (up to 60MB of content for the first import from SciPy). Load times when importing from SciPy may take roughly 10-20 seconds. If you notice any problems, feel free to open an [issue](https://github.com/scipy/scipy/issues/new/choose).\n\n</div>",
            "metadata": {}
        },
        {
            "id": "faf3f339",
            "cell_type": "code",
            "metadata": {},
            "execution_count": null,
            "source": "import numpy as np\nimport matplotlib.pyplot as plt\nrng = np.random.default_rng()",
            "outputs": []
        },
        {
            "id": "a0e1d4ad",
            "cell_type": "markdown",
            "source": "First define some input parameters for the signal:\n",
            "metadata": {}
        },
        {
            "id": "dcf7f405",
            "cell_type": "code",
            "metadata": {},
            "execution_count": null,
            "source": "A = 2.\nw0 = 1.  # rad/sec\nnin = 150\nnout = 100000",
            "outputs": []
        },
        {
            "id": "e272b752",
            "cell_type": "markdown",
            "source": "Randomly generate sample times:\n",
            "metadata": {}
        },
        {
            "id": "c143b180",
            "cell_type": "code",
            "metadata": {},
            "execution_count": null,
            "source": "x = rng.uniform(0, 10*np.pi, nin)",
            "outputs": []
        },
        {
            "id": "c8d2fe7b",
            "cell_type": "markdown",
            "source": "Plot a sine wave for the selected times:\n",
            "metadata": {}
        },
        {
            "id": "fcaade81",
            "cell_type": "code",
            "metadata": {},
            "execution_count": null,
            "source": "y = A * np.cos(w0*x)",
            "outputs": []
        },
        {
            "id": "383fcd07",
            "cell_type": "markdown",
            "source": "Define the array of frequencies for which to compute the periodogram:\n",
            "metadata": {}
        },
        {
            "id": "1991e5fe",
            "cell_type": "code",
            "metadata": {},
            "execution_count": null,
            "source": "w = np.linspace(0.01, 10, nout)",
            "outputs": []
        },
        {
            "id": "67fc1fad",
            "cell_type": "markdown",
            "source": "Calculate Lomb-Scargle periodogram:\n",
            "metadata": {}
        },
        {
            "id": "e78c582f",
            "cell_type": "code",
            "metadata": {},
            "execution_count": null,
            "source": "import scipy.signal as signal\npgram = signal.lombscargle(x, y, w, normalize=True)",
            "outputs": []
        },
        {
            "id": "eecc4ef6",
            "cell_type": "markdown",
            "source": "Now make a plot of the input data:\n",
            "metadata": {}
        },
        {
            "id": "02a2d283",
            "cell_type": "code",
            "metadata": {},
            "execution_count": null,
            "source": "fig, (ax_t, ax_w) = plt.subplots(2, 1, constrained_layout=True)\nax_t.plot(x, y, 'b+')\nax_t.set_xlabel('Time [s]')",
            "outputs": []
        },
        {
            "id": "1eb8eb9b",
            "cell_type": "markdown",
            "source": "Then plot the normalized periodogram:\n",
            "metadata": {}
        },
        {
            "id": "dd7617d7",
            "cell_type": "code",
            "metadata": {},
            "execution_count": null,
            "source": "ax_w.plot(w, pgram)\nax_w.set_xlabel('Angular frequency [rad/s]')\nax_w.set_ylabel('Normalized amplitude')\nplt.show()",
            "outputs": []
        }
    ]
}