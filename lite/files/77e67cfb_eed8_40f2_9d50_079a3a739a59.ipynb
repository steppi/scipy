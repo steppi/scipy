{
    "nbformat": 4,
    "nbformat_minor": 5,
    "metadata": {
        "kernelspec": {
            "display_name": "Python",
            "language": "python",
            "name": "python"
        },
        "language_info": {
            "name": "python"
        }
    },
    "cells": [
        {
            "id": "baf8331c",
            "cell_type": "markdown",
            "source": "<div class='alert alert-warning'>\n\nSciPy's interactive examples with Jupyterlite are experimental and may not always work as expected. Execution of cells containing imports may result in large downloads (up to 60MB of content for the first import from SciPy). Load times when importing from SciPy may take roughly 10-20 seconds. If you notice any problems, feel free to open an [issue](https://github.com/scipy/scipy/issues/new/choose).\n\n</div>",
            "metadata": {}
        },
        {
            "id": "d0cd6ff4",
            "cell_type": "code",
            "metadata": {},
            "execution_count": null,
            "source": "import numpy as np\nfrom scipy import signal\nimport matplotlib.pyplot as plt",
            "outputs": []
        },
        {
            "id": "6ab2abc3",
            "cell_type": "code",
            "metadata": {},
            "execution_count": null,
            "source": "butter = signal.dlti(*signal.butter(3, 0.5))\nt, y = signal.dimpulse(butter, n=25)\nplt.step(t, np.squeeze(y))\nplt.grid()\nplt.xlabel('n [samples]')\nplt.ylabel('Amplitude')",
            "outputs": []
        }
    ]
}