{
    "nbformat": 4,
    "nbformat_minor": 5,
    "metadata": {
        "kernelspec": {
            "display_name": "Python",
            "language": "python",
            "name": "python"
        },
        "language_info": {
            "name": "python"
        }
    },
    "cells": [
        {
            "id": "b4973c4b",
            "cell_type": "markdown",
            "source": "<div class='alert alert-warning'>\n\nSciPy's interactive examples with Jupyterlite are experimental and may not always work as expected. Execution of cells containing imports may result in large downloads (up to 60MB of content for the first import from SciPy). Load times when importing from SciPy may take roughly 10-20 seconds. If you notice any problems, feel free to open an [issue](https://github.com/scipy/scipy/issues/new/choose).\n\n</div>",
            "metadata": {}
        },
        {
            "id": "8d856bb9",
            "cell_type": "markdown",
            "source": "Generating the Nyquist plot of a transfer function\n",
            "metadata": {}
        },
        {
            "id": "90605567",
            "cell_type": "code",
            "metadata": {},
            "execution_count": null,
            "source": "from scipy import signal\nimport matplotlib.pyplot as plt",
            "outputs": []
        },
        {
            "id": "bdbeb1d4",
            "cell_type": "markdown",
            "source": "Construct the transfer function $H(s) = \\frac{5}{(s-1)^3}$:\n",
            "metadata": {}
        },
        {
            "id": "c90fc9f3",
            "cell_type": "code",
            "metadata": {},
            "execution_count": null,
            "source": "s1 = signal.ZerosPolesGain([], [1, 1, 1], [5])",
            "outputs": []
        },
        {
            "id": "30b8f768",
            "cell_type": "code",
            "metadata": {},
            "execution_count": null,
            "source": "w, H = signal.freqresp(s1)",
            "outputs": []
        },
        {
            "id": "5db01b2e",
            "cell_type": "code",
            "metadata": {},
            "execution_count": null,
            "source": "plt.figure()\nplt.plot(H.real, H.imag, \"b\")\nplt.plot(H.real, -H.imag, \"r\")\nplt.show()",
            "outputs": []
        }
    ]
}