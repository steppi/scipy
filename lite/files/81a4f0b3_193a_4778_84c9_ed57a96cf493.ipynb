{
    "nbformat": 4,
    "nbformat_minor": 5,
    "metadata": {
        "kernelspec": {
            "display_name": "Python",
            "language": "python",
            "name": "python"
        },
        "language_info": {
            "name": "python"
        }
    },
    "cells": [
        {
            "id": "e8bea1c7",
            "cell_type": "markdown",
            "source": "<div class='alert alert-warning'>\n\nSciPy's interactive examples with Jupyterlite are experimental and may not always work as expected. Execution of cells containing imports may result in large downloads (up to 60MB of content for the first import from SciPy). Load times when importing from SciPy may take roughly 10-20 seconds. If you notice any problems, feel free to open an [issue](https://github.com/scipy/scipy/issues/new/choose).\n\n</div>",
            "metadata": {}
        },
        {
            "id": "8c819727",
            "cell_type": "code",
            "metadata": {},
            "execution_count": null,
            "source": "import numpy as np\nfrom scipy import signal\nimport matplotlib.pyplot as plt",
            "outputs": []
        },
        {
            "id": "19137b48",
            "cell_type": "code",
            "metadata": {},
            "execution_count": null,
            "source": "M = 100\ns = 4.0\nw = 2.0\nwavelet = signal.morlet2(M, s, w)\nplt.plot(abs(wavelet))\nplt.show()",
            "outputs": []
        },
        {
            "id": "9b2adb7c",
            "cell_type": "markdown",
            "source": "This example shows basic use of `morlet2` with `cwt` in time-frequency\nanalysis:\n",
            "metadata": {}
        },
        {
            "id": "61ec1c71",
            "cell_type": "code",
            "metadata": {},
            "execution_count": null,
            "source": "t, dt = np.linspace(0, 1, 200, retstep=True)\nfs = 1/dt\nw = 6.\nsig = np.cos(2*np.pi*(50 + 10*t)*t) + np.sin(40*np.pi*t)\nfreq = np.linspace(1, fs/2, 100)\nwidths = w*fs / (2*freq*np.pi)\ncwtm = signal.cwt(sig, signal.morlet2, widths, w=w)\nplt.pcolormesh(t, freq, np.abs(cwtm), cmap='viridis', shading='gouraud')\nplt.show()",
            "outputs": []
        }
    ]
}