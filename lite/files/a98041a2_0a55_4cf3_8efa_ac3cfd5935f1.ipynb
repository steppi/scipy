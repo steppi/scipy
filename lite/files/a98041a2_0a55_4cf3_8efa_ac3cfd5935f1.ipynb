{
    "nbformat": 4,
    "nbformat_minor": 5,
    "metadata": {
        "kernelspec": {
            "display_name": "Python",
            "language": "python",
            "name": "python"
        },
        "language_info": {
            "name": "python"
        }
    },
    "cells": [
        {
            "id": "3d2d854e",
            "cell_type": "markdown",
            "source": "<div class='alert alert-warning'>\n\nSciPy's interactive examples with Jupyterlite are experimental and may not always work as expected. Execution of cells containing imports may result in large downloads (up to 60MB of content for the first import from SciPy). Load times when importing from SciPy may take roughly 10-20 seconds. If you notice any problems, feel free to open an [issue](https://github.com/scipy/scipy/issues/new/choose).\n\n</div>",
            "metadata": {}
        },
        {
            "id": "bca48b14",
            "cell_type": "markdown",
            "source": "Prepare a symmetric positive definite covariance matrix ``A`` and a\ndata point ``x``.\n",
            "metadata": {}
        },
        {
            "id": "83733a37",
            "cell_type": "code",
            "metadata": {},
            "execution_count": null,
            "source": "import numpy as np\nfrom scipy import stats\nrng = np.random.default_rng()\nn = 5\nA = np.diag(rng.random(n))\nx = rng.random(size=n)",
            "outputs": []
        },
        {
            "id": "63bf623a",
            "cell_type": "markdown",
            "source": "Extract the diagonal from ``A`` and create the `Covariance` object.\n",
            "metadata": {}
        },
        {
            "id": "98c49914",
            "cell_type": "code",
            "metadata": {},
            "execution_count": null,
            "source": "d = np.diag(A)\ncov = stats.Covariance.from_diagonal(d)",
            "outputs": []
        },
        {
            "id": "6f404ce1",
            "cell_type": "markdown",
            "source": "Compare the functionality of the `Covariance` object against a\nreference implementations.\n",
            "metadata": {}
        },
        {
            "id": "becd8d47",
            "cell_type": "code",
            "metadata": {},
            "execution_count": null,
            "source": "res = cov.whiten(x)\nref = np.diag(d**-0.5) @ x\nnp.allclose(res, ref)",
            "outputs": [
                {
                    "output_type": "execute_result",
                    "metadata": {},
                    "data": {
                        "text/plain": "True"
                    },
                    "execution_count": null
                }
            ]
        },
        {
            "id": "1d434126",
            "cell_type": "code",
            "metadata": {},
            "execution_count": null,
            "source": "res = cov.log_pdet\nref = np.linalg.slogdet(A)[-1]\nnp.allclose(res, ref)",
            "outputs": [
                {
                    "output_type": "execute_result",
                    "metadata": {},
                    "data": {
                        "text/plain": "True"
                    },
                    "execution_count": null
                }
            ]
        }
    ]
}