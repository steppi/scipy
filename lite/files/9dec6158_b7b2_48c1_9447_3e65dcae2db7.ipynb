{
    "nbformat": 4,
    "nbformat_minor": 5,
    "metadata": {
        "kernelspec": {
            "display_name": "Python",
            "language": "python",
            "name": "python"
        },
        "language_info": {
            "name": "python"
        }
    },
    "cells": [
        {
            "id": "6ee5c940",
            "cell_type": "markdown",
            "source": "<div class='alert alert-warning'>\n\nSciPy's interactive examples with Jupyterlite are experimental and may not always work as expected. Execution of cells containing imports may result in large downloads (up to 60MB of content for the first import from SciPy). Load times when importing from SciPy may take roughly 10-20 seconds. If you notice any problems, feel free to open an [issue](https://github.com/scipy/scipy/issues/new/choose).\n\n</div>",
            "metadata": {}
        },
        {
            "id": "7e1aae15",
            "cell_type": "markdown",
            "source": "Construct the transfer function\n$H(s) = \\frac{s^2 + 3s + 3}{s^2 + 2s + 1}$:\n",
            "metadata": {}
        },
        {
            "id": "c903f41b",
            "cell_type": "code",
            "metadata": {},
            "execution_count": null,
            "source": "from scipy import signal",
            "outputs": []
        },
        {
            "id": "a340a224",
            "cell_type": "code",
            "metadata": {},
            "execution_count": null,
            "source": "num = [1, 3, 3]\nden = [1, 2, 1]",
            "outputs": []
        },
        {
            "id": "21b17594",
            "cell_type": "code",
            "metadata": {},
            "execution_count": null,
            "source": "signal.TransferFunction(num, den)",
            "outputs": [
                {
                    "output_type": "execute_result",
                    "metadata": {},
                    "data": {
                        "text/plain": "TransferFunctionContinuous(\narray([1., 3., 3.]),\narray([1., 2., 1.]),\ndt: None\n)"
                    },
                    "execution_count": null
                }
            ]
        },
        {
            "id": "76d578bb",
            "cell_type": "markdown",
            "source": "Construct the transfer function\n$H(z) = \\frac{z^2 + 3z + 3}{z^2 + 2z + 1}$ with a sampling time of\n0.1 seconds:\n",
            "metadata": {}
        },
        {
            "id": "35cca553",
            "cell_type": "code",
            "metadata": {},
            "execution_count": null,
            "source": "signal.TransferFunction(num, den, dt=0.1)",
            "outputs": [
                {
                    "output_type": "execute_result",
                    "metadata": {},
                    "data": {
                        "text/plain": "TransferFunctionDiscrete(\narray([1., 3., 3.]),\narray([1., 2., 1.]),\ndt: 0.1\n)"
                    },
                    "execution_count": null
                }
            ]
        }
    ]
}