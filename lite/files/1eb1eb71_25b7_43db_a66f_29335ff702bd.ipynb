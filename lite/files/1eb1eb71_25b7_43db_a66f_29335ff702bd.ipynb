{
    "nbformat": 4,
    "nbformat_minor": 5,
    "metadata": {
        "kernelspec": {
            "display_name": "Python",
            "language": "python",
            "name": "python"
        },
        "language_info": {
            "name": "python"
        }
    },
    "cells": [
        {
            "id": "8f7acf5e",
            "cell_type": "markdown",
            "source": "<div class='alert alert-warning'>\n\nSciPy's interactive examples with Jupyterlite are experimental and may not always work as expected. Execution of cells containing imports may result in large downloads (up to 60MB of content for the first import from SciPy). Load times when importing from SciPy may take roughly 10-20 seconds. If you notice any problems, feel free to open an [issue](https://github.com/scipy/scipy/issues/new/choose).\n\n</div>",
            "metadata": {}
        },
        {
            "id": "783ba942",
            "cell_type": "code",
            "metadata": {},
            "execution_count": null,
            "source": "import numpy as np\nfrom scipy.special import expit, logit",
            "outputs": []
        },
        {
            "id": "8737ae2f",
            "cell_type": "code",
            "metadata": {},
            "execution_count": null,
            "source": "expit([-np.inf, -1.5, 0, 1.5, np.inf])",
            "outputs": [
                {
                    "output_type": "execute_result",
                    "metadata": {},
                    "data": {
                        "text/plain": "array([ 0.        ,  0.18242552,  0.5       ,  0.81757448,  1.        ])"
                    },
                    "execution_count": null
                }
            ]
        },
        {
            "id": "eeb99deb",
            "cell_type": "markdown",
            "source": "`logit` is the inverse of `expit`:\n",
            "metadata": {}
        },
        {
            "id": "b7c11af0",
            "cell_type": "code",
            "metadata": {},
            "execution_count": null,
            "source": "logit(expit([-2.5, 0, 3.1, 5.0]))",
            "outputs": [
                {
                    "output_type": "execute_result",
                    "metadata": {},
                    "data": {
                        "text/plain": "array([-2.5,  0. ,  3.1,  5. ])"
                    },
                    "execution_count": null
                }
            ]
        },
        {
            "id": "215198c1",
            "cell_type": "markdown",
            "source": "Plot expit(x) for x in [-6, 6]:\n",
            "metadata": {}
        },
        {
            "id": "891d9df5",
            "cell_type": "code",
            "metadata": {},
            "execution_count": null,
            "source": "import matplotlib.pyplot as plt\nx = np.linspace(-6, 6, 121)\ny = expit(x)\nplt.plot(x, y)\nplt.grid()\nplt.xlim(-6, 6)\nplt.xlabel('x')\nplt.title('expit(x)')\nplt.show()",
            "outputs": []
        }
    ]
}