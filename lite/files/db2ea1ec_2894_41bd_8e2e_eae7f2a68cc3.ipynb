{
    "nbformat": 4,
    "nbformat_minor": 5,
    "metadata": {
        "kernelspec": {
            "display_name": "Python",
            "language": "python",
            "name": "python"
        },
        "language_info": {
            "name": "python"
        }
    },
    "cells": [
        {
            "id": "ec11bfd3",
            "cell_type": "markdown",
            "source": "<div class='alert alert-warning'>\n\nSciPy's interactive examples with Jupyterlite are experimental and may not always work as expected. Execution of cells containing imports may result in large downloads (up to 60MB of content for the first import from SciPy). Load times when importing from SciPy may take roughly 10-20 seconds. If you notice any problems, feel free to open an [issue](https://github.com/scipy/scipy/issues/new/choose).\n\n</div>",
            "metadata": {}
        },
        {
            "id": "a5be3233",
            "cell_type": "code",
            "metadata": {},
            "execution_count": null,
            "source": "from scipy.special import betainccinv, betaincc",
            "outputs": []
        },
        {
            "id": "cc52c310",
            "cell_type": "markdown",
            "source": "This function is the inverse of `betaincc` for fixed\nvalues of $a$ and $b$.\n",
            "metadata": {}
        },
        {
            "id": "f82a2d10",
            "cell_type": "code",
            "metadata": {},
            "execution_count": null,
            "source": "a, b = 1.2, 3.1\ny = betaincc(a, b, 0.2)\nbetainccinv(a, b, y)",
            "outputs": [
                {
                    "output_type": "execute_result",
                    "metadata": {},
                    "data": {
                        "text/plain": "0.2"
                    },
                    "execution_count": null
                }
            ]
        },
        {
            "id": "4cbf3764",
            "cell_type": "code",
            "metadata": {},
            "execution_count": null,
            "source": "a, b = 7, 2.5\nx = betainccinv(a, b, 0.875)\nbetaincc(a, b, x)",
            "outputs": [
                {
                    "output_type": "execute_result",
                    "metadata": {},
                    "data": {
                        "text/plain": "0.875"
                    },
                    "execution_count": null
                }
            ]
        }
    ]
}