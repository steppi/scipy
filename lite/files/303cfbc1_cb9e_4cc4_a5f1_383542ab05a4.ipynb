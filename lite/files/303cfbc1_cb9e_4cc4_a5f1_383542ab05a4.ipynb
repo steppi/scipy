{
    "nbformat": 4,
    "nbformat_minor": 5,
    "metadata": {
        "kernelspec": {
            "display_name": "Python",
            "language": "python",
            "name": "python"
        },
        "language_info": {
            "name": "python"
        }
    },
    "cells": [
        {
            "id": "1e0e6c76",
            "cell_type": "markdown",
            "source": "<div class='alert alert-warning'>\n\nSciPy's interactive examples with Jupyterlite are experimental and may not always work as expected. Execution of cells containing imports may result in large downloads (up to 60MB of content for the first import from SciPy). Load times when importing from SciPy may take roughly 10-20 seconds. If you notice any problems, feel free to open an [issue](https://github.com/scipy/scipy/issues/new/choose).\n\n</div>",
            "metadata": {}
        },
        {
            "id": "172d7b7c",
            "cell_type": "code",
            "metadata": {},
            "execution_count": null,
            "source": "import numpy as np\nimport matplotlib.pyplot as plt\nfrom scipy import stats\nrng = np.random.default_rng()",
            "outputs": []
        },
        {
            "id": "cf2950bc",
            "cell_type": "markdown",
            "source": "Generate some data:\n",
            "metadata": {}
        },
        {
            "id": "ede71118",
            "cell_type": "code",
            "metadata": {},
            "execution_count": null,
            "source": "x = rng.random(10)\ny = 1.6*x + rng.random(10)",
            "outputs": []
        },
        {
            "id": "c3c7fdf0",
            "cell_type": "markdown",
            "source": "Perform the linear regression:\n",
            "metadata": {}
        },
        {
            "id": "3332c0c0",
            "cell_type": "code",
            "metadata": {},
            "execution_count": null,
            "source": "res = stats.linregress(x, y)",
            "outputs": []
        },
        {
            "id": "24a64077",
            "cell_type": "markdown",
            "source": "Coefficient of determination (R-squared):\n",
            "metadata": {}
        },
        {
            "id": "c9aaf4ee",
            "cell_type": "code",
            "metadata": {},
            "execution_count": null,
            "source": "print(f\"R-squared: {res.rvalue**2:.6f}\")",
            "outputs": [
                {
                    "output_type": "execute_result",
                    "metadata": {},
                    "data": {
                        "text/plain": "R-squared: 0.717533"
                    },
                    "execution_count": null
                }
            ]
        },
        {
            "id": "a9461db9",
            "cell_type": "markdown",
            "source": "Plot the data along with the fitted line:\n",
            "metadata": {}
        },
        {
            "id": "e9b5d9b4",
            "cell_type": "code",
            "metadata": {},
            "execution_count": null,
            "source": "plt.plot(x, y, 'o', label='original data')\nplt.plot(x, res.intercept + res.slope*x, 'r', label='fitted line')\nplt.legend()\nplt.show()",
            "outputs": []
        },
        {
            "id": "742e31a5",
            "cell_type": "markdown",
            "source": "Calculate 95% confidence interval on slope and intercept:\n",
            "metadata": {}
        },
        {
            "id": "9c2d9cf3",
            "cell_type": "code",
            "metadata": {},
            "execution_count": null,
            "source": "# Two-sided inverse Students t-distribution\n# p - probability, df - degrees of freedom\nfrom scipy.stats import t\ntinv = lambda p, df: abs(t.ppf(p/2, df))",
            "outputs": []
        },
        {
            "id": "0395d9d4",
            "cell_type": "code",
            "metadata": {},
            "execution_count": null,
            "source": "ts = tinv(0.05, len(x)-2)\nprint(f\"slope (95%): {res.slope:.6f} +/- {ts*res.stderr:.6f}\")",
            "outputs": [
                {
                    "output_type": "execute_result",
                    "metadata": {},
                    "data": {
                        "text/plain": "slope (95%): 1.453392 +/- 0.743465"
                    },
                    "execution_count": null
                }
            ]
        },
        {
            "id": "160fbcc9",
            "cell_type": "code",
            "metadata": {},
            "execution_count": null,
            "source": "print(f\"intercept (95%): {res.intercept:.6f}\"\n      f\" +/- {ts*res.intercept_stderr:.6f}\")",
            "outputs": [
                {
                    "output_type": "execute_result",
                    "metadata": {},
                    "data": {
                        "text/plain": "intercept (95%): 0.616950 +/- 0.544475"
                    },
                    "execution_count": null
                }
            ]
        }
    ]
}