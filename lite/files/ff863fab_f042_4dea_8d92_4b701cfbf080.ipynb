{
    "nbformat": 4,
    "nbformat_minor": 5,
    "metadata": {
        "kernelspec": {
            "display_name": "Python",
            "language": "python",
            "name": "python"
        },
        "language_info": {
            "name": "python"
        }
    },
    "cells": [
        {
            "id": "1c955512",
            "cell_type": "markdown",
            "source": "<div class='alert alert-warning'>\n\nSciPy's interactive examples with Jupyterlite are experimental and may not always work as expected. Execution of cells containing imports may result in large downloads (up to 60MB of content for the first import from SciPy). Load times when importing from SciPy may take roughly 10-20 seconds. If you notice any problems, feel free to open an [issue](https://github.com/scipy/scipy/issues/new/choose).\n\n</div>",
            "metadata": {}
        },
        {
            "id": "7f69c74a",
            "cell_type": "markdown",
            "source": "Find the geometric standard deviation of a log-normally distributed sample.\nNote that the standard deviation of the distribution is one, on a\nlog scale this evaluates to approximately ``exp(1)``.\n",
            "metadata": {}
        },
        {
            "id": "55e920fd",
            "cell_type": "code",
            "metadata": {},
            "execution_count": null,
            "source": "import numpy as np\nfrom scipy.stats import gstd\nrng = np.random.default_rng()\nsample = rng.lognormal(mean=0, sigma=1, size=1000)\ngstd(sample)",
            "outputs": [
                {
                    "output_type": "execute_result",
                    "metadata": {},
                    "data": {
                        "text/plain": "2.810010162475324"
                    },
                    "execution_count": null
                }
            ]
        },
        {
            "id": "1ae6dd15",
            "cell_type": "markdown",
            "source": "Compute the geometric standard deviation of a multidimensional array and\nof a given axis.\n",
            "metadata": {}
        },
        {
            "id": "95a7c8d3",
            "cell_type": "code",
            "metadata": {},
            "execution_count": null,
            "source": "a = np.arange(1, 25).reshape(2, 3, 4)\ngstd(a, axis=None)",
            "outputs": [
                {
                    "output_type": "execute_result",
                    "metadata": {},
                    "data": {
                        "text/plain": "2.2944076136018947"
                    },
                    "execution_count": null
                }
            ]
        },
        {
            "id": "8c846972",
            "cell_type": "code",
            "metadata": {},
            "execution_count": null,
            "source": "gstd(a, axis=2)",
            "outputs": [
                {
                    "output_type": "execute_result",
                    "metadata": {},
                    "data": {
                        "text/plain": "array([[1.82424757, 1.22436866, 1.13183117],\n       [1.09348306, 1.07244798, 1.05914985]])"
                    },
                    "execution_count": null
                }
            ]
        },
        {
            "id": "e2f2edef",
            "cell_type": "code",
            "metadata": {},
            "execution_count": null,
            "source": "gstd(a, axis=(1,2))",
            "outputs": [
                {
                    "output_type": "execute_result",
                    "metadata": {},
                    "data": {
                        "text/plain": "array([2.12939215, 1.22120169])"
                    },
                    "execution_count": null
                }
            ]
        },
        {
            "id": "90f56628",
            "cell_type": "markdown",
            "source": "The geometric standard deviation further handles masked arrays.\n",
            "metadata": {}
        },
        {
            "id": "e8926ddb",
            "cell_type": "code",
            "metadata": {},
            "execution_count": null,
            "source": "a = np.arange(1, 25).reshape(2, 3, 4)\nma = np.ma.masked_where(a > 16, a)\nma",
            "outputs": [
                {
                    "output_type": "execute_result",
                    "metadata": {},
                    "data": {
                        "text/plain": "masked_array(\n  data=[[[1, 2, 3, 4],\n         [5, 6, 7, 8],\n         [9, 10, 11, 12]],\n        [[13, 14, 15, 16],\n         [--, --, --, --],\n         [--, --, --, --]]],\n  mask=[[[False, False, False, False],\n         [False, False, False, False],\n         [False, False, False, False]],\n        [[False, False, False, False],\n         [ True,  True,  True,  True],\n         [ True,  True,  True,  True]]],\n  fill_value=999999)"
                    },
                    "execution_count": null
                }
            ]
        },
        {
            "id": "b415cb87",
            "cell_type": "code",
            "metadata": {},
            "execution_count": null,
            "source": "gstd(ma, axis=2)",
            "outputs": [
                {
                    "output_type": "execute_result",
                    "metadata": {},
                    "data": {
                        "text/plain": "masked_array(\n  data=[[1.8242475707663655, 1.2243686572447428, 1.1318311657788478],\n        [1.0934830582350938, --, --]],\n  mask=[[False, False, False],\n        [False,  True,  True]],\n  fill_value=999999)"
                    },
                    "execution_count": null
                }
            ]
        }
    ]
}