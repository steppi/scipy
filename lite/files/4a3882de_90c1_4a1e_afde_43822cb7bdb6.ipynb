{
    "nbformat": 4,
    "nbformat_minor": 5,
    "metadata": {
        "kernelspec": {
            "display_name": "Python",
            "language": "python",
            "name": "python"
        },
        "language_info": {
            "name": "python"
        }
    },
    "cells": [
        {
            "id": "a487573b",
            "cell_type": "markdown",
            "source": "<div class='alert alert-warning'>\n\nSciPy's interactive examples with Jupyterlite are experimental and may not always work as expected. Execution of cells containing imports may result in large downloads (up to 60MB of content for the first import from SciPy). Load times when importing from SciPy may take roughly 10-20 seconds. If you notice any problems, feel free to open an [issue](https://github.com/scipy/scipy/issues/new/choose).\n\n</div>",
            "metadata": {}
        },
        {
            "id": "cef6a9a6",
            "cell_type": "markdown",
            "source": "We can fit an input data using orthogonal distance regression (ODR) with\na polynomial model:\n",
            "metadata": {}
        },
        {
            "id": "0770a213",
            "cell_type": "code",
            "metadata": {},
            "execution_count": null,
            "source": "import numpy as np\nimport matplotlib.pyplot as plt\nfrom scipy import odr\nx = np.linspace(0.0, 5.0)\ny = np.sin(x)\npoly_model = odr.polynomial(3)  # using third order polynomial model\ndata = odr.Data(x, y)\nodr_obj = odr.ODR(data, poly_model)\noutput = odr_obj.run()  # running ODR fitting\npoly = np.poly1d(output.beta[::-1])\npoly_y = poly(x)\nplt.plot(x, y, label=\"input data\")\nplt.plot(x, poly_y, label=\"polynomial ODR\")\nplt.legend()\nplt.show()",
            "outputs": []
        }
    ]
}