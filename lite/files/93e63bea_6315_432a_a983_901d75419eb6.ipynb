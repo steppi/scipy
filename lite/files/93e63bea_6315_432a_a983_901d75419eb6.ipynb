{
    "nbformat": 4,
    "nbformat_minor": 5,
    "metadata": {
        "kernelspec": {
            "display_name": "Python",
            "language": "python",
            "name": "python"
        },
        "language_info": {
            "name": "python"
        }
    },
    "cells": [
        {
            "id": "66238b2a",
            "cell_type": "markdown",
            "source": "<div class='alert alert-warning'>\n\nSciPy's interactive examples with Jupyterlite are experimental and may not always work as expected. Execution of cells containing imports may result in large downloads (up to 60MB of content for the first import from SciPy). Load times when importing from SciPy may take roughly 10-20 seconds. If you notice any problems, feel free to open an [issue](https://github.com/scipy/scipy/issues/new/choose).\n\n</div>",
            "metadata": {}
        },
        {
            "id": "a95431b0",
            "cell_type": "markdown",
            "source": "Integrate a gaussian from 0 to 1 and compare to the error function.\n",
            "metadata": {}
        },
        {
            "id": "71dd64d3",
            "cell_type": "code",
            "metadata": {},
            "execution_count": null,
            "source": "from scipy import integrate\nfrom scipy.special import erf\nimport numpy as np\ngaussian = lambda x: 1/np.sqrt(np.pi) * np.exp(-x**2)\nresult = integrate.romberg(gaussian, 0, 1, show=True)",
            "outputs": [
                {
                    "output_type": "execute_result",
                    "metadata": {},
                    "data": {
                        "text/plain": "Romberg integration of <function vfunc at ...> from [0, 1]"
                    },
                    "execution_count": null
                }
            ]
        },
        {
            "id": "2644ad14",
            "cell_type": "markdown",
            "source": "```\n\nSteps  StepSize  Results\n1  1.000000  0.385872\n2  0.500000  0.412631  0.421551\n4  0.250000  0.419184  0.421368  0.421356\n8  0.125000  0.420810  0.421352  0.421350  0.421350\n16  0.062500  0.421215  0.421350  0.421350  0.421350  0.421350\n32  0.031250  0.421317  0.421350  0.421350  0.421350  0.421350  0.421350\n\n```\nThe final result is 0.421350396475 after 33 function evaluations.\n",
            "metadata": {}
        },
        {
            "id": "74cd908f",
            "cell_type": "code",
            "metadata": {},
            "execution_count": null,
            "source": "print(\"%g %g\" % (2*result, erf(1)))",
            "outputs": [
                {
                    "output_type": "execute_result",
                    "metadata": {},
                    "data": {
                        "text/plain": "0.842701 0.842701"
                    },
                    "execution_count": null
                }
            ]
        }
    ]
}