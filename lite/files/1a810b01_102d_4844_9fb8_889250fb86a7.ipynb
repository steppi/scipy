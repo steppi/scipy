{
    "nbformat": 4,
    "nbformat_minor": 5,
    "metadata": {
        "kernelspec": {
            "display_name": "Python",
            "language": "python",
            "name": "python"
        },
        "language_info": {
            "name": "python"
        }
    },
    "cells": [
        {
            "id": "6514e5ac",
            "cell_type": "markdown",
            "source": "<div class='alert alert-warning'>\n\nSciPy's interactive examples with Jupyterlite are experimental and may not always work as expected. Execution of cells containing imports may result in large downloads (up to 60MB of content for the first import from SciPy). Load times when importing from SciPy may take roughly 10-20 seconds. If you notice any problems, feel free to open an [issue](https://github.com/scipy/scipy/issues/new/choose).\n\n</div>",
            "metadata": {}
        },
        {
            "id": "971120f8",
            "cell_type": "markdown",
            "source": "Comparison of ``method=\"akima\"`` and ``method=\"makima\"``:\n",
            "metadata": {}
        },
        {
            "id": "8b134147",
            "cell_type": "code",
            "metadata": {},
            "execution_count": null,
            "source": "import numpy as np\nfrom scipy.interpolate import Akima1DInterpolator\nimport matplotlib.pyplot as plt\nx = np.linspace(1, 7, 7)\ny = np.array([-1, -1, -1, 0, 1, 1, 1])\nxs = np.linspace(min(x), max(x), num=100)\ny_akima = Akima1DInterpolator(x, y, method=\"akima\")(xs)\ny_makima = Akima1DInterpolator(x, y, method=\"makima\")(xs)",
            "outputs": []
        },
        {
            "id": "fc661c33",
            "cell_type": "code",
            "metadata": {},
            "execution_count": null,
            "source": "fig, ax = plt.subplots()\nax.plot(x, y, \"o\", label=\"data\")\nax.plot(xs, y_akima, label=\"akima\")\nax.plot(xs, y_makima, label=\"makima\")\nax.legend()\nfig.show()",
            "outputs": []
        },
        {
            "id": "051785ed",
            "cell_type": "markdown",
            "source": "The overshoot that occured in ``\"akima\"`` has been avoided in ``\"makima\"``.\n",
            "metadata": {}
        }
    ]
}