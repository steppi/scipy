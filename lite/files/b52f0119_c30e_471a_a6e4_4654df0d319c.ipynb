{
    "nbformat": 4,
    "nbformat_minor": 5,
    "metadata": {
        "kernelspec": {
            "display_name": "Python",
            "language": "python",
            "name": "python"
        },
        "language_info": {
            "name": "python"
        }
    },
    "cells": [
        {
            "id": "8bc83d74",
            "cell_type": "markdown",
            "source": "<div class='alert alert-warning'>\n\nSciPy's interactive examples with Jupyterlite are experimental and may not always work as expected. Execution of cells containing imports may result in large downloads (up to 60MB of content for the first import from SciPy). Load times when importing from SciPy may take roughly 10-20 seconds. If you notice any problems, feel free to open an [issue](https://github.com/scipy/scipy/issues/new/choose).\n\n</div>",
            "metadata": {}
        },
        {
            "id": "31833a06",
            "cell_type": "code",
            "metadata": {},
            "execution_count": null,
            "source": "import numpy as np\nfrom scipy.sparse.linalg import LaplacianNd\nfrom scipy.sparse import diags, csgraph\nfrom scipy.linalg import eigvalsh",
            "outputs": []
        },
        {
            "id": "f20a41e3",
            "cell_type": "markdown",
            "source": "The one-dimensional Laplacian demonstrated below for pure Neumann boundary\nconditions on a regular grid with ``n=6`` grid points is exactly the\nnegative graph Laplacian for the undirected linear graph with ``n``\nvertices using the sparse adjacency matrix ``G`` represented by the\nfamous tri-diagonal matrix:\n",
            "metadata": {}
        },
        {
            "id": "b6b431d4",
            "cell_type": "code",
            "metadata": {},
            "execution_count": null,
            "source": "n = 6\nG = diags(np.ones(n - 1), 1, format='csr')\nLf = csgraph.laplacian(G, symmetrized=True, form='function')\ngrid_shape = (n, )\nlap = LaplacianNd(grid_shape, boundary_conditions='neumann')\nnp.array_equal(lap.matmat(np.eye(n)), -Lf(np.eye(n)))",
            "outputs": [
                {
                    "output_type": "execute_result",
                    "metadata": {},
                    "data": {
                        "text/plain": "True"
                    },
                    "execution_count": null
                }
            ]
        },
        {
            "id": "d11eafe4",
            "cell_type": "markdown",
            "source": "Since all matrix entries of the Laplacian are integers, ``'int8'`` is\nthe default dtype for storing matrix representations.\n",
            "metadata": {}
        },
        {
            "id": "93f3e5af",
            "cell_type": "code",
            "metadata": {},
            "execution_count": null,
            "source": "lap.tosparse()",
            "outputs": [
                {
                    "output_type": "execute_result",
                    "metadata": {},
                    "data": {
                        "text/plain": "<6x6 sparse array of type '<class 'numpy.int8'>'\n    with 16 stored elements (3 diagonals) in DIAgonal format>"
                    },
                    "execution_count": null
                }
            ]
        },
        {
            "id": "da05b77d",
            "cell_type": "code",
            "metadata": {},
            "execution_count": null,
            "source": "lap.toarray()",
            "outputs": [
                {
                    "output_type": "execute_result",
                    "metadata": {},
                    "data": {
                        "text/plain": "array([[-1,  1,  0,  0,  0,  0],\n       [ 1, -2,  1,  0,  0,  0],\n       [ 0,  1, -2,  1,  0,  0],\n       [ 0,  0,  1, -2,  1,  0],\n       [ 0,  0,  0,  1, -2,  1],\n       [ 0,  0,  0,  0,  1, -1]], dtype=int8)"
                    },
                    "execution_count": null
                }
            ]
        },
        {
            "id": "55064a46",
            "cell_type": "code",
            "metadata": {},
            "execution_count": null,
            "source": "np.array_equal(lap.matmat(np.eye(n)), lap.toarray())",
            "outputs": [
                {
                    "output_type": "execute_result",
                    "metadata": {},
                    "data": {
                        "text/plain": "True"
                    },
                    "execution_count": null
                }
            ]
        },
        {
            "id": "5372109a",
            "cell_type": "code",
            "metadata": {},
            "execution_count": null,
            "source": "np.array_equal(lap.tosparse().toarray(), lap.toarray())",
            "outputs": [
                {
                    "output_type": "execute_result",
                    "metadata": {},
                    "data": {
                        "text/plain": "True"
                    },
                    "execution_count": null
                }
            ]
        },
        {
            "id": "a82eaaf4",
            "cell_type": "markdown",
            "source": "Any number of extreme eigenvalues and/or eigenvectors can be computed.\n",
            "metadata": {}
        },
        {
            "id": "b592508b",
            "cell_type": "code",
            "metadata": {},
            "execution_count": null,
            "source": "lap = LaplacianNd(grid_shape, boundary_conditions='periodic')\nlap.eigenvalues()",
            "outputs": [
                {
                    "output_type": "execute_result",
                    "metadata": {},
                    "data": {
                        "text/plain": "array([-4., -3., -3., -1., -1.,  0.])"
                    },
                    "execution_count": null
                }
            ]
        },
        {
            "id": "dc94ad43",
            "cell_type": "code",
            "metadata": {},
            "execution_count": null,
            "source": "lap.eigenvalues()[-2:]",
            "outputs": [
                {
                    "output_type": "execute_result",
                    "metadata": {},
                    "data": {
                        "text/plain": "array([-1.,  0.])"
                    },
                    "execution_count": null
                }
            ]
        },
        {
            "id": "d661b685",
            "cell_type": "code",
            "metadata": {},
            "execution_count": null,
            "source": "lap.eigenvalues(2)",
            "outputs": [
                {
                    "output_type": "execute_result",
                    "metadata": {},
                    "data": {
                        "text/plain": "array([-1.,  0.])"
                    },
                    "execution_count": null
                }
            ]
        },
        {
            "id": "a9aad238",
            "cell_type": "code",
            "metadata": {},
            "execution_count": null,
            "source": "lap.eigenvectors(1)",
            "outputs": [
                {
                    "output_type": "execute_result",
                    "metadata": {},
                    "data": {
                        "text/plain": "array([[0.40824829],\n       [0.40824829],\n       [0.40824829],\n       [0.40824829],\n       [0.40824829],\n       [0.40824829]])"
                    },
                    "execution_count": null
                }
            ]
        },
        {
            "id": "3609acca",
            "cell_type": "code",
            "metadata": {},
            "execution_count": null,
            "source": "lap.eigenvectors(2)",
            "outputs": [
                {
                    "output_type": "execute_result",
                    "metadata": {},
                    "data": {
                        "text/plain": "array([[ 0.5       ,  0.40824829],\n       [ 0.        ,  0.40824829],\n       [-0.5       ,  0.40824829],\n       [-0.5       ,  0.40824829],\n       [ 0.        ,  0.40824829],\n       [ 0.5       ,  0.40824829]])"
                    },
                    "execution_count": null
                }
            ]
        },
        {
            "id": "7d8ff895",
            "cell_type": "code",
            "metadata": {},
            "execution_count": null,
            "source": "lap.eigenvectors()",
            "outputs": [
                {
                    "output_type": "execute_result",
                    "metadata": {},
                    "data": {
                        "text/plain": "array([[ 0.40824829,  0.28867513,  0.28867513,  0.5       ,  0.5       ,\n         0.40824829],\n       [-0.40824829, -0.57735027, -0.57735027,  0.        ,  0.        ,\n         0.40824829],\n       [ 0.40824829,  0.28867513,  0.28867513, -0.5       , -0.5       ,\n         0.40824829],\n       [-0.40824829,  0.28867513,  0.28867513, -0.5       , -0.5       ,\n         0.40824829],\n       [ 0.40824829, -0.57735027, -0.57735027,  0.        ,  0.        ,\n         0.40824829],\n       [-0.40824829,  0.28867513,  0.28867513,  0.5       ,  0.5       ,\n         0.40824829]])"
                    },
                    "execution_count": null
                }
            ]
        },
        {
            "id": "0cb96403",
            "cell_type": "markdown",
            "source": "The two-dimensional Laplacian is illustrated on a regular grid with\n``grid_shape = (2, 3)`` points in each dimension.\n",
            "metadata": {}
        },
        {
            "id": "1e25a0df",
            "cell_type": "code",
            "metadata": {},
            "execution_count": null,
            "source": "grid_shape = (2, 3)\nn = np.prod(grid_shape)",
            "outputs": []
        },
        {
            "id": "f15f88a9",
            "cell_type": "markdown",
            "source": "Numeration of grid points is as follows:\n",
            "metadata": {}
        },
        {
            "id": "385107f6",
            "cell_type": "code",
            "metadata": {},
            "execution_count": null,
            "source": "np.arange(n).reshape(grid_shape + (-1,))",
            "outputs": [
                {
                    "output_type": "execute_result",
                    "metadata": {},
                    "data": {
                        "text/plain": "array([[[0],\n        [1],\n        [2]],\n<BLANKLINE>\n       [[3],\n        [4],\n        [5]]])"
                    },
                    "execution_count": null
                }
            ]
        },
        {
            "id": "42e5b39b",
            "cell_type": "markdown",
            "source": "Each of the boundary conditions ``'dirichlet'``, ``'periodic'``, and\n``'neumann'`` is illustrated separately; with ``'dirichlet'``\n",
            "metadata": {}
        },
        {
            "id": "bedfb533",
            "cell_type": "code",
            "metadata": {},
            "execution_count": null,
            "source": "lap = LaplacianNd(grid_shape, boundary_conditions='dirichlet')\nlap.tosparse()",
            "outputs": [
                {
                    "output_type": "execute_result",
                    "metadata": {},
                    "data": {
                        "text/plain": "<6x6 sparse array of type '<class 'numpy.int8'>'\n    with 20 stored elements in Compressed Sparse Row format>"
                    },
                    "execution_count": null
                }
            ]
        },
        {
            "id": "d4117143",
            "cell_type": "code",
            "metadata": {},
            "execution_count": null,
            "source": "lap.toarray()",
            "outputs": [
                {
                    "output_type": "execute_result",
                    "metadata": {},
                    "data": {
                        "text/plain": "array([[-4,  1,  0,  1,  0,  0],\n       [ 1, -4,  1,  0,  1,  0],\n       [ 0,  1, -4,  0,  0,  1],\n       [ 1,  0,  0, -4,  1,  0],\n       [ 0,  1,  0,  1, -4,  1],\n       [ 0,  0,  1,  0,  1, -4]], dtype=int8)"
                    },
                    "execution_count": null
                }
            ]
        },
        {
            "id": "20275efc",
            "cell_type": "code",
            "metadata": {},
            "execution_count": null,
            "source": "np.array_equal(lap.matmat(np.eye(n)), lap.toarray())",
            "outputs": [
                {
                    "output_type": "execute_result",
                    "metadata": {},
                    "data": {
                        "text/plain": "True"
                    },
                    "execution_count": null
                }
            ]
        },
        {
            "id": "3da516cb",
            "cell_type": "code",
            "metadata": {},
            "execution_count": null,
            "source": "np.array_equal(lap.tosparse().toarray(), lap.toarray())",
            "outputs": [
                {
                    "output_type": "execute_result",
                    "metadata": {},
                    "data": {
                        "text/plain": "True"
                    },
                    "execution_count": null
                }
            ]
        },
        {
            "id": "21aa17ee",
            "cell_type": "code",
            "metadata": {},
            "execution_count": null,
            "source": "lap.eigenvalues()",
            "outputs": [
                {
                    "output_type": "execute_result",
                    "metadata": {},
                    "data": {
                        "text/plain": "array([-6.41421356, -5.        , -4.41421356, -3.58578644, -3.        ,\n       -1.58578644])"
                    },
                    "execution_count": null
                }
            ]
        },
        {
            "id": "478f78bb",
            "cell_type": "code",
            "metadata": {},
            "execution_count": null,
            "source": "eigvals = eigvalsh(lap.toarray().astype(np.float64))\nnp.allclose(lap.eigenvalues(), eigvals)",
            "outputs": [
                {
                    "output_type": "execute_result",
                    "metadata": {},
                    "data": {
                        "text/plain": "True"
                    },
                    "execution_count": null
                }
            ]
        },
        {
            "id": "3f3a2747",
            "cell_type": "code",
            "metadata": {},
            "execution_count": null,
            "source": "np.allclose(lap.toarray() @ lap.eigenvectors(),\n            lap.eigenvectors() @ np.diag(lap.eigenvalues()))",
            "outputs": [
                {
                    "output_type": "execute_result",
                    "metadata": {},
                    "data": {
                        "text/plain": "True"
                    },
                    "execution_count": null
                }
            ]
        },
        {
            "id": "e2658efb",
            "cell_type": "markdown",
            "source": "with ``'periodic'``\n",
            "metadata": {}
        },
        {
            "id": "fd4a6df4",
            "cell_type": "code",
            "metadata": {},
            "execution_count": null,
            "source": "lap = LaplacianNd(grid_shape, boundary_conditions='periodic')\nlap.tosparse()",
            "outputs": [
                {
                    "output_type": "execute_result",
                    "metadata": {},
                    "data": {
                        "text/plain": "<6x6 sparse array of type '<class 'numpy.int8'>'\n    with 24 stored elements in Compressed Sparse Row format>"
                    },
                    "execution_count": null
                }
            ]
        },
        {
            "id": "c4bbb28c",
            "cell_type": "code",
            "metadata": {},
            "execution_count": null,
            "source": "lap.toarray()",
            "outputs": [
                {
                    "output_type": "execute_result",
                    "metadata": {},
                    "data": {
                        "text/plain": "    array([[-4,  1,  1,  2,  0,  0],\n           [ 1, -4,  1,  0,  2,  0],\n           [ 1,  1, -4,  0,  0,  2],\n           [ 2,  0,  0, -4,  1,  1],\n           [ 0,  2,  0,  1, -4,  1],\n           [ 0,  0,  2,  1,  1, -4]], dtype=int8)"
                    },
                    "execution_count": null
                }
            ]
        },
        {
            "id": "1c6b1c6d",
            "cell_type": "code",
            "metadata": {},
            "execution_count": null,
            "source": "np.array_equal(lap.matmat(np.eye(n)), lap.toarray())",
            "outputs": [
                {
                    "output_type": "execute_result",
                    "metadata": {},
                    "data": {
                        "text/plain": "True"
                    },
                    "execution_count": null
                }
            ]
        },
        {
            "id": "16a1c8e3",
            "cell_type": "code",
            "metadata": {},
            "execution_count": null,
            "source": "np.array_equal(lap.tosparse().toarray(), lap.toarray())",
            "outputs": [
                {
                    "output_type": "execute_result",
                    "metadata": {},
                    "data": {
                        "text/plain": "True"
                    },
                    "execution_count": null
                }
            ]
        },
        {
            "id": "9158442c",
            "cell_type": "code",
            "metadata": {},
            "execution_count": null,
            "source": "lap.eigenvalues()",
            "outputs": [
                {
                    "output_type": "execute_result",
                    "metadata": {},
                    "data": {
                        "text/plain": "array([-7., -7., -4., -3., -3.,  0.])"
                    },
                    "execution_count": null
                }
            ]
        },
        {
            "id": "d15bc8cd",
            "cell_type": "code",
            "metadata": {},
            "execution_count": null,
            "source": "eigvals = eigvalsh(lap.toarray().astype(np.float64))\nnp.allclose(lap.eigenvalues(), eigvals)",
            "outputs": [
                {
                    "output_type": "execute_result",
                    "metadata": {},
                    "data": {
                        "text/plain": "True"
                    },
                    "execution_count": null
                }
            ]
        },
        {
            "id": "08cb01af",
            "cell_type": "code",
            "metadata": {},
            "execution_count": null,
            "source": "np.allclose(lap.toarray() @ lap.eigenvectors(),\n            lap.eigenvectors() @ np.diag(lap.eigenvalues()))",
            "outputs": [
                {
                    "output_type": "execute_result",
                    "metadata": {},
                    "data": {
                        "text/plain": "True"
                    },
                    "execution_count": null
                }
            ]
        },
        {
            "id": "94fd5d18",
            "cell_type": "markdown",
            "source": "and with ``'neumann'``\n",
            "metadata": {}
        },
        {
            "id": "f35ff6b4",
            "cell_type": "code",
            "metadata": {},
            "execution_count": null,
            "source": "lap = LaplacianNd(grid_shape, boundary_conditions='neumann')\nlap.tosparse()",
            "outputs": [
                {
                    "output_type": "execute_result",
                    "metadata": {},
                    "data": {
                        "text/plain": "<6x6 sparse array of type '<class 'numpy.int8'>'\n    with 20 stored elements in Compressed Sparse Row format>"
                    },
                    "execution_count": null
                }
            ]
        },
        {
            "id": "d505b721",
            "cell_type": "code",
            "metadata": {},
            "execution_count": null,
            "source": "lap.toarray()",
            "outputs": [
                {
                    "output_type": "execute_result",
                    "metadata": {},
                    "data": {
                        "text/plain": "array([[-2,  1,  0,  1,  0,  0],\n       [ 1, -3,  1,  0,  1,  0],\n       [ 0,  1, -2,  0,  0,  1],\n       [ 1,  0,  0, -2,  1,  0],\n       [ 0,  1,  0,  1, -3,  1],\n       [ 0,  0,  1,  0,  1, -2]])"
                    },
                    "execution_count": null
                }
            ]
        },
        {
            "id": "2a621050",
            "cell_type": "code",
            "metadata": {},
            "execution_count": null,
            "source": "np.array_equal(lap.matmat(np.eye(n)), lap.toarray())",
            "outputs": [
                {
                    "output_type": "execute_result",
                    "metadata": {},
                    "data": {
                        "text/plain": "True"
                    },
                    "execution_count": null
                }
            ]
        },
        {
            "id": "ab0d2112",
            "cell_type": "code",
            "metadata": {},
            "execution_count": null,
            "source": "np.array_equal(lap.tosparse().toarray(), lap.toarray())",
            "outputs": [
                {
                    "output_type": "execute_result",
                    "metadata": {},
                    "data": {
                        "text/plain": "True"
                    },
                    "execution_count": null
                }
            ]
        },
        {
            "id": "35bf1637",
            "cell_type": "code",
            "metadata": {},
            "execution_count": null,
            "source": "lap.eigenvalues()",
            "outputs": [
                {
                    "output_type": "execute_result",
                    "metadata": {},
                    "data": {
                        "text/plain": "array([-5., -3., -3., -2., -1.,  0.])"
                    },
                    "execution_count": null
                }
            ]
        },
        {
            "id": "a1fbac22",
            "cell_type": "code",
            "metadata": {},
            "execution_count": null,
            "source": "eigvals = eigvalsh(lap.toarray().astype(np.float64))\nnp.allclose(lap.eigenvalues(), eigvals)",
            "outputs": [
                {
                    "output_type": "execute_result",
                    "metadata": {},
                    "data": {
                        "text/plain": "True"
                    },
                    "execution_count": null
                }
            ]
        },
        {
            "id": "ea837e14",
            "cell_type": "code",
            "metadata": {},
            "execution_count": null,
            "source": "np.allclose(lap.toarray() @ lap.eigenvectors(),\n            lap.eigenvectors() @ np.diag(lap.eigenvalues()))",
            "outputs": [
                {
                    "output_type": "execute_result",
                    "metadata": {},
                    "data": {
                        "text/plain": "True"
                    },
                    "execution_count": null
                }
            ]
        }
    ]
}