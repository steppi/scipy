{
    "nbformat": 4,
    "nbformat_minor": 5,
    "metadata": {
        "kernelspec": {
            "display_name": "Python",
            "language": "python",
            "name": "python"
        },
        "language_info": {
            "name": "python"
        }
    },
    "cells": [
        {
            "id": "3a7162c4",
            "cell_type": "markdown",
            "source": "<div class='alert alert-warning'>\n\nSciPy's interactive examples with Jupyterlite are experimental and may not always work as expected. Execution of cells containing imports may result in large downloads (up to 60MB of content for the first import from SciPy). Load times when importing from SciPy may take roughly 10-20 seconds. If you notice any problems, feel free to open an [issue](https://github.com/scipy/scipy/issues/new/choose).\n\n</div>",
            "metadata": {}
        },
        {
            "id": "66532f21",
            "cell_type": "markdown",
            "source": "Find the root of a simple cubic\n",
            "metadata": {}
        },
        {
            "id": "8ad2246c",
            "cell_type": "code",
            "metadata": {},
            "execution_count": null,
            "source": "from scipy import optimize\ndef f(x):\n    return (x**3 - 1)  # only one real root at x = 1",
            "outputs": []
        },
        {
            "id": "c7622cc6",
            "cell_type": "code",
            "metadata": {},
            "execution_count": null,
            "source": "def fprime(x):\n    return 3*x**2",
            "outputs": []
        },
        {
            "id": "11f19592",
            "cell_type": "markdown",
            "source": "The `brentq` method takes as input a bracket\n",
            "metadata": {}
        },
        {
            "id": "9e413ddc",
            "cell_type": "code",
            "metadata": {},
            "execution_count": null,
            "source": "sol = optimize.root_scalar(f, bracket=[0, 3], method='brentq')\nsol.root, sol.iterations, sol.function_calls",
            "outputs": [
                {
                    "output_type": "execute_result",
                    "metadata": {},
                    "data": {
                        "text/plain": "(1.0, 10, 11)"
                    },
                    "execution_count": null
                }
            ]
        },
        {
            "id": "8fdf07ab",
            "cell_type": "markdown",
            "source": "The `newton` method takes as input a single point and uses the\nderivative(s).\n",
            "metadata": {}
        },
        {
            "id": "4943867b",
            "cell_type": "code",
            "metadata": {},
            "execution_count": null,
            "source": "sol = optimize.root_scalar(f, x0=0.2, fprime=fprime, method='newton')\nsol.root, sol.iterations, sol.function_calls",
            "outputs": [
                {
                    "output_type": "execute_result",
                    "metadata": {},
                    "data": {
                        "text/plain": "(1.0, 11, 22)"
                    },
                    "execution_count": null
                }
            ]
        },
        {
            "id": "7c7f9d04",
            "cell_type": "markdown",
            "source": "The function can provide the value and derivative(s) in a single call.\n",
            "metadata": {}
        },
        {
            "id": "f310d8ed",
            "cell_type": "code",
            "metadata": {},
            "execution_count": null,
            "source": "def f_p_pp(x):\n    return (x**3 - 1), 3*x**2, 6*x",
            "outputs": []
        },
        {
            "id": "94fd6e39",
            "cell_type": "code",
            "metadata": {},
            "execution_count": null,
            "source": "sol = optimize.root_scalar(\n    f_p_pp, x0=0.2, fprime=True, method='newton'\n)\nsol.root, sol.iterations, sol.function_calls",
            "outputs": [
                {
                    "output_type": "execute_result",
                    "metadata": {},
                    "data": {
                        "text/plain": "(1.0, 11, 11)"
                    },
                    "execution_count": null
                }
            ]
        },
        {
            "id": "5a4a0753",
            "cell_type": "code",
            "metadata": {},
            "execution_count": null,
            "source": "sol = optimize.root_scalar(\n    f_p_pp, x0=0.2, fprime=True, fprime2=True, method='halley'\n)\nsol.root, sol.iterations, sol.function_calls",
            "outputs": [
                {
                    "output_type": "execute_result",
                    "metadata": {},
                    "data": {
                        "text/plain": "(1.0, 7, 8)"
                    },
                    "execution_count": null
                }
            ]
        }
    ]
}