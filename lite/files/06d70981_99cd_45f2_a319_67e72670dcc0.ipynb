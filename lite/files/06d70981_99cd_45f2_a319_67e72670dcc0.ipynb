{
    "nbformat": 4,
    "nbformat_minor": 5,
    "metadata": {
        "kernelspec": {
            "display_name": "Python",
            "language": "python",
            "name": "python"
        },
        "language_info": {
            "name": "python"
        }
    },
    "cells": [
        {
            "id": "fe773017",
            "cell_type": "markdown",
            "source": "<div class='alert alert-warning'>\n\nSciPy's interactive examples with Jupyterlite are experimental and may not always work as expected. Execution of cells containing imports may result in large downloads (up to 60MB of content for the first import from SciPy). Load times when importing from SciPy may take roughly 10-20 seconds. If you notice any problems, feel free to open an [issue](https://github.com/scipy/scipy/issues/new/choose).\n\n</div>",
            "metadata": {}
        },
        {
            "id": "13a22b5e",
            "cell_type": "code",
            "metadata": {},
            "execution_count": null,
            "source": "from scipy.sparse import csr_array, triu\nA = csr_array([[1, 2, 0, 0, 3], [4, 5, 0, 6, 7], [0, 0, 8, 9, 0]],\n               dtype='int32')\nA.toarray()",
            "outputs": [
                {
                    "output_type": "execute_result",
                    "metadata": {},
                    "data": {
                        "text/plain": "array([[1, 2, 0, 0, 3],\n       [4, 5, 0, 6, 7],\n       [0, 0, 8, 9, 0]])"
                    },
                    "execution_count": null
                }
            ]
        },
        {
            "id": "13a4313b",
            "cell_type": "code",
            "metadata": {},
            "execution_count": null,
            "source": "triu(A).toarray()",
            "outputs": [
                {
                    "output_type": "execute_result",
                    "metadata": {},
                    "data": {
                        "text/plain": "array([[1, 2, 0, 0, 3],\n       [0, 5, 0, 6, 7],\n       [0, 0, 8, 9, 0]])"
                    },
                    "execution_count": null
                }
            ]
        },
        {
            "id": "cb1b5b3d",
            "cell_type": "code",
            "metadata": {},
            "execution_count": null,
            "source": "triu(A).nnz",
            "outputs": [
                {
                    "output_type": "execute_result",
                    "metadata": {},
                    "data": {
                        "text/plain": "8"
                    },
                    "execution_count": null
                }
            ]
        },
        {
            "id": "ba785412",
            "cell_type": "code",
            "metadata": {},
            "execution_count": null,
            "source": "triu(A, k=1).toarray()",
            "outputs": [
                {
                    "output_type": "execute_result",
                    "metadata": {},
                    "data": {
                        "text/plain": "array([[0, 2, 0, 0, 3],\n       [0, 0, 0, 6, 7],\n       [0, 0, 0, 9, 0]])"
                    },
                    "execution_count": null
                }
            ]
        },
        {
            "id": "813bd14c",
            "cell_type": "code",
            "metadata": {},
            "execution_count": null,
            "source": "triu(A, k=-1).toarray()",
            "outputs": [
                {
                    "output_type": "execute_result",
                    "metadata": {},
                    "data": {
                        "text/plain": "array([[1, 2, 0, 0, 3],\n       [4, 5, 0, 6, 7],\n       [0, 0, 8, 9, 0]])"
                    },
                    "execution_count": null
                }
            ]
        },
        {
            "id": "d563710f",
            "cell_type": "code",
            "metadata": {},
            "execution_count": null,
            "source": "triu(A, format='csc')",
            "outputs": [
                {
                    "output_type": "execute_result",
                    "metadata": {},
                    "data": {
                        "text/plain": "<3x5 sparse array of type '<class 'numpy.int32'>'\n        with 8 stored elements in Compressed Sparse Column format>"
                    },
                    "execution_count": null
                }
            ]
        }
    ]
}