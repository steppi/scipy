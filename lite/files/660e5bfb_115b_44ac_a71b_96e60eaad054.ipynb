{
    "nbformat": 4,
    "nbformat_minor": 5,
    "metadata": {
        "kernelspec": {
            "display_name": "Python",
            "language": "python",
            "name": "python"
        },
        "language_info": {
            "name": "python"
        }
    },
    "cells": [
        {
            "id": "38a5ec64",
            "cell_type": "markdown",
            "source": "<div class='alert alert-warning'>\n\nSciPy's interactive examples with Jupyterlite are experimental and may not always work as expected. Execution of cells containing imports may result in large downloads (up to 60MB of content for the first import from SciPy). Load times when importing from SciPy may take roughly 10-20 seconds. If you notice any problems, feel free to open an [issue](https://github.com/scipy/scipy/issues/new/choose).\n\n</div>",
            "metadata": {}
        },
        {
            "id": "fc9bbb04",
            "cell_type": "markdown",
            "source": "Evaluate the function of order 0 at one point.\n",
            "metadata": {}
        },
        {
            "id": "86a9db1e",
            "cell_type": "code",
            "metadata": {},
            "execution_count": null,
            "source": "from scipy.special import jv\njv(0, 1.)",
            "outputs": [
                {
                    "output_type": "execute_result",
                    "metadata": {},
                    "data": {
                        "text/plain": "0.7651976865579666"
                    },
                    "execution_count": null
                }
            ]
        },
        {
            "id": "7baf1e26",
            "cell_type": "markdown",
            "source": "Evaluate the function at one point for different orders.\n",
            "metadata": {}
        },
        {
            "id": "562dad93",
            "cell_type": "code",
            "metadata": {},
            "execution_count": null,
            "source": "jv(0, 1.), jv(1, 1.), jv(1.5, 1.)",
            "outputs": [
                {
                    "output_type": "execute_result",
                    "metadata": {},
                    "data": {
                        "text/plain": "(0.7651976865579666, 0.44005058574493355, 0.24029783912342725)"
                    },
                    "execution_count": null
                }
            ]
        },
        {
            "id": "352ea1fd",
            "cell_type": "markdown",
            "source": "The evaluation for different orders can be carried out in one call by\nproviding a list or NumPy array as argument for the `v` parameter:\n",
            "metadata": {}
        },
        {
            "id": "a06d24a4",
            "cell_type": "code",
            "metadata": {},
            "execution_count": null,
            "source": "jv([0, 1, 1.5], 1.)",
            "outputs": [
                {
                    "output_type": "execute_result",
                    "metadata": {},
                    "data": {
                        "text/plain": "array([0.76519769, 0.44005059, 0.24029784])"
                    },
                    "execution_count": null
                }
            ]
        },
        {
            "id": "22775d71",
            "cell_type": "markdown",
            "source": "Evaluate the function at several points for order 0 by providing an\narray for `z`.\n",
            "metadata": {}
        },
        {
            "id": "1dae9eec",
            "cell_type": "code",
            "metadata": {},
            "execution_count": null,
            "source": "import numpy as np\npoints = np.array([-2., 0., 3.])\njv(0, points)",
            "outputs": [
                {
                    "output_type": "execute_result",
                    "metadata": {},
                    "data": {
                        "text/plain": "array([ 0.22389078,  1.        , -0.26005195])"
                    },
                    "execution_count": null
                }
            ]
        },
        {
            "id": "b059aa95",
            "cell_type": "markdown",
            "source": "If `z` is an array, the order parameter `v` must be broadcastable to\nthe correct shape if different orders shall be computed in one call.\nTo calculate the orders 0 and 1 for an 1D array:\n",
            "metadata": {}
        },
        {
            "id": "5930f02d",
            "cell_type": "code",
            "metadata": {},
            "execution_count": null,
            "source": "orders = np.array([[0], [1]])\norders.shape",
            "outputs": [
                {
                    "output_type": "execute_result",
                    "metadata": {},
                    "data": {
                        "text/plain": "(2, 1)"
                    },
                    "execution_count": null
                }
            ]
        },
        {
            "id": "d8150018",
            "cell_type": "code",
            "metadata": {},
            "execution_count": null,
            "source": "jv(orders, points)",
            "outputs": [
                {
                    "output_type": "execute_result",
                    "metadata": {},
                    "data": {
                        "text/plain": "array([[ 0.22389078,  1.        , -0.26005195],\n       [-0.57672481,  0.        ,  0.33905896]])"
                    },
                    "execution_count": null
                }
            ]
        },
        {
            "id": "6610f3ea",
            "cell_type": "markdown",
            "source": "Plot the functions of order 0 to 3 from -10 to 10.\n",
            "metadata": {}
        },
        {
            "id": "624b4eb9",
            "cell_type": "code",
            "metadata": {},
            "execution_count": null,
            "source": "import matplotlib.pyplot as plt\nfig, ax = plt.subplots()\nx = np.linspace(-10., 10., 1000)\nfor i in range(4):\n    ax.plot(x, jv(i, x), label=f'$J_{i!r}$')\nax.legend()\nplt.show()",
            "outputs": []
        }
    ]
}