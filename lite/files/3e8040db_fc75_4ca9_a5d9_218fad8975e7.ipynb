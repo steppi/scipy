{
    "nbformat": 4,
    "nbformat_minor": 5,
    "metadata": {
        "kernelspec": {
            "display_name": "Python",
            "language": "python",
            "name": "python"
        },
        "language_info": {
            "name": "python"
        }
    },
    "cells": [
        {
            "id": "27afea7a",
            "cell_type": "markdown",
            "source": "<div class='alert alert-warning'>\n\nSciPy's interactive examples with Jupyterlite are experimental and may not always work as expected. Execution of cells containing imports may result in large downloads (up to 60MB of content for the first import from SciPy). Load times when importing from SciPy may take roughly 10-20 seconds. If you notice any problems, feel free to open an [issue](https://github.com/scipy/scipy/issues/new/choose).\n\n</div>",
            "metadata": {}
        },
        {
            "id": "0c05a091",
            "cell_type": "code",
            "metadata": {},
            "execution_count": null,
            "source": "import numpy as np\nfrom scipy.stats import logser\nimport matplotlib.pyplot as plt\nfig, ax = plt.subplots(1, 1)",
            "outputs": []
        },
        {
            "id": "ca7fa39f",
            "cell_type": "markdown",
            "source": "Calculate the first four moments:\n",
            "metadata": {}
        },
        {
            "id": "59f4ad6e",
            "cell_type": "code",
            "metadata": {},
            "execution_count": null,
            "source": "p = 0.6\nmean, var, skew, kurt = logser.stats(p, moments='mvsk')",
            "outputs": []
        },
        {
            "id": "897d57c4",
            "cell_type": "markdown",
            "source": "Display the probability mass function (``pmf``):\n",
            "metadata": {}
        },
        {
            "id": "e8699da7",
            "cell_type": "code",
            "metadata": {},
            "execution_count": null,
            "source": "x = np.arange(logser.ppf(0.01, p),\n              logser.ppf(0.99, p))\nax.plot(x, logser.pmf(x, p), 'bo', ms=8, label='logser pmf')\nax.vlines(x, 0, logser.pmf(x, p), colors='b', lw=5, alpha=0.5)",
            "outputs": []
        },
        {
            "id": "ff017bab",
            "cell_type": "markdown",
            "source": "Alternatively, the distribution object can be called (as a function)\nto fix the shape and location. This returns a \"frozen\" RV object holding\nthe given parameters fixed.\n\nFreeze the distribution and display the frozen ``pmf``:\n",
            "metadata": {}
        },
        {
            "id": "d76edcae",
            "cell_type": "code",
            "metadata": {},
            "execution_count": null,
            "source": "rv = logser(p)\nax.vlines(x, 0, rv.pmf(x), colors='k', linestyles='-', lw=1,\n        label='frozen pmf')\nax.legend(loc='best', frameon=False)\nplt.show()",
            "outputs": []
        },
        {
            "id": "ddb6e81d",
            "cell_type": "markdown",
            "source": "Check accuracy of ``cdf`` and ``ppf``:\n",
            "metadata": {}
        },
        {
            "id": "4d6ecbaf",
            "cell_type": "code",
            "metadata": {},
            "execution_count": null,
            "source": "prob = logser.cdf(x, p)\nnp.allclose(x, logser.ppf(prob, p))",
            "outputs": [
                {
                    "output_type": "execute_result",
                    "metadata": {},
                    "data": {
                        "text/plain": "True"
                    },
                    "execution_count": null
                }
            ]
        },
        {
            "id": "3ba2b820",
            "cell_type": "markdown",
            "source": "Generate random numbers:\n",
            "metadata": {}
        },
        {
            "id": "d3814df7",
            "cell_type": "code",
            "metadata": {},
            "execution_count": null,
            "source": "r = logser.rvs(p, size=1000)",
            "outputs": []
        }
    ]
}