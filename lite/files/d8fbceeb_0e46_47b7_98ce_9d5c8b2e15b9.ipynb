{
    "nbformat": 4,
    "nbformat_minor": 5,
    "metadata": {
        "kernelspec": {
            "display_name": "Python",
            "language": "python",
            "name": "python"
        },
        "language_info": {
            "name": "python"
        }
    },
    "cells": [
        {
            "id": "2c31656b",
            "cell_type": "markdown",
            "source": "<div class='alert alert-warning'>\n\nSciPy's interactive examples with Jupyterlite are experimental and may not always work as expected. Execution of cells containing imports may result in large downloads (up to 60MB of content for the first import from SciPy). Load times when importing from SciPy may take roughly 10-20 seconds. If you notice any problems, feel free to open an [issue](https://github.com/scipy/scipy/issues/new/choose).\n\n</div>",
            "metadata": {}
        },
        {
            "id": "7f511d8f",
            "cell_type": "code",
            "metadata": {},
            "execution_count": null,
            "source": "from scipy import stats\ndata = [6, 9, 12, 7, 8, 8, 13]\nmean, var, std = stats.mvsdist(data)",
            "outputs": []
        },
        {
            "id": "f62a1862",
            "cell_type": "markdown",
            "source": "We now have frozen distribution objects \"mean\", \"var\" and \"std\" that we can\nexamine:\n",
            "metadata": {}
        },
        {
            "id": "6e39a145",
            "cell_type": "code",
            "metadata": {},
            "execution_count": null,
            "source": "mean.mean()",
            "outputs": [
                {
                    "output_type": "execute_result",
                    "metadata": {},
                    "data": {
                        "text/plain": "9.0"
                    },
                    "execution_count": null
                }
            ]
        },
        {
            "id": "72b0501c",
            "cell_type": "code",
            "metadata": {},
            "execution_count": null,
            "source": "mean.interval(0.95)",
            "outputs": [
                {
                    "output_type": "execute_result",
                    "metadata": {},
                    "data": {
                        "text/plain": "(6.6120585482655692, 11.387941451734431)"
                    },
                    "execution_count": null
                }
            ]
        },
        {
            "id": "7a283083",
            "cell_type": "code",
            "metadata": {},
            "execution_count": null,
            "source": "mean.std()",
            "outputs": [
                {
                    "output_type": "execute_result",
                    "metadata": {},
                    "data": {
                        "text/plain": "1.1952286093343936"
                    },
                    "execution_count": null
                }
            ]
        }
    ]
}