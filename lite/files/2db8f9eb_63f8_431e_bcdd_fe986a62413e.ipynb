{
    "nbformat": 4,
    "nbformat_minor": 5,
    "metadata": {
        "kernelspec": {
            "display_name": "Python",
            "language": "python",
            "name": "python"
        },
        "language_info": {
            "name": "python"
        }
    },
    "cells": [
        {
            "id": "e800b672",
            "cell_type": "markdown",
            "source": "<div class='alert alert-warning'>\n\nSciPy's interactive examples with Jupyterlite are experimental and may not always work as expected. Execution of cells containing imports may result in large downloads (up to 60MB of content for the first import from SciPy). Load times when importing from SciPy may take roughly 10-20 seconds. If you notice any problems, feel free to open an [issue](https://github.com/scipy/scipy/issues/new/choose).\n\n</div>",
            "metadata": {}
        },
        {
            "id": "3f39d1f6",
            "cell_type": "code",
            "metadata": {},
            "execution_count": null,
            "source": "import numpy as np\nimport matplotlib.pyplot as plt\nfrom scipy import interpolate\nx = np.arange(0, 10)\ny = np.exp(-x/3.0)\nf = interpolate.interp1d(x, y)",
            "outputs": []
        },
        {
            "id": "7b35d350",
            "cell_type": "code",
            "metadata": {},
            "execution_count": null,
            "source": "xnew = np.arange(0, 9, 0.1)\nynew = f(xnew)   # use interpolation function returned by `interp1d`\nplt.plot(x, y, 'o', xnew, ynew, '-')\nplt.show()",
            "outputs": []
        }
    ]
}