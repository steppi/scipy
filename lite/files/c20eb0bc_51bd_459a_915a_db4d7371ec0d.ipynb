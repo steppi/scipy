{
    "nbformat": 4,
    "nbformat_minor": 5,
    "metadata": {
        "kernelspec": {
            "display_name": "Python",
            "language": "python",
            "name": "python"
        },
        "language_info": {
            "name": "python"
        }
    },
    "cells": [
        {
            "id": "6e30aa95",
            "cell_type": "markdown",
            "source": "<div class='alert alert-warning'>\n\nSciPy's interactive examples with Jupyterlite are experimental and may not always work as expected. Execution of cells containing imports may result in large downloads (up to 60MB of content for the first import from SciPy). Load times when importing from SciPy may take roughly 10-20 seconds. If you notice any problems, feel free to open an [issue](https://github.com/scipy/scipy/issues/new/choose).\n\n</div>",
            "metadata": {}
        },
        {
            "id": "b91c014a",
            "cell_type": "code",
            "metadata": {},
            "execution_count": null,
            "source": "from scipy import ndimage\nimport numpy as np\na = np.array([[1, 2, 0, 0],\n              [5, 3, 0, 4],\n              [0, 0, 0, 7],\n              [9, 3, 0, 0]])\nlabels, labels_nb = ndimage.label(a)\nlabels",
            "outputs": [
                {
                    "output_type": "execute_result",
                    "metadata": {},
                    "data": {
                        "text/plain": "array([[1, 1, 0, 0],\n       [1, 1, 0, 2],\n       [0, 0, 0, 2],\n       [3, 3, 0, 0]])"
                    },
                    "execution_count": null
                }
            ]
        },
        {
            "id": "ae1d2621",
            "cell_type": "code",
            "metadata": {},
            "execution_count": null,
            "source": "ndimage.minimum(a, labels=labels, index=np.arange(1, labels_nb + 1))",
            "outputs": [
                {
                    "output_type": "execute_result",
                    "metadata": {},
                    "data": {
                        "text/plain": "[1.0, 4.0, 3.0]"
                    },
                    "execution_count": null
                }
            ]
        },
        {
            "id": "80e76994",
            "cell_type": "code",
            "metadata": {},
            "execution_count": null,
            "source": "ndimage.minimum(a)",
            "outputs": [
                {
                    "output_type": "execute_result",
                    "metadata": {},
                    "data": {
                        "text/plain": "0.0"
                    },
                    "execution_count": null
                }
            ]
        },
        {
            "id": "4809b62e",
            "cell_type": "code",
            "metadata": {},
            "execution_count": null,
            "source": "ndimage.minimum(a, labels=labels)",
            "outputs": [
                {
                    "output_type": "execute_result",
                    "metadata": {},
                    "data": {
                        "text/plain": "1.0"
                    },
                    "execution_count": null
                }
            ]
        }
    ]
}