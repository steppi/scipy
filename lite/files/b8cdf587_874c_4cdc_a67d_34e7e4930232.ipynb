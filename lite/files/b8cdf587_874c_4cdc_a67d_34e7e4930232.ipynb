{
    "nbformat": 4,
    "nbformat_minor": 5,
    "metadata": {
        "kernelspec": {
            "display_name": "Python",
            "language": "python",
            "name": "python"
        },
        "language_info": {
            "name": "python"
        }
    },
    "cells": [
        {
            "id": "90c5425c",
            "cell_type": "markdown",
            "source": "<div class='alert alert-warning'>\n\nSciPy's interactive examples with Jupyterlite are experimental and may not always work as expected. Execution of cells containing imports may result in large downloads (up to 60MB of content for the first import from SciPy). Load times when importing from SciPy may take roughly 10-20 seconds. If you notice any problems, feel free to open an [issue](https://github.com/scipy/scipy/issues/new/choose).\n\n</div>",
            "metadata": {}
        },
        {
            "id": "fcd34c8f",
            "cell_type": "markdown",
            "source": "An example with a 4x2 contingency table:\n",
            "metadata": {}
        },
        {
            "id": "d34b6eba",
            "cell_type": "code",
            "metadata": {},
            "execution_count": null,
            "source": "import numpy as np\nfrom scipy.stats.contingency import association\nobs4x2 = np.array([[100, 150], [203, 322], [420, 700], [320, 210]])",
            "outputs": []
        },
        {
            "id": "3a1412a6",
            "cell_type": "markdown",
            "source": "Pearson's contingency coefficient\n",
            "metadata": {}
        },
        {
            "id": "710155b5",
            "cell_type": "code",
            "metadata": {},
            "execution_count": null,
            "source": "association(obs4x2, method=\"pearson\")",
            "outputs": [
                {
                    "output_type": "execute_result",
                    "metadata": {},
                    "data": {
                        "text/plain": "0.18303298140595667"
                    },
                    "execution_count": null
                }
            ]
        },
        {
            "id": "acfd2a31",
            "cell_type": "markdown",
            "source": "Cramer's V\n",
            "metadata": {}
        },
        {
            "id": "d634c23e",
            "cell_type": "code",
            "metadata": {},
            "execution_count": null,
            "source": "association(obs4x2, method=\"cramer\")",
            "outputs": [
                {
                    "output_type": "execute_result",
                    "metadata": {},
                    "data": {
                        "text/plain": "0.18617813077483678"
                    },
                    "execution_count": null
                }
            ]
        },
        {
            "id": "386edbdb",
            "cell_type": "markdown",
            "source": "Tschuprow's T\n",
            "metadata": {}
        },
        {
            "id": "5c06f541",
            "cell_type": "code",
            "metadata": {},
            "execution_count": null,
            "source": "association(obs4x2, method=\"tschuprow\")",
            "outputs": [
                {
                    "output_type": "execute_result",
                    "metadata": {},
                    "data": {
                        "text/plain": "0.14146478765062995"
                    },
                    "execution_count": null
                }
            ]
        }
    ]
}