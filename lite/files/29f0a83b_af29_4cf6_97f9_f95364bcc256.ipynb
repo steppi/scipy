{
    "nbformat": 4,
    "nbformat_minor": 5,
    "metadata": {
        "kernelspec": {
            "display_name": "Python",
            "language": "python",
            "name": "python"
        },
        "language_info": {
            "name": "python"
        }
    },
    "cells": [
        {
            "id": "7f2a344f",
            "cell_type": "markdown",
            "source": "<div class='alert alert-warning'>\n\nSciPy's interactive examples with Jupyterlite are experimental and may not always work as expected. Execution of cells containing imports may result in large downloads (up to 60MB of content for the first import from SciPy). Load times when importing from SciPy may take roughly 10-20 seconds. If you notice any problems, feel free to open an [issue](https://github.com/scipy/scipy/issues/new/choose).\n\n</div>",
            "metadata": {}
        },
        {
            "id": "c2d55a1c",
            "cell_type": "code",
            "metadata": {},
            "execution_count": null,
            "source": "import numpy as np\nfrom scipy.stats import betaprime\nimport matplotlib.pyplot as plt\nfig, ax = plt.subplots(1, 1)",
            "outputs": []
        },
        {
            "id": "86df4c8c",
            "cell_type": "markdown",
            "source": "Calculate the first four moments:\n",
            "metadata": {}
        },
        {
            "id": "e37a3ae6",
            "cell_type": "code",
            "metadata": {},
            "execution_count": null,
            "source": "a, b = 5, 6\nmean, var, skew, kurt = betaprime.stats(a, b, moments='mvsk')",
            "outputs": []
        },
        {
            "id": "205b1608",
            "cell_type": "markdown",
            "source": "Display the probability density function (``pdf``):\n",
            "metadata": {}
        },
        {
            "id": "42ec43f8",
            "cell_type": "code",
            "metadata": {},
            "execution_count": null,
            "source": "x = np.linspace(betaprime.ppf(0.01, a, b),\n                betaprime.ppf(0.99, a, b), 100)\nax.plot(x, betaprime.pdf(x, a, b),\n       'r-', lw=5, alpha=0.6, label='betaprime pdf')",
            "outputs": []
        },
        {
            "id": "21a2c161",
            "cell_type": "markdown",
            "source": "Alternatively, the distribution object can be called (as a function)\nto fix the shape, location and scale parameters. This returns a \"frozen\"\nRV object holding the given parameters fixed.\n\nFreeze the distribution and display the frozen ``pdf``:\n",
            "metadata": {}
        },
        {
            "id": "7777b803",
            "cell_type": "code",
            "metadata": {},
            "execution_count": null,
            "source": "rv = betaprime(a, b)\nax.plot(x, rv.pdf(x), 'k-', lw=2, label='frozen pdf')",
            "outputs": []
        },
        {
            "id": "16651eb6",
            "cell_type": "markdown",
            "source": "Check accuracy of ``cdf`` and ``ppf``:\n",
            "metadata": {}
        },
        {
            "id": "0e6faabe",
            "cell_type": "code",
            "metadata": {},
            "execution_count": null,
            "source": "vals = betaprime.ppf([0.001, 0.5, 0.999], a, b)\nnp.allclose([0.001, 0.5, 0.999], betaprime.cdf(vals, a, b))",
            "outputs": [
                {
                    "output_type": "execute_result",
                    "metadata": {},
                    "data": {
                        "text/plain": "True"
                    },
                    "execution_count": null
                }
            ]
        },
        {
            "id": "22630041",
            "cell_type": "markdown",
            "source": "Generate random numbers:\n",
            "metadata": {}
        },
        {
            "id": "0b5d7752",
            "cell_type": "code",
            "metadata": {},
            "execution_count": null,
            "source": "r = betaprime.rvs(a, b, size=1000)",
            "outputs": []
        },
        {
            "id": "a3a7ede4",
            "cell_type": "markdown",
            "source": "And compare the histogram:\n",
            "metadata": {}
        },
        {
            "id": "db551dfc",
            "cell_type": "code",
            "metadata": {},
            "execution_count": null,
            "source": "ax.hist(r, density=True, bins='auto', histtype='stepfilled', alpha=0.2)\nax.set_xlim([x[0], x[-1]])\nax.legend(loc='best', frameon=False)\nplt.show()",
            "outputs": []
        }
    ]
}