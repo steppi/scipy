{
    "nbformat": 4,
    "nbformat_minor": 5,
    "metadata": {
        "kernelspec": {
            "display_name": "Python",
            "language": "python",
            "name": "python"
        },
        "language_info": {
            "name": "python"
        }
    },
    "cells": [
        {
            "id": "5452fdc2",
            "cell_type": "markdown",
            "source": "<div class='alert alert-warning'>\n\nSciPy's interactive examples with Jupyterlite are experimental and may not always work as expected. Execution of cells containing imports may result in large downloads (up to 60MB of content for the first import from SciPy). Load times when importing from SciPy may take roughly 10-20 seconds. If you notice any problems, feel free to open an [issue](https://github.com/scipy/scipy/issues/new/choose).\n\n</div>",
            "metadata": {}
        },
        {
            "id": "5b5a3885",
            "cell_type": "markdown",
            "source": "(See `chisquare` for more examples.)\n\nWhen just `f_obs` is given, it is assumed that the expected frequencies\nare uniform and given by the mean of the observed frequencies.  Here we\nperform a G-test (i.e. use the log-likelihood ratio statistic):\n",
            "metadata": {}
        },
        {
            "id": "50beac76",
            "cell_type": "code",
            "metadata": {},
            "execution_count": null,
            "source": "import numpy as np\nfrom scipy.stats import power_divergence\npower_divergence([16, 18, 16, 14, 12, 12], lambda_='log-likelihood')",
            "outputs": [
                {
                    "output_type": "execute_result",
                    "metadata": {},
                    "data": {
                        "text/plain": "(2.006573162632538, 0.84823476779463769)"
                    },
                    "execution_count": null
                }
            ]
        },
        {
            "id": "fa71f1c2",
            "cell_type": "markdown",
            "source": "The expected frequencies can be given with the `f_exp` argument:\n",
            "metadata": {}
        },
        {
            "id": "875c6f68",
            "cell_type": "code",
            "metadata": {},
            "execution_count": null,
            "source": "power_divergence([16, 18, 16, 14, 12, 12],\n                 f_exp=[16, 16, 16, 16, 16, 8],\n                 lambda_='log-likelihood')",
            "outputs": [
                {
                    "output_type": "execute_result",
                    "metadata": {},
                    "data": {
                        "text/plain": "(3.3281031458963746, 0.6495419288047497)"
                    },
                    "execution_count": null
                }
            ]
        },
        {
            "id": "1d2a742a",
            "cell_type": "markdown",
            "source": "When `f_obs` is 2-D, by default the test is applied to each column.\n",
            "metadata": {}
        },
        {
            "id": "bb788738",
            "cell_type": "code",
            "metadata": {},
            "execution_count": null,
            "source": "obs = np.array([[16, 18, 16, 14, 12, 12], [32, 24, 16, 28, 20, 24]]).T\nobs.shape",
            "outputs": [
                {
                    "output_type": "execute_result",
                    "metadata": {},
                    "data": {
                        "text/plain": "(6, 2)"
                    },
                    "execution_count": null
                }
            ]
        },
        {
            "id": "ddfcec33",
            "cell_type": "code",
            "metadata": {},
            "execution_count": null,
            "source": "power_divergence(obs, lambda_=\"log-likelihood\")",
            "outputs": [
                {
                    "output_type": "execute_result",
                    "metadata": {},
                    "data": {
                        "text/plain": "(array([ 2.00657316,  6.77634498]), array([ 0.84823477,  0.23781225]))"
                    },
                    "execution_count": null
                }
            ]
        },
        {
            "id": "3e6b49b9",
            "cell_type": "markdown",
            "source": "By setting ``axis=None``, the test is applied to all data in the array,\nwhich is equivalent to applying the test to the flattened array.\n",
            "metadata": {}
        },
        {
            "id": "1db468de",
            "cell_type": "code",
            "metadata": {},
            "execution_count": null,
            "source": "power_divergence(obs, axis=None)",
            "outputs": [
                {
                    "output_type": "execute_result",
                    "metadata": {},
                    "data": {
                        "text/plain": "(23.31034482758621, 0.015975692534127565)"
                    },
                    "execution_count": null
                }
            ]
        },
        {
            "id": "3a5ca70d",
            "cell_type": "code",
            "metadata": {},
            "execution_count": null,
            "source": "power_divergence(obs.ravel())",
            "outputs": [
                {
                    "output_type": "execute_result",
                    "metadata": {},
                    "data": {
                        "text/plain": "(23.31034482758621, 0.015975692534127565)"
                    },
                    "execution_count": null
                }
            ]
        },
        {
            "id": "7e60eabb",
            "cell_type": "markdown",
            "source": "`ddof` is the change to make to the default degrees of freedom.\n",
            "metadata": {}
        },
        {
            "id": "725ac2c6",
            "cell_type": "code",
            "metadata": {},
            "execution_count": null,
            "source": "power_divergence([16, 18, 16, 14, 12, 12], ddof=1)",
            "outputs": [
                {
                    "output_type": "execute_result",
                    "metadata": {},
                    "data": {
                        "text/plain": "(2.0, 0.73575888234288467)"
                    },
                    "execution_count": null
                }
            ]
        },
        {
            "id": "189b4d4a",
            "cell_type": "markdown",
            "source": "The calculation of the p-values is done by broadcasting the\ntest statistic with `ddof`.\n",
            "metadata": {}
        },
        {
            "id": "723aaccb",
            "cell_type": "code",
            "metadata": {},
            "execution_count": null,
            "source": "power_divergence([16, 18, 16, 14, 12, 12], ddof=[0,1,2])",
            "outputs": [
                {
                    "output_type": "execute_result",
                    "metadata": {},
                    "data": {
                        "text/plain": "(2.0, array([ 0.84914504,  0.73575888,  0.5724067 ]))"
                    },
                    "execution_count": null
                }
            ]
        },
        {
            "id": "a903bdd1",
            "cell_type": "markdown",
            "source": "`f_obs` and `f_exp` are also broadcast.  In the following, `f_obs` has\nshape (6,) and `f_exp` has shape (2, 6), so the result of broadcasting\n`f_obs` and `f_exp` has shape (2, 6).  To compute the desired chi-squared\nstatistics, we must use ``axis=1``:\n",
            "metadata": {}
        },
        {
            "id": "101c92d4",
            "cell_type": "code",
            "metadata": {},
            "execution_count": null,
            "source": "power_divergence([16, 18, 16, 14, 12, 12],\n                 f_exp=[[16, 16, 16, 16, 16, 8],\n                        [8, 20, 20, 16, 12, 12]],\n                 axis=1)",
            "outputs": [
                {
                    "output_type": "execute_result",
                    "metadata": {},
                    "data": {
                        "text/plain": "(array([ 3.5 ,  9.25]), array([ 0.62338763,  0.09949846]))"
                    },
                    "execution_count": null
                }
            ]
        }
    ]
}