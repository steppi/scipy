{
    "nbformat": 4,
    "nbformat_minor": 5,
    "metadata": {
        "kernelspec": {
            "display_name": "Python",
            "language": "python",
            "name": "python"
        },
        "language_info": {
            "name": "python"
        }
    },
    "cells": [
        {
            "id": "fd6bbc61",
            "cell_type": "markdown",
            "source": "<div class='alert alert-warning'>\n\nSciPy's interactive examples with Jupyterlite are experimental and may not always work as expected. Execution of cells containing imports may result in large downloads (up to 60MB of content for the first import from SciPy). Load times when importing from SciPy may take roughly 10-20 seconds. If you notice any problems, feel free to open an [issue](https://github.com/scipy/scipy/issues/new/choose).\n\n</div>",
            "metadata": {}
        },
        {
            "id": "7cf92f1a",
            "cell_type": "markdown",
            "source": "First evaluate `gdtr`.\n",
            "metadata": {}
        },
        {
            "id": "b6f8f5a4",
            "cell_type": "code",
            "metadata": {},
            "execution_count": null,
            "source": "from scipy.special import gdtr, gdtrix\np = gdtr(1.2, 3.4, 5.6)\nprint(p)",
            "outputs": [
                {
                    "output_type": "execute_result",
                    "metadata": {},
                    "data": {
                        "text/plain": "0.94378087442"
                    },
                    "execution_count": null
                }
            ]
        },
        {
            "id": "064c2c0a",
            "cell_type": "markdown",
            "source": "Verify the inverse.\n",
            "metadata": {}
        },
        {
            "id": "5462bf6f",
            "cell_type": "code",
            "metadata": {},
            "execution_count": null,
            "source": "gdtrix(1.2, 3.4, p)",
            "outputs": [
                {
                    "output_type": "execute_result",
                    "metadata": {},
                    "data": {
                        "text/plain": "5.5999999999999996"
                    },
                    "execution_count": null
                }
            ]
        }
    ]
}