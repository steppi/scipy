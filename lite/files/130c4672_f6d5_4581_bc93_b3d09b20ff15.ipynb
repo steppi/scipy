{
    "nbformat": 4,
    "nbformat_minor": 5,
    "metadata": {
        "kernelspec": {
            "display_name": "Python",
            "language": "python",
            "name": "python"
        },
        "language_info": {
            "name": "python"
        }
    },
    "cells": [
        {
            "id": "9df58656",
            "cell_type": "markdown",
            "source": "<div class='alert alert-warning'>\n\nSciPy's interactive examples with Jupyterlite are experimental and may not always work as expected. Execution of cells containing imports may result in large downloads (up to 60MB of content for the first import from SciPy). Load times when importing from SciPy may take roughly 10-20 seconds. If you notice any problems, feel free to open an [issue](https://github.com/scipy/scipy/issues/new/choose).\n\n</div>",
            "metadata": {}
        },
        {
            "id": "fa546986",
            "cell_type": "code",
            "metadata": {},
            "execution_count": null,
            "source": "import numpy as np\nfrom scipy.spatial.distance import is_valid_dm",
            "outputs": []
        },
        {
            "id": "d3e43f29",
            "cell_type": "markdown",
            "source": "This matrix is a valid distance matrix.\n",
            "metadata": {}
        },
        {
            "id": "4cfc5cf7",
            "cell_type": "code",
            "metadata": {},
            "execution_count": null,
            "source": "d = np.array([[0.0, 1.1, 1.2, 1.3],\n              [1.1, 0.0, 1.0, 1.4],\n              [1.2, 1.0, 0.0, 1.5],\n              [1.3, 1.4, 1.5, 0.0]])\nis_valid_dm(d)",
            "outputs": [
                {
                    "output_type": "execute_result",
                    "metadata": {},
                    "data": {
                        "text/plain": "True"
                    },
                    "execution_count": null
                }
            ]
        },
        {
            "id": "d2981ff0",
            "cell_type": "markdown",
            "source": "In the following examples, the input is not a valid distance matrix.\n\nNot square:\n",
            "metadata": {}
        },
        {
            "id": "19c0e90a",
            "cell_type": "code",
            "metadata": {},
            "execution_count": null,
            "source": "is_valid_dm([[0, 2, 2], [2, 0, 2]])",
            "outputs": [
                {
                    "output_type": "execute_result",
                    "metadata": {},
                    "data": {
                        "text/plain": "False"
                    },
                    "execution_count": null
                }
            ]
        },
        {
            "id": "5438d637",
            "cell_type": "markdown",
            "source": "Nonzero diagonal element:\n",
            "metadata": {}
        },
        {
            "id": "a8779220",
            "cell_type": "code",
            "metadata": {},
            "execution_count": null,
            "source": "is_valid_dm([[0, 1, 1], [1, 2, 3], [1, 3, 0]])",
            "outputs": [
                {
                    "output_type": "execute_result",
                    "metadata": {},
                    "data": {
                        "text/plain": "False"
                    },
                    "execution_count": null
                }
            ]
        },
        {
            "id": "4e8e8036",
            "cell_type": "markdown",
            "source": "Not symmetric:\n",
            "metadata": {}
        },
        {
            "id": "dbe1056e",
            "cell_type": "code",
            "metadata": {},
            "execution_count": null,
            "source": "is_valid_dm([[0, 1, 3], [2, 0, 1], [3, 1, 0]])",
            "outputs": [
                {
                    "output_type": "execute_result",
                    "metadata": {},
                    "data": {
                        "text/plain": "False"
                    },
                    "execution_count": null
                }
            ]
        }
    ]
}