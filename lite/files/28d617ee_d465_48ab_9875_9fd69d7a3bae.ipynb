{
    "nbformat": 4,
    "nbformat_minor": 5,
    "metadata": {
        "kernelspec": {
            "display_name": "Python",
            "language": "python",
            "name": "python"
        },
        "language_info": {
            "name": "python"
        }
    },
    "cells": [
        {
            "id": "1d8b4d2b",
            "cell_type": "markdown",
            "source": "<div class='alert alert-warning'>\n\nSciPy's interactive examples with Jupyterlite are experimental and may not always work as expected. Execution of cells containing imports may result in large downloads (up to 60MB of content for the first import from SciPy). Load times when importing from SciPy may take roughly 10-20 seconds. If you notice any problems, feel free to open an [issue](https://github.com/scipy/scipy/issues/new/choose).\n\n</div>",
            "metadata": {}
        },
        {
            "id": "c3d30088",
            "cell_type": "code",
            "metadata": {},
            "execution_count": null,
            "source": "import numpy as np\nimport scipy.special as sc",
            "outputs": []
        },
        {
            "id": "e7d7144c",
            "cell_type": "markdown",
            "source": "It is more accurate than using sine directly.\n",
            "metadata": {}
        },
        {
            "id": "6a7301f5",
            "cell_type": "code",
            "metadata": {},
            "execution_count": null,
            "source": "x = 180 * np.arange(3)\nsc.sindg(x)",
            "outputs": [
                {
                    "output_type": "execute_result",
                    "metadata": {},
                    "data": {
                        "text/plain": "array([ 0., -0.,  0.])"
                    },
                    "execution_count": null
                }
            ]
        },
        {
            "id": "7c42da73",
            "cell_type": "code",
            "metadata": {},
            "execution_count": null,
            "source": "np.sin(x * np.pi / 180)",
            "outputs": [
                {
                    "output_type": "execute_result",
                    "metadata": {},
                    "data": {
                        "text/plain": "array([ 0.0000000e+00,  1.2246468e-16, -2.4492936e-16])"
                    },
                    "execution_count": null
                }
            ]
        }
    ]
}