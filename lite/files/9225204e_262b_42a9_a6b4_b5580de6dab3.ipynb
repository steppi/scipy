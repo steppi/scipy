{
    "nbformat": 4,
    "nbformat_minor": 5,
    "metadata": {
        "kernelspec": {
            "display_name": "Python",
            "language": "python",
            "name": "python"
        },
        "language_info": {
            "name": "python"
        }
    },
    "cells": [
        {
            "id": "f7e451d0",
            "cell_type": "markdown",
            "source": "<div class='alert alert-warning'>\n\nSciPy's interactive examples with Jupyterlite are experimental and may not always work as expected. Execution of cells containing imports may result in large downloads (up to 60MB of content for the first import from SciPy). Load times when importing from SciPy may take roughly 10-20 seconds. If you notice any problems, feel free to open an [issue](https://github.com/scipy/scipy/issues/new/choose).\n\n</div>",
            "metadata": {}
        },
        {
            "id": "5d24186a",
            "cell_type": "markdown",
            "source": "In epidemiology, individuals are classified as \"exposed\" or\n\"unexposed\" to some factor or treatment. If the occurrence of some\nillness is under study, those who have the illness are often\nclassified as \"cases\", and those without it are \"noncases\".  The\ncounts of the occurrences of these classes gives a contingency\ntable\n```\n\nexposed    unexposed\ncases          a           b\nnoncases       c           d\n\n```\nThe sample odds ratio may be written ``(a/c) / (b/d)``.  ``a/c`` can\nbe interpreted as the odds of a case occurring in the exposed group,\nand ``b/d`` as the odds of a case occurring in the unexposed group.\nThe sample odds ratio is the ratio of these odds.  If the odds ratio\nis greater than 1, it suggests that there is a positive association\nbetween being exposed and being a case.\n\nInterchanging the rows or columns of the contingency table inverts\nthe odds ratio, so it is import to understand the meaning of labels\ngiven to the rows and columns of the table when interpreting the\nodds ratio.\n\nIn [4], the use of aspirin to prevent cardiovascular events in women\nand men was investigated. The study notably concluded:\n\n    ...aspirin therapy reduced the risk of a composite of\n    cardiovascular events due to its effect on reducing the risk of\n    ischemic stroke in women [...]\n\nThe article lists studies of various cardiovascular events. Let's\nfocus on the ischemic stoke in women.\n\nThe following table summarizes the results of the experiment in which\nparticipants took aspirin or a placebo on a regular basis for several\nyears. Cases of ischemic stroke were recorded\n```\n\nAspirin   Control/Placebo\nIschemic stroke     176           230\nNo stroke         21035         21018\n\n```\nThe question we ask is \"Is there evidence that the aspirin reduces the\nrisk of ischemic stroke?\"\n\nCompute the odds ratio:\n",
            "metadata": {}
        },
        {
            "id": "71edf806",
            "cell_type": "code",
            "metadata": {},
            "execution_count": null,
            "source": "from scipy.stats.contingency import odds_ratio\nres = odds_ratio([[176, 230], [21035, 21018]])\nres.statistic",
            "outputs": [
                {
                    "output_type": "execute_result",
                    "metadata": {},
                    "data": {
                        "text/plain": "0.7646037659999126"
                    },
                    "execution_count": null
                }
            ]
        },
        {
            "id": "7b333c60",
            "cell_type": "markdown",
            "source": "For this sample, the odds of getting an ischemic stroke for those who have\nbeen taking aspirin are 0.76 times that of those\nwho have received the placebo.\n\nTo make statistical inferences about the population under study,\nwe can compute the 95% confidence interval for the odds ratio:\n",
            "metadata": {}
        },
        {
            "id": "41de3da1",
            "cell_type": "code",
            "metadata": {},
            "execution_count": null,
            "source": "res.confidence_interval(confidence_level=0.95)",
            "outputs": [
                {
                    "output_type": "execute_result",
                    "metadata": {},
                    "data": {
                        "text/plain": "ConfidenceInterval(low=0.6241234078749812, high=0.9354102892100372)"
                    },
                    "execution_count": null
                }
            ]
        },
        {
            "id": "8fdb7e5f",
            "cell_type": "markdown",
            "source": "The 95% confidence interval for the conditional odds ratio is\napproximately (0.62, 0.94).\n\nThe fact that the entire 95% confidence interval falls below 1 supports\nthe authors' conclusion that the aspirin was associated with a\nstatistically significant reduction in ischemic stroke.",
            "metadata": {}
        }
    ]
}