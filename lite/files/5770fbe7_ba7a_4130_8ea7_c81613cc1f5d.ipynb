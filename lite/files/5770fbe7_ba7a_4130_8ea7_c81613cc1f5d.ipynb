{
    "nbformat": 4,
    "nbformat_minor": 5,
    "metadata": {
        "kernelspec": {
            "display_name": "Python",
            "language": "python",
            "name": "python"
        },
        "language_info": {
            "name": "python"
        }
    },
    "cells": [
        {
            "id": "1429f865",
            "cell_type": "markdown",
            "source": "<div class='alert alert-warning'>\n\nSciPy's interactive examples with Jupyterlite are experimental and may not always work as expected. Execution of cells containing imports may result in large downloads (up to 60MB of content for the first import from SciPy). Load times when importing from SciPy may take roughly 10-20 seconds. If you notice any problems, feel free to open an [issue](https://github.com/scipy/scipy/issues/new/choose).\n\n</div>",
            "metadata": {}
        },
        {
            "id": "35ec3599",
            "cell_type": "markdown",
            "source": "Our first example is minimalistic - find the largest eigenvalue of\na diagonal matrix by solving the non-generalized eigenvalue problem\n``A x = lambda x`` without constraints or preconditioning.\n",
            "metadata": {}
        },
        {
            "id": "db2c0a06",
            "cell_type": "code",
            "metadata": {},
            "execution_count": null,
            "source": "import numpy as np\nfrom scipy.sparse import spdiags\nfrom scipy.sparse.linalg import LinearOperator, aslinearoperator\nfrom scipy.sparse.linalg import lobpcg",
            "outputs": []
        },
        {
            "id": "e1d8fc9e",
            "cell_type": "markdown",
            "source": "The square matrix size is\n",
            "metadata": {}
        },
        {
            "id": "8efb3a5e",
            "cell_type": "code",
            "metadata": {},
            "execution_count": null,
            "source": "n = 100",
            "outputs": []
        },
        {
            "id": "b099ffb5",
            "cell_type": "markdown",
            "source": "and its diagonal entries are 1, ..., 100 defined by\n",
            "metadata": {}
        },
        {
            "id": "e4357897",
            "cell_type": "code",
            "metadata": {},
            "execution_count": null,
            "source": "vals = np.arange(1, n + 1).astype(np.int16)",
            "outputs": []
        },
        {
            "id": "1ab5cf33",
            "cell_type": "markdown",
            "source": "The first mandatory input parameter in this test is\nthe sparse diagonal matrix `A`\nof the eigenvalue problem ``A x = lambda x`` to solve.\n",
            "metadata": {}
        },
        {
            "id": "755f6b46",
            "cell_type": "code",
            "metadata": {},
            "execution_count": null,
            "source": "A = spdiags(vals, 0, n, n)\nA = A.astype(np.int16)\nA.toarray()",
            "outputs": [
                {
                    "output_type": "execute_result",
                    "metadata": {},
                    "data": {
                        "text/plain": "array([[  1,   0,   0, ...,   0,   0,   0],\n       [  0,   2,   0, ...,   0,   0,   0],\n       [  0,   0,   3, ...,   0,   0,   0],\n       ...,\n       [  0,   0,   0, ...,  98,   0,   0],\n       [  0,   0,   0, ...,   0,  99,   0],\n       [  0,   0,   0, ...,   0,   0, 100]], dtype=int16)"
                    },
                    "execution_count": null
                }
            ]
        },
        {
            "id": "c4e66118",
            "cell_type": "markdown",
            "source": "The second mandatory input parameter `X` is a 2D array with the\nrow dimension determining the number of requested eigenvalues.\n`X` is an initial guess for targeted eigenvectors.\n`X` must have linearly independent columns.\nIf no initial approximations available, randomly oriented vectors\ncommonly work best, e.g., with components normally distributed\naround zero or uniformly distributed on the interval [-1 1].\nSetting the initial approximations to dtype ``np.float32``\nforces all iterative values to dtype ``np.float32`` speeding up\nthe run while still allowing accurate eigenvalue computations.\n",
            "metadata": {}
        },
        {
            "id": "20026bf6",
            "cell_type": "code",
            "metadata": {},
            "execution_count": null,
            "source": "k = 1\nrng = np.random.default_rng()\nX = rng.normal(size=(n, k))\nX = X.astype(np.float32)",
            "outputs": []
        },
        {
            "id": "a2c087e5",
            "cell_type": "code",
            "metadata": {},
            "execution_count": null,
            "source": "eigenvalues, _ = lobpcg(A, X, maxiter=60)\neigenvalues",
            "outputs": [
                {
                    "output_type": "execute_result",
                    "metadata": {},
                    "data": {
                        "text/plain": "array([100.])"
                    },
                    "execution_count": null
                }
            ]
        },
        {
            "id": "c00884db",
            "cell_type": "code",
            "metadata": {},
            "execution_count": null,
            "source": "eigenvalues.dtype",
            "outputs": [
                {
                    "output_type": "execute_result",
                    "metadata": {},
                    "data": {
                        "text/plain": "dtype('float32')"
                    },
                    "execution_count": null
                }
            ]
        },
        {
            "id": "48b9b736",
            "cell_type": "markdown",
            "source": "`lobpcg` needs only access the matrix product with `A` rather\nthen the matrix itself. Since the matrix `A` is diagonal in\nthis example, one can write a function of the matrix product\n``A @ X`` using the diagonal values ``vals`` only, e.g., by\nelement-wise multiplication with broadcasting in the lambda-function\n",
            "metadata": {}
        },
        {
            "id": "cf3404f3",
            "cell_type": "code",
            "metadata": {},
            "execution_count": null,
            "source": "A_lambda = lambda X: vals[:, np.newaxis] * X",
            "outputs": []
        },
        {
            "id": "3a44815f",
            "cell_type": "markdown",
            "source": "or the regular function\n",
            "metadata": {}
        },
        {
            "id": "28456fd4",
            "cell_type": "code",
            "metadata": {},
            "execution_count": null,
            "source": "def A_matmat(X):\n    return vals[:, np.newaxis] * X",
            "outputs": []
        },
        {
            "id": "e3a7c1ad",
            "cell_type": "markdown",
            "source": "and use the handle to one of these callables as an input\n",
            "metadata": {}
        },
        {
            "id": "17ee04b0",
            "cell_type": "code",
            "metadata": {},
            "execution_count": null,
            "source": "eigenvalues, _ = lobpcg(A_lambda, X, maxiter=60)\neigenvalues",
            "outputs": [
                {
                    "output_type": "execute_result",
                    "metadata": {},
                    "data": {
                        "text/plain": "array([100.])"
                    },
                    "execution_count": null
                }
            ]
        },
        {
            "id": "e48ea743",
            "cell_type": "code",
            "metadata": {},
            "execution_count": null,
            "source": "eigenvalues, _ = lobpcg(A_matmat, X, maxiter=60)\neigenvalues",
            "outputs": [
                {
                    "output_type": "execute_result",
                    "metadata": {},
                    "data": {
                        "text/plain": "array([100.])"
                    },
                    "execution_count": null
                }
            ]
        },
        {
            "id": "3c7c3760",
            "cell_type": "markdown",
            "source": "The traditional callable `LinearOperator` is no longer\nnecessary but still supported as the input to `lobpcg`.\nSpecifying ``matmat=A_matmat`` explicitly improves performance. \n",
            "metadata": {}
        },
        {
            "id": "3d52b6aa",
            "cell_type": "code",
            "metadata": {},
            "execution_count": null,
            "source": "A_lo = LinearOperator((n, n), matvec=A_matmat, matmat=A_matmat, dtype=np.int16)\neigenvalues, _ = lobpcg(A_lo, X, maxiter=80)\neigenvalues",
            "outputs": [
                {
                    "output_type": "execute_result",
                    "metadata": {},
                    "data": {
                        "text/plain": "array([100.])"
                    },
                    "execution_count": null
                }
            ]
        },
        {
            "id": "30e51ffd",
            "cell_type": "markdown",
            "source": "The least efficient callable option is `aslinearoperator`:\n",
            "metadata": {}
        },
        {
            "id": "42d6aa2d",
            "cell_type": "code",
            "metadata": {},
            "execution_count": null,
            "source": "eigenvalues, _ = lobpcg(aslinearoperator(A), X, maxiter=80)\neigenvalues",
            "outputs": [
                {
                    "output_type": "execute_result",
                    "metadata": {},
                    "data": {
                        "text/plain": "array([100.])"
                    },
                    "execution_count": null
                }
            ]
        },
        {
            "id": "6c5d95eb",
            "cell_type": "markdown",
            "source": "We now switch to computing the three smallest eigenvalues specifying\n",
            "metadata": {}
        },
        {
            "id": "b0b505be",
            "cell_type": "code",
            "metadata": {},
            "execution_count": null,
            "source": "k = 3\nX = np.random.default_rng().normal(size=(n, k))",
            "outputs": []
        },
        {
            "id": "422634bc",
            "cell_type": "markdown",
            "source": "and ``largest=False`` parameter\n",
            "metadata": {}
        },
        {
            "id": "0c73581d",
            "cell_type": "code",
            "metadata": {},
            "execution_count": null,
            "source": "eigenvalues, _ = lobpcg(A, X, largest=False, maxiter=80)\nprint(eigenvalues)  ",
            "outputs": [
                {
                    "output_type": "execute_result",
                    "metadata": {},
                    "data": {
                        "text/plain": "[1. 2. 3.]"
                    },
                    "execution_count": null
                }
            ]
        },
        {
            "id": "19331493",
            "cell_type": "markdown",
            "source": "The next example illustrates computing 3 smallest eigenvalues of\nthe same matrix `A` given by the function handle ``A_matmat`` but\nwith constraints and preconditioning.\n\nConstraints - an optional input parameter is a 2D array comprising\nof column vectors that the eigenvectors must be orthogonal to\n",
            "metadata": {}
        },
        {
            "id": "2c7c782d",
            "cell_type": "code",
            "metadata": {},
            "execution_count": null,
            "source": "Y = np.eye(n, 3)",
            "outputs": []
        },
        {
            "id": "bd245808",
            "cell_type": "markdown",
            "source": "The preconditioner acts as the inverse of `A` in this example, but\nin the reduced precision ``np.float32`` even though the initial `X`\nand thus all iterates and the output are in full ``np.float64``.\n",
            "metadata": {}
        },
        {
            "id": "e620fbab",
            "cell_type": "code",
            "metadata": {},
            "execution_count": null,
            "source": "inv_vals = 1./vals\ninv_vals = inv_vals.astype(np.float32)\nM = lambda X: inv_vals[:, np.newaxis] * X",
            "outputs": []
        },
        {
            "id": "def03839",
            "cell_type": "markdown",
            "source": "Let us now solve the eigenvalue problem for the matrix `A` first\nwithout preconditioning requesting 80 iterations\n",
            "metadata": {}
        },
        {
            "id": "10e4d836",
            "cell_type": "code",
            "metadata": {},
            "execution_count": null,
            "source": "eigenvalues, _ = lobpcg(A_matmat, X, Y=Y, largest=False, maxiter=80)\neigenvalues",
            "outputs": [
                {
                    "output_type": "execute_result",
                    "metadata": {},
                    "data": {
                        "text/plain": "array([4., 5., 6.])"
                    },
                    "execution_count": null
                }
            ]
        },
        {
            "id": "f5a0b4b8",
            "cell_type": "code",
            "metadata": {},
            "execution_count": null,
            "source": "eigenvalues.dtype",
            "outputs": [
                {
                    "output_type": "execute_result",
                    "metadata": {},
                    "data": {
                        "text/plain": "dtype('float64')"
                    },
                    "execution_count": null
                }
            ]
        },
        {
            "id": "29b3ddf1",
            "cell_type": "markdown",
            "source": "With preconditioning we need only 20 iterations from the same `X`\n",
            "metadata": {}
        },
        {
            "id": "4e7e3c5e",
            "cell_type": "code",
            "metadata": {},
            "execution_count": null,
            "source": "eigenvalues, _ = lobpcg(A_matmat, X, Y=Y, M=M, largest=False, maxiter=20)\neigenvalues",
            "outputs": [
                {
                    "output_type": "execute_result",
                    "metadata": {},
                    "data": {
                        "text/plain": "array([4., 5., 6.])"
                    },
                    "execution_count": null
                }
            ]
        },
        {
            "id": "8ff026ba",
            "cell_type": "markdown",
            "source": "Note that the vectors passed in `Y` are the eigenvectors of the 3\nsmallest eigenvalues. The results returned above are orthogonal to those.\n\nThe primary matrix `A` may be indefinite, e.g., after shifting\n``vals`` by 50 from 1, ..., 100 to -49, ..., 50, we still can compute\nthe 3 smallest or largest eigenvalues.\n",
            "metadata": {}
        },
        {
            "id": "592cf289",
            "cell_type": "code",
            "metadata": {},
            "execution_count": null,
            "source": "vals = vals - 50\nX = rng.normal(size=(n, k))\neigenvalues, _ = lobpcg(A_matmat, X, largest=False, maxiter=99)\neigenvalues",
            "outputs": [
                {
                    "output_type": "execute_result",
                    "metadata": {},
                    "data": {
                        "text/plain": "array([-49., -48., -47.])"
                    },
                    "execution_count": null
                }
            ]
        },
        {
            "id": "462d473a",
            "cell_type": "code",
            "metadata": {},
            "execution_count": null,
            "source": "eigenvalues, _ = lobpcg(A_matmat, X, largest=True, maxiter=99)\neigenvalues",
            "outputs": [
                {
                    "output_type": "execute_result",
                    "metadata": {},
                    "data": {
                        "text/plain": "array([50., 49., 48.])"
                    },
                    "execution_count": null
                }
            ]
        }
    ]
}