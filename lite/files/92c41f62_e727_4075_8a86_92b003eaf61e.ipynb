{
    "nbformat": 4,
    "nbformat_minor": 5,
    "metadata": {
        "kernelspec": {
            "display_name": "Python",
            "language": "python",
            "name": "python"
        },
        "language_info": {
            "name": "python"
        }
    },
    "cells": [
        {
            "id": "07f97414",
            "cell_type": "markdown",
            "source": "<div class='alert alert-warning'>\n\nSciPy's interactive examples with Jupyterlite are experimental and may not always work as expected. Execution of cells containing imports may result in large downloads (up to 60MB of content for the first import from SciPy). Load times when importing from SciPy may take roughly 10-20 seconds. If you notice any problems, feel free to open an [issue](https://github.com/scipy/scipy/issues/new/choose).\n\n</div>",
            "metadata": {}
        },
        {
            "id": "2a99e59e",
            "cell_type": "code",
            "metadata": {},
            "execution_count": null,
            "source": "import numpy as np\nimport scipy.special as sc",
            "outputs": []
        },
        {
            "id": "635cde6e",
            "cell_type": "markdown",
            "source": "It has poles when `c` is a negative integer.\n",
            "metadata": {}
        },
        {
            "id": "3a97c3e9",
            "cell_type": "code",
            "metadata": {},
            "execution_count": null,
            "source": "sc.hyp2f1(1, 1, -2, 1)",
            "outputs": [
                {
                    "output_type": "execute_result",
                    "metadata": {},
                    "data": {
                        "text/plain": "inf"
                    },
                    "execution_count": null
                }
            ]
        },
        {
            "id": "0dfd79b3",
            "cell_type": "markdown",
            "source": "It is a polynomial when `a` or `b` is a negative integer.\n",
            "metadata": {}
        },
        {
            "id": "ac299002",
            "cell_type": "code",
            "metadata": {},
            "execution_count": null,
            "source": "a, b, c = -1, 1, 1.5\nz = np.linspace(0, 1, 5)\nsc.hyp2f1(a, b, c, z)",
            "outputs": [
                {
                    "output_type": "execute_result",
                    "metadata": {},
                    "data": {
                        "text/plain": "array([1.        , 0.83333333, 0.66666667, 0.5       , 0.33333333])"
                    },
                    "execution_count": null
                }
            ]
        },
        {
            "id": "4280d88a",
            "cell_type": "code",
            "metadata": {},
            "execution_count": null,
            "source": "1 + a * b * z / c",
            "outputs": [
                {
                    "output_type": "execute_result",
                    "metadata": {},
                    "data": {
                        "text/plain": "array([1.        , 0.83333333, 0.66666667, 0.5       , 0.33333333])"
                    },
                    "execution_count": null
                }
            ]
        },
        {
            "id": "84a9a72d",
            "cell_type": "markdown",
            "source": "It is symmetric in `a` and `b`.\n",
            "metadata": {}
        },
        {
            "id": "c0a0d6c6",
            "cell_type": "code",
            "metadata": {},
            "execution_count": null,
            "source": "a = np.linspace(0, 1, 5)\nb = np.linspace(0, 1, 5)\nsc.hyp2f1(a, b, 1, 0.5)",
            "outputs": [
                {
                    "output_type": "execute_result",
                    "metadata": {},
                    "data": {
                        "text/plain": "array([1.        , 1.03997334, 1.1803406 , 1.47074441, 2.        ])"
                    },
                    "execution_count": null
                }
            ]
        },
        {
            "id": "67eb34ee",
            "cell_type": "code",
            "metadata": {},
            "execution_count": null,
            "source": "sc.hyp2f1(b, a, 1, 0.5)",
            "outputs": [
                {
                    "output_type": "execute_result",
                    "metadata": {},
                    "data": {
                        "text/plain": "array([1.        , 1.03997334, 1.1803406 , 1.47074441, 2.        ])"
                    },
                    "execution_count": null
                }
            ]
        },
        {
            "id": "15f40851",
            "cell_type": "markdown",
            "source": "It contains many other functions as special cases.\n",
            "metadata": {}
        },
        {
            "id": "5c25c626",
            "cell_type": "code",
            "metadata": {},
            "execution_count": null,
            "source": "z = 0.5\nsc.hyp2f1(1, 1, 2, z)",
            "outputs": [
                {
                    "output_type": "execute_result",
                    "metadata": {},
                    "data": {
                        "text/plain": "1.3862943611198901"
                    },
                    "execution_count": null
                }
            ]
        },
        {
            "id": "5fc89d22",
            "cell_type": "code",
            "metadata": {},
            "execution_count": null,
            "source": "-np.log(1 - z) / z",
            "outputs": [
                {
                    "output_type": "execute_result",
                    "metadata": {},
                    "data": {
                        "text/plain": "1.3862943611198906"
                    },
                    "execution_count": null
                }
            ]
        },
        {
            "id": "92d80071",
            "cell_type": "code",
            "metadata": {},
            "execution_count": null,
            "source": "sc.hyp2f1(0.5, 1, 1.5, z**2)",
            "outputs": [
                {
                    "output_type": "execute_result",
                    "metadata": {},
                    "data": {
                        "text/plain": "1.098612288668109"
                    },
                    "execution_count": null
                }
            ]
        },
        {
            "id": "7e1183fd",
            "cell_type": "code",
            "metadata": {},
            "execution_count": null,
            "source": "np.log((1 + z) / (1 - z)) / (2 * z)",
            "outputs": [
                {
                    "output_type": "execute_result",
                    "metadata": {},
                    "data": {
                        "text/plain": "1.0986122886681098"
                    },
                    "execution_count": null
                }
            ]
        },
        {
            "id": "dcef79e5",
            "cell_type": "code",
            "metadata": {},
            "execution_count": null,
            "source": "sc.hyp2f1(0.5, 1, 1.5, -z**2)",
            "outputs": [
                {
                    "output_type": "execute_result",
                    "metadata": {},
                    "data": {
                        "text/plain": "0.9272952180016117"
                    },
                    "execution_count": null
                }
            ]
        },
        {
            "id": "54a5b507",
            "cell_type": "code",
            "metadata": {},
            "execution_count": null,
            "source": "np.arctan(z) / z",
            "outputs": [
                {
                    "output_type": "execute_result",
                    "metadata": {},
                    "data": {
                        "text/plain": "0.9272952180016122"
                    },
                    "execution_count": null
                }
            ]
        }
    ]
}