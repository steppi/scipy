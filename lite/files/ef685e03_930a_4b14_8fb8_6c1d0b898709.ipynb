{
    "nbformat": 4,
    "nbformat_minor": 5,
    "metadata": {
        "kernelspec": {
            "display_name": "Python",
            "language": "python",
            "name": "python"
        },
        "language_info": {
            "name": "python"
        }
    },
    "cells": [
        {
            "id": "e6ad42e8",
            "cell_type": "markdown",
            "source": "<div class='alert alert-warning'>\n\nSciPy's interactive examples with Jupyterlite are experimental and may not always work as expected. Execution of cells containing imports may result in large downloads (up to 60MB of content for the first import from SciPy). Load times when importing from SciPy may take roughly 10-20 seconds. If you notice any problems, feel free to open an [issue](https://github.com/scipy/scipy/issues/new/choose).\n\n</div>",
            "metadata": {}
        },
        {
            "id": "64e09ac0",
            "cell_type": "code",
            "metadata": {},
            "execution_count": null,
            "source": "from scipy.special import betaincc, betainc",
            "outputs": []
        },
        {
            "id": "6230bf47",
            "cell_type": "markdown",
            "source": "The naive calculation ``1 - betainc(a, b, x)`` loses precision when\nthe values of ``betainc(a, b, x)`` are close to 1:\n",
            "metadata": {}
        },
        {
            "id": "5d5a9113",
            "cell_type": "code",
            "metadata": {},
            "execution_count": null,
            "source": "1 - betainc(0.5, 8, [0.9, 0.99, 0.999])",
            "outputs": [
                {
                    "output_type": "execute_result",
                    "metadata": {},
                    "data": {
                        "text/plain": "array([2.0574632e-09, 0.0000000e+00, 0.0000000e+00])"
                    },
                    "execution_count": null
                }
            ]
        },
        {
            "id": "e9f3e346",
            "cell_type": "markdown",
            "source": "By using ``betaincc``, we get the correct values:\n",
            "metadata": {}
        },
        {
            "id": "658a0d5e",
            "cell_type": "code",
            "metadata": {},
            "execution_count": null,
            "source": "betaincc(0.5, 8, [0.9, 0.99, 0.999])",
            "outputs": [
                {
                    "output_type": "execute_result",
                    "metadata": {},
                    "data": {
                        "text/plain": "array([2.05746321e-09, 1.97259354e-17, 1.96467954e-25])"
                    },
                    "execution_count": null
                }
            ]
        }
    ]
}