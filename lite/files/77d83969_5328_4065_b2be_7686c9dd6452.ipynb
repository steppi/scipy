{
    "nbformat": 4,
    "nbformat_minor": 5,
    "metadata": {
        "kernelspec": {
            "display_name": "Python",
            "language": "python",
            "name": "python"
        },
        "language_info": {
            "name": "python"
        }
    },
    "cells": [
        {
            "id": "29fc3b0a",
            "cell_type": "markdown",
            "source": "<div class='alert alert-warning'>\n\nSciPy's interactive examples with Jupyterlite are experimental and may not always work as expected. Execution of cells containing imports may result in large downloads (up to 60MB of content for the first import from SciPy). Load times when importing from SciPy may take roughly 10-20 seconds. If you notice any problems, feel free to open an [issue](https://github.com/scipy/scipy/issues/new/choose).\n\n</div>",
            "metadata": {}
        },
        {
            "id": "94922e9e",
            "cell_type": "code",
            "metadata": {},
            "execution_count": null,
            "source": "import numpy as np\nimport scipy.special as sc",
            "outputs": []
        },
        {
            "id": "69da1dc0",
            "cell_type": "markdown",
            "source": "It has a pole at 0.\n",
            "metadata": {}
        },
        {
            "id": "2e2ce6f1",
            "cell_type": "code",
            "metadata": {},
            "execution_count": null,
            "source": "sc.exp1(0)",
            "outputs": [
                {
                    "output_type": "execute_result",
                    "metadata": {},
                    "data": {
                        "text/plain": "inf"
                    },
                    "execution_count": null
                }
            ]
        },
        {
            "id": "27b8b036",
            "cell_type": "markdown",
            "source": "It has a branch cut on the negative real axis.\n",
            "metadata": {}
        },
        {
            "id": "9213c898",
            "cell_type": "code",
            "metadata": {},
            "execution_count": null,
            "source": "sc.exp1(-1)",
            "outputs": [
                {
                    "output_type": "execute_result",
                    "metadata": {},
                    "data": {
                        "text/plain": "nan"
                    },
                    "execution_count": null
                }
            ]
        },
        {
            "id": "7368cd35",
            "cell_type": "code",
            "metadata": {},
            "execution_count": null,
            "source": "sc.exp1(complex(-1, 0))",
            "outputs": [
                {
                    "output_type": "execute_result",
                    "metadata": {},
                    "data": {
                        "text/plain": "(-1.8951178163559368-3.141592653589793j)"
                    },
                    "execution_count": null
                }
            ]
        },
        {
            "id": "05d515c0",
            "cell_type": "code",
            "metadata": {},
            "execution_count": null,
            "source": "sc.exp1(complex(-1, -0.0))",
            "outputs": [
                {
                    "output_type": "execute_result",
                    "metadata": {},
                    "data": {
                        "text/plain": "(-1.8951178163559368+3.141592653589793j)"
                    },
                    "execution_count": null
                }
            ]
        },
        {
            "id": "11125b8b",
            "cell_type": "markdown",
            "source": "It approaches 0 along the positive real axis.\n",
            "metadata": {}
        },
        {
            "id": "584012ed",
            "cell_type": "code",
            "metadata": {},
            "execution_count": null,
            "source": "sc.exp1([1, 10, 100, 1000])",
            "outputs": [
                {
                    "output_type": "execute_result",
                    "metadata": {},
                    "data": {
                        "text/plain": "array([2.19383934e-01, 4.15696893e-06, 3.68359776e-46, 0.00000000e+00])"
                    },
                    "execution_count": null
                }
            ]
        },
        {
            "id": "e8bd6603",
            "cell_type": "markdown",
            "source": "It is related to `expi`.\n",
            "metadata": {}
        },
        {
            "id": "84177cd9",
            "cell_type": "code",
            "metadata": {},
            "execution_count": null,
            "source": "x = np.array([1, 2, 3, 4])\nsc.exp1(x)",
            "outputs": [
                {
                    "output_type": "execute_result",
                    "metadata": {},
                    "data": {
                        "text/plain": "array([0.21938393, 0.04890051, 0.01304838, 0.00377935])"
                    },
                    "execution_count": null
                }
            ]
        },
        {
            "id": "37921784",
            "cell_type": "code",
            "metadata": {},
            "execution_count": null,
            "source": "-sc.expi(-x)",
            "outputs": [
                {
                    "output_type": "execute_result",
                    "metadata": {},
                    "data": {
                        "text/plain": "array([0.21938393, 0.04890051, 0.01304838, 0.00377935])"
                    },
                    "execution_count": null
                }
            ]
        }
    ]
}