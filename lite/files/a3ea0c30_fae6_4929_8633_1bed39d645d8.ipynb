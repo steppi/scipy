{
    "nbformat": 4,
    "nbformat_minor": 5,
    "metadata": {
        "kernelspec": {
            "display_name": "Python",
            "language": "python",
            "name": "python"
        },
        "language_info": {
            "name": "python"
        }
    },
    "cells": [
        {
            "id": "adb7c6b0",
            "cell_type": "markdown",
            "source": "<div class='alert alert-warning'>\n\nSciPy's interactive examples with Jupyterlite are experimental and may not always work as expected. Execution of cells containing imports may result in large downloads (up to 60MB of content for the first import from SciPy). Load times when importing from SciPy may take roughly 10-20 seconds. If you notice any problems, feel free to open an [issue](https://github.com/scipy/scipy/issues/new/choose).\n\n</div>",
            "metadata": {}
        },
        {
            "id": "7c895557",
            "cell_type": "code",
            "metadata": {},
            "execution_count": null,
            "source": "import scipy.special as sc",
            "outputs": []
        },
        {
            "id": "5003e8cd",
            "cell_type": "markdown",
            "source": "It inverts `chdtrc`.\n",
            "metadata": {}
        },
        {
            "id": "a3521739",
            "cell_type": "code",
            "metadata": {},
            "execution_count": null,
            "source": "v, p = 1, 0.3\nsc.chdtrc(v, sc.chdtri(v, p))",
            "outputs": [
                {
                    "output_type": "execute_result",
                    "metadata": {},
                    "data": {
                        "text/plain": "0.3"
                    },
                    "execution_count": null
                }
            ]
        },
        {
            "id": "7182c4b0",
            "cell_type": "code",
            "metadata": {},
            "execution_count": null,
            "source": "x = 1\nsc.chdtri(v, sc.chdtrc(v, x))",
            "outputs": [
                {
                    "output_type": "execute_result",
                    "metadata": {},
                    "data": {
                        "text/plain": "1.0"
                    },
                    "execution_count": null
                }
            ]
        }
    ]
}