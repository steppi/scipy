{
    "nbformat": 4,
    "nbformat_minor": 5,
    "metadata": {
        "kernelspec": {
            "display_name": "Python",
            "language": "python",
            "name": "python"
        },
        "language_info": {
            "name": "python"
        }
    },
    "cells": [
        {
            "id": "ca19d3a2",
            "cell_type": "markdown",
            "source": "<div class='alert alert-warning'>\n\nSciPy's interactive examples with Jupyterlite are experimental and may not always work as expected. Execution of cells containing imports may result in large downloads (up to 60MB of content for the first import from SciPy). Load times when importing from SciPy may take roughly 10-20 seconds. If you notice any problems, feel free to open an [issue](https://github.com/scipy/scipy/issues/new/choose).\n\n</div>",
            "metadata": {}
        },
        {
            "id": "bd08f886",
            "cell_type": "code",
            "metadata": {},
            "execution_count": null,
            "source": "import numpy as np\nfreqs = np.fft.fftfreq(10, 0.1)\nfreqs",
            "outputs": [
                {
                    "output_type": "execute_result",
                    "metadata": {},
                    "data": {
                        "text/plain": "array([ 0.,  1.,  2., ..., -3., -2., -1.])"
                    },
                    "execution_count": null
                }
            ]
        },
        {
            "id": "aadda24a",
            "cell_type": "code",
            "metadata": {},
            "execution_count": null,
            "source": "np.fft.fftshift(freqs)",
            "outputs": [
                {
                    "output_type": "execute_result",
                    "metadata": {},
                    "data": {
                        "text/plain": "array([-5., -4., -3., -2., -1.,  0.,  1.,  2.,  3.,  4.])"
                    },
                    "execution_count": null
                }
            ]
        },
        {
            "id": "b775e48f",
            "cell_type": "markdown",
            "source": "Shift the zero-frequency component only along the second axis:\n",
            "metadata": {}
        },
        {
            "id": "ab757445",
            "cell_type": "code",
            "metadata": {},
            "execution_count": null,
            "source": "freqs = np.fft.fftfreq(9, d=1./9).reshape(3, 3)\nfreqs",
            "outputs": [
                {
                    "output_type": "execute_result",
                    "metadata": {},
                    "data": {
                        "text/plain": "array([[ 0.,  1.,  2.],\n       [ 3.,  4., -4.],\n       [-3., -2., -1.]])"
                    },
                    "execution_count": null
                }
            ]
        },
        {
            "id": "faa6c194",
            "cell_type": "code",
            "metadata": {},
            "execution_count": null,
            "source": "np.fft.fftshift(freqs, axes=(1,))",
            "outputs": [
                {
                    "output_type": "execute_result",
                    "metadata": {},
                    "data": {
                        "text/plain": "array([[ 2.,  0.,  1.],\n       [-4.,  3.,  4.],\n       [-1., -3., -2.]])"
                    },
                    "execution_count": null
                }
            ]
        }
    ]
}