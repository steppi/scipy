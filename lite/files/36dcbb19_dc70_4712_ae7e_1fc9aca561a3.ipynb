{
    "nbformat": 4,
    "nbformat_minor": 5,
    "metadata": {
        "kernelspec": {
            "display_name": "Python",
            "language": "python",
            "name": "python"
        },
        "language_info": {
            "name": "python"
        }
    },
    "cells": [
        {
            "id": "889a3224",
            "cell_type": "markdown",
            "source": "<div class='alert alert-warning'>\n\nSciPy's interactive examples with Jupyterlite are experimental and may not always work as expected. Execution of cells containing imports may result in large downloads (up to 60MB of content for the first import from SciPy). Load times when importing from SciPy may take roughly 10-20 seconds. If you notice any problems, feel free to open an [issue](https://github.com/scipy/scipy/issues/new/choose).\n\n</div>",
            "metadata": {}
        },
        {
            "id": "b86873db",
            "cell_type": "code",
            "metadata": {},
            "execution_count": null,
            "source": "import numpy as np\nfrom scipy.stats import kappa3\nimport matplotlib.pyplot as plt\nfig, ax = plt.subplots(1, 1)",
            "outputs": []
        },
        {
            "id": "e3e158e7",
            "cell_type": "markdown",
            "source": "Calculate the first four moments:\n",
            "metadata": {}
        },
        {
            "id": "53c9f92a",
            "cell_type": "code",
            "metadata": {},
            "execution_count": null,
            "source": "a = 1\nmean, var, skew, kurt = kappa3.stats(a, moments='mvsk')",
            "outputs": []
        },
        {
            "id": "4b230a76",
            "cell_type": "markdown",
            "source": "Display the probability density function (``pdf``):\n",
            "metadata": {}
        },
        {
            "id": "64369758",
            "cell_type": "code",
            "metadata": {},
            "execution_count": null,
            "source": "x = np.linspace(kappa3.ppf(0.01, a),\n                kappa3.ppf(0.99, a), 100)\nax.plot(x, kappa3.pdf(x, a),\n       'r-', lw=5, alpha=0.6, label='kappa3 pdf')",
            "outputs": []
        },
        {
            "id": "b2692387",
            "cell_type": "markdown",
            "source": "Alternatively, the distribution object can be called (as a function)\nto fix the shape, location and scale parameters. This returns a \"frozen\"\nRV object holding the given parameters fixed.\n\nFreeze the distribution and display the frozen ``pdf``:\n",
            "metadata": {}
        },
        {
            "id": "2ffb616f",
            "cell_type": "code",
            "metadata": {},
            "execution_count": null,
            "source": "rv = kappa3(a)\nax.plot(x, rv.pdf(x), 'k-', lw=2, label='frozen pdf')",
            "outputs": []
        },
        {
            "id": "d53c69cc",
            "cell_type": "markdown",
            "source": "Check accuracy of ``cdf`` and ``ppf``:\n",
            "metadata": {}
        },
        {
            "id": "bb03c60c",
            "cell_type": "code",
            "metadata": {},
            "execution_count": null,
            "source": "vals = kappa3.ppf([0.001, 0.5, 0.999], a)\nnp.allclose([0.001, 0.5, 0.999], kappa3.cdf(vals, a))",
            "outputs": [
                {
                    "output_type": "execute_result",
                    "metadata": {},
                    "data": {
                        "text/plain": "True"
                    },
                    "execution_count": null
                }
            ]
        },
        {
            "id": "545a65da",
            "cell_type": "markdown",
            "source": "Generate random numbers:\n",
            "metadata": {}
        },
        {
            "id": "ac08d52c",
            "cell_type": "code",
            "metadata": {},
            "execution_count": null,
            "source": "r = kappa3.rvs(a, size=1000)",
            "outputs": []
        },
        {
            "id": "d8fe292d",
            "cell_type": "markdown",
            "source": "And compare the histogram:\n",
            "metadata": {}
        },
        {
            "id": "b9d28967",
            "cell_type": "code",
            "metadata": {},
            "execution_count": null,
            "source": "ax.hist(r, density=True, bins='auto', histtype='stepfilled', alpha=0.2)\nax.set_xlim([x[0], x[-1]])\nax.legend(loc='best', frameon=False)\nplt.show()",
            "outputs": []
        }
    ]
}