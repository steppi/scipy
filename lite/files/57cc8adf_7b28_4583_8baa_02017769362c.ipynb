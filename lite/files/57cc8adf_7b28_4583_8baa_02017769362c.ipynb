{
    "nbformat": 4,
    "nbformat_minor": 5,
    "metadata": {
        "kernelspec": {
            "display_name": "Python",
            "language": "python",
            "name": "python"
        },
        "language_info": {
            "name": "python"
        }
    },
    "cells": [
        {
            "id": "dcd99292",
            "cell_type": "markdown",
            "source": "<div class='alert alert-warning'>\n\nSciPy's interactive examples with Jupyterlite are experimental and may not always work as expected. Execution of cells containing imports may result in large downloads (up to 60MB of content for the first import from SciPy). Load times when importing from SciPy may take roughly 10-20 seconds. If you notice any problems, feel free to open an [issue](https://github.com/scipy/scipy/issues/new/choose).\n\n</div>",
            "metadata": {}
        },
        {
            "id": "e22aa1b1",
            "cell_type": "code",
            "metadata": {},
            "execution_count": null,
            "source": "import numpy as np\nfrom scipy.stats import powerlognorm\nimport matplotlib.pyplot as plt\nfig, ax = plt.subplots(1, 1)",
            "outputs": []
        },
        {
            "id": "8d0fb38d",
            "cell_type": "markdown",
            "source": "Calculate the first four moments:\n",
            "metadata": {}
        },
        {
            "id": "2075c93f",
            "cell_type": "code",
            "metadata": {},
            "execution_count": null,
            "source": "c, s = 2.14, 0.446\nmean, var, skew, kurt = powerlognorm.stats(c, s, moments='mvsk')",
            "outputs": []
        },
        {
            "id": "5acb598b",
            "cell_type": "markdown",
            "source": "Display the probability density function (``pdf``):\n",
            "metadata": {}
        },
        {
            "id": "332b9939",
            "cell_type": "code",
            "metadata": {},
            "execution_count": null,
            "source": "x = np.linspace(powerlognorm.ppf(0.01, c, s),\n                powerlognorm.ppf(0.99, c, s), 100)\nax.plot(x, powerlognorm.pdf(x, c, s),\n       'r-', lw=5, alpha=0.6, label='powerlognorm pdf')",
            "outputs": []
        },
        {
            "id": "4296a9a0",
            "cell_type": "markdown",
            "source": "Alternatively, the distribution object can be called (as a function)\nto fix the shape, location and scale parameters. This returns a \"frozen\"\nRV object holding the given parameters fixed.\n\nFreeze the distribution and display the frozen ``pdf``:\n",
            "metadata": {}
        },
        {
            "id": "bd2dec2d",
            "cell_type": "code",
            "metadata": {},
            "execution_count": null,
            "source": "rv = powerlognorm(c, s)\nax.plot(x, rv.pdf(x), 'k-', lw=2, label='frozen pdf')",
            "outputs": []
        },
        {
            "id": "77507b99",
            "cell_type": "markdown",
            "source": "Check accuracy of ``cdf`` and ``ppf``:\n",
            "metadata": {}
        },
        {
            "id": "3710d772",
            "cell_type": "code",
            "metadata": {},
            "execution_count": null,
            "source": "vals = powerlognorm.ppf([0.001, 0.5, 0.999], c, s)\nnp.allclose([0.001, 0.5, 0.999], powerlognorm.cdf(vals, c, s))",
            "outputs": [
                {
                    "output_type": "execute_result",
                    "metadata": {},
                    "data": {
                        "text/plain": "True"
                    },
                    "execution_count": null
                }
            ]
        },
        {
            "id": "1452d0d9",
            "cell_type": "markdown",
            "source": "Generate random numbers:\n",
            "metadata": {}
        },
        {
            "id": "2361c140",
            "cell_type": "code",
            "metadata": {},
            "execution_count": null,
            "source": "r = powerlognorm.rvs(c, s, size=1000)",
            "outputs": []
        },
        {
            "id": "20e7c49c",
            "cell_type": "markdown",
            "source": "And compare the histogram:\n",
            "metadata": {}
        },
        {
            "id": "d4ae2ced",
            "cell_type": "code",
            "metadata": {},
            "execution_count": null,
            "source": "ax.hist(r, density=True, bins='auto', histtype='stepfilled', alpha=0.2)\nax.set_xlim([x[0], x[-1]])\nax.legend(loc='best', frameon=False)\nplt.show()",
            "outputs": []
        }
    ]
}