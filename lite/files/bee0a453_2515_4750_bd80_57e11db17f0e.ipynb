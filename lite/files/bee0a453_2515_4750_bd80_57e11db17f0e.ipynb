{
    "nbformat": 4,
    "nbformat_minor": 5,
    "metadata": {
        "kernelspec": {
            "display_name": "Python",
            "language": "python",
            "name": "python"
        },
        "language_info": {
            "name": "python"
        }
    },
    "cells": [
        {
            "id": "62921c21",
            "cell_type": "markdown",
            "source": "<div class='alert alert-warning'>\n\nSciPy's interactive examples with Jupyterlite are experimental and may not always work as expected. Execution of cells containing imports may result in large downloads (up to 60MB of content for the first import from SciPy). Load times when importing from SciPy may take roughly 10-20 seconds. If you notice any problems, feel free to open an [issue](https://github.com/scipy/scipy/issues/new/choose).\n\n</div>",
            "metadata": {}
        },
        {
            "id": "92560d45",
            "cell_type": "code",
            "metadata": {},
            "execution_count": null,
            "source": "from scipy.spatial.transform import Rotation as R",
            "outputs": []
        },
        {
            "id": "ec2a7066",
            "cell_type": "markdown",
            "source": "Initialize a single rotation along a single axis:\n",
            "metadata": {}
        },
        {
            "id": "e0bd3d8a",
            "cell_type": "code",
            "metadata": {},
            "execution_count": null,
            "source": "r = R.from_euler('x', 90, degrees=True)\nr.as_quat().shape",
            "outputs": [
                {
                    "output_type": "execute_result",
                    "metadata": {},
                    "data": {
                        "text/plain": "(4,)"
                    },
                    "execution_count": null
                }
            ]
        },
        {
            "id": "3fb87f3a",
            "cell_type": "markdown",
            "source": "Initialize a single rotation with a given axis sequence:\n",
            "metadata": {}
        },
        {
            "id": "8dce2337",
            "cell_type": "code",
            "metadata": {},
            "execution_count": null,
            "source": "r = R.from_euler('zyx', [90, 45, 30], degrees=True)\nr.as_quat().shape",
            "outputs": [
                {
                    "output_type": "execute_result",
                    "metadata": {},
                    "data": {
                        "text/plain": "(4,)"
                    },
                    "execution_count": null
                }
            ]
        },
        {
            "id": "76e89fe3",
            "cell_type": "markdown",
            "source": "Initialize a stack with a single rotation around a single axis:\n",
            "metadata": {}
        },
        {
            "id": "4c3a464e",
            "cell_type": "code",
            "metadata": {},
            "execution_count": null,
            "source": "r = R.from_euler('x', [90], degrees=True)\nr.as_quat().shape",
            "outputs": [
                {
                    "output_type": "execute_result",
                    "metadata": {},
                    "data": {
                        "text/plain": "(1, 4)"
                    },
                    "execution_count": null
                }
            ]
        },
        {
            "id": "c9662a2c",
            "cell_type": "markdown",
            "source": "Initialize a stack with a single rotation with an axis sequence:\n",
            "metadata": {}
        },
        {
            "id": "c8ad6449",
            "cell_type": "code",
            "metadata": {},
            "execution_count": null,
            "source": "r = R.from_euler('zyx', [[90, 45, 30]], degrees=True)\nr.as_quat().shape",
            "outputs": [
                {
                    "output_type": "execute_result",
                    "metadata": {},
                    "data": {
                        "text/plain": "(1, 4)"
                    },
                    "execution_count": null
                }
            ]
        },
        {
            "id": "baff68d2",
            "cell_type": "markdown",
            "source": "Initialize multiple elementary rotations in one object:\n",
            "metadata": {}
        },
        {
            "id": "34ad086a",
            "cell_type": "code",
            "metadata": {},
            "execution_count": null,
            "source": "r = R.from_euler('x', [90, 45, 30], degrees=True)\nr.as_quat().shape",
            "outputs": [
                {
                    "output_type": "execute_result",
                    "metadata": {},
                    "data": {
                        "text/plain": "(3, 4)"
                    },
                    "execution_count": null
                }
            ]
        },
        {
            "id": "fd90739e",
            "cell_type": "markdown",
            "source": "Initialize multiple rotations in one object:\n",
            "metadata": {}
        },
        {
            "id": "57d2c5b5",
            "cell_type": "code",
            "metadata": {},
            "execution_count": null,
            "source": "r = R.from_euler('zyx', [[90, 45, 30], [35, 45, 90]], degrees=True)\nr.as_quat().shape",
            "outputs": [
                {
                    "output_type": "execute_result",
                    "metadata": {},
                    "data": {
                        "text/plain": "(2, 4)"
                    },
                    "execution_count": null
                }
            ]
        }
    ]
}