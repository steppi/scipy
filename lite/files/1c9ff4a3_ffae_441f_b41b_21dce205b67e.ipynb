{
    "nbformat": 4,
    "nbformat_minor": 5,
    "metadata": {
        "kernelspec": {
            "display_name": "Python",
            "language": "python",
            "name": "python"
        },
        "language_info": {
            "name": "python"
        }
    },
    "cells": [
        {
            "id": "abfc74d2",
            "cell_type": "markdown",
            "source": "<div class='alert alert-warning'>\n\nSciPy's interactive examples with Jupyterlite are experimental and may not always work as expected. Execution of cells containing imports may result in large downloads (up to 60MB of content for the first import from SciPy). Load times when importing from SciPy may take roughly 10-20 seconds. If you notice any problems, feel free to open an [issue](https://github.com/scipy/scipy/issues/new/choose).\n\n</div>",
            "metadata": {}
        },
        {
            "id": "74e31be8",
            "cell_type": "markdown",
            "source": "Consider the problem of minimizing the following function.\n",
            "metadata": {}
        },
        {
            "id": "d02bdb5d",
            "cell_type": "code",
            "metadata": {},
            "execution_count": null,
            "source": "def f(x):\n    return (x - 2) * x * (x + 2)**2",
            "outputs": []
        },
        {
            "id": "8a354be3",
            "cell_type": "markdown",
            "source": "Using the *Brent* method, we find the local minimum as:\n",
            "metadata": {}
        },
        {
            "id": "bb5812d9",
            "cell_type": "code",
            "metadata": {},
            "execution_count": null,
            "source": "from scipy.optimize import minimize_scalar\nres = minimize_scalar(f)\nres.fun",
            "outputs": [
                {
                    "output_type": "execute_result",
                    "metadata": {},
                    "data": {
                        "text/plain": "-9.9149495908"
                    },
                    "execution_count": null
                }
            ]
        },
        {
            "id": "74a09743",
            "cell_type": "markdown",
            "source": "The minimizer is:\n",
            "metadata": {}
        },
        {
            "id": "8c3d4572",
            "cell_type": "code",
            "metadata": {},
            "execution_count": null,
            "source": "res.x",
            "outputs": [
                {
                    "output_type": "execute_result",
                    "metadata": {},
                    "data": {
                        "text/plain": "1.28077640403"
                    },
                    "execution_count": null
                }
            ]
        },
        {
            "id": "3074c345",
            "cell_type": "markdown",
            "source": "Using the *Bounded* method, we find a local minimum with specified\nbounds as:\n",
            "metadata": {}
        },
        {
            "id": "ea4ff72b",
            "cell_type": "code",
            "metadata": {},
            "execution_count": null,
            "source": "res = minimize_scalar(f, bounds=(-3, -1), method='bounded')\nres.fun  # minimum",
            "outputs": [
                {
                    "output_type": "execute_result",
                    "metadata": {},
                    "data": {
                        "text/plain": "3.28365179850e-13"
                    },
                    "execution_count": null
                }
            ]
        },
        {
            "id": "a615f7de",
            "cell_type": "code",
            "metadata": {},
            "execution_count": null,
            "source": "res.x  # minimizer",
            "outputs": [
                {
                    "output_type": "execute_result",
                    "metadata": {},
                    "data": {
                        "text/plain": "-2.0000002026"
                    },
                    "execution_count": null
                }
            ]
        }
    ]
}