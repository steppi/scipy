{
    "nbformat": 4,
    "nbformat_minor": 5,
    "metadata": {
        "kernelspec": {
            "display_name": "Python",
            "language": "python",
            "name": "python"
        },
        "language_info": {
            "name": "python"
        }
    },
    "cells": [
        {
            "id": "78d71d79",
            "cell_type": "markdown",
            "source": "<div class='alert alert-warning'>\n\nSciPy's interactive examples with Jupyterlite are experimental and may not always work as expected. Execution of cells containing imports may result in large downloads (up to 60MB of content for the first import from SciPy). Load times when importing from SciPy may take roughly 10-20 seconds. If you notice any problems, feel free to open an [issue](https://github.com/scipy/scipy/issues/new/choose).\n\n</div>",
            "metadata": {}
        },
        {
            "id": "f629cbbd",
            "cell_type": "code",
            "metadata": {},
            "execution_count": null,
            "source": "from scipy.cluster.hierarchy import ward, fcluster, leaders\nfrom scipy.spatial.distance import pdist",
            "outputs": []
        },
        {
            "id": "50ae2d3e",
            "cell_type": "markdown",
            "source": "Given a linkage matrix ``Z`` - obtained after apply a clustering method\nto a dataset ``X`` - and a flat cluster assignment array ``T``:\n",
            "metadata": {}
        },
        {
            "id": "00124c85",
            "cell_type": "code",
            "metadata": {},
            "execution_count": null,
            "source": "X = [[0, 0], [0, 1], [1, 0],\n     [0, 4], [0, 3], [1, 4],\n     [4, 0], [3, 0], [4, 1],\n     [4, 4], [3, 4], [4, 3]]",
            "outputs": []
        },
        {
            "id": "84b69381",
            "cell_type": "code",
            "metadata": {},
            "execution_count": null,
            "source": "Z = ward(pdist(X))\nZ",
            "outputs": [
                {
                    "output_type": "execute_result",
                    "metadata": {},
                    "data": {
                        "text/plain": "array([[ 0.        ,  1.        ,  1.        ,  2.        ],\n       [ 3.        ,  4.        ,  1.        ,  2.        ],\n       [ 6.        ,  7.        ,  1.        ,  2.        ],\n       [ 9.        , 10.        ,  1.        ,  2.        ],\n       [ 2.        , 12.        ,  1.29099445,  3.        ],\n       [ 5.        , 13.        ,  1.29099445,  3.        ],\n       [ 8.        , 14.        ,  1.29099445,  3.        ],\n       [11.        , 15.        ,  1.29099445,  3.        ],\n       [16.        , 17.        ,  5.77350269,  6.        ],\n       [18.        , 19.        ,  5.77350269,  6.        ],\n       [20.        , 21.        ,  8.16496581, 12.        ]])"
                    },
                    "execution_count": null
                }
            ]
        },
        {
            "id": "baabcc6a",
            "cell_type": "code",
            "metadata": {},
            "execution_count": null,
            "source": "T = fcluster(Z, 3, criterion='distance')\nT",
            "outputs": [
                {
                    "output_type": "execute_result",
                    "metadata": {},
                    "data": {
                        "text/plain": "array([1, 1, 1, 2, 2, 2, 3, 3, 3, 4, 4, 4], dtype=int32)"
                    },
                    "execution_count": null
                }
            ]
        },
        {
            "id": "36159cd8",
            "cell_type": "markdown",
            "source": "`scipy.cluster.hierarchy.leaders` returns the indices of the nodes\nin the dendrogram that are the leaders of each flat cluster:\n",
            "metadata": {}
        },
        {
            "id": "c7e2096f",
            "cell_type": "code",
            "metadata": {},
            "execution_count": null,
            "source": "L, M = leaders(Z, T)\nL",
            "outputs": [
                {
                    "output_type": "execute_result",
                    "metadata": {},
                    "data": {
                        "text/plain": "array([16, 17, 18, 19], dtype=int32)"
                    },
                    "execution_count": null
                }
            ]
        },
        {
            "id": "808b10a0",
            "cell_type": "markdown",
            "source": "(remember that indices 0-11 point to the 12 data points in ``X``,\nwhereas indices 12-22 point to the 11 rows of ``Z``)\n\n`scipy.cluster.hierarchy.leaders` also returns the indices of\nthe flat clusters in ``T``:\n",
            "metadata": {}
        },
        {
            "id": "0c793432",
            "cell_type": "code",
            "metadata": {},
            "execution_count": null,
            "source": "M",
            "outputs": [
                {
                    "output_type": "execute_result",
                    "metadata": {},
                    "data": {
                        "text/plain": "array([1, 2, 3, 4], dtype=int32)"
                    },
                    "execution_count": null
                }
            ]
        }
    ]
}