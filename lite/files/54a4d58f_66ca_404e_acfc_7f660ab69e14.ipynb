{
    "nbformat": 4,
    "nbformat_minor": 5,
    "metadata": {
        "kernelspec": {
            "display_name": "Python",
            "language": "python",
            "name": "python"
        },
        "language_info": {
            "name": "python"
        }
    },
    "cells": [
        {
            "id": "49f85dfe",
            "cell_type": "markdown",
            "source": "<div class='alert alert-warning'>\n\nSciPy's interactive examples with Jupyterlite are experimental and may not always work as expected. Execution of cells containing imports may result in large downloads (up to 60MB of content for the first import from SciPy). Load times when importing from SciPy may take roughly 10-20 seconds. If you notice any problems, feel free to open an [issue](https://github.com/scipy/scipy/issues/new/choose).\n\n</div>",
            "metadata": {}
        },
        {
            "id": "9db70263",
            "cell_type": "code",
            "metadata": {},
            "execution_count": null,
            "source": "import numpy as np\nfrom scipy.stats import zipf\nimport matplotlib.pyplot as plt\nfig, ax = plt.subplots(1, 1)",
            "outputs": []
        },
        {
            "id": "0460f25e",
            "cell_type": "markdown",
            "source": "Calculate the first four moments:\n",
            "metadata": {}
        },
        {
            "id": "945dd24a",
            "cell_type": "code",
            "metadata": {},
            "execution_count": null,
            "source": "a = 6.5\nmean, var, skew, kurt = zipf.stats(a, moments='mvsk')",
            "outputs": []
        },
        {
            "id": "6312f305",
            "cell_type": "markdown",
            "source": "Display the probability mass function (``pmf``):\n",
            "metadata": {}
        },
        {
            "id": "e32d8282",
            "cell_type": "code",
            "metadata": {},
            "execution_count": null,
            "source": "x = np.arange(zipf.ppf(0.01, a),\n              zipf.ppf(0.99, a))\nax.plot(x, zipf.pmf(x, a), 'bo', ms=8, label='zipf pmf')\nax.vlines(x, 0, zipf.pmf(x, a), colors='b', lw=5, alpha=0.5)",
            "outputs": []
        },
        {
            "id": "94eaceef",
            "cell_type": "markdown",
            "source": "Alternatively, the distribution object can be called (as a function)\nto fix the shape and location. This returns a \"frozen\" RV object holding\nthe given parameters fixed.\n\nFreeze the distribution and display the frozen ``pmf``:\n",
            "metadata": {}
        },
        {
            "id": "03a6a0b5",
            "cell_type": "code",
            "metadata": {},
            "execution_count": null,
            "source": "rv = zipf(a)\nax.vlines(x, 0, rv.pmf(x), colors='k', linestyles='-', lw=1,\n        label='frozen pmf')\nax.legend(loc='best', frameon=False)\nplt.show()",
            "outputs": []
        },
        {
            "id": "a93bd26b",
            "cell_type": "markdown",
            "source": "Check accuracy of ``cdf`` and ``ppf``:\n",
            "metadata": {}
        },
        {
            "id": "def45dc3",
            "cell_type": "code",
            "metadata": {},
            "execution_count": null,
            "source": "prob = zipf.cdf(x, a)\nnp.allclose(x, zipf.ppf(prob, a))",
            "outputs": [
                {
                    "output_type": "execute_result",
                    "metadata": {},
                    "data": {
                        "text/plain": "True"
                    },
                    "execution_count": null
                }
            ]
        },
        {
            "id": "f69e4c3b",
            "cell_type": "markdown",
            "source": "Generate random numbers:\n",
            "metadata": {}
        },
        {
            "id": "c7945632",
            "cell_type": "code",
            "metadata": {},
            "execution_count": null,
            "source": "r = zipf.rvs(a, size=1000)",
            "outputs": []
        },
        {
            "id": "33bc5e6c",
            "cell_type": "markdown",
            "source": "Confirm that `zipf` is the large `n` limit of `zipfian`.\n",
            "metadata": {}
        },
        {
            "id": "806b2463",
            "cell_type": "code",
            "metadata": {},
            "execution_count": null,
            "source": "import numpy as np\nfrom scipy.stats import zipf, zipfian\nk = np.arange(11)\nnp.allclose(zipf.pmf(k, a), zipfian.pmf(k, a, n=10000000))",
            "outputs": [
                {
                    "output_type": "execute_result",
                    "metadata": {},
                    "data": {
                        "text/plain": "True"
                    },
                    "execution_count": null
                }
            ]
        }
    ]
}