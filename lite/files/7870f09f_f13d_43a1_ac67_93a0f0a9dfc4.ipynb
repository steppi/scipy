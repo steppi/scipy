{
    "nbformat": 4,
    "nbformat_minor": 5,
    "metadata": {
        "kernelspec": {
            "display_name": "Python",
            "language": "python",
            "name": "python"
        },
        "language_info": {
            "name": "python"
        }
    },
    "cells": [
        {
            "id": "c2e799cc",
            "cell_type": "markdown",
            "source": "<div class='alert alert-warning'>\n\nSciPy's interactive examples with Jupyterlite are experimental and may not always work as expected. Execution of cells containing imports may result in large downloads (up to 60MB of content for the first import from SciPy). Load times when importing from SciPy may take roughly 10-20 seconds. If you notice any problems, feel free to open an [issue](https://github.com/scipy/scipy/issues/new/choose).\n\n</div>",
            "metadata": {}
        },
        {
            "id": "e0b6fa85",
            "cell_type": "markdown",
            "source": "In [4], the use of aspirin to prevent cardiovascular events in women\nand men was investigated. The study notably concluded:\n\n    ...aspirin therapy reduced the risk of a composite of\n    cardiovascular events due to its effect on reducing the risk of\n    ischemic stroke in women [...]\n\nThe article lists studies of various cardiovascular events. Let's\nfocus on the ischemic stoke in women.\n\nThe following table summarizes the results of the experiment in which\nparticipants took aspirin or a placebo on a regular basis for several\nyears. Cases of ischemic stroke were recorded\n```\n\nAspirin   Control/Placebo\nIschemic stroke     176           230\nNo stroke         21035         21018\n\n```\nIs there evidence that the aspirin reduces the risk of ischemic stroke?\nWe begin by formulating a null hypothesis $H_0$:\n\n    The effect of aspirin is equivalent to that of placebo.\n\nLet's assess the plausibility of this hypothesis with\na chi-square test.\n",
            "metadata": {}
        },
        {
            "id": "d55b16ff",
            "cell_type": "code",
            "metadata": {},
            "execution_count": null,
            "source": "import numpy as np\nfrom scipy.stats import chi2_contingency\ntable = np.array([[176, 230], [21035, 21018]])\nres = chi2_contingency(table)\nres.statistic",
            "outputs": [
                {
                    "output_type": "execute_result",
                    "metadata": {},
                    "data": {
                        "text/plain": "6.892569132546561"
                    },
                    "execution_count": null
                }
            ]
        },
        {
            "id": "d14c5a6e",
            "cell_type": "code",
            "metadata": {},
            "execution_count": null,
            "source": "res.pvalue",
            "outputs": [
                {
                    "output_type": "execute_result",
                    "metadata": {},
                    "data": {
                        "text/plain": "0.008655478161175739"
                    },
                    "execution_count": null
                }
            ]
        },
        {
            "id": "35767087",
            "cell_type": "markdown",
            "source": "Using a significance level of 5%, we would reject the null hypothesis in\nfavor of the alternative hypothesis: \"the effect of aspirin\nis not equivalent to the effect of placebo\".\nBecause `scipy.stats.contingency.chi2_contingency` performs a two-sided\ntest, the alternative hypothesis does not indicate the direction of the\neffect. We can use `stats.contingency.odds_ratio` to support the\nconclusion that aspirin *reduces* the risk of ischemic stroke.\n\nBelow are further examples showing how larger contingency tables can be\ntested.\n\nA two-way example (2 x 3):\n",
            "metadata": {}
        },
        {
            "id": "5c06d229",
            "cell_type": "code",
            "metadata": {},
            "execution_count": null,
            "source": "obs = np.array([[10, 10, 20], [20, 20, 20]])\nres = chi2_contingency(obs)\nres.statistic",
            "outputs": [
                {
                    "output_type": "execute_result",
                    "metadata": {},
                    "data": {
                        "text/plain": "2.7777777777777777"
                    },
                    "execution_count": null
                }
            ]
        },
        {
            "id": "048e65c2",
            "cell_type": "code",
            "metadata": {},
            "execution_count": null,
            "source": "res.pvalue",
            "outputs": [
                {
                    "output_type": "execute_result",
                    "metadata": {},
                    "data": {
                        "text/plain": "0.24935220877729619"
                    },
                    "execution_count": null
                }
            ]
        },
        {
            "id": "fdf4ffdc",
            "cell_type": "code",
            "metadata": {},
            "execution_count": null,
            "source": "res.dof",
            "outputs": [
                {
                    "output_type": "execute_result",
                    "metadata": {},
                    "data": {
                        "text/plain": "2"
                    },
                    "execution_count": null
                }
            ]
        },
        {
            "id": "e1a9b028",
            "cell_type": "code",
            "metadata": {},
            "execution_count": null,
            "source": "res.expected_freq",
            "outputs": [
                {
                    "output_type": "execute_result",
                    "metadata": {},
                    "data": {
                        "text/plain": "array([[ 12.,  12.,  16.],\n       [ 18.,  18.,  24.]])"
                    },
                    "execution_count": null
                }
            ]
        },
        {
            "id": "b9325141",
            "cell_type": "markdown",
            "source": "Perform the test using the log-likelihood ratio (i.e. the \"G-test\")\ninstead of Pearson's chi-squared statistic.\n",
            "metadata": {}
        },
        {
            "id": "ced827bd",
            "cell_type": "code",
            "metadata": {},
            "execution_count": null,
            "source": "res = chi2_contingency(obs, lambda_=\"log-likelihood\")\nres.statistic",
            "outputs": [
                {
                    "output_type": "execute_result",
                    "metadata": {},
                    "data": {
                        "text/plain": "2.7688587616781319"
                    },
                    "execution_count": null
                }
            ]
        },
        {
            "id": "a33c88b3",
            "cell_type": "code",
            "metadata": {},
            "execution_count": null,
            "source": "res.pvalue",
            "outputs": [
                {
                    "output_type": "execute_result",
                    "metadata": {},
                    "data": {
                        "text/plain": "0.25046668010954165"
                    },
                    "execution_count": null
                }
            ]
        },
        {
            "id": "5a248bc4",
            "cell_type": "markdown",
            "source": "A four-way example (2 x 2 x 2 x 2):\n",
            "metadata": {}
        },
        {
            "id": "41e06ce1",
            "cell_type": "code",
            "metadata": {},
            "execution_count": null,
            "source": "obs = np.array(\n    [[[[12, 17],\n       [11, 16]],\n      [[11, 12],\n       [15, 16]]],\n     [[[23, 15],\n       [30, 22]],\n      [[14, 17],\n       [15, 16]]]])\nres = chi2_contingency(obs)\nres.statistic",
            "outputs": [
                {
                    "output_type": "execute_result",
                    "metadata": {},
                    "data": {
                        "text/plain": "8.7584514426741897"
                    },
                    "execution_count": null
                }
            ]
        },
        {
            "id": "7a7573fb",
            "cell_type": "code",
            "metadata": {},
            "execution_count": null,
            "source": "res.pvalue",
            "outputs": [
                {
                    "output_type": "execute_result",
                    "metadata": {},
                    "data": {
                        "text/plain": "0.64417725029295503"
                    },
                    "execution_count": null
                }
            ]
        }
    ]
}