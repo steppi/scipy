{
    "nbformat": 4,
    "nbformat_minor": 5,
    "metadata": {
        "kernelspec": {
            "display_name": "Python",
            "language": "python",
            "name": "python"
        },
        "language_info": {
            "name": "python"
        }
    },
    "cells": [
        {
            "id": "1b9e1847",
            "cell_type": "markdown",
            "source": "<div class='alert alert-warning'>\n\nSciPy's interactive examples with Jupyterlite are experimental and may not always work as expected. Execution of cells containing imports may result in large downloads (up to 60MB of content for the first import from SciPy). Load times when importing from SciPy may take roughly 10-20 seconds. If you notice any problems, feel free to open an [issue](https://github.com/scipy/scipy/issues/new/choose).\n\n</div>",
            "metadata": {}
        },
        {
            "id": "7455f0e3",
            "cell_type": "code",
            "metadata": {},
            "execution_count": null,
            "source": "from scipy.cluster.hierarchy import DisjointSet",
            "outputs": []
        },
        {
            "id": "e2249eda",
            "cell_type": "markdown",
            "source": "Initialize a disjoint set:\n",
            "metadata": {}
        },
        {
            "id": "2163fe35",
            "cell_type": "code",
            "metadata": {},
            "execution_count": null,
            "source": "disjoint_set = DisjointSet([1, 2, 3, 'a', 'b'])",
            "outputs": []
        },
        {
            "id": "8a69ca52",
            "cell_type": "markdown",
            "source": "Merge some subsets:\n",
            "metadata": {}
        },
        {
            "id": "1ffd0e65",
            "cell_type": "code",
            "metadata": {},
            "execution_count": null,
            "source": "disjoint_set.merge(1, 2)",
            "outputs": [
                {
                    "output_type": "execute_result",
                    "metadata": {},
                    "data": {
                        "text/plain": "True"
                    },
                    "execution_count": null
                }
            ]
        },
        {
            "id": "cc83b9bc",
            "cell_type": "code",
            "metadata": {},
            "execution_count": null,
            "source": "disjoint_set.merge(3, 'a')",
            "outputs": [
                {
                    "output_type": "execute_result",
                    "metadata": {},
                    "data": {
                        "text/plain": "True"
                    },
                    "execution_count": null
                }
            ]
        },
        {
            "id": "9cdd59ab",
            "cell_type": "code",
            "metadata": {},
            "execution_count": null,
            "source": "disjoint_set.merge('a', 'b')",
            "outputs": [
                {
                    "output_type": "execute_result",
                    "metadata": {},
                    "data": {
                        "text/plain": "True"
                    },
                    "execution_count": null
                }
            ]
        },
        {
            "id": "37824ab7",
            "cell_type": "code",
            "metadata": {},
            "execution_count": null,
            "source": "disjoint_set.merge('b', 'b')",
            "outputs": [
                {
                    "output_type": "execute_result",
                    "metadata": {},
                    "data": {
                        "text/plain": "False"
                    },
                    "execution_count": null
                }
            ]
        },
        {
            "id": "becd20cf",
            "cell_type": "markdown",
            "source": "Find root elements:\n",
            "metadata": {}
        },
        {
            "id": "71568f2c",
            "cell_type": "code",
            "metadata": {},
            "execution_count": null,
            "source": "disjoint_set[2]",
            "outputs": [
                {
                    "output_type": "execute_result",
                    "metadata": {},
                    "data": {
                        "text/plain": "1"
                    },
                    "execution_count": null
                }
            ]
        },
        {
            "id": "a5341bf9",
            "cell_type": "code",
            "metadata": {},
            "execution_count": null,
            "source": "disjoint_set['b']",
            "outputs": [
                {
                    "output_type": "execute_result",
                    "metadata": {},
                    "data": {
                        "text/plain": "3"
                    },
                    "execution_count": null
                }
            ]
        },
        {
            "id": "d9a2c052",
            "cell_type": "markdown",
            "source": "Test connectivity:\n",
            "metadata": {}
        },
        {
            "id": "6e086453",
            "cell_type": "code",
            "metadata": {},
            "execution_count": null,
            "source": "disjoint_set.connected(1, 2)",
            "outputs": [
                {
                    "output_type": "execute_result",
                    "metadata": {},
                    "data": {
                        "text/plain": "True"
                    },
                    "execution_count": null
                }
            ]
        },
        {
            "id": "128cd24b",
            "cell_type": "code",
            "metadata": {},
            "execution_count": null,
            "source": "disjoint_set.connected(1, 'b')",
            "outputs": [
                {
                    "output_type": "execute_result",
                    "metadata": {},
                    "data": {
                        "text/plain": "False"
                    },
                    "execution_count": null
                }
            ]
        },
        {
            "id": "f5dde515",
            "cell_type": "markdown",
            "source": "List elements in disjoint set:\n",
            "metadata": {}
        },
        {
            "id": "f25a86fc",
            "cell_type": "code",
            "metadata": {},
            "execution_count": null,
            "source": "list(disjoint_set)",
            "outputs": [
                {
                    "output_type": "execute_result",
                    "metadata": {},
                    "data": {
                        "text/plain": "[1, 2, 3, 'a', 'b']"
                    },
                    "execution_count": null
                }
            ]
        },
        {
            "id": "59177300",
            "cell_type": "markdown",
            "source": "Get the subset containing 'a':\n",
            "metadata": {}
        },
        {
            "id": "83adcd8a",
            "cell_type": "code",
            "metadata": {},
            "execution_count": null,
            "source": "disjoint_set.subset('a')",
            "outputs": [
                {
                    "output_type": "execute_result",
                    "metadata": {},
                    "data": {
                        "text/plain": "{'a', 3, 'b'}"
                    },
                    "execution_count": null
                }
            ]
        },
        {
            "id": "92fcb89f",
            "cell_type": "markdown",
            "source": "Get the size of the subset containing 'a' (without actually instantiating\nthe subset):\n",
            "metadata": {}
        },
        {
            "id": "9e7db776",
            "cell_type": "code",
            "metadata": {},
            "execution_count": null,
            "source": "disjoint_set.subset_size('a')",
            "outputs": [
                {
                    "output_type": "execute_result",
                    "metadata": {},
                    "data": {
                        "text/plain": "3"
                    },
                    "execution_count": null
                }
            ]
        },
        {
            "id": "5bca2cd9",
            "cell_type": "markdown",
            "source": "Get all subsets in the disjoint set:\n",
            "metadata": {}
        },
        {
            "id": "8a762003",
            "cell_type": "code",
            "metadata": {},
            "execution_count": null,
            "source": "disjoint_set.subsets()",
            "outputs": [
                {
                    "output_type": "execute_result",
                    "metadata": {},
                    "data": {
                        "text/plain": "[{1, 2}, {'a', 3, 'b'}]"
                    },
                    "execution_count": null
                }
            ]
        }
    ]
}