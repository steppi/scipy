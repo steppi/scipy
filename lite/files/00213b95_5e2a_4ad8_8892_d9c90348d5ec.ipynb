{
    "nbformat": 4,
    "nbformat_minor": 5,
    "metadata": {
        "kernelspec": {
            "display_name": "Python",
            "language": "python",
            "name": "python"
        },
        "language_info": {
            "name": "python"
        }
    },
    "cells": [
        {
            "id": "7e03e676",
            "cell_type": "markdown",
            "source": "<div class='alert alert-warning'>\n\nSciPy's interactive examples with Jupyterlite are experimental and may not always work as expected. Execution of cells containing imports may result in large downloads (up to 60MB of content for the first import from SciPy). Load times when importing from SciPy may take roughly 10-20 seconds. If you notice any problems, feel free to open an [issue](https://github.com/scipy/scipy/issues/new/choose).\n\n</div>",
            "metadata": {}
        },
        {
            "id": "f1b49dae",
            "cell_type": "markdown",
            "source": "You can insert knots into a B-spline.\n",
            "metadata": {}
        },
        {
            "id": "1f406654",
            "cell_type": "code",
            "metadata": {},
            "execution_count": null,
            "source": "from scipy.interpolate import splrep, insert\nimport numpy as np\nx = np.linspace(0, 10, 5)\ny = np.sin(x)\ntck = splrep(x, y)\ntck[0]",
            "outputs": [
                {
                    "output_type": "execute_result",
                    "metadata": {},
                    "data": {
                        "text/plain": "array([ 0.,  0.,  0.,  0.,  5., 10., 10., 10., 10.])"
                    },
                    "execution_count": null
                }
            ]
        },
        {
            "id": "de07f65c",
            "cell_type": "markdown",
            "source": "A knot is inserted:\n",
            "metadata": {}
        },
        {
            "id": "416da055",
            "cell_type": "code",
            "metadata": {},
            "execution_count": null,
            "source": "tck_inserted = insert(3, tck)\ntck_inserted[0]",
            "outputs": [
                {
                    "output_type": "execute_result",
                    "metadata": {},
                    "data": {
                        "text/plain": "array([ 0.,  0.,  0.,  0.,  3.,  5., 10., 10., 10., 10.])"
                    },
                    "execution_count": null
                }
            ]
        },
        {
            "id": "701b9a0d",
            "cell_type": "markdown",
            "source": "Some knots are inserted:\n",
            "metadata": {}
        },
        {
            "id": "3f4c6794",
            "cell_type": "code",
            "metadata": {},
            "execution_count": null,
            "source": "tck_inserted2 = insert(8, tck, m=3)\ntck_inserted2[0]",
            "outputs": [
                {
                    "output_type": "execute_result",
                    "metadata": {},
                    "data": {
                        "text/plain": "array([ 0.,  0.,  0.,  0.,  5.,  8.,  8.,  8., 10., 10., 10., 10.])"
                    },
                    "execution_count": null
                }
            ]
        }
    ]
}