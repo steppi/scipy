{
    "nbformat": 4,
    "nbformat_minor": 5,
    "metadata": {
        "kernelspec": {
            "display_name": "Python",
            "language": "python",
            "name": "python"
        },
        "language_info": {
            "name": "python"
        }
    },
    "cells": [
        {
            "id": "e8c60801",
            "cell_type": "markdown",
            "source": "<div class='alert alert-warning'>\n\nSciPy's interactive examples with Jupyterlite are experimental and may not always work as expected. Execution of cells containing imports may result in large downloads (up to 60MB of content for the first import from SciPy). Load times when importing from SciPy may take roughly 10-20 seconds. If you notice any problems, feel free to open an [issue](https://github.com/scipy/scipy/issues/new/choose).\n\n</div>",
            "metadata": {}
        },
        {
            "id": "e8181172",
            "cell_type": "code",
            "metadata": {},
            "execution_count": null,
            "source": "import numpy as np\nimport matplotlib.pyplot as plt\nfrom scipy.spatial import ConvexHull, convex_hull_plot_2d",
            "outputs": []
        },
        {
            "id": "6e042d3d",
            "cell_type": "markdown",
            "source": "The convex hull of a random set of points:\n",
            "metadata": {}
        },
        {
            "id": "10d10f3b",
            "cell_type": "code",
            "metadata": {},
            "execution_count": null,
            "source": "rng = np.random.default_rng()\npoints = rng.random((30, 2))\nhull = ConvexHull(points)",
            "outputs": []
        },
        {
            "id": "d94b82ce",
            "cell_type": "markdown",
            "source": "Plot it:\n",
            "metadata": {}
        },
        {
            "id": "fe3d716a",
            "cell_type": "code",
            "metadata": {},
            "execution_count": null,
            "source": "_ = convex_hull_plot_2d(hull)\nplt.show()",
            "outputs": []
        }
    ]
}