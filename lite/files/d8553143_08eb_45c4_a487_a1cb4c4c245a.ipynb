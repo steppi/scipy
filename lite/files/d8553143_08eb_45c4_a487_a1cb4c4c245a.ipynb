{
    "nbformat": 4,
    "nbformat_minor": 5,
    "metadata": {
        "kernelspec": {
            "display_name": "Python",
            "language": "python",
            "name": "python"
        },
        "language_info": {
            "name": "python"
        }
    },
    "cells": [
        {
            "id": "b293b23a",
            "cell_type": "markdown",
            "source": "<div class='alert alert-warning'>\n\nSciPy's interactive examples with Jupyterlite are experimental and may not always work as expected. Execution of cells containing imports may result in large downloads (up to 60MB of content for the first import from SciPy). Load times when importing from SciPy may take roughly 10-20 seconds. If you notice any problems, feel free to open an [issue](https://github.com/scipy/scipy/issues/new/choose).\n\n</div>",
            "metadata": {}
        },
        {
            "id": "85576b13",
            "cell_type": "code",
            "metadata": {},
            "execution_count": null,
            "source": "from scipy.sparse import csr_matrix\nfrom scipy.sparse.csgraph import johnson",
            "outputs": []
        },
        {
            "id": "249d9045",
            "cell_type": "code",
            "metadata": {},
            "execution_count": null,
            "source": "graph = [\n[0, 1, 2, 0],\n[0, 0, 0, 1],\n[2, 0, 0, 3],\n[0, 0, 0, 0]\n]\ngraph = csr_matrix(graph)\nprint(graph)",
            "outputs": [
                {
                    "output_type": "execute_result",
                    "metadata": {},
                    "data": {
                        "text/plain": "  (0, 1)    1\n  (0, 2)    2\n  (1, 3)    1\n  (2, 0)    2\n  (2, 3)    3"
                    },
                    "execution_count": null
                }
            ]
        },
        {
            "id": "e80c716b",
            "cell_type": "code",
            "metadata": {},
            "execution_count": null,
            "source": "dist_matrix, predecessors = johnson(csgraph=graph, directed=False, indices=0, return_predecessors=True)\ndist_matrix",
            "outputs": [
                {
                    "output_type": "execute_result",
                    "metadata": {},
                    "data": {
                        "text/plain": "array([0., 1., 2., 2.])"
                    },
                    "execution_count": null
                }
            ]
        },
        {
            "id": "6089c488",
            "cell_type": "code",
            "metadata": {},
            "execution_count": null,
            "source": "predecessors",
            "outputs": [
                {
                    "output_type": "execute_result",
                    "metadata": {},
                    "data": {
                        "text/plain": "array([-9999,     0,     0,     1], dtype=int32)"
                    },
                    "execution_count": null
                }
            ]
        }
    ]
}