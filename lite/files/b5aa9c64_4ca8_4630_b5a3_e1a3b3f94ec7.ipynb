{
    "nbformat": 4,
    "nbformat_minor": 5,
    "metadata": {
        "kernelspec": {
            "display_name": "Python",
            "language": "python",
            "name": "python"
        },
        "language_info": {
            "name": "python"
        }
    },
    "cells": [
        {
            "id": "4b5109b7",
            "cell_type": "markdown",
            "source": "<div class='alert alert-warning'>\n\nSciPy's interactive examples with Jupyterlite are experimental and may not always work as expected. Execution of cells containing imports may result in large downloads (up to 60MB of content for the first import from SciPy). Load times when importing from SciPy may take roughly 10-20 seconds. If you notice any problems, feel free to open an [issue](https://github.com/scipy/scipy/issues/new/choose).\n\n</div>",
            "metadata": {}
        },
        {
            "id": "8c54a08e",
            "cell_type": "code",
            "metadata": {},
            "execution_count": null,
            "source": "from scipy import integrate\nimport numpy as np\nf = lambda x: x**8\nintegrate.fixed_quad(f, 0.0, 1.0, n=4)",
            "outputs": [
                {
                    "output_type": "execute_result",
                    "metadata": {},
                    "data": {
                        "text/plain": "(0.1110884353741496, None)"
                    },
                    "execution_count": null
                }
            ]
        },
        {
            "id": "cfc25d74",
            "cell_type": "code",
            "metadata": {},
            "execution_count": null,
            "source": "integrate.fixed_quad(f, 0.0, 1.0, n=5)",
            "outputs": [
                {
                    "output_type": "execute_result",
                    "metadata": {},
                    "data": {
                        "text/plain": "(0.11111111111111102, None)"
                    },
                    "execution_count": null
                }
            ]
        },
        {
            "id": "47f13683",
            "cell_type": "code",
            "metadata": {},
            "execution_count": null,
            "source": "print(1/9.0)  # analytical result",
            "outputs": [
                {
                    "output_type": "execute_result",
                    "metadata": {},
                    "data": {
                        "text/plain": "0.1111111111111111"
                    },
                    "execution_count": null
                }
            ]
        },
        {
            "id": "75b9f9d3",
            "cell_type": "code",
            "metadata": {},
            "execution_count": null,
            "source": "integrate.fixed_quad(np.cos, 0.0, np.pi/2, n=4)",
            "outputs": [
                {
                    "output_type": "execute_result",
                    "metadata": {},
                    "data": {
                        "text/plain": "(0.9999999771971152, None)"
                    },
                    "execution_count": null
                }
            ]
        },
        {
            "id": "ddcfb8d0",
            "cell_type": "code",
            "metadata": {},
            "execution_count": null,
            "source": "integrate.fixed_quad(np.cos, 0.0, np.pi/2, n=5)",
            "outputs": [
                {
                    "output_type": "execute_result",
                    "metadata": {},
                    "data": {
                        "text/plain": "(1.000000000039565, None)"
                    },
                    "execution_count": null
                }
            ]
        },
        {
            "id": "164f0ac7",
            "cell_type": "code",
            "metadata": {},
            "execution_count": null,
            "source": "np.sin(np.pi/2)-np.sin(0)  # analytical result",
            "outputs": [
                {
                    "output_type": "execute_result",
                    "metadata": {},
                    "data": {
                        "text/plain": "1.0"
                    },
                    "execution_count": null
                }
            ]
        }
    ]
}