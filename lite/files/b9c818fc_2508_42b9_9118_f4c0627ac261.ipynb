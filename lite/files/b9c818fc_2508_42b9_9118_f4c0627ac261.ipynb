{
    "nbformat": 4,
    "nbformat_minor": 5,
    "metadata": {
        "kernelspec": {
            "display_name": "Python",
            "language": "python",
            "name": "python"
        },
        "language_info": {
            "name": "python"
        }
    },
    "cells": [
        {
            "id": "c7a0f6ec",
            "cell_type": "markdown",
            "source": "<div class='alert alert-warning'>\n\nSciPy's interactive examples with Jupyterlite are experimental and may not always work as expected. Execution of cells containing imports may result in large downloads (up to 60MB of content for the first import from SciPy). Load times when importing from SciPy may take roughly 10-20 seconds. If you notice any problems, feel free to open an [issue](https://github.com/scipy/scipy/issues/new/choose).\n\n</div>",
            "metadata": {}
        },
        {
            "id": "e84ef26a",
            "cell_type": "code",
            "metadata": {},
            "execution_count": null,
            "source": "import numpy as np\nfrom scipy.stats import wrapcauchy\nimport matplotlib.pyplot as plt\nfig, ax = plt.subplots(1, 1)",
            "outputs": []
        },
        {
            "id": "ea806f61",
            "cell_type": "markdown",
            "source": "Calculate the first four moments:\n",
            "metadata": {}
        },
        {
            "id": "ed5b11a0",
            "cell_type": "code",
            "metadata": {},
            "execution_count": null,
            "source": "c = 0.0311\nmean, var, skew, kurt = wrapcauchy.stats(c, moments='mvsk')",
            "outputs": []
        },
        {
            "id": "1e7436ae",
            "cell_type": "markdown",
            "source": "Display the probability density function (``pdf``):\n",
            "metadata": {}
        },
        {
            "id": "58bf28b3",
            "cell_type": "code",
            "metadata": {},
            "execution_count": null,
            "source": "x = np.linspace(wrapcauchy.ppf(0.01, c),\n                wrapcauchy.ppf(0.99, c), 100)\nax.plot(x, wrapcauchy.pdf(x, c),\n       'r-', lw=5, alpha=0.6, label='wrapcauchy pdf')",
            "outputs": []
        },
        {
            "id": "7cdcae2f",
            "cell_type": "markdown",
            "source": "Alternatively, the distribution object can be called (as a function)\nto fix the shape, location and scale parameters. This returns a \"frozen\"\nRV object holding the given parameters fixed.\n\nFreeze the distribution and display the frozen ``pdf``:\n",
            "metadata": {}
        },
        {
            "id": "b43dd016",
            "cell_type": "code",
            "metadata": {},
            "execution_count": null,
            "source": "rv = wrapcauchy(c)\nax.plot(x, rv.pdf(x), 'k-', lw=2, label='frozen pdf')",
            "outputs": []
        },
        {
            "id": "13b3cf19",
            "cell_type": "markdown",
            "source": "Check accuracy of ``cdf`` and ``ppf``:\n",
            "metadata": {}
        },
        {
            "id": "ac6bc761",
            "cell_type": "code",
            "metadata": {},
            "execution_count": null,
            "source": "vals = wrapcauchy.ppf([0.001, 0.5, 0.999], c)\nnp.allclose([0.001, 0.5, 0.999], wrapcauchy.cdf(vals, c))",
            "outputs": [
                {
                    "output_type": "execute_result",
                    "metadata": {},
                    "data": {
                        "text/plain": "True"
                    },
                    "execution_count": null
                }
            ]
        },
        {
            "id": "2d3ce360",
            "cell_type": "markdown",
            "source": "Generate random numbers:\n",
            "metadata": {}
        },
        {
            "id": "2c6e7b41",
            "cell_type": "code",
            "metadata": {},
            "execution_count": null,
            "source": "r = wrapcauchy.rvs(c, size=1000)",
            "outputs": []
        },
        {
            "id": "a9a9aaa6",
            "cell_type": "markdown",
            "source": "And compare the histogram:\n",
            "metadata": {}
        },
        {
            "id": "8f95b3c9",
            "cell_type": "code",
            "metadata": {},
            "execution_count": null,
            "source": "ax.hist(r, density=True, bins='auto', histtype='stepfilled', alpha=0.2)\nax.set_xlim([x[0], x[-1]])\nax.legend(loc='best', frameon=False)\nplt.show()",
            "outputs": []
        }
    ]
}