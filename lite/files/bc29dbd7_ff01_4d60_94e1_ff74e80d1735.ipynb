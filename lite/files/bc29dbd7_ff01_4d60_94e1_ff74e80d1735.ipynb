{
    "nbformat": 4,
    "nbformat_minor": 5,
    "metadata": {
        "kernelspec": {
            "display_name": "Python",
            "language": "python",
            "name": "python"
        },
        "language_info": {
            "name": "python"
        }
    },
    "cells": [
        {
            "id": "b3d033b1",
            "cell_type": "markdown",
            "source": "<div class='alert alert-warning'>\n\nSciPy's interactive examples with Jupyterlite are experimental and may not always work as expected. Execution of cells containing imports may result in large downloads (up to 60MB of content for the first import from SciPy). Load times when importing from SciPy may take roughly 10-20 seconds. If you notice any problems, feel free to open an [issue](https://github.com/scipy/scipy/issues/new/choose).\n\n</div>",
            "metadata": {}
        },
        {
            "id": "508f26e2",
            "cell_type": "code",
            "metadata": {},
            "execution_count": null,
            "source": "import numpy as np\nfrom scipy import spatial\nx, y = np.mgrid[0:5, 0:5]\npoints = np.c_[x.ravel(), y.ravel()]\ntree = spatial.KDTree(points)\nsorted(tree.query_ball_point([2, 0], 1))",
            "outputs": [
                {
                    "output_type": "execute_result",
                    "metadata": {},
                    "data": {
                        "text/plain": "[5, 10, 11, 15]"
                    },
                    "execution_count": null
                }
            ]
        },
        {
            "id": "fae40ef7",
            "cell_type": "markdown",
            "source": "Query multiple points and plot the results:\n",
            "metadata": {}
        },
        {
            "id": "0d51b187",
            "cell_type": "code",
            "metadata": {},
            "execution_count": null,
            "source": "import matplotlib.pyplot as plt\npoints = np.asarray(points)\nplt.plot(points[:,0], points[:,1], '.')\nfor results in tree.query_ball_point(([2, 0], [3, 3]), 1):\n    nearby_points = points[results]\n    plt.plot(nearby_points[:,0], nearby_points[:,1], 'o')\nplt.margins(0.1, 0.1)\nplt.show()",
            "outputs": []
        }
    ]
}