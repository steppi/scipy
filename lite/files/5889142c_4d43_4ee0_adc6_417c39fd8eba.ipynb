{
    "nbformat": 4,
    "nbformat_minor": 5,
    "metadata": {
        "kernelspec": {
            "display_name": "Python",
            "language": "python",
            "name": "python"
        },
        "language_info": {
            "name": "python"
        }
    },
    "cells": [
        {
            "id": "44de6d06",
            "cell_type": "markdown",
            "source": "<div class='alert alert-warning'>\n\nSciPy's interactive examples with Jupyterlite are experimental and may not always work as expected. Execution of cells containing imports may result in large downloads (up to 60MB of content for the first import from SciPy). Load times when importing from SciPy may take roughly 10-20 seconds. If you notice any problems, feel free to open an [issue](https://github.com/scipy/scipy/issues/new/choose).\n\n</div>",
            "metadata": {}
        },
        {
            "id": "6b6abf42",
            "cell_type": "markdown",
            "source": "Here we define a nearest-neighbor interpolator of a simple function\n",
            "metadata": {}
        },
        {
            "id": "96e413b0",
            "cell_type": "code",
            "metadata": {},
            "execution_count": null,
            "source": "import numpy as np\nx, y = np.array([0, 1, 2]), np.array([1, 3, 7])\ndef f(x, y):\n    return x**2 + y**2\ndata = f(*np.meshgrid(x, y, indexing='ij', sparse=True))\nfrom scipy.interpolate import RegularGridInterpolator\ninterp = RegularGridInterpolator((x, y), data, method='nearest')",
            "outputs": []
        },
        {
            "id": "0179d2f4",
            "cell_type": "markdown",
            "source": "By construction, the interpolator uses the nearest-neighbor\ninterpolation\n",
            "metadata": {}
        },
        {
            "id": "8aaaae6f",
            "cell_type": "code",
            "metadata": {},
            "execution_count": null,
            "source": "interp([[1.5, 1.3], [0.3, 4.5]])",
            "outputs": [
                {
                    "output_type": "execute_result",
                    "metadata": {},
                    "data": {
                        "text/plain": "array([2., 9.])"
                    },
                    "execution_count": null
                }
            ]
        },
        {
            "id": "fc165c56",
            "cell_type": "markdown",
            "source": "We can however evaluate the linear interpolant by overriding the\n`method` parameter\n",
            "metadata": {}
        },
        {
            "id": "1518f16c",
            "cell_type": "code",
            "metadata": {},
            "execution_count": null,
            "source": "interp([[1.5, 1.3], [0.3, 4.5]], method='linear')",
            "outputs": [
                {
                    "output_type": "execute_result",
                    "metadata": {},
                    "data": {
                        "text/plain": "array([ 4.7, 24.3])"
                    },
                    "execution_count": null
                }
            ]
        }
    ]
}