{
    "nbformat": 4,
    "nbformat_minor": 5,
    "metadata": {
        "kernelspec": {
            "display_name": "Python",
            "language": "python",
            "name": "python"
        },
        "language_info": {
            "name": "python"
        }
    },
    "cells": [
        {
            "id": "4fc49cd6",
            "cell_type": "markdown",
            "source": "<div class='alert alert-warning'>\n\nSciPy's interactive examples with Jupyterlite are experimental and may not always work as expected. Execution of cells containing imports may result in large downloads (up to 60MB of content for the first import from SciPy). Load times when importing from SciPy may take roughly 10-20 seconds. If you notice any problems, feel free to open an [issue](https://github.com/scipy/scipy/issues/new/choose).\n\n</div>",
            "metadata": {}
        },
        {
            "id": "551428ec",
            "cell_type": "markdown",
            "source": "Import all necessary modules.\n",
            "metadata": {}
        },
        {
            "id": "85e2c78a",
            "cell_type": "code",
            "metadata": {},
            "execution_count": null,
            "source": "import numpy as np\nfrom scipy.special import huber\nimport matplotlib.pyplot as plt",
            "outputs": []
        },
        {
            "id": "b8596f2c",
            "cell_type": "markdown",
            "source": "Compute the function for ``delta=1`` at ``r=2``\n",
            "metadata": {}
        },
        {
            "id": "5f5e728f",
            "cell_type": "code",
            "metadata": {},
            "execution_count": null,
            "source": "huber(1., 2.)",
            "outputs": [
                {
                    "output_type": "execute_result",
                    "metadata": {},
                    "data": {
                        "text/plain": "1.5"
                    },
                    "execution_count": null
                }
            ]
        },
        {
            "id": "b0d27bd5",
            "cell_type": "markdown",
            "source": "Compute the function for different `delta` by providing a NumPy array or\nlist for `delta`.\n",
            "metadata": {}
        },
        {
            "id": "c827f304",
            "cell_type": "code",
            "metadata": {},
            "execution_count": null,
            "source": "huber([1., 3., 5.], 4.)",
            "outputs": [
                {
                    "output_type": "execute_result",
                    "metadata": {},
                    "data": {
                        "text/plain": "array([3.5, 7.5, 8. ])"
                    },
                    "execution_count": null
                }
            ]
        },
        {
            "id": "b42ee6ca",
            "cell_type": "markdown",
            "source": "Compute the function at different points by providing a NumPy array or\nlist for `r`.\n",
            "metadata": {}
        },
        {
            "id": "8f24bb38",
            "cell_type": "code",
            "metadata": {},
            "execution_count": null,
            "source": "huber(2., np.array([1., 1.5, 3.]))",
            "outputs": [
                {
                    "output_type": "execute_result",
                    "metadata": {},
                    "data": {
                        "text/plain": "array([0.5  , 1.125, 4.   ])"
                    },
                    "execution_count": null
                }
            ]
        },
        {
            "id": "35cdd32c",
            "cell_type": "markdown",
            "source": "The function can be calculated for different `delta` and `r` by\nproviding arrays for both with compatible shapes for broadcasting.\n",
            "metadata": {}
        },
        {
            "id": "8b8b19fa",
            "cell_type": "code",
            "metadata": {},
            "execution_count": null,
            "source": "r = np.array([1., 2.5, 8., 10.])\ndeltas = np.array([[1.], [5.], [9.]])\nprint(r.shape, deltas.shape)",
            "outputs": [
                {
                    "output_type": "execute_result",
                    "metadata": {},
                    "data": {
                        "text/plain": "(4,) (3, 1)"
                    },
                    "execution_count": null
                }
            ]
        },
        {
            "id": "ff30697d",
            "cell_type": "code",
            "metadata": {},
            "execution_count": null,
            "source": "huber(deltas, r)",
            "outputs": [
                {
                    "output_type": "execute_result",
                    "metadata": {},
                    "data": {
                        "text/plain": "array([[ 0.5  ,  2.   ,  7.5  ,  9.5  ],\n       [ 0.5  ,  3.125, 27.5  , 37.5  ],\n       [ 0.5  ,  3.125, 32.   , 49.5  ]])"
                    },
                    "execution_count": null
                }
            ]
        },
        {
            "id": "20f9922e",
            "cell_type": "markdown",
            "source": "Plot the function for different `delta`.\n",
            "metadata": {}
        },
        {
            "id": "e854ccb1",
            "cell_type": "code",
            "metadata": {},
            "execution_count": null,
            "source": "x = np.linspace(-4, 4, 500)\ndeltas = [1, 2, 3]\nlinestyles = [\"dashed\", \"dotted\", \"dashdot\"]\nfig, ax = plt.subplots()\ncombined_plot_parameters = list(zip(deltas, linestyles))\nfor delta, style in combined_plot_parameters:\n    ax.plot(x, huber(delta, x), label=fr\"$\\delta={delta}$\", ls=style)\nax.legend(loc=\"upper center\")\nax.set_xlabel(\"$x$\")\nax.set_title(r\"Huber loss function $h_{\\delta}(x)$\")\nax.set_xlim(-4, 4)\nax.set_ylim(0, 8)\nplt.show()",
            "outputs": []
        }
    ]
}