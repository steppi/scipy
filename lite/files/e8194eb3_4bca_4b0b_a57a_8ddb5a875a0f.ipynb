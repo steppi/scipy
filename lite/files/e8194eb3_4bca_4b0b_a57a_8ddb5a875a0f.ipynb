{
    "nbformat": 4,
    "nbformat_minor": 5,
    "metadata": {
        "kernelspec": {
            "display_name": "Python",
            "language": "python",
            "name": "python"
        },
        "language_info": {
            "name": "python"
        }
    },
    "cells": [
        {
            "id": "71f0d57c",
            "cell_type": "markdown",
            "source": "<div class='alert alert-warning'>\n\nSciPy's interactive examples with Jupyterlite are experimental and may not always work as expected. Execution of cells containing imports may result in large downloads (up to 60MB of content for the first import from SciPy). Load times when importing from SciPy may take roughly 10-20 seconds. If you notice any problems, feel free to open an [issue](https://github.com/scipy/scipy/issues/new/choose).\n\n</div>",
            "metadata": {}
        },
        {
            "id": "ca131cfb",
            "cell_type": "code",
            "metadata": {},
            "execution_count": null,
            "source": "import numpy as np\nfrom scipy.stats import rankdata\nrankdata([0, 2, 3, 2])",
            "outputs": [
                {
                    "output_type": "execute_result",
                    "metadata": {},
                    "data": {
                        "text/plain": "array([ 1. ,  2.5,  4. ,  2.5])"
                    },
                    "execution_count": null
                }
            ]
        },
        {
            "id": "9d609077",
            "cell_type": "code",
            "metadata": {},
            "execution_count": null,
            "source": "rankdata([0, 2, 3, 2], method='min')",
            "outputs": [
                {
                    "output_type": "execute_result",
                    "metadata": {},
                    "data": {
                        "text/plain": "array([ 1,  2,  4,  2])"
                    },
                    "execution_count": null
                }
            ]
        },
        {
            "id": "1270bdba",
            "cell_type": "code",
            "metadata": {},
            "execution_count": null,
            "source": "rankdata([0, 2, 3, 2], method='max')",
            "outputs": [
                {
                    "output_type": "execute_result",
                    "metadata": {},
                    "data": {
                        "text/plain": "array([ 1,  3,  4,  3])"
                    },
                    "execution_count": null
                }
            ]
        },
        {
            "id": "689befb9",
            "cell_type": "code",
            "metadata": {},
            "execution_count": null,
            "source": "rankdata([0, 2, 3, 2], method='dense')",
            "outputs": [
                {
                    "output_type": "execute_result",
                    "metadata": {},
                    "data": {
                        "text/plain": "array([ 1,  2,  3,  2])"
                    },
                    "execution_count": null
                }
            ]
        },
        {
            "id": "3ef3db11",
            "cell_type": "code",
            "metadata": {},
            "execution_count": null,
            "source": "rankdata([0, 2, 3, 2], method='ordinal')",
            "outputs": [
                {
                    "output_type": "execute_result",
                    "metadata": {},
                    "data": {
                        "text/plain": "array([ 1,  2,  4,  3])"
                    },
                    "execution_count": null
                }
            ]
        },
        {
            "id": "f8d5c60e",
            "cell_type": "code",
            "metadata": {},
            "execution_count": null,
            "source": "rankdata([[0, 2], [3, 2]]).reshape(2,2)",
            "outputs": [
                {
                    "output_type": "execute_result",
                    "metadata": {},
                    "data": {
                        "text/plain": "array([[1. , 2.5],\n      [4. , 2.5]])"
                    },
                    "execution_count": null
                }
            ]
        },
        {
            "id": "232a12f5",
            "cell_type": "code",
            "metadata": {},
            "execution_count": null,
            "source": "rankdata([[0, 2, 2], [3, 2, 5]], axis=1)",
            "outputs": [
                {
                    "output_type": "execute_result",
                    "metadata": {},
                    "data": {
                        "text/plain": "array([[1. , 2.5, 2.5],\n       [2. , 1. , 3. ]])"
                    },
                    "execution_count": null
                }
            ]
        },
        {
            "id": "eba64339",
            "cell_type": "code",
            "metadata": {},
            "execution_count": null,
            "source": "rankdata([0, 2, 3, np.nan, -2, np.nan], nan_policy=\"propagate\")",
            "outputs": [
                {
                    "output_type": "execute_result",
                    "metadata": {},
                    "data": {
                        "text/plain": "array([nan, nan, nan, nan, nan, nan])"
                    },
                    "execution_count": null
                }
            ]
        },
        {
            "id": "7e328339",
            "cell_type": "code",
            "metadata": {},
            "execution_count": null,
            "source": "rankdata([0, 2, 3, np.nan, -2, np.nan], nan_policy=\"omit\")",
            "outputs": [
                {
                    "output_type": "execute_result",
                    "metadata": {},
                    "data": {
                        "text/plain": "array([ 2.,  3.,  4., nan,  1., nan])"
                    },
                    "execution_count": null
                }
            ]
        }
    ]
}