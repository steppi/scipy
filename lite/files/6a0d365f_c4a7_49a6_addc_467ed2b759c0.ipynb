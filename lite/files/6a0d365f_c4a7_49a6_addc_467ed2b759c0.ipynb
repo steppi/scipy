{
    "nbformat": 4,
    "nbformat_minor": 5,
    "metadata": {
        "kernelspec": {
            "display_name": "Python",
            "language": "python",
            "name": "python"
        },
        "language_info": {
            "name": "python"
        }
    },
    "cells": [
        {
            "id": "288fc5fb",
            "cell_type": "markdown",
            "source": "<div class='alert alert-warning'>\n\nSciPy's interactive examples with Jupyterlite are experimental and may not always work as expected. Execution of cells containing imports may result in large downloads (up to 60MB of content for the first import from SciPy). Load times when importing from SciPy may take roughly 10-20 seconds. If you notice any problems, feel free to open an [issue](https://github.com/scipy/scipy/issues/new/choose).\n\n</div>",
            "metadata": {}
        },
        {
            "id": "f1fa496d",
            "cell_type": "code",
            "metadata": {},
            "execution_count": null,
            "source": "from scipy import special\nimport matplotlib.pyplot as plt\nimport numpy as np",
            "outputs": []
        },
        {
            "id": "e980b117",
            "cell_type": "code",
            "metadata": {},
            "execution_count": null,
            "source": "p_monic = special.hermite(3, monic=True)\np_monic",
            "outputs": [
                {
                    "output_type": "execute_result",
                    "metadata": {},
                    "data": {
                        "text/plain": "poly1d([ 1. ,  0. , -1.5,  0. ])"
                    },
                    "execution_count": null
                }
            ]
        },
        {
            "id": "40feea6a",
            "cell_type": "code",
            "metadata": {},
            "execution_count": null,
            "source": "p_monic(1)",
            "outputs": [
                {
                    "output_type": "execute_result",
                    "metadata": {},
                    "data": {
                        "text/plain": "-0.49999999999999983"
                    },
                    "execution_count": null
                }
            ]
        },
        {
            "id": "acd511e8",
            "cell_type": "code",
            "metadata": {},
            "execution_count": null,
            "source": "x = np.linspace(-3, 3, 400)\ny = p_monic(x)\nplt.plot(x, y)\nplt.title(\"Monic Hermite polynomial of degree 3\")\nplt.xlabel(\"x\")\nplt.ylabel(\"H_3(x)\")\nplt.show()",
            "outputs": []
        }
    ]
}