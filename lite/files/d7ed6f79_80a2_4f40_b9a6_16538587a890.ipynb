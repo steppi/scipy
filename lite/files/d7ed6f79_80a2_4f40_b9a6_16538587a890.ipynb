{
    "nbformat": 4,
    "nbformat_minor": 5,
    "metadata": {
        "kernelspec": {
            "display_name": "Python",
            "language": "python",
            "name": "python"
        },
        "language_info": {
            "name": "python"
        }
    },
    "cells": [
        {
            "id": "00b67cc9",
            "cell_type": "markdown",
            "source": "<div class='alert alert-warning'>\n\nSciPy's interactive examples with Jupyterlite are experimental and may not always work as expected. Execution of cells containing imports may result in large downloads (up to 60MB of content for the first import from SciPy). Load times when importing from SciPy may take roughly 10-20 seconds. If you notice any problems, feel free to open an [issue](https://github.com/scipy/scipy/issues/new/choose).\n\n</div>",
            "metadata": {}
        },
        {
            "id": "eb29569d",
            "cell_type": "code",
            "metadata": {},
            "execution_count": null,
            "source": "import numpy as np\nfrom scipy.stats import foldcauchy\nimport matplotlib.pyplot as plt\nfig, ax = plt.subplots(1, 1)",
            "outputs": []
        },
        {
            "id": "9f93c049",
            "cell_type": "markdown",
            "source": "Calculate the first four moments:\n",
            "metadata": {}
        },
        {
            "id": "fcc05700",
            "cell_type": "code",
            "metadata": {},
            "execution_count": null,
            "source": "c = 4.72\nmean, var, skew, kurt = foldcauchy.stats(c, moments='mvsk')",
            "outputs": []
        },
        {
            "id": "a01af749",
            "cell_type": "markdown",
            "source": "Display the probability density function (``pdf``):\n",
            "metadata": {}
        },
        {
            "id": "48bdcd32",
            "cell_type": "code",
            "metadata": {},
            "execution_count": null,
            "source": "x = np.linspace(foldcauchy.ppf(0.01, c),\n                foldcauchy.ppf(0.99, c), 100)\nax.plot(x, foldcauchy.pdf(x, c),\n       'r-', lw=5, alpha=0.6, label='foldcauchy pdf')",
            "outputs": []
        },
        {
            "id": "8af2e841",
            "cell_type": "markdown",
            "source": "Alternatively, the distribution object can be called (as a function)\nto fix the shape, location and scale parameters. This returns a \"frozen\"\nRV object holding the given parameters fixed.\n\nFreeze the distribution and display the frozen ``pdf``:\n",
            "metadata": {}
        },
        {
            "id": "e1a879f5",
            "cell_type": "code",
            "metadata": {},
            "execution_count": null,
            "source": "rv = foldcauchy(c)\nax.plot(x, rv.pdf(x), 'k-', lw=2, label='frozen pdf')",
            "outputs": []
        },
        {
            "id": "ba57a9a9",
            "cell_type": "markdown",
            "source": "Check accuracy of ``cdf`` and ``ppf``:\n",
            "metadata": {}
        },
        {
            "id": "6801ad47",
            "cell_type": "code",
            "metadata": {},
            "execution_count": null,
            "source": "vals = foldcauchy.ppf([0.001, 0.5, 0.999], c)\nnp.allclose([0.001, 0.5, 0.999], foldcauchy.cdf(vals, c))",
            "outputs": [
                {
                    "output_type": "execute_result",
                    "metadata": {},
                    "data": {
                        "text/plain": "True"
                    },
                    "execution_count": null
                }
            ]
        },
        {
            "id": "6a200e5c",
            "cell_type": "markdown",
            "source": "Generate random numbers:\n",
            "metadata": {}
        },
        {
            "id": "5f1a7dd7",
            "cell_type": "code",
            "metadata": {},
            "execution_count": null,
            "source": "r = foldcauchy.rvs(c, size=1000)",
            "outputs": []
        },
        {
            "id": "327a65c5",
            "cell_type": "markdown",
            "source": "And compare the histogram:\n",
            "metadata": {}
        },
        {
            "id": "f0bb5bd1",
            "cell_type": "code",
            "metadata": {},
            "execution_count": null,
            "source": "ax.hist(r, density=True, bins='auto', histtype='stepfilled', alpha=0.2)\nax.set_xlim([x[0], x[-1]])\nax.legend(loc='best', frameon=False)\nplt.show()",
            "outputs": []
        }
    ]
}