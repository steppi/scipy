{
    "nbformat": 4,
    "nbformat_minor": 5,
    "metadata": {
        "kernelspec": {
            "display_name": "Python",
            "language": "python",
            "name": "python"
        },
        "language_info": {
            "name": "python"
        }
    },
    "cells": [
        {
            "id": "85910eb4",
            "cell_type": "markdown",
            "source": "<div class='alert alert-warning'>\n\nSciPy's interactive examples with Jupyterlite are experimental and may not always work as expected. Execution of cells containing imports may result in large downloads (up to 60MB of content for the first import from SciPy). Load times when importing from SciPy may take roughly 10-20 seconds. If you notice any problems, feel free to open an [issue](https://github.com/scipy/scipy/issues/new/choose).\n\n</div>",
            "metadata": {}
        },
        {
            "id": "a2e88191",
            "cell_type": "markdown",
            "source": "Plot the phase-normalized frequency response, showing the relationship\nto the Butterworth's cutoff frequency (green):\n",
            "metadata": {}
        },
        {
            "id": "5eec26ec",
            "cell_type": "code",
            "metadata": {},
            "execution_count": null,
            "source": "from scipy import signal\nimport matplotlib.pyplot as plt\nimport numpy as np",
            "outputs": []
        },
        {
            "id": "f50f9b31",
            "cell_type": "code",
            "metadata": {},
            "execution_count": null,
            "source": "b, a = signal.butter(4, 100, 'low', analog=True)\nw, h = signal.freqs(b, a)\nplt.semilogx(w, 20 * np.log10(np.abs(h)), color='silver', ls='dashed')\nb, a = signal.bessel(4, 100, 'low', analog=True, norm='phase')\nw, h = signal.freqs(b, a)\nplt.semilogx(w, 20 * np.log10(np.abs(h)))\nplt.title('Bessel filter magnitude response (with Butterworth)')\nplt.xlabel('Frequency [radians / second]')\nplt.ylabel('Amplitude [dB]')\nplt.margins(0, 0.1)\nplt.grid(which='both', axis='both')\nplt.axvline(100, color='green')  # cutoff frequency\nplt.show()",
            "outputs": []
        },
        {
            "id": "572d8631",
            "cell_type": "markdown",
            "source": "and the phase midpoint:\n",
            "metadata": {}
        },
        {
            "id": "7590e1e6",
            "cell_type": "code",
            "metadata": {},
            "execution_count": null,
            "source": "plt.figure()\nplt.semilogx(w, np.unwrap(np.angle(h)))\nplt.axvline(100, color='green')  # cutoff frequency\nplt.axhline(-np.pi, color='red')  # phase midpoint\nplt.title('Bessel filter phase response')\nplt.xlabel('Frequency [radians / second]')\nplt.ylabel('Phase [radians]')\nplt.margins(0, 0.1)\nplt.grid(which='both', axis='both')\nplt.show()",
            "outputs": []
        },
        {
            "id": "c528b17e",
            "cell_type": "markdown",
            "source": "Plot the magnitude-normalized frequency response, showing the -3 dB cutoff:\n",
            "metadata": {}
        },
        {
            "id": "4f9386d6",
            "cell_type": "code",
            "metadata": {},
            "execution_count": null,
            "source": "b, a = signal.bessel(3, 10, 'low', analog=True, norm='mag')\nw, h = signal.freqs(b, a)\nplt.semilogx(w, 20 * np.log10(np.abs(h)))\nplt.axhline(-3, color='red')  # -3 dB magnitude\nplt.axvline(10, color='green')  # cutoff frequency\nplt.title('Magnitude-normalized Bessel filter frequency response')\nplt.xlabel('Frequency [radians / second]')\nplt.ylabel('Amplitude [dB]')\nplt.margins(0, 0.1)\nplt.grid(which='both', axis='both')\nplt.show()",
            "outputs": []
        },
        {
            "id": "e3a0471f",
            "cell_type": "markdown",
            "source": "Plot the delay-normalized filter, showing the maximally-flat group delay\nat 0.1 seconds:\n",
            "metadata": {}
        },
        {
            "id": "4458b501",
            "cell_type": "code",
            "metadata": {},
            "execution_count": null,
            "source": "b, a = signal.bessel(5, 1/0.1, 'low', analog=True, norm='delay')\nw, h = signal.freqs(b, a)\nplt.figure()\nplt.semilogx(w[1:], -np.diff(np.unwrap(np.angle(h)))/np.diff(w))\nplt.axhline(0.1, color='red')  # 0.1 seconds group delay\nplt.title('Bessel filter group delay')\nplt.xlabel('Frequency [radians / second]')\nplt.ylabel('Group delay [seconds]')\nplt.margins(0, 0.1)\nplt.grid(which='both', axis='both')\nplt.show()",
            "outputs": []
        }
    ]
}