{
    "nbformat": 4,
    "nbformat_minor": 5,
    "metadata": {
        "kernelspec": {
            "display_name": "Python",
            "language": "python",
            "name": "python"
        },
        "language_info": {
            "name": "python"
        }
    },
    "cells": [
        {
            "id": "6d314253",
            "cell_type": "markdown",
            "source": "<div class='alert alert-warning'>\n\nSciPy's interactive examples with Jupyterlite are experimental and may not always work as expected. Execution of cells containing imports may result in large downloads (up to 60MB of content for the first import from SciPy). Load times when importing from SciPy may take roughly 10-20 seconds. If you notice any problems, feel free to open an [issue](https://github.com/scipy/scipy/issues/new/choose).\n\n</div>",
            "metadata": {}
        },
        {
            "id": "69fddbb6",
            "cell_type": "code",
            "metadata": {},
            "execution_count": null,
            "source": "from scipy import signal\nimport matplotlib.pyplot as plt",
            "outputs": []
        },
        {
            "id": "5ea6e494",
            "cell_type": "code",
            "metadata": {},
            "execution_count": null,
            "source": "sys = signal.TransferFunction([1], [1, 1])\nw, mag, phase = sys.bode()",
            "outputs": []
        },
        {
            "id": "acca8c79",
            "cell_type": "code",
            "metadata": {},
            "execution_count": null,
            "source": "plt.figure()\nplt.semilogx(w, mag)    # Bode magnitude plot\nplt.figure()\nplt.semilogx(w, phase)  # Bode phase plot\nplt.show()",
            "outputs": []
        }
    ]
}