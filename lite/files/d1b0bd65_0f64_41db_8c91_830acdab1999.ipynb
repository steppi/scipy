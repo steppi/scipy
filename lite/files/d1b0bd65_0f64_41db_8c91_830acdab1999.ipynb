{
    "nbformat": 4,
    "nbformat_minor": 5,
    "metadata": {
        "kernelspec": {
            "display_name": "Python",
            "language": "python",
            "name": "python"
        },
        "language_info": {
            "name": "python"
        }
    },
    "cells": [
        {
            "id": "567fa73a",
            "cell_type": "markdown",
            "source": "<div class='alert alert-warning'>\n\nSciPy's interactive examples with Jupyterlite are experimental and may not always work as expected. Execution of cells containing imports may result in large downloads (up to 60MB of content for the first import from SciPy). Load times when importing from SciPy may take roughly 10-20 seconds. If you notice any problems, feel free to open an [issue](https://github.com/scipy/scipy/issues/new/choose).\n\n</div>",
            "metadata": {}
        },
        {
            "id": "8752542e",
            "cell_type": "code",
            "metadata": {},
            "execution_count": null,
            "source": "import numpy as np\nfrom scipy import stats\nx, y = [1, 2, 3, 4, 5, 6, 7], [10, 9, 2.5, 6, 4, 3, 2]\nres = stats.pearsonr(x, y)\nres",
            "outputs": [
                {
                    "output_type": "execute_result",
                    "metadata": {},
                    "data": {
                        "text/plain": "PearsonRResult(statistic=-0.828503883588428, pvalue=0.021280260007523286)"
                    },
                    "execution_count": null
                }
            ]
        },
        {
            "id": "b1b1dd3c",
            "cell_type": "markdown",
            "source": "To perform an exact permutation version of the test:\n",
            "metadata": {}
        },
        {
            "id": "edcf1a0f",
            "cell_type": "code",
            "metadata": {},
            "execution_count": null,
            "source": "rng = np.random.default_rng()\nmethod = stats.PermutationMethod(n_resamples=np.inf, random_state=rng)\nstats.pearsonr(x, y, method=method)",
            "outputs": [
                {
                    "output_type": "execute_result",
                    "metadata": {},
                    "data": {
                        "text/plain": "PearsonRResult(statistic=-0.828503883588428, pvalue=0.028174603174603175)"
                    },
                    "execution_count": null
                }
            ]
        },
        {
            "id": "3fb03239",
            "cell_type": "markdown",
            "source": "To perform the test under the null hypothesis that the data were drawn from\n*uniform* distributions:\n",
            "metadata": {}
        },
        {
            "id": "520e6a14",
            "cell_type": "code",
            "metadata": {},
            "execution_count": null,
            "source": "method = stats.MonteCarloMethod(rvs=(rng.uniform, rng.uniform))\nstats.pearsonr(x, y, method=method)",
            "outputs": [
                {
                    "output_type": "execute_result",
                    "metadata": {},
                    "data": {
                        "text/plain": "PearsonRResult(statistic=-0.828503883588428, pvalue=0.0188)"
                    },
                    "execution_count": null
                }
            ]
        },
        {
            "id": "af4215fe",
            "cell_type": "markdown",
            "source": "To produce an asymptotic 90% confidence interval:\n",
            "metadata": {}
        },
        {
            "id": "9c4bc38d",
            "cell_type": "code",
            "metadata": {},
            "execution_count": null,
            "source": "res.confidence_interval(confidence_level=0.9)",
            "outputs": [
                {
                    "output_type": "execute_result",
                    "metadata": {},
                    "data": {
                        "text/plain": "ConfidenceInterval(low=-0.9644331982722841, high=-0.3460237473272273)"
                    },
                    "execution_count": null
                }
            ]
        },
        {
            "id": "1253ad89",
            "cell_type": "markdown",
            "source": "And for a bootstrap confidence interval:\n",
            "metadata": {}
        },
        {
            "id": "c5551822",
            "cell_type": "code",
            "metadata": {},
            "execution_count": null,
            "source": "method = stats.BootstrapMethod(method='BCa', random_state=rng)\nres.confidence_interval(confidence_level=0.9, method=method)",
            "outputs": [
                {
                    "output_type": "execute_result",
                    "metadata": {},
                    "data": {
                        "text/plain": "ConfidenceInterval(low=-0.9983163756488651, high=-0.22771001702132443)  # may vary"
                    },
                    "execution_count": null
                }
            ]
        },
        {
            "id": "fee3b67b",
            "cell_type": "markdown",
            "source": "There is a linear dependence between x and y if y = a + b*x + e, where\na,b are constants and e is a random error term, assumed to be independent\nof x. For simplicity, assume that x is standard normal, a=0, b=1 and let\ne follow a normal distribution with mean zero and standard deviation s>0.\n",
            "metadata": {}
        },
        {
            "id": "66bc1153",
            "cell_type": "code",
            "metadata": {},
            "execution_count": null,
            "source": "rng = np.random.default_rng()\ns = 0.5\nx = stats.norm.rvs(size=500, random_state=rng)\ne = stats.norm.rvs(scale=s, size=500, random_state=rng)\ny = x + e\nstats.pearsonr(x, y).statistic",
            "outputs": [
                {
                    "output_type": "execute_result",
                    "metadata": {},
                    "data": {
                        "text/plain": "0.9001942438244763"
                    },
                    "execution_count": null
                }
            ]
        },
        {
            "id": "be6d2df2",
            "cell_type": "markdown",
            "source": "This should be close to the exact value given by\n",
            "metadata": {}
        },
        {
            "id": "eb3a42eb",
            "cell_type": "code",
            "metadata": {},
            "execution_count": null,
            "source": "1/np.sqrt(1 + s**2)",
            "outputs": [
                {
                    "output_type": "execute_result",
                    "metadata": {},
                    "data": {
                        "text/plain": "0.8944271909999159"
                    },
                    "execution_count": null
                }
            ]
        },
        {
            "id": "faec40a2",
            "cell_type": "markdown",
            "source": "For s=0.5, we observe a high level of correlation. In general, a large\nvariance of the noise reduces the correlation, while the correlation\napproaches one as the variance of the error goes to zero.\n\nIt is important to keep in mind that no correlation does not imply\nindependence unless (x, y) is jointly normal. Correlation can even be zero\nwhen there is a very simple dependence structure: if X follows a\nstandard normal distribution, let y = abs(x). Note that the correlation\nbetween x and y is zero. Indeed, since the expectation of x is zero,\ncov(x, y) = E[x*y]. By definition, this equals E[x*abs(x)] which is zero\nby symmetry. The following lines of code illustrate this observation:\n",
            "metadata": {}
        },
        {
            "id": "81b514b9",
            "cell_type": "code",
            "metadata": {},
            "execution_count": null,
            "source": "y = np.abs(x)\nstats.pearsonr(x, y)",
            "outputs": [
                {
                    "output_type": "execute_result",
                    "metadata": {},
                    "data": {
                        "text/plain": "PearsonRResult(statistic=-0.05444919272687482, pvalue=0.22422294836207743)"
                    },
                    "execution_count": null
                }
            ]
        },
        {
            "id": "609047e7",
            "cell_type": "markdown",
            "source": "A non-zero correlation coefficient can be misleading. For example, if X has\na standard normal distribution, define y = x if x < 0 and y = 0 otherwise.\nA simple calculation shows that corr(x, y) = sqrt(2/Pi) = 0.797...,\nimplying a high level of correlation:\n",
            "metadata": {}
        },
        {
            "id": "481cd11b",
            "cell_type": "code",
            "metadata": {},
            "execution_count": null,
            "source": "y = np.where(x < 0, x, 0)\nstats.pearsonr(x, y)",
            "outputs": [
                {
                    "output_type": "execute_result",
                    "metadata": {},
                    "data": {
                        "text/plain": "PearsonRResult(statistic=0.861985781588, pvalue=4.813432002751103e-149)"
                    },
                    "execution_count": null
                }
            ]
        },
        {
            "id": "506c625c",
            "cell_type": "markdown",
            "source": "This is unintuitive since there is no dependence of x and y if x is larger\nthan zero which happens in about half of the cases if we sample x and y.",
            "metadata": {}
        }
    ]
}