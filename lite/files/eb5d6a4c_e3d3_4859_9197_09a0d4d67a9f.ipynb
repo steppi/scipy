{
    "nbformat": 4,
    "nbformat_minor": 5,
    "metadata": {
        "kernelspec": {
            "display_name": "Python",
            "language": "python",
            "name": "python"
        },
        "language_info": {
            "name": "python"
        }
    },
    "cells": [
        {
            "id": "af512e92",
            "cell_type": "markdown",
            "source": "<div class='alert alert-warning'>\n\nSciPy's interactive examples with Jupyterlite are experimental and may not always work as expected. Execution of cells containing imports may result in large downloads (up to 60MB of content for the first import from SciPy). Load times when importing from SciPy may take roughly 10-20 seconds. If you notice any problems, feel free to open an [issue](https://github.com/scipy/scipy/issues/new/choose).\n\n</div>",
            "metadata": {}
        },
        {
            "id": "0008484d",
            "cell_type": "code",
            "metadata": {},
            "execution_count": null,
            "source": "import numpy as np\nfrom scipy.special import betaln, beta",
            "outputs": []
        },
        {
            "id": "f03c6c01",
            "cell_type": "markdown",
            "source": "Verify that, for moderate values of ``a`` and ``b``, ``betaln(a, b)``\nis the same as ``log(beta(a, b))``:\n",
            "metadata": {}
        },
        {
            "id": "808dd514",
            "cell_type": "code",
            "metadata": {},
            "execution_count": null,
            "source": "betaln(3, 4)",
            "outputs": [
                {
                    "output_type": "execute_result",
                    "metadata": {},
                    "data": {
                        "text/plain": "-4.0943445622221"
                    },
                    "execution_count": null
                }
            ]
        },
        {
            "id": "4a229800",
            "cell_type": "code",
            "metadata": {},
            "execution_count": null,
            "source": "np.log(beta(3, 4))",
            "outputs": [
                {
                    "output_type": "execute_result",
                    "metadata": {},
                    "data": {
                        "text/plain": "-4.0943445622221"
                    },
                    "execution_count": null
                }
            ]
        },
        {
            "id": "0491a455",
            "cell_type": "markdown",
            "source": "In the following ``beta(a, b)`` underflows to 0, so we can't compute\nthe logarithm of the actual value.\n",
            "metadata": {}
        },
        {
            "id": "9f53ca43",
            "cell_type": "code",
            "metadata": {},
            "execution_count": null,
            "source": "a = 400\nb = 900\nbeta(a, b)",
            "outputs": [
                {
                    "output_type": "execute_result",
                    "metadata": {},
                    "data": {
                        "text/plain": "0.0"
                    },
                    "execution_count": null
                }
            ]
        },
        {
            "id": "cd643a22",
            "cell_type": "markdown",
            "source": "We can compute the logarithm of ``beta(a, b)`` by using `betaln`:\n",
            "metadata": {}
        },
        {
            "id": "d2ac4636",
            "cell_type": "code",
            "metadata": {},
            "execution_count": null,
            "source": "betaln(a, b)",
            "outputs": [
                {
                    "output_type": "execute_result",
                    "metadata": {},
                    "data": {
                        "text/plain": "-804.3069951764146"
                    },
                    "execution_count": null
                }
            ]
        }
    ]
}