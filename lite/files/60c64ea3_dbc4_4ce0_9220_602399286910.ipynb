{
    "nbformat": 4,
    "nbformat_minor": 5,
    "metadata": {
        "kernelspec": {
            "display_name": "Python",
            "language": "python",
            "name": "python"
        },
        "language_info": {
            "name": "python"
        }
    },
    "cells": [
        {
            "id": "ca110138",
            "cell_type": "markdown",
            "source": "<div class='alert alert-warning'>\n\nSciPy's interactive examples with Jupyterlite are experimental and may not always work as expected. Execution of cells containing imports may result in large downloads (up to 60MB of content for the first import from SciPy). Load times when importing from SciPy may take roughly 10-20 seconds. If you notice any problems, feel free to open an [issue](https://github.com/scipy/scipy/issues/new/choose).\n\n</div>",
            "metadata": {}
        },
        {
            "id": "e9f94d16",
            "cell_type": "code",
            "metadata": {},
            "execution_count": null,
            "source": "from scipy import stats\nimport matplotlib.pyplot as plt",
            "outputs": []
        },
        {
            "id": "83d3657f",
            "cell_type": "markdown",
            "source": "Generate some non-normally distributed data, and create a Box-Cox plot:\n",
            "metadata": {}
        },
        {
            "id": "78f63c1c",
            "cell_type": "code",
            "metadata": {},
            "execution_count": null,
            "source": "x = stats.loggamma.rvs(5, size=500) + 5\nfig = plt.figure()\nax = fig.add_subplot(111)\nprob = stats.boxcox_normplot(x, -20, 20, plot=ax)",
            "outputs": []
        },
        {
            "id": "f18e9001",
            "cell_type": "markdown",
            "source": "Determine and plot the optimal ``lmbda`` to transform ``x`` and plot it in\nthe same plot:\n",
            "metadata": {}
        },
        {
            "id": "b1f1ba6f",
            "cell_type": "code",
            "metadata": {},
            "execution_count": null,
            "source": "_, maxlog = stats.boxcox(x)\nax.axvline(maxlog, color='r')",
            "outputs": []
        },
        {
            "id": "16241e91",
            "cell_type": "code",
            "metadata": {},
            "execution_count": null,
            "source": "plt.show()",
            "outputs": []
        }
    ]
}