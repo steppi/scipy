{
    "nbformat": 4,
    "nbformat_minor": 5,
    "metadata": {
        "kernelspec": {
            "display_name": "Python",
            "language": "python",
            "name": "python"
        },
        "language_info": {
            "name": "python"
        }
    },
    "cells": [
        {
            "id": "44835344",
            "cell_type": "markdown",
            "source": "<div class='alert alert-warning'>\n\nSciPy's interactive examples with Jupyterlite are experimental and may not always work as expected. Execution of cells containing imports may result in large downloads (up to 60MB of content for the first import from SciPy). Load times when importing from SciPy may take roughly 10-20 seconds. If you notice any problems, feel free to open an [issue](https://github.com/scipy/scipy/issues/new/choose).\n\n</div>",
            "metadata": {}
        },
        {
            "id": "ee22efbd",
            "cell_type": "code",
            "metadata": {},
            "execution_count": null,
            "source": "import numpy as np\nfrom scipy.optimize import line_search",
            "outputs": []
        },
        {
            "id": "1ae4fc05",
            "cell_type": "markdown",
            "source": "A objective function and its gradient are defined.\n",
            "metadata": {}
        },
        {
            "id": "383fe711",
            "cell_type": "code",
            "metadata": {},
            "execution_count": null,
            "source": "def obj_func(x):\n    return (x[0])**2+(x[1])**2\ndef obj_grad(x):\n    return [2*x[0], 2*x[1]]",
            "outputs": []
        },
        {
            "id": "8326e030",
            "cell_type": "markdown",
            "source": "We can find alpha that satisfies strong Wolfe conditions.\n",
            "metadata": {}
        },
        {
            "id": "0a464dcf",
            "cell_type": "code",
            "metadata": {},
            "execution_count": null,
            "source": "start_point = np.array([1.8, 1.7])\nsearch_gradient = np.array([-1.0, -1.0])\nline_search(obj_func, obj_grad, start_point, search_gradient)",
            "outputs": [
                {
                    "output_type": "execute_result",
                    "metadata": {},
                    "data": {
                        "text/plain": "(1.0, 2, 1, 1.1300000000000001, 6.13, [1.6, 1.4])"
                    },
                    "execution_count": null
                }
            ]
        }
    ]
}