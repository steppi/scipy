{
    "nbformat": 4,
    "nbformat_minor": 5,
    "metadata": {
        "kernelspec": {
            "display_name": "Python",
            "language": "python",
            "name": "python"
        },
        "language_info": {
            "name": "python"
        }
    },
    "cells": [
        {
            "id": "93ecfd3f",
            "cell_type": "markdown",
            "source": "<div class='alert alert-warning'>\n\nSciPy's interactive examples with Jupyterlite are experimental and may not always work as expected. Execution of cells containing imports may result in large downloads (up to 60MB of content for the first import from SciPy). Load times when importing from SciPy may take roughly 10-20 seconds. If you notice any problems, feel free to open an [issue](https://github.com/scipy/scipy/issues/new/choose).\n\n</div>",
            "metadata": {}
        },
        {
            "id": "30b521c9",
            "cell_type": "code",
            "metadata": {},
            "execution_count": null,
            "source": "from scipy.special import smirnovi, smirnov",
            "outputs": []
        },
        {
            "id": "197d1642",
            "cell_type": "code",
            "metadata": {},
            "execution_count": null,
            "source": "n = 24\ndeviations = [0.1, 0.2, 0.3]",
            "outputs": []
        },
        {
            "id": "b60c3482",
            "cell_type": "markdown",
            "source": "Use `smirnov` to compute the complementary CDF of the Smirnov\ndistribution for the given number of samples and deviations.\n",
            "metadata": {}
        },
        {
            "id": "e517cdfc",
            "cell_type": "code",
            "metadata": {},
            "execution_count": null,
            "source": "p = smirnov(n, deviations)\np",
            "outputs": [
                {
                    "output_type": "execute_result",
                    "metadata": {},
                    "data": {
                        "text/plain": "array([0.58105083, 0.12826832, 0.01032231])"
                    },
                    "execution_count": null
                }
            ]
        },
        {
            "id": "69e5067b",
            "cell_type": "markdown",
            "source": "The inverse function ``smirnovi(n, p)`` returns ``deviations``.\n",
            "metadata": {}
        },
        {
            "id": "d92fd7bb",
            "cell_type": "code",
            "metadata": {},
            "execution_count": null,
            "source": "smirnovi(n, p)",
            "outputs": [
                {
                    "output_type": "execute_result",
                    "metadata": {},
                    "data": {
                        "text/plain": "array([0.1, 0.2, 0.3])"
                    },
                    "execution_count": null
                }
            ]
        }
    ]
}