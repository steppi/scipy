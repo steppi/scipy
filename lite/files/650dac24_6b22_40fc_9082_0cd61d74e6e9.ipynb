{
    "nbformat": 4,
    "nbformat_minor": 5,
    "metadata": {
        "kernelspec": {
            "display_name": "Python",
            "language": "python",
            "name": "python"
        },
        "language_info": {
            "name": "python"
        }
    },
    "cells": [
        {
            "id": "2d13d16b",
            "cell_type": "markdown",
            "source": "<div class='alert alert-warning'>\n\nSciPy's interactive examples with Jupyterlite are experimental and may not always work as expected. Execution of cells containing imports may result in large downloads (up to 60MB of content for the first import from SciPy). Load times when importing from SciPy may take roughly 10-20 seconds. If you notice any problems, feel free to open an [issue](https://github.com/scipy/scipy/issues/new/choose).\n\n</div>",
            "metadata": {}
        },
        {
            "id": "b45f0e23",
            "cell_type": "markdown",
            "source": "Store sparse matrix to disk, and load it again:\n",
            "metadata": {}
        },
        {
            "id": "4bd11a89",
            "cell_type": "code",
            "metadata": {},
            "execution_count": null,
            "source": "import numpy as np\nimport scipy as sp\nsparse_matrix = sp.sparse.csc_matrix([[0, 0, 3], [4, 0, 0]])\nsparse_matrix",
            "outputs": [
                {
                    "output_type": "execute_result",
                    "metadata": {},
                    "data": {
                        "text/plain": "<2x3 sparse matrix of type '<class 'numpy.int64'>'\n   with 2 stored elements in Compressed Sparse Column format>"
                    },
                    "execution_count": null
                }
            ]
        },
        {
            "id": "d33146c1",
            "cell_type": "code",
            "metadata": {},
            "execution_count": null,
            "source": "sparse_matrix.toarray()",
            "outputs": [
                {
                    "output_type": "execute_result",
                    "metadata": {},
                    "data": {
                        "text/plain": "array([[0, 0, 3],\n       [4, 0, 0]], dtype=int64)"
                    },
                    "execution_count": null
                }
            ]
        },
        {
            "id": "f350f999",
            "cell_type": "code",
            "metadata": {},
            "execution_count": null,
            "source": "sp.sparse.save_npz('/tmp/sparse_matrix.npz', sparse_matrix)\nsparse_matrix = sp.sparse.load_npz('/tmp/sparse_matrix.npz')",
            "outputs": []
        },
        {
            "id": "49111521",
            "cell_type": "code",
            "metadata": {},
            "execution_count": null,
            "source": "sparse_matrix",
            "outputs": [
                {
                    "output_type": "execute_result",
                    "metadata": {},
                    "data": {
                        "text/plain": "<2x3 sparse matrix of type '<class 'numpy.int64'>'\n   with 2 stored elements in Compressed Sparse Column format>"
                    },
                    "execution_count": null
                }
            ]
        },
        {
            "id": "ed82c889",
            "cell_type": "code",
            "metadata": {},
            "execution_count": null,
            "source": "sparse_matrix.toarray()",
            "outputs": [
                {
                    "output_type": "execute_result",
                    "metadata": {},
                    "data": {
                        "text/plain": "array([[0, 0, 3],\n       [4, 0, 0]], dtype=int64)"
                    },
                    "execution_count": null
                }
            ]
        }
    ]
}