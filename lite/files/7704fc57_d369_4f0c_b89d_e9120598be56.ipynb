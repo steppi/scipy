{
    "nbformat": 4,
    "nbformat_minor": 5,
    "metadata": {
        "kernelspec": {
            "display_name": "Python",
            "language": "python",
            "name": "python"
        },
        "language_info": {
            "name": "python"
        }
    },
    "cells": [
        {
            "id": "b0e178cf",
            "cell_type": "markdown",
            "source": "<div class='alert alert-warning'>\n\nSciPy's interactive examples with Jupyterlite are experimental and may not always work as expected. Execution of cells containing imports may result in large downloads (up to 60MB of content for the first import from SciPy). Load times when importing from SciPy may take roughly 10-20 seconds. If you notice any problems, feel free to open an [issue](https://github.com/scipy/scipy/issues/new/choose).\n\n</div>",
            "metadata": {}
        },
        {
            "id": "a0c0894c",
            "cell_type": "markdown",
            "source": "Suppose we wish to infer from measurements whether the weights of adult\nhuman males in a medical study are not normally distributed [2].\nThe weights (lbs) are recorded in the array ``x`` below.\n",
            "metadata": {}
        },
        {
            "id": "8eda170a",
            "cell_type": "code",
            "metadata": {},
            "execution_count": null,
            "source": "import numpy as np\nx = np.array([148, 154, 158, 160, 161, 162, 166, 170, 182, 195, 236])",
            "outputs": []
        },
        {
            "id": "955a5744",
            "cell_type": "markdown",
            "source": "The kurtosis test from [1] begins by computing a statistic based on the\nsample (excess/Fisher) kurtosis.\n",
            "metadata": {}
        },
        {
            "id": "acb0f7e8",
            "cell_type": "code",
            "metadata": {},
            "execution_count": null,
            "source": "from scipy import stats\nres = stats.kurtosistest(x)\nres.statistic",
            "outputs": [
                {
                    "output_type": "execute_result",
                    "metadata": {},
                    "data": {
                        "text/plain": "2.3048235214240873"
                    },
                    "execution_count": null
                }
            ]
        },
        {
            "id": "365a570e",
            "cell_type": "markdown",
            "source": "(The test warns that our sample has too few observations to perform the\ntest. We'll return to this at the end of the example.)\nBecause normal distributions have zero excess kurtosis (by definition),\nthe magnitude of this statistic tends to be low for samples drawn from a\nnormal distribution.\n\nThe test is performed by comparing the observed value of the\nstatistic against the null distribution: the distribution of statistic\nvalues derived under the null hypothesis that the weights were drawn from\na normal distribution.\n\nFor this test, the null distribution of the statistic for very large\nsamples is the standard normal distribution.\n",
            "metadata": {}
        },
        {
            "id": "a0971dbc",
            "cell_type": "code",
            "metadata": {},
            "execution_count": null,
            "source": "import matplotlib.pyplot as plt\ndist = stats.norm()\nkt_val = np.linspace(-5, 5, 100)\npdf = dist.pdf(kt_val)\nfig, ax = plt.subplots(figsize=(8, 5))\ndef kt_plot(ax):  # we'll reuse this\n    ax.plot(kt_val, pdf)\n    ax.set_title(\"Kurtosis Test Null Distribution\")\n    ax.set_xlabel(\"statistic\")\n    ax.set_ylabel(\"probability density\")\nkt_plot(ax)\nplt.show()",
            "outputs": []
        },
        {
            "id": "70755520",
            "cell_type": "markdown",
            "source": "The comparison is quantified by the p-value: the proportion of values in\nthe null distribution as extreme or more extreme than the observed\nvalue of the statistic. In a two-sided test in which the statistic is\npositive, elements of the null distribution greater than the observed\nstatistic and elements of the null distribution less than the negative of\nthe observed statistic are both considered \"more extreme\".\n",
            "metadata": {}
        },
        {
            "id": "1d3e17b5",
            "cell_type": "code",
            "metadata": {},
            "execution_count": null,
            "source": "fig, ax = plt.subplots(figsize=(8, 5))\nkt_plot(ax)\npvalue = dist.cdf(-res.statistic) + dist.sf(res.statistic)\nannotation = (f'p-value={pvalue:.3f}\\n(shaded area)')\nprops = dict(facecolor='black', width=1, headwidth=5, headlength=8)\n_ = ax.annotate(annotation, (3, 0.005), (3.25, 0.02), arrowprops=props)\ni = kt_val >= res.statistic\nax.fill_between(kt_val[i], y1=0, y2=pdf[i], color='C0')\ni = kt_val <= -res.statistic\nax.fill_between(kt_val[i], y1=0, y2=pdf[i], color='C0')\nax.set_xlim(-5, 5)\nax.set_ylim(0, 0.1)\nplt.show()",
            "outputs": []
        },
        {
            "id": "26c878c8",
            "cell_type": "code",
            "metadata": {},
            "execution_count": null,
            "source": "res.pvalue",
            "outputs": [
                {
                    "output_type": "execute_result",
                    "metadata": {},
                    "data": {
                        "text/plain": "0.0211764592113868"
                    },
                    "execution_count": null
                }
            ]
        },
        {
            "id": "305463ae",
            "cell_type": "markdown",
            "source": "If the p-value is \"small\" - that is, if there is a low probability of\nsampling data from a normally distributed population that produces such an\nextreme value of the statistic - this may be taken as evidence against\nthe null hypothesis in favor of the alternative: the weights were not\ndrawn from a normal distribution. Note that:\n\n- The inverse is not true; that is, the test is not used to provide\n  evidence for the null hypothesis.\n- The threshold for values that will be considered \"small\" is a choice that\n  should be made before the data is analyzed [3] with consideration of the\n  risks of both false positives (incorrectly rejecting the null hypothesis)\n  and false negatives (failure to reject a false null hypothesis).\n\nNote that the standard normal distribution provides an asymptotic\napproximation of the null distribution; it is only accurate for samples\nwith many observations. This is the reason we received a warning at the\nbeginning of the example; our sample is quite small. In this case,\n`scipy.stats.monte_carlo_test` may provide a more accurate, albeit\nstochastic, approximation of the exact p-value.\n",
            "metadata": {}
        },
        {
            "id": "28a41d26",
            "cell_type": "code",
            "metadata": {},
            "execution_count": null,
            "source": "def statistic(x, axis):\n    # get just the skewtest statistic; ignore the p-value\n    return stats.kurtosistest(x, axis=axis).statistic\nres = stats.monte_carlo_test(x, stats.norm.rvs, statistic)\nfig, ax = plt.subplots(figsize=(8, 5))\nkt_plot(ax)\nax.hist(res.null_distribution, np.linspace(-5, 5, 50),\n        density=True)\nax.legend(['aymptotic approximation\\n(many observations)',\n           'Monte Carlo approximation\\n(11 observations)'])\nplt.show()",
            "outputs": []
        },
        {
            "id": "c046c8f5",
            "cell_type": "code",
            "metadata": {},
            "execution_count": null,
            "source": "res.pvalue",
            "outputs": [
                {
                    "output_type": "execute_result",
                    "metadata": {},
                    "data": {
                        "text/plain": "0.0272  # may vary"
                    },
                    "execution_count": null
                }
            ]
        },
        {
            "id": "d13f8146",
            "cell_type": "markdown",
            "source": "Furthermore, despite their stochastic nature, p-values computed in this way\ncan be used to exactly control the rate of false rejections of the null\nhypothesis [4].\n",
            "metadata": {}
        }
    ]
}