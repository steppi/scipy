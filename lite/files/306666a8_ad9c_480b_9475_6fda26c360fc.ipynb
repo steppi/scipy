{
    "nbformat": 4,
    "nbformat_minor": 5,
    "metadata": {
        "kernelspec": {
            "display_name": "Python",
            "language": "python",
            "name": "python"
        },
        "language_info": {
            "name": "python"
        }
    },
    "cells": [
        {
            "id": "f7396a5e",
            "cell_type": "markdown",
            "source": "<div class='alert alert-warning'>\n\nSciPy's interactive examples with Jupyterlite are experimental and may not always work as expected. Execution of cells containing imports may result in large downloads (up to 60MB of content for the first import from SciPy). Load times when importing from SciPy may take roughly 10-20 seconds. If you notice any problems, feel free to open an [issue](https://github.com/scipy/scipy/issues/new/choose).\n\n</div>",
            "metadata": {}
        },
        {
            "id": "7ed0ef78",
            "cell_type": "code",
            "metadata": {},
            "execution_count": null,
            "source": "import numpy as np\nfrom scipy.stats import gausshyper\nimport matplotlib.pyplot as plt\nfig, ax = plt.subplots(1, 1)",
            "outputs": []
        },
        {
            "id": "18b6b1fe",
            "cell_type": "markdown",
            "source": "Calculate the first four moments:\n",
            "metadata": {}
        },
        {
            "id": "f702dc58",
            "cell_type": "code",
            "metadata": {},
            "execution_count": null,
            "source": "a, b, c, z = 13.8, 3.12, 2.51, 5.18\nmean, var, skew, kurt = gausshyper.stats(a, b, c, z, moments='mvsk')",
            "outputs": []
        },
        {
            "id": "36ce46b8",
            "cell_type": "markdown",
            "source": "Display the probability density function (``pdf``):\n",
            "metadata": {}
        },
        {
            "id": "80c0d679",
            "cell_type": "code",
            "metadata": {},
            "execution_count": null,
            "source": "x = np.linspace(gausshyper.ppf(0.01, a, b, c, z),\n                gausshyper.ppf(0.99, a, b, c, z), 100)\nax.plot(x, gausshyper.pdf(x, a, b, c, z),\n       'r-', lw=5, alpha=0.6, label='gausshyper pdf')",
            "outputs": []
        },
        {
            "id": "537cae78",
            "cell_type": "markdown",
            "source": "Alternatively, the distribution object can be called (as a function)\nto fix the shape, location and scale parameters. This returns a \"frozen\"\nRV object holding the given parameters fixed.\n\nFreeze the distribution and display the frozen ``pdf``:\n",
            "metadata": {}
        },
        {
            "id": "13436601",
            "cell_type": "code",
            "metadata": {},
            "execution_count": null,
            "source": "rv = gausshyper(a, b, c, z)\nax.plot(x, rv.pdf(x), 'k-', lw=2, label='frozen pdf')",
            "outputs": []
        },
        {
            "id": "5d4ba03d",
            "cell_type": "markdown",
            "source": "Check accuracy of ``cdf`` and ``ppf``:\n",
            "metadata": {}
        },
        {
            "id": "8eac4e0e",
            "cell_type": "code",
            "metadata": {},
            "execution_count": null,
            "source": "vals = gausshyper.ppf([0.001, 0.5, 0.999], a, b, c, z)\nnp.allclose([0.001, 0.5, 0.999], gausshyper.cdf(vals, a, b, c, z))",
            "outputs": [
                {
                    "output_type": "execute_result",
                    "metadata": {},
                    "data": {
                        "text/plain": "True"
                    },
                    "execution_count": null
                }
            ]
        },
        {
            "id": "da00d93a",
            "cell_type": "markdown",
            "source": "Generate random numbers:\n",
            "metadata": {}
        },
        {
            "id": "7b030773",
            "cell_type": "code",
            "metadata": {},
            "execution_count": null,
            "source": "r = gausshyper.rvs(a, b, c, z, size=1000)",
            "outputs": []
        },
        {
            "id": "e5c3acc5",
            "cell_type": "markdown",
            "source": "And compare the histogram:\n",
            "metadata": {}
        },
        {
            "id": "13033b1f",
            "cell_type": "code",
            "metadata": {},
            "execution_count": null,
            "source": "ax.hist(r, density=True, bins='auto', histtype='stepfilled', alpha=0.2)\nax.set_xlim([x[0], x[-1]])\nax.legend(loc='best', frameon=False)\nplt.show()",
            "outputs": []
        }
    ]
}