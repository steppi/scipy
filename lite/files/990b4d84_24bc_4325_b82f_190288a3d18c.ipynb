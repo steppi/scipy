{
    "nbformat": 4,
    "nbformat_minor": 5,
    "metadata": {
        "kernelspec": {
            "display_name": "Python",
            "language": "python",
            "name": "python"
        },
        "language_info": {
            "name": "python"
        }
    },
    "cells": [
        {
            "id": "45db6733",
            "cell_type": "markdown",
            "source": "<div class='alert alert-warning'>\n\nSciPy's interactive examples with Jupyterlite are experimental and may not always work as expected. Execution of cells containing imports may result in large downloads (up to 60MB of content for the first import from SciPy). Load times when importing from SciPy may take roughly 10-20 seconds. If you notice any problems, feel free to open an [issue](https://github.com/scipy/scipy/issues/new/choose).\n\n</div>",
            "metadata": {}
        },
        {
            "id": "26f64c01",
            "cell_type": "code",
            "metadata": {},
            "execution_count": null,
            "source": "import numpy as np\nfrom scipy.stats.mstats import describe\nma = np.ma.array(range(6), mask=[0, 0, 0, 1, 1, 1])\ndescribe(ma)",
            "outputs": [
                {
                    "output_type": "execute_result",
                    "metadata": {},
                    "data": {
                        "text/plain": "DescribeResult(nobs=3, minmax=(masked_array(data=0,\n             mask=False,\n       fill_value=999999), masked_array(data=2,\n             mask=False,\n       fill_value=999999)), mean=1.0, variance=0.6666666666666666,\n       skewness=masked_array(data=0., mask=False, fill_value=1e+20),\n        kurtosis=-1.5)"
                    },
                    "execution_count": null
                }
            ]
        }
    ]
}