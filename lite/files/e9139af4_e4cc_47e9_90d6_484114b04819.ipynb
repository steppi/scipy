{
    "nbformat": 4,
    "nbformat_minor": 5,
    "metadata": {
        "kernelspec": {
            "display_name": "Python",
            "language": "python",
            "name": "python"
        },
        "language_info": {
            "name": "python"
        }
    },
    "cells": [
        {
            "id": "7d40247a",
            "cell_type": "markdown",
            "source": "<div class='alert alert-warning'>\n\nSciPy's interactive examples with Jupyterlite are experimental and may not always work as expected. Execution of cells containing imports may result in large downloads (up to 60MB of content for the first import from SciPy). Load times when importing from SciPy may take roughly 10-20 seconds. If you notice any problems, feel free to open an [issue](https://github.com/scipy/scipy/issues/new/choose).\n\n</div>",
            "metadata": {}
        },
        {
            "id": "52292ef4",
            "cell_type": "markdown",
            "source": "Design a 15th-order bandpass filter in SOS format.\n",
            "metadata": {}
        },
        {
            "id": "cfad3ac8",
            "cell_type": "code",
            "metadata": {},
            "execution_count": null,
            "source": "from scipy import signal\nimport numpy as np\nsos = signal.ellip(15, 0.5, 60, (0.2, 0.4), btype='bandpass',\n                   output='sos')",
            "outputs": []
        },
        {
            "id": "d482be6d",
            "cell_type": "markdown",
            "source": "Compute the frequency response at 1500 points from DC to Nyquist.\n",
            "metadata": {}
        },
        {
            "id": "c815ead4",
            "cell_type": "code",
            "metadata": {},
            "execution_count": null,
            "source": "w, h = signal.sosfreqz(sos, worN=1500)",
            "outputs": []
        },
        {
            "id": "8fe9c674",
            "cell_type": "markdown",
            "source": "Plot the response.\n",
            "metadata": {}
        },
        {
            "id": "439f4521",
            "cell_type": "code",
            "metadata": {},
            "execution_count": null,
            "source": "import matplotlib.pyplot as plt\nplt.subplot(2, 1, 1)\ndb = 20*np.log10(np.maximum(np.abs(h), 1e-5))\nplt.plot(w/np.pi, db)\nplt.ylim(-75, 5)\nplt.grid(True)\nplt.yticks([0, -20, -40, -60])\nplt.ylabel('Gain [dB]')\nplt.title('Frequency Response')\nplt.subplot(2, 1, 2)\nplt.plot(w/np.pi, np.angle(h))\nplt.grid(True)\nplt.yticks([-np.pi, -0.5*np.pi, 0, 0.5*np.pi, np.pi],\n           [r'$-\\pi$', r'$-\\pi/2$', '0', r'$\\pi/2$', r'$\\pi$'])\nplt.ylabel('Phase [rad]')\nplt.xlabel('Normalized frequency (1.0 = Nyquist)')\nplt.show()",
            "outputs": []
        },
        {
            "id": "b05d8e3a",
            "cell_type": "markdown",
            "source": "If the same filter is implemented as a single transfer function,\nnumerical error corrupts the frequency response:\n",
            "metadata": {}
        },
        {
            "id": "ac329915",
            "cell_type": "code",
            "metadata": {},
            "execution_count": null,
            "source": "b, a = signal.ellip(15, 0.5, 60, (0.2, 0.4), btype='bandpass',\n                   output='ba')\nw, h = signal.freqz(b, a, worN=1500)\nplt.subplot(2, 1, 1)\ndb = 20*np.log10(np.maximum(np.abs(h), 1e-5))\nplt.plot(w/np.pi, db)\nplt.ylim(-75, 5)\nplt.grid(True)\nplt.yticks([0, -20, -40, -60])\nplt.ylabel('Gain [dB]')\nplt.title('Frequency Response')\nplt.subplot(2, 1, 2)\nplt.plot(w/np.pi, np.angle(h))\nplt.grid(True)\nplt.yticks([-np.pi, -0.5*np.pi, 0, 0.5*np.pi, np.pi],\n           [r'$-\\pi$', r'$-\\pi/2$', '0', r'$\\pi/2$', r'$\\pi$'])\nplt.ylabel('Phase [rad]')\nplt.xlabel('Normalized frequency (1.0 = Nyquist)')\nplt.show()",
            "outputs": []
        }
    ]
}