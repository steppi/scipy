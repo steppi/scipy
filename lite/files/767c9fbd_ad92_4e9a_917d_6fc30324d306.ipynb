{
    "nbformat": 4,
    "nbformat_minor": 5,
    "metadata": {
        "kernelspec": {
            "display_name": "Python",
            "language": "python",
            "name": "python"
        },
        "language_info": {
            "name": "python"
        }
    },
    "cells": [
        {
            "id": "da7b605e",
            "cell_type": "markdown",
            "source": "<div class='alert alert-warning'>\n\nSciPy's interactive examples with Jupyterlite are experimental and may not always work as expected. Execution of cells containing imports may result in large downloads (up to 60MB of content for the first import from SciPy). Load times when importing from SciPy may take roughly 10-20 seconds. If you notice any problems, feel free to open an [issue](https://github.com/scipy/scipy/issues/new/choose).\n\n</div>",
            "metadata": {}
        },
        {
            "id": "ce19e395",
            "cell_type": "markdown",
            "source": "We can read and write a harwell-boeing format file:\n",
            "metadata": {}
        },
        {
            "id": "11ccb6de",
            "cell_type": "code",
            "metadata": {},
            "execution_count": null,
            "source": "from scipy.io import hb_read, hb_write\nfrom scipy.sparse import csr_matrix, eye\ndata = csr_matrix(eye(3))  # create a sparse matrix\nhb_write(\"data.hb\", data)  # write a hb file\nprint(hb_read(\"data.hb\"))  # read a hb file",
            "outputs": [
                {
                    "output_type": "execute_result",
                    "metadata": {},
                    "data": {
                        "text/plain": "  (0, 0)    1.0\n  (1, 1)    1.0\n  (2, 2)    1.0"
                    },
                    "execution_count": null
                }
            ]
        }
    ]
}