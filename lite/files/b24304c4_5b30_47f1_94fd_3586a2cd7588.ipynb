{
    "nbformat": 4,
    "nbformat_minor": 5,
    "metadata": {
        "kernelspec": {
            "display_name": "Python",
            "language": "python",
            "name": "python"
        },
        "language_info": {
            "name": "python"
        }
    },
    "cells": [
        {
            "id": "3ae90ffc",
            "cell_type": "markdown",
            "source": "<div class='alert alert-warning'>\n\nSciPy's interactive examples with Jupyterlite are experimental and may not always work as expected. Execution of cells containing imports may result in large downloads (up to 60MB of content for the first import from SciPy). Load times when importing from SciPy may take roughly 10-20 seconds. If you notice any problems, feel free to open an [issue](https://github.com/scipy/scipy/issues/new/choose).\n\n</div>",
            "metadata": {}
        },
        {
            "id": "631ac5cc",
            "cell_type": "markdown",
            "source": "Use 2D cross-correlation to find the location of a template in a noisy\nimage:\n",
            "metadata": {}
        },
        {
            "id": "823563c6",
            "cell_type": "code",
            "metadata": {},
            "execution_count": null,
            "source": "import numpy as np\nfrom scipy import signal\nfrom scipy import datasets\nrng = np.random.default_rng()\nface = datasets.face(gray=True) - datasets.face(gray=True).mean()\ntemplate = np.copy(face[300:365, 670:750])  # right eye\ntemplate -= template.mean()\nface = face + rng.standard_normal(face.shape) * 50  # add noise\ncorr = signal.correlate2d(face, template, boundary='symm', mode='same')\ny, x = np.unravel_index(np.argmax(corr), corr.shape)  # find the match",
            "outputs": []
        },
        {
            "id": "da697461",
            "cell_type": "code",
            "metadata": {},
            "execution_count": null,
            "source": "import matplotlib.pyplot as plt\nfig, (ax_orig, ax_template, ax_corr) = plt.subplots(3, 1,\n                                                    figsize=(6, 15))\nax_orig.imshow(face, cmap='gray')\nax_orig.set_title('Original')\nax_orig.set_axis_off()\nax_template.imshow(template, cmap='gray')\nax_template.set_title('Template')\nax_template.set_axis_off()\nax_corr.imshow(corr, cmap='gray')\nax_corr.set_title('Cross-correlation')\nax_corr.set_axis_off()\nax_orig.plot(x, y, 'ro')\nfig.show()",
            "outputs": []
        }
    ]
}