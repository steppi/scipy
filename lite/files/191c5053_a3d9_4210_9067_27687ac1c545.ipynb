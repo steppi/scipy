{
    "nbformat": 4,
    "nbformat_minor": 5,
    "metadata": {
        "kernelspec": {
            "display_name": "Python",
            "language": "python",
            "name": "python"
        },
        "language_info": {
            "name": "python"
        }
    },
    "cells": [
        {
            "id": "49fe3ed0",
            "cell_type": "markdown",
            "source": "<div class='alert alert-warning'>\n\nSciPy's interactive examples with Jupyterlite are experimental and may not always work as expected. Execution of cells containing imports may result in large downloads (up to 60MB of content for the first import from SciPy). Load times when importing from SciPy may take roughly 10-20 seconds. If you notice any problems, feel free to open an [issue](https://github.com/scipy/scipy/issues/new/choose).\n\n</div>",
            "metadata": {}
        },
        {
            "id": "2edb2ba8",
            "cell_type": "code",
            "metadata": {},
            "execution_count": null,
            "source": "from scipy.spatial import distance\niv = [[1, 0.5, 0.5], [0.5, 1, 0.5], [0.5, 0.5, 1]]\ndistance.mahalanobis([1, 0, 0], [0, 1, 0], iv)",
            "outputs": [
                {
                    "output_type": "execute_result",
                    "metadata": {},
                    "data": {
                        "text/plain": "1.0"
                    },
                    "execution_count": null
                }
            ]
        },
        {
            "id": "a121ac33",
            "cell_type": "code",
            "metadata": {},
            "execution_count": null,
            "source": "distance.mahalanobis([0, 2, 0], [0, 1, 0], iv)",
            "outputs": [
                {
                    "output_type": "execute_result",
                    "metadata": {},
                    "data": {
                        "text/plain": "1.0"
                    },
                    "execution_count": null
                }
            ]
        },
        {
            "id": "8137da53",
            "cell_type": "code",
            "metadata": {},
            "execution_count": null,
            "source": "distance.mahalanobis([2, 0, 0], [0, 1, 0], iv)",
            "outputs": [
                {
                    "output_type": "execute_result",
                    "metadata": {},
                    "data": {
                        "text/plain": "1.7320508075688772"
                    },
                    "execution_count": null
                }
            ]
        }
    ]
}