{
    "nbformat": 4,
    "nbformat_minor": 5,
    "metadata": {
        "kernelspec": {
            "display_name": "Python",
            "language": "python",
            "name": "python"
        },
        "language_info": {
            "name": "python"
        }
    },
    "cells": [
        {
            "id": "fa1a2960",
            "cell_type": "markdown",
            "source": "<div class='alert alert-warning'>\n\nSciPy's interactive examples with Jupyterlite are experimental and may not always work as expected. Execution of cells containing imports may result in large downloads (up to 60MB of content for the first import from SciPy). Load times when importing from SciPy may take roughly 10-20 seconds. If you notice any problems, feel free to open an [issue](https://github.com/scipy/scipy/issues/new/choose).\n\n</div>",
            "metadata": {}
        },
        {
            "id": "4fa9699f",
            "cell_type": "code",
            "metadata": {},
            "execution_count": null,
            "source": "import numpy as np\nfrom scipy import ndimage\na = np.zeros((6, 6), dtype=int)\na[2:4, 2:4] = 1\na[4, 4] = 1\na[:2, :3] = 2\na[0, 5] = 3\na",
            "outputs": [
                {
                    "output_type": "execute_result",
                    "metadata": {},
                    "data": {
                        "text/plain": "array([[2, 2, 2, 0, 0, 3],\n       [2, 2, 2, 0, 0, 0],\n       [0, 0, 1, 1, 0, 0],\n       [0, 0, 1, 1, 0, 0],\n       [0, 0, 0, 0, 1, 0],\n       [0, 0, 0, 0, 0, 0]])"
                    },
                    "execution_count": null
                }
            ]
        },
        {
            "id": "3ecf7503",
            "cell_type": "code",
            "metadata": {},
            "execution_count": null,
            "source": "val_indices = ndimage.value_indices(a)",
            "outputs": []
        },
        {
            "id": "18af5b2c",
            "cell_type": "markdown",
            "source": "The dictionary `val_indices` will have an entry for each distinct\nvalue in the input array.\n",
            "metadata": {}
        },
        {
            "id": "8fd48c0e",
            "cell_type": "code",
            "metadata": {},
            "execution_count": null,
            "source": "val_indices.keys()",
            "outputs": [
                {
                    "output_type": "execute_result",
                    "metadata": {},
                    "data": {
                        "text/plain": "dict_keys([0, 1, 2, 3])"
                    },
                    "execution_count": null
                }
            ]
        },
        {
            "id": "c614d999",
            "cell_type": "markdown",
            "source": "The entry for each value is an index tuple, locating the elements\nwith that value.\n",
            "metadata": {}
        },
        {
            "id": "9ea94513",
            "cell_type": "code",
            "metadata": {},
            "execution_count": null,
            "source": "ndx1 = val_indices[1]\nndx1",
            "outputs": [
                {
                    "output_type": "execute_result",
                    "metadata": {},
                    "data": {
                        "text/plain": "(array([2, 2, 3, 3, 4]), array([2, 3, 2, 3, 4]))"
                    },
                    "execution_count": null
                }
            ]
        },
        {
            "id": "4e698424",
            "cell_type": "markdown",
            "source": "This can be used to index into the original array, or any other\narray with the same shape.\n",
            "metadata": {}
        },
        {
            "id": "a95df35e",
            "cell_type": "code",
            "metadata": {},
            "execution_count": null,
            "source": "a[ndx1]",
            "outputs": [
                {
                    "output_type": "execute_result",
                    "metadata": {},
                    "data": {
                        "text/plain": "array([1, 1, 1, 1, 1])"
                    },
                    "execution_count": null
                }
            ]
        },
        {
            "id": "38e637ba",
            "cell_type": "markdown",
            "source": "If the zeros were to be ignored, then the resulting dictionary\nwould no longer have an entry for zero.\n",
            "metadata": {}
        },
        {
            "id": "366e1ec0",
            "cell_type": "code",
            "metadata": {},
            "execution_count": null,
            "source": "val_indices = ndimage.value_indices(a, ignore_value=0)\nval_indices.keys()",
            "outputs": [
                {
                    "output_type": "execute_result",
                    "metadata": {},
                    "data": {
                        "text/plain": "dict_keys([1, 2, 3])"
                    },
                    "execution_count": null
                }
            ]
        }
    ]
}