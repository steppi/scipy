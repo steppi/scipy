{
    "nbformat": 4,
    "nbformat_minor": 5,
    "metadata": {
        "kernelspec": {
            "display_name": "Python",
            "language": "python",
            "name": "python"
        },
        "language_info": {
            "name": "python"
        }
    },
    "cells": [
        {
            "id": "9c91e140",
            "cell_type": "markdown",
            "source": "<div class='alert alert-warning'>\n\nSciPy's interactive examples with Jupyterlite are experimental and may not always work as expected. Execution of cells containing imports may result in large downloads (up to 60MB of content for the first import from SciPy). Load times when importing from SciPy may take roughly 10-20 seconds. If you notice any problems, feel free to open an [issue](https://github.com/scipy/scipy/issues/new/choose).\n\n</div>",
            "metadata": {}
        },
        {
            "id": "476a0a52",
            "cell_type": "code",
            "metadata": {},
            "execution_count": null,
            "source": "import numpy as np\nfrom scipy.stats import trapezoid\nimport matplotlib.pyplot as plt\nfig, ax = plt.subplots(1, 1)",
            "outputs": []
        },
        {
            "id": "983eaffe",
            "cell_type": "markdown",
            "source": "Calculate the first four moments:\n",
            "metadata": {}
        },
        {
            "id": "b27a4eb1",
            "cell_type": "code",
            "metadata": {},
            "execution_count": null,
            "source": "c, d = 0.2, 0.8\nmean, var, skew, kurt = trapezoid.stats(c, d, moments='mvsk')",
            "outputs": []
        },
        {
            "id": "5d7b0f39",
            "cell_type": "markdown",
            "source": "Display the probability density function (``pdf``):\n",
            "metadata": {}
        },
        {
            "id": "9533d2f5",
            "cell_type": "code",
            "metadata": {},
            "execution_count": null,
            "source": "x = np.linspace(trapezoid.ppf(0.01, c, d),\n                trapezoid.ppf(0.99, c, d), 100)\nax.plot(x, trapezoid.pdf(x, c, d),\n       'r-', lw=5, alpha=0.6, label='trapezoid pdf')",
            "outputs": []
        },
        {
            "id": "f0fdfb4d",
            "cell_type": "markdown",
            "source": "Alternatively, the distribution object can be called (as a function)\nto fix the shape, location and scale parameters. This returns a \"frozen\"\nRV object holding the given parameters fixed.\n\nFreeze the distribution and display the frozen ``pdf``:\n",
            "metadata": {}
        },
        {
            "id": "499cb3a5",
            "cell_type": "code",
            "metadata": {},
            "execution_count": null,
            "source": "rv = trapezoid(c, d)\nax.plot(x, rv.pdf(x), 'k-', lw=2, label='frozen pdf')",
            "outputs": []
        },
        {
            "id": "c96d635c",
            "cell_type": "markdown",
            "source": "Check accuracy of ``cdf`` and ``ppf``:\n",
            "metadata": {}
        },
        {
            "id": "890f6eec",
            "cell_type": "code",
            "metadata": {},
            "execution_count": null,
            "source": "vals = trapezoid.ppf([0.001, 0.5, 0.999], c, d)\nnp.allclose([0.001, 0.5, 0.999], trapezoid.cdf(vals, c, d))",
            "outputs": [
                {
                    "output_type": "execute_result",
                    "metadata": {},
                    "data": {
                        "text/plain": "True"
                    },
                    "execution_count": null
                }
            ]
        },
        {
            "id": "5b427a3c",
            "cell_type": "markdown",
            "source": "Generate random numbers:\n",
            "metadata": {}
        },
        {
            "id": "998119b5",
            "cell_type": "code",
            "metadata": {},
            "execution_count": null,
            "source": "r = trapezoid.rvs(c, d, size=1000)",
            "outputs": []
        },
        {
            "id": "06471a5c",
            "cell_type": "markdown",
            "source": "And compare the histogram:\n",
            "metadata": {}
        },
        {
            "id": "7afabbf0",
            "cell_type": "code",
            "metadata": {},
            "execution_count": null,
            "source": "ax.hist(r, density=True, bins='auto', histtype='stepfilled', alpha=0.2)\nax.set_xlim([x[0], x[-1]])\nax.legend(loc='best', frameon=False)\nplt.show()",
            "outputs": []
        }
    ]
}