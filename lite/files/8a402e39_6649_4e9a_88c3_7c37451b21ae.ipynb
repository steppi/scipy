{
    "nbformat": 4,
    "nbformat_minor": 5,
    "metadata": {
        "kernelspec": {
            "display_name": "Python",
            "language": "python",
            "name": "python"
        },
        "language_info": {
            "name": "python"
        }
    },
    "cells": [
        {
            "id": "51aeb6f0",
            "cell_type": "markdown",
            "source": "<div class='alert alert-warning'>\n\nSciPy's interactive examples with Jupyterlite are experimental and may not always work as expected. Execution of cells containing imports may result in large downloads (up to 60MB of content for the first import from SciPy). Load times when importing from SciPy may take roughly 10-20 seconds. If you notice any problems, feel free to open an [issue](https://github.com/scipy/scipy/issues/new/choose).\n\n</div>",
            "metadata": {}
        },
        {
            "id": "9e88c180",
            "cell_type": "code",
            "metadata": {},
            "execution_count": null,
            "source": "from scipy import signal\nimport matplotlib.pyplot as plt",
            "outputs": []
        },
        {
            "id": "3237d04d",
            "cell_type": "code",
            "metadata": {},
            "execution_count": null,
            "source": "lp = signal.lti([1.0], [1.0, 1.0])\nlp2 = signal.lti(*signal.lp2lp(lp.num, lp.den, 2))\nw, mag_lp, p_lp = lp.bode()\nw, mag_lp2, p_lp2 = lp2.bode(w)",
            "outputs": []
        },
        {
            "id": "ae75dbbe",
            "cell_type": "code",
            "metadata": {},
            "execution_count": null,
            "source": "plt.plot(w, mag_lp, label='Lowpass')\nplt.plot(w, mag_lp2, label='Transformed Lowpass')\nplt.semilogx()\nplt.grid(True)\nplt.xlabel('Frequency [rad/s]')\nplt.ylabel('Magnitude [dB]')\nplt.legend()",
            "outputs": []
        }
    ]
}