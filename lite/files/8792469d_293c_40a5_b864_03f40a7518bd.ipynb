{
    "nbformat": 4,
    "nbformat_minor": 5,
    "metadata": {
        "kernelspec": {
            "display_name": "Python",
            "language": "python",
            "name": "python"
        },
        "language_info": {
            "name": "python"
        }
    },
    "cells": [
        {
            "id": "f20f3196",
            "cell_type": "markdown",
            "source": "<div class='alert alert-warning'>\n\nSciPy's interactive examples with Jupyterlite are experimental and may not always work as expected. Execution of cells containing imports may result in large downloads (up to 60MB of content for the first import from SciPy). Load times when importing from SciPy may take roughly 10-20 seconds. If you notice any problems, feel free to open an [issue](https://github.com/scipy/scipy/issues/new/choose).\n\n</div>",
            "metadata": {}
        },
        {
            "id": "9ab1f6f0",
            "cell_type": "code",
            "metadata": {},
            "execution_count": null,
            "source": "import numpy as np\nfrom scipy.stats import genhalflogistic\nimport matplotlib.pyplot as plt\nfig, ax = plt.subplots(1, 1)",
            "outputs": []
        },
        {
            "id": "d2adfa3b",
            "cell_type": "markdown",
            "source": "Calculate the first four moments:\n",
            "metadata": {}
        },
        {
            "id": "a169bbd3",
            "cell_type": "code",
            "metadata": {},
            "execution_count": null,
            "source": "c = 0.773\nmean, var, skew, kurt = genhalflogistic.stats(c, moments='mvsk')",
            "outputs": []
        },
        {
            "id": "782d44ac",
            "cell_type": "markdown",
            "source": "Display the probability density function (``pdf``):\n",
            "metadata": {}
        },
        {
            "id": "343b77b9",
            "cell_type": "code",
            "metadata": {},
            "execution_count": null,
            "source": "x = np.linspace(genhalflogistic.ppf(0.01, c),\n                genhalflogistic.ppf(0.99, c), 100)\nax.plot(x, genhalflogistic.pdf(x, c),\n       'r-', lw=5, alpha=0.6, label='genhalflogistic pdf')",
            "outputs": []
        },
        {
            "id": "d26735aa",
            "cell_type": "markdown",
            "source": "Alternatively, the distribution object can be called (as a function)\nto fix the shape, location and scale parameters. This returns a \"frozen\"\nRV object holding the given parameters fixed.\n\nFreeze the distribution and display the frozen ``pdf``:\n",
            "metadata": {}
        },
        {
            "id": "3a8a8b86",
            "cell_type": "code",
            "metadata": {},
            "execution_count": null,
            "source": "rv = genhalflogistic(c)\nax.plot(x, rv.pdf(x), 'k-', lw=2, label='frozen pdf')",
            "outputs": []
        },
        {
            "id": "4ff80385",
            "cell_type": "markdown",
            "source": "Check accuracy of ``cdf`` and ``ppf``:\n",
            "metadata": {}
        },
        {
            "id": "f4c10553",
            "cell_type": "code",
            "metadata": {},
            "execution_count": null,
            "source": "vals = genhalflogistic.ppf([0.001, 0.5, 0.999], c)\nnp.allclose([0.001, 0.5, 0.999], genhalflogistic.cdf(vals, c))",
            "outputs": [
                {
                    "output_type": "execute_result",
                    "metadata": {},
                    "data": {
                        "text/plain": "True"
                    },
                    "execution_count": null
                }
            ]
        },
        {
            "id": "e7ba639f",
            "cell_type": "markdown",
            "source": "Generate random numbers:\n",
            "metadata": {}
        },
        {
            "id": "b7cac6c7",
            "cell_type": "code",
            "metadata": {},
            "execution_count": null,
            "source": "r = genhalflogistic.rvs(c, size=1000)",
            "outputs": []
        },
        {
            "id": "c4ab7e2b",
            "cell_type": "markdown",
            "source": "And compare the histogram:\n",
            "metadata": {}
        },
        {
            "id": "476ff8f5",
            "cell_type": "code",
            "metadata": {},
            "execution_count": null,
            "source": "ax.hist(r, density=True, bins='auto', histtype='stepfilled', alpha=0.2)\nax.set_xlim([x[0], x[-1]])\nax.legend(loc='best', frameon=False)\nplt.show()",
            "outputs": []
        }
    ]
}