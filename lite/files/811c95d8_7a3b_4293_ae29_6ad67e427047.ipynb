{
    "nbformat": 4,
    "nbformat_minor": 5,
    "metadata": {
        "kernelspec": {
            "display_name": "Python",
            "language": "python",
            "name": "python"
        },
        "language_info": {
            "name": "python"
        }
    },
    "cells": [
        {
            "id": "00a79553",
            "cell_type": "markdown",
            "source": "<div class='alert alert-warning'>\n\nSciPy's interactive examples with Jupyterlite are experimental and may not always work as expected. Execution of cells containing imports may result in large downloads (up to 60MB of content for the first import from SciPy). Load times when importing from SciPy may take roughly 10-20 seconds. If you notice any problems, feel free to open an [issue](https://github.com/scipy/scipy/issues/new/choose).\n\n</div>",
            "metadata": {}
        },
        {
            "id": "4fb68dd4",
            "cell_type": "code",
            "metadata": {},
            "execution_count": null,
            "source": "from scipy import signal\nimport matplotlib.pyplot as plt",
            "outputs": []
        },
        {
            "id": "5ffd831b",
            "cell_type": "code",
            "metadata": {},
            "execution_count": null,
            "source": "points = 100\na = 4.0\nvec2 = signal.ricker(points, a)\nprint(len(vec2))",
            "outputs": [
                {
                    "output_type": "execute_result",
                    "metadata": {},
                    "data": {
                        "text/plain": "100"
                    },
                    "execution_count": null
                }
            ]
        },
        {
            "id": "12c544f1",
            "cell_type": "code",
            "metadata": {},
            "execution_count": null,
            "source": "plt.plot(vec2)\nplt.show()",
            "outputs": []
        }
    ]
}