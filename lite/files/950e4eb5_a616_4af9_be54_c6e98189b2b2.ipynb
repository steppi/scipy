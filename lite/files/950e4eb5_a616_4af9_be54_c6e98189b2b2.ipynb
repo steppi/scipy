{
    "nbformat": 4,
    "nbformat_minor": 5,
    "metadata": {
        "kernelspec": {
            "display_name": "Python",
            "language": "python",
            "name": "python"
        },
        "language_info": {
            "name": "python"
        }
    },
    "cells": [
        {
            "id": "382d9318",
            "cell_type": "markdown",
            "source": "<div class='alert alert-warning'>\n\nSciPy's interactive examples with Jupyterlite are experimental and may not always work as expected. Execution of cells containing imports may result in large downloads (up to 60MB of content for the first import from SciPy). Load times when importing from SciPy may take roughly 10-20 seconds. If you notice any problems, feel free to open an [issue](https://github.com/scipy/scipy/issues/new/choose).\n\n</div>",
            "metadata": {}
        },
        {
            "id": "cea397d2",
            "cell_type": "code",
            "metadata": {},
            "execution_count": null,
            "source": "import numpy as np\nimport scipy.special as sc",
            "outputs": []
        },
        {
            "id": "99482faa",
            "cell_type": "markdown",
            "source": "It is more accurate than using cosine directly.\n",
            "metadata": {}
        },
        {
            "id": "32dca71e",
            "cell_type": "code",
            "metadata": {},
            "execution_count": null,
            "source": "x = 90 + 180 * np.arange(3)\nsc.cosdg(x)",
            "outputs": [
                {
                    "output_type": "execute_result",
                    "metadata": {},
                    "data": {
                        "text/plain": "array([-0.,  0., -0.])"
                    },
                    "execution_count": null
                }
            ]
        },
        {
            "id": "244c10b8",
            "cell_type": "code",
            "metadata": {},
            "execution_count": null,
            "source": "np.cos(x * np.pi / 180)",
            "outputs": [
                {
                    "output_type": "execute_result",
                    "metadata": {},
                    "data": {
                        "text/plain": "array([ 6.1232340e-17, -1.8369702e-16,  3.0616170e-16])"
                    },
                    "execution_count": null
                }
            ]
        }
    ]
}