{
    "nbformat": 4,
    "nbformat_minor": 5,
    "metadata": {
        "kernelspec": {
            "display_name": "Python",
            "language": "python",
            "name": "python"
        },
        "language_info": {
            "name": "python"
        }
    },
    "cells": [
        {
            "id": "0f103d83",
            "cell_type": "markdown",
            "source": "<div class='alert alert-warning'>\n\nSciPy's interactive examples with Jupyterlite are experimental and may not always work as expected. Execution of cells containing imports may result in large downloads (up to 60MB of content for the first import from SciPy). Load times when importing from SciPy may take roughly 10-20 seconds. If you notice any problems, feel free to open an [issue](https://github.com/scipy/scipy/issues/new/choose).\n\n</div>",
            "metadata": {}
        },
        {
            "id": "615a8e9b",
            "cell_type": "markdown",
            "source": "16-sample 4th order FIR Gammatone filter centered at 440 Hz\n",
            "metadata": {}
        },
        {
            "id": "1f7c3b98",
            "cell_type": "code",
            "metadata": {},
            "execution_count": null,
            "source": "from scipy import signal\nsignal.gammatone(440, 'fir', numtaps=16, fs=16000)",
            "outputs": [
                {
                    "output_type": "execute_result",
                    "metadata": {},
                    "data": {
                        "text/plain": "(array([ 0.00000000e+00,  2.22196719e-07,  1.64942101e-06,  4.99298227e-06,\n    1.01993969e-05,  1.63125770e-05,  2.14648940e-05,  2.29947263e-05,\n    1.76776931e-05,  2.04980537e-06, -2.72062858e-05, -7.28455299e-05,\n   -1.36651076e-04, -2.19066855e-04, -3.18905076e-04, -4.33156712e-04]),\n   [1.0])"
                    },
                    "execution_count": null
                }
            ]
        },
        {
            "id": "595ff480",
            "cell_type": "markdown",
            "source": "IIR Gammatone filter centered at 440 Hz\n",
            "metadata": {}
        },
        {
            "id": "ec92bd1a",
            "cell_type": "code",
            "metadata": {},
            "execution_count": null,
            "source": "import matplotlib.pyplot as plt\nimport numpy as np",
            "outputs": []
        },
        {
            "id": "3a6056f1",
            "cell_type": "code",
            "metadata": {},
            "execution_count": null,
            "source": "b, a = signal.gammatone(440, 'iir', fs=16000)\nw, h = signal.freqz(b, a)\nplt.plot(w / ((2 * np.pi) / 16000), 20 * np.log10(abs(h)))\nplt.xscale('log')\nplt.title('Gammatone filter frequency response')\nplt.xlabel('Frequency')\nplt.ylabel('Amplitude [dB]')\nplt.margins(0, 0.1)\nplt.grid(which='both', axis='both')\nplt.axvline(440, color='green') # cutoff frequency\nplt.show()",
            "outputs": []
        }
    ]
}