{
    "nbformat": 4,
    "nbformat_minor": 5,
    "metadata": {
        "kernelspec": {
            "display_name": "Python",
            "language": "python",
            "name": "python"
        },
        "language_info": {
            "name": "python"
        }
    },
    "cells": [
        {
            "id": "b6ff85d6",
            "cell_type": "markdown",
            "source": "<div class='alert alert-warning'>\n\nSciPy's interactive examples with Jupyterlite are experimental and may not always work as expected. Execution of cells containing imports may result in large downloads (up to 60MB of content for the first import from SciPy). Load times when importing from SciPy may take roughly 10-20 seconds. If you notice any problems, feel free to open an [issue](https://github.com/scipy/scipy/issues/new/choose).\n\n</div>",
            "metadata": {}
        },
        {
            "id": "6553d3c4",
            "cell_type": "code",
            "metadata": {},
            "execution_count": null,
            "source": "import numpy as np\nimport scipy.linalg.blas as bla\nrng = np.random.default_rng()\na = rng.random((10,15))\nb = np.asfortranarray(a)  # Change the memory layout order\nbla.find_best_blas_type((a,))",
            "outputs": [
                {
                    "output_type": "execute_result",
                    "metadata": {},
                    "data": {
                        "text/plain": "('d', dtype('float64'), False)"
                    },
                    "execution_count": null
                }
            ]
        },
        {
            "id": "eac9a255",
            "cell_type": "code",
            "metadata": {},
            "execution_count": null,
            "source": "bla.find_best_blas_type((a*1j,))",
            "outputs": [
                {
                    "output_type": "execute_result",
                    "metadata": {},
                    "data": {
                        "text/plain": "('z', dtype('complex128'), False)"
                    },
                    "execution_count": null
                }
            ]
        },
        {
            "id": "801ab086",
            "cell_type": "code",
            "metadata": {},
            "execution_count": null,
            "source": "bla.find_best_blas_type((b,))",
            "outputs": [
                {
                    "output_type": "execute_result",
                    "metadata": {},
                    "data": {
                        "text/plain": "('d', dtype('float64'), True)"
                    },
                    "execution_count": null
                }
            ]
        }
    ]
}