{
    "nbformat": 4,
    "nbformat_minor": 5,
    "metadata": {
        "kernelspec": {
            "display_name": "Python",
            "language": "python",
            "name": "python"
        },
        "language_info": {
            "name": "python"
        }
    },
    "cells": [
        {
            "id": "53ae35d3",
            "cell_type": "markdown",
            "source": "<div class='alert alert-warning'>\n\nSciPy's interactive examples with Jupyterlite are experimental and may not always work as expected. Execution of cells containing imports may result in large downloads (up to 60MB of content for the first import from SciPy). Load times when importing from SciPy may take roughly 10-20 seconds. If you notice any problems, feel free to open an [issue](https://github.com/scipy/scipy/issues/new/choose).\n\n</div>",
            "metadata": {}
        },
        {
            "id": "cc527294",
            "cell_type": "code",
            "metadata": {},
            "execution_count": null,
            "source": "import numpy as np\nfrom scipy import stats\nimport matplotlib.pyplot as plt\nnsample = 100\nrng = np.random.default_rng()",
            "outputs": []
        },
        {
            "id": "6e58cbcc",
            "cell_type": "markdown",
            "source": "A t distribution with small degrees of freedom:\n",
            "metadata": {}
        },
        {
            "id": "dccf599c",
            "cell_type": "code",
            "metadata": {},
            "execution_count": null,
            "source": "ax1 = plt.subplot(221)\nx = stats.t.rvs(3, size=nsample, random_state=rng)\nres = stats.probplot(x, plot=plt)",
            "outputs": []
        },
        {
            "id": "41bd07f0",
            "cell_type": "markdown",
            "source": "A t distribution with larger degrees of freedom:\n",
            "metadata": {}
        },
        {
            "id": "e652dd01",
            "cell_type": "code",
            "metadata": {},
            "execution_count": null,
            "source": "ax2 = plt.subplot(222)\nx = stats.t.rvs(25, size=nsample, random_state=rng)\nres = stats.probplot(x, plot=plt)",
            "outputs": []
        },
        {
            "id": "01c0b6dd",
            "cell_type": "markdown",
            "source": "A mixture of two normal distributions with broadcasting:\n",
            "metadata": {}
        },
        {
            "id": "ed8e3884",
            "cell_type": "code",
            "metadata": {},
            "execution_count": null,
            "source": "ax3 = plt.subplot(223)\nx = stats.norm.rvs(loc=[0,5], scale=[1,1.5],\n                   size=(nsample//2,2), random_state=rng).ravel()\nres = stats.probplot(x, plot=plt)",
            "outputs": []
        },
        {
            "id": "c10ddc7b",
            "cell_type": "markdown",
            "source": "A standard normal distribution:\n",
            "metadata": {}
        },
        {
            "id": "289b17bc",
            "cell_type": "code",
            "metadata": {},
            "execution_count": null,
            "source": "ax4 = plt.subplot(224)\nx = stats.norm.rvs(loc=0, scale=1, size=nsample, random_state=rng)\nres = stats.probplot(x, plot=plt)",
            "outputs": []
        },
        {
            "id": "824ab524",
            "cell_type": "markdown",
            "source": "Produce a new figure with a loggamma distribution, using the ``dist`` and\n``sparams`` keywords:\n",
            "metadata": {}
        },
        {
            "id": "b0a5ac2f",
            "cell_type": "code",
            "metadata": {},
            "execution_count": null,
            "source": "fig = plt.figure()\nax = fig.add_subplot(111)\nx = stats.loggamma.rvs(c=2.5, size=500, random_state=rng)\nres = stats.probplot(x, dist=stats.loggamma, sparams=(2.5,), plot=ax)\nax.set_title(\"Probplot for loggamma dist with shape parameter 2.5\")",
            "outputs": []
        },
        {
            "id": "ecb7a549",
            "cell_type": "markdown",
            "source": "Show the results with Matplotlib:\n",
            "metadata": {}
        },
        {
            "id": "fbaa51c8",
            "cell_type": "code",
            "metadata": {},
            "execution_count": null,
            "source": "plt.show()",
            "outputs": []
        }
    ]
}