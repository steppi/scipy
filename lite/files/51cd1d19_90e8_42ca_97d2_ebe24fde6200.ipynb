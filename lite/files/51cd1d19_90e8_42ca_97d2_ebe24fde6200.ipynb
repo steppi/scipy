{
    "nbformat": 4,
    "nbformat_minor": 5,
    "metadata": {
        "kernelspec": {
            "display_name": "Python",
            "language": "python",
            "name": "python"
        },
        "language_info": {
            "name": "python"
        }
    },
    "cells": [
        {
            "id": "5a7cab8e",
            "cell_type": "markdown",
            "source": "<div class='alert alert-warning'>\n\nSciPy's interactive examples with Jupyterlite are experimental and may not always work as expected. Execution of cells containing imports may result in large downloads (up to 60MB of content for the first import from SciPy). Load times when importing from SciPy may take roughly 10-20 seconds. If you notice any problems, feel free to open an [issue](https://github.com/scipy/scipy/issues/new/choose).\n\n</div>",
            "metadata": {}
        },
        {
            "id": "a4779c29",
            "cell_type": "code",
            "metadata": {},
            "execution_count": null,
            "source": "from os.path import dirname, join as pjoin\nimport scipy.io as sio",
            "outputs": []
        },
        {
            "id": "71857665",
            "cell_type": "markdown",
            "source": "Get the filename for an example .mat file from the tests/data directory.\n",
            "metadata": {}
        },
        {
            "id": "cd5e5027",
            "cell_type": "code",
            "metadata": {},
            "execution_count": null,
            "source": "data_dir = pjoin(dirname(sio.__file__), 'matlab', 'tests', 'data')\nmat_fname = pjoin(data_dir, 'testdouble_7.4_GLNX86.mat')",
            "outputs": []
        },
        {
            "id": "14a234f0",
            "cell_type": "markdown",
            "source": "Load the .mat file contents.\n",
            "metadata": {}
        },
        {
            "id": "d27cb22e",
            "cell_type": "code",
            "metadata": {},
            "execution_count": null,
            "source": "mat_contents = sio.loadmat(mat_fname)",
            "outputs": []
        },
        {
            "id": "8ddaa2a2",
            "cell_type": "markdown",
            "source": "The result is a dictionary, one key/value pair for each variable:\n",
            "metadata": {}
        },
        {
            "id": "2037192e",
            "cell_type": "code",
            "metadata": {},
            "execution_count": null,
            "source": "sorted(mat_contents.keys())",
            "outputs": [
                {
                    "output_type": "execute_result",
                    "metadata": {},
                    "data": {
                        "text/plain": "['__globals__', '__header__', '__version__', 'testdouble']"
                    },
                    "execution_count": null
                }
            ]
        },
        {
            "id": "e66f988e",
            "cell_type": "code",
            "metadata": {},
            "execution_count": null,
            "source": "mat_contents['testdouble']",
            "outputs": [
                {
                    "output_type": "execute_result",
                    "metadata": {},
                    "data": {
                        "text/plain": "array([[0.        , 0.78539816, 1.57079633, 2.35619449, 3.14159265,\n        3.92699082, 4.71238898, 5.49778714, 6.28318531]])"
                    },
                    "execution_count": null
                }
            ]
        },
        {
            "id": "e9046884",
            "cell_type": "markdown",
            "source": "By default SciPy reads MATLAB structs as structured NumPy arrays where the\ndtype fields are of type `object` and the names correspond to the MATLAB\nstruct field names. This can be disabled by setting the optional argument\n`struct_as_record=False`.\n\nGet the filename for an example .mat file that contains a MATLAB struct\ncalled `teststruct` and load the contents.\n",
            "metadata": {}
        },
        {
            "id": "177bb225",
            "cell_type": "code",
            "metadata": {},
            "execution_count": null,
            "source": "matstruct_fname = pjoin(data_dir, 'teststruct_7.4_GLNX86.mat')\nmatstruct_contents = sio.loadmat(matstruct_fname)\nteststruct = matstruct_contents['teststruct']\nteststruct.dtype",
            "outputs": [
                {
                    "output_type": "execute_result",
                    "metadata": {},
                    "data": {
                        "text/plain": "dtype([('stringfield', 'O'), ('doublefield', 'O'), ('complexfield', 'O')])"
                    },
                    "execution_count": null
                }
            ]
        },
        {
            "id": "ed57f099",
            "cell_type": "markdown",
            "source": "The size of the structured array is the size of the MATLAB struct, not the\nnumber of elements in any particular field. The shape defaults to 2-D\nunless the optional argument `squeeze_me=True`, in which case all length 1\ndimensions are removed.\n",
            "metadata": {}
        },
        {
            "id": "65115f6a",
            "cell_type": "code",
            "metadata": {},
            "execution_count": null,
            "source": "teststruct.size",
            "outputs": [
                {
                    "output_type": "execute_result",
                    "metadata": {},
                    "data": {
                        "text/plain": "1"
                    },
                    "execution_count": null
                }
            ]
        },
        {
            "id": "b4864f96",
            "cell_type": "code",
            "metadata": {},
            "execution_count": null,
            "source": "teststruct.shape",
            "outputs": [
                {
                    "output_type": "execute_result",
                    "metadata": {},
                    "data": {
                        "text/plain": "(1, 1)"
                    },
                    "execution_count": null
                }
            ]
        },
        {
            "id": "9d5efa4b",
            "cell_type": "markdown",
            "source": "Get the 'stringfield' of the first element in the MATLAB struct.\n",
            "metadata": {}
        },
        {
            "id": "5d84f796",
            "cell_type": "code",
            "metadata": {},
            "execution_count": null,
            "source": "teststruct[0, 0]['stringfield']",
            "outputs": [
                {
                    "output_type": "execute_result",
                    "metadata": {},
                    "data": {
                        "text/plain": "array(['Rats live on no evil star.'],\n  dtype='<U26')"
                    },
                    "execution_count": null
                }
            ]
        },
        {
            "id": "0dcf94c2",
            "cell_type": "markdown",
            "source": "Get the first element of the 'doublefield'.\n",
            "metadata": {}
        },
        {
            "id": "775699e9",
            "cell_type": "code",
            "metadata": {},
            "execution_count": null,
            "source": "teststruct['doublefield'][0, 0]",
            "outputs": [
                {
                    "output_type": "execute_result",
                    "metadata": {},
                    "data": {
                        "text/plain": "array([[ 1.41421356,  2.71828183,  3.14159265]])"
                    },
                    "execution_count": null
                }
            ]
        },
        {
            "id": "d9d49225",
            "cell_type": "markdown",
            "source": "Load the MATLAB struct, squeezing out length 1 dimensions, and get the item\nfrom the 'complexfield'.\n",
            "metadata": {}
        },
        {
            "id": "c9c906e1",
            "cell_type": "code",
            "metadata": {},
            "execution_count": null,
            "source": "matstruct_squeezed = sio.loadmat(matstruct_fname, squeeze_me=True)\nmatstruct_squeezed['teststruct'].shape",
            "outputs": [
                {
                    "output_type": "execute_result",
                    "metadata": {},
                    "data": {
                        "text/plain": "()"
                    },
                    "execution_count": null
                }
            ]
        },
        {
            "id": "e85e7b82",
            "cell_type": "code",
            "metadata": {},
            "execution_count": null,
            "source": "matstruct_squeezed['teststruct']['complexfield'].shape",
            "outputs": [
                {
                    "output_type": "execute_result",
                    "metadata": {},
                    "data": {
                        "text/plain": "()"
                    },
                    "execution_count": null
                }
            ]
        },
        {
            "id": "eee0e587",
            "cell_type": "code",
            "metadata": {},
            "execution_count": null,
            "source": "matstruct_squeezed['teststruct']['complexfield'].item()",
            "outputs": [
                {
                    "output_type": "execute_result",
                    "metadata": {},
                    "data": {
                        "text/plain": "array([ 1.41421356+1.41421356j,  2.71828183+2.71828183j,\n    3.14159265+3.14159265j])"
                    },
                    "execution_count": null
                }
            ]
        }
    ]
}