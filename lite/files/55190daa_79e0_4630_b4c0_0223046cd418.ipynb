{
    "nbformat": 4,
    "nbformat_minor": 5,
    "metadata": {
        "kernelspec": {
            "display_name": "Python",
            "language": "python",
            "name": "python"
        },
        "language_info": {
            "name": "python"
        }
    },
    "cells": [
        {
            "id": "fa7fb8d6",
            "cell_type": "markdown",
            "source": "<div class='alert alert-warning'>\n\nSciPy's interactive examples with Jupyterlite are experimental and may not always work as expected. Execution of cells containing imports may result in large downloads (up to 60MB of content for the first import from SciPy). Load times when importing from SciPy may take roughly 10-20 seconds. If you notice any problems, feel free to open an [issue](https://github.com/scipy/scipy/issues/new/choose).\n\n</div>",
            "metadata": {}
        },
        {
            "id": "588a0d22",
            "cell_type": "code",
            "metadata": {},
            "execution_count": null,
            "source": "import numpy as np\nfrom scipy.stats import unitary_group\nx = unitary_group.rvs(3)",
            "outputs": []
        },
        {
            "id": "159b8ef7",
            "cell_type": "code",
            "metadata": {},
            "execution_count": null,
            "source": "np.dot(x, x.conj().T)",
            "outputs": [
                {
                    "output_type": "execute_result",
                    "metadata": {},
                    "data": {
                        "text/plain": "array([[  1.00000000e+00,   1.13231364e-17,  -2.86852790e-16],\n       [  1.13231364e-17,   1.00000000e+00,  -1.46845020e-16],\n       [ -2.86852790e-16,  -1.46845020e-16,   1.00000000e+00]])"
                    },
                    "execution_count": null
                }
            ]
        },
        {
            "id": "50c51993",
            "cell_type": "markdown",
            "source": "This generates one random matrix from U(3). The dot product confirms that\nit is unitary up to machine precision.\n\nAlternatively, the object may be called (as a function) to fix the `dim`\nparameter, return a \"frozen\" unitary_group random variable:\n",
            "metadata": {}
        },
        {
            "id": "ac113d8b",
            "cell_type": "code",
            "metadata": {},
            "execution_count": null,
            "source": "rv = unitary_group(5)",
            "outputs": []
        }
    ]
}