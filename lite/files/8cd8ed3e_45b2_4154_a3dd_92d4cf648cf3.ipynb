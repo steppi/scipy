{
    "nbformat": 4,
    "nbformat_minor": 5,
    "metadata": {
        "kernelspec": {
            "display_name": "Python",
            "language": "python",
            "name": "python"
        },
        "language_info": {
            "name": "python"
        }
    },
    "cells": [
        {
            "id": "0dd81362",
            "cell_type": "markdown",
            "source": "<div class='alert alert-warning'>\n\nSciPy's interactive examples with Jupyterlite are experimental and may not always work as expected. Execution of cells containing imports may result in large downloads (up to 60MB of content for the first import from SciPy). Load times when importing from SciPy may take roughly 10-20 seconds. If you notice any problems, feel free to open an [issue](https://github.com/scipy/scipy/issues/new/choose).\n\n</div>",
            "metadata": {}
        },
        {
            "id": "79521de4",
            "cell_type": "code",
            "metadata": {},
            "execution_count": null,
            "source": "from scipy import integrate\nimport numpy as np\nf = lambda x: x**8\nintegrate.quadrature(f, 0.0, 1.0)",
            "outputs": [
                {
                    "output_type": "execute_result",
                    "metadata": {},
                    "data": {
                        "text/plain": "(0.11111111111111106, 4.163336342344337e-17)"
                    },
                    "execution_count": null
                }
            ]
        },
        {
            "id": "d2a761b0",
            "cell_type": "code",
            "metadata": {},
            "execution_count": null,
            "source": "print(1/9.0)  # analytical result",
            "outputs": [
                {
                    "output_type": "execute_result",
                    "metadata": {},
                    "data": {
                        "text/plain": "0.1111111111111111"
                    },
                    "execution_count": null
                }
            ]
        },
        {
            "id": "f23ec533",
            "cell_type": "code",
            "metadata": {},
            "execution_count": null,
            "source": "integrate.quadrature(np.cos, 0.0, np.pi/2)",
            "outputs": [
                {
                    "output_type": "execute_result",
                    "metadata": {},
                    "data": {
                        "text/plain": "(0.9999999999999536, 3.9611425250996035e-11)"
                    },
                    "execution_count": null
                }
            ]
        },
        {
            "id": "335de48e",
            "cell_type": "code",
            "metadata": {},
            "execution_count": null,
            "source": "np.sin(np.pi/2)-np.sin(0)  # analytical result",
            "outputs": [
                {
                    "output_type": "execute_result",
                    "metadata": {},
                    "data": {
                        "text/plain": "1.0"
                    },
                    "execution_count": null
                }
            ]
        }
    ]
}