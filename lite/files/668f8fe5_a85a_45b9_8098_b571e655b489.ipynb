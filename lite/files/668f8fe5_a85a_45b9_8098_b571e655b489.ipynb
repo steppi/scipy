{
    "nbformat": 4,
    "nbformat_minor": 5,
    "metadata": {
        "kernelspec": {
            "display_name": "Python",
            "language": "python",
            "name": "python"
        },
        "language_info": {
            "name": "python"
        }
    },
    "cells": [
        {
            "id": "4f82cced",
            "cell_type": "markdown",
            "source": "<div class='alert alert-warning'>\n\nSciPy's interactive examples with Jupyterlite are experimental and may not always work as expected. Execution of cells containing imports may result in large downloads (up to 60MB of content for the first import from SciPy). Load times when importing from SciPy may take roughly 10-20 seconds. If you notice any problems, feel free to open an [issue](https://github.com/scipy/scipy/issues/new/choose).\n\n</div>",
            "metadata": {}
        },
        {
            "id": "e7ac90d9",
            "cell_type": "markdown",
            "source": "Suppose we have global data on a coarse grid (the input data does not\nhave to be on a grid):\n",
            "metadata": {}
        },
        {
            "id": "5299d634",
            "cell_type": "code",
            "metadata": {},
            "execution_count": null,
            "source": "import numpy as np\ntheta = np.linspace(0., np.pi, 7)\nphi = np.linspace(0., 2*np.pi, 9)\ndata = np.empty((theta.shape[0], phi.shape[0]))\ndata[:,0], data[0,:], data[-1,:] = 0., 0., 0.\ndata[1:-1,1], data[1:-1,-1] = 1., 1.\ndata[1,1:-1], data[-2,1:-1] = 1., 1.\ndata[2:-2,2], data[2:-2,-2] = 2., 2.\ndata[2,2:-2], data[-3,2:-2] = 2., 2.\ndata[3,3:-2] = 3.\ndata = np.roll(data, 4, 1)",
            "outputs": []
        },
        {
            "id": "5e0ae698",
            "cell_type": "markdown",
            "source": "We need to set up the interpolator object\n",
            "metadata": {}
        },
        {
            "id": "81cc7102",
            "cell_type": "code",
            "metadata": {},
            "execution_count": null,
            "source": "lats, lons = np.meshgrid(theta, phi)\nfrom scipy.interpolate import SmoothSphereBivariateSpline\nlut = SmoothSphereBivariateSpline(lats.ravel(), lons.ravel(),\n                                  data.T.ravel(), s=3.5)",
            "outputs": []
        },
        {
            "id": "162af90a",
            "cell_type": "markdown",
            "source": "As a first test, we'll see what the algorithm returns when run on the\ninput coordinates\n",
            "metadata": {}
        },
        {
            "id": "5defc2dc",
            "cell_type": "code",
            "metadata": {},
            "execution_count": null,
            "source": "data_orig = lut(theta, phi)",
            "outputs": []
        },
        {
            "id": "9af7c1d4",
            "cell_type": "markdown",
            "source": "Finally we interpolate the data to a finer grid\n",
            "metadata": {}
        },
        {
            "id": "d2db9e4f",
            "cell_type": "code",
            "metadata": {},
            "execution_count": null,
            "source": "fine_lats = np.linspace(0., np.pi, 70)\nfine_lons = np.linspace(0., 2 * np.pi, 90)",
            "outputs": []
        },
        {
            "id": "e9899644",
            "cell_type": "code",
            "metadata": {},
            "execution_count": null,
            "source": "data_smth = lut(fine_lats, fine_lons)",
            "outputs": []
        },
        {
            "id": "8add138a",
            "cell_type": "code",
            "metadata": {},
            "execution_count": null,
            "source": "import matplotlib.pyplot as plt\nfig = plt.figure()\nax1 = fig.add_subplot(131)\nax1.imshow(data, interpolation='nearest')\nax2 = fig.add_subplot(132)\nax2.imshow(data_orig, interpolation='nearest')\nax3 = fig.add_subplot(133)\nax3.imshow(data_smth, interpolation='nearest')\nplt.show()",
            "outputs": []
        }
    ]
}