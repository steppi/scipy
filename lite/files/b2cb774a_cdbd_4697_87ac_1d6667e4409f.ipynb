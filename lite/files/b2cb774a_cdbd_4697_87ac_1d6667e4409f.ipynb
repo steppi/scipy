{
    "nbformat": 4,
    "nbformat_minor": 5,
    "metadata": {
        "kernelspec": {
            "display_name": "Python",
            "language": "python",
            "name": "python"
        },
        "language_info": {
            "name": "python"
        }
    },
    "cells": [
        {
            "id": "8c606080",
            "cell_type": "markdown",
            "source": "<div class='alert alert-warning'>\n\nSciPy's interactive examples with Jupyterlite are experimental and may not always work as expected. Execution of cells containing imports may result in large downloads (up to 60MB of content for the first import from SciPy). Load times when importing from SciPy may take roughly 10-20 seconds. If you notice any problems, feel free to open an [issue](https://github.com/scipy/scipy/issues/new/choose).\n\n</div>",
            "metadata": {}
        },
        {
            "id": "01edc596",
            "cell_type": "code",
            "metadata": {},
            "execution_count": null,
            "source": "from scipy import sparse\nA = sparse.csc_array([[0,1,0],[1,0,1],[0,1,0]])\nA.todense()",
            "outputs": [
                {
                    "output_type": "execute_result",
                    "metadata": {},
                    "data": {
                        "text/plain": "array([[0, 1, 0],\n       [1, 0, 1],\n       [0, 1, 0]])"
                    },
                    "execution_count": null
                }
            ]
        },
        {
            "id": "9eefec29",
            "cell_type": "code",
            "metadata": {},
            "execution_count": null,
            "source": "(A @ A).todense()",
            "outputs": [
                {
                    "output_type": "execute_result",
                    "metadata": {},
                    "data": {
                        "text/plain": "array([[1, 0, 1],\n       [0, 2, 0],\n       [1, 0, 1]])"
                    },
                    "execution_count": null
                }
            ]
        },
        {
            "id": "575651f0",
            "cell_type": "code",
            "metadata": {},
            "execution_count": null,
            "source": "A2 = sparse.linalg.matrix_power(A, 2)\nA2.todense()",
            "outputs": [
                {
                    "output_type": "execute_result",
                    "metadata": {},
                    "data": {
                        "text/plain": "array([[1, 0, 1],\n       [0, 2, 0],\n       [1, 0, 1]])"
                    },
                    "execution_count": null
                }
            ]
        },
        {
            "id": "a5ca1fe1",
            "cell_type": "code",
            "metadata": {},
            "execution_count": null,
            "source": "A4 = sparse.linalg.matrix_power(A, 4)\nA4.todense()",
            "outputs": [
                {
                    "output_type": "execute_result",
                    "metadata": {},
                    "data": {
                        "text/plain": "array([[2, 0, 2],\n       [0, 4, 0],\n       [2, 0, 2]])"
                    },
                    "execution_count": null
                }
            ]
        }
    ]
}