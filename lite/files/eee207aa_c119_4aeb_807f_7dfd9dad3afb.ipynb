{
    "nbformat": 4,
    "nbformat_minor": 5,
    "metadata": {
        "kernelspec": {
            "display_name": "Python",
            "language": "python",
            "name": "python"
        },
        "language_info": {
            "name": "python"
        }
    },
    "cells": [
        {
            "id": "33d85d7f",
            "cell_type": "markdown",
            "source": "<div class='alert alert-warning'>\n\nSciPy's interactive examples with Jupyterlite are experimental and may not always work as expected. Execution of cells containing imports may result in large downloads (up to 60MB of content for the first import from SciPy). Load times when importing from SciPy may take roughly 10-20 seconds. If you notice any problems, feel free to open an [issue](https://github.com/scipy/scipy/issues/new/choose).\n\n</div>",
            "metadata": {}
        },
        {
            "id": "851323ad",
            "cell_type": "code",
            "metadata": {},
            "execution_count": null,
            "source": "import numpy as np\nfrom scipy.linalg import orthogonal_procrustes\nA = np.array([[ 2,  0,  1], [-2,  0,  0]])",
            "outputs": []
        },
        {
            "id": "15592a60",
            "cell_type": "markdown",
            "source": "Flip the order of columns and check for the anti-diagonal mapping\n",
            "metadata": {}
        },
        {
            "id": "57134e2d",
            "cell_type": "code",
            "metadata": {},
            "execution_count": null,
            "source": "R, sca = orthogonal_procrustes(A, np.fliplr(A))\nR",
            "outputs": [
                {
                    "output_type": "execute_result",
                    "metadata": {},
                    "data": {
                        "text/plain": "array([[-5.34384992e-17,  0.00000000e+00,  1.00000000e+00],\n       [ 0.00000000e+00,  1.00000000e+00,  0.00000000e+00],\n       [ 1.00000000e+00,  0.00000000e+00, -7.85941422e-17]])"
                    },
                    "execution_count": null
                }
            ]
        },
        {
            "id": "a5822dce",
            "cell_type": "code",
            "metadata": {},
            "execution_count": null,
            "source": "sca",
            "outputs": [
                {
                    "output_type": "execute_result",
                    "metadata": {},
                    "data": {
                        "text/plain": "9.0"
                    },
                    "execution_count": null
                }
            ]
        }
    ]
}