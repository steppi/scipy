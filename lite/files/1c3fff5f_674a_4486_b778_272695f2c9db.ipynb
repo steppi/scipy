{
    "nbformat": 4,
    "nbformat_minor": 5,
    "metadata": {
        "kernelspec": {
            "display_name": "Python",
            "language": "python",
            "name": "python"
        },
        "language_info": {
            "name": "python"
        }
    },
    "cells": [
        {
            "id": "41491935",
            "cell_type": "markdown",
            "source": "<div class='alert alert-warning'>\n\nSciPy's interactive examples with Jupyterlite are experimental and may not always work as expected. Execution of cells containing imports may result in large downloads (up to 60MB of content for the first import from SciPy). Load times when importing from SciPy may take roughly 10-20 seconds. If you notice any problems, feel free to open an [issue](https://github.com/scipy/scipy/issues/new/choose).\n\n</div>",
            "metadata": {}
        },
        {
            "id": "1baa30a8",
            "cell_type": "markdown",
            "source": "We can read and write a harwell-boeing format file:\n",
            "metadata": {}
        },
        {
            "id": "da98295b",
            "cell_type": "code",
            "metadata": {},
            "execution_count": null,
            "source": "from scipy.io import hb_read, hb_write\nfrom scipy.sparse import csr_matrix, eye\ndata = csr_matrix(eye(3))  # create a sparse matrix\nhb_write(\"data.hb\", data)  # write a hb file\nprint(hb_read(\"data.hb\"))  # read a hb file",
            "outputs": [
                {
                    "output_type": "execute_result",
                    "metadata": {},
                    "data": {
                        "text/plain": "  (0, 0)    1.0\n  (1, 1)    1.0\n  (2, 2)    1.0"
                    },
                    "execution_count": null
                }
            ]
        }
    ]
}