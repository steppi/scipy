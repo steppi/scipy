{
    "nbformat": 4,
    "nbformat_minor": 5,
    "metadata": {
        "kernelspec": {
            "display_name": "Python",
            "language": "python",
            "name": "python"
        },
        "language_info": {
            "name": "python"
        }
    },
    "cells": [
        {
            "id": "a71fe072",
            "cell_type": "markdown",
            "source": "<div class='alert alert-warning'>\n\nSciPy's interactive examples with Jupyterlite are experimental and may not always work as expected. Execution of cells containing imports may result in large downloads (up to 60MB of content for the first import from SciPy). Load times when importing from SciPy may take roughly 10-20 seconds. If you notice any problems, feel free to open an [issue](https://github.com/scipy/scipy/issues/new/choose).\n\n</div>",
            "metadata": {}
        },
        {
            "id": "de6a36fe",
            "cell_type": "code",
            "metadata": {},
            "execution_count": null,
            "source": "import numpy as np\nfrom scipy import linalg\na = np.array([[  3.,  -2.,  -2.],\n              [  6.,  -9.,  -3.],\n              [ -3.,  10.,   1.],\n              [  6.,  -7.,   4.],\n              [  7.,   8.,  -6.]])\nq, r = linalg.qr(a)",
            "outputs": []
        },
        {
            "id": "8af2c8b9",
            "cell_type": "markdown",
            "source": "Given this QR decomposition, update q and r when 2 rows are removed.\n",
            "metadata": {}
        },
        {
            "id": "18c4e116",
            "cell_type": "code",
            "metadata": {},
            "execution_count": null,
            "source": "q1, r1 = linalg.qr_delete(q, r, 2, 2, 'row', False)\nq1",
            "outputs": [
                {
                    "output_type": "execute_result",
                    "metadata": {},
                    "data": {
                        "text/plain": "array([[ 0.30942637,  0.15347579,  0.93845645],  # may vary (signs)\n       [ 0.61885275,  0.71680171, -0.32127338],\n       [ 0.72199487, -0.68017681, -0.12681844]])"
                    },
                    "execution_count": null
                }
            ]
        },
        {
            "id": "a3d67acc",
            "cell_type": "code",
            "metadata": {},
            "execution_count": null,
            "source": "r1",
            "outputs": [
                {
                    "output_type": "execute_result",
                    "metadata": {},
                    "data": {
                        "text/plain": "array([[  9.69535971,  -0.4125685 ,  -6.80738023],  # may vary (signs)\n       [  0.        , -12.19958144,   1.62370412],\n       [  0.        ,   0.        ,  -0.15218213]])"
                    },
                    "execution_count": null
                }
            ]
        },
        {
            "id": "f248f9b7",
            "cell_type": "markdown",
            "source": "The update is equivalent, but faster than the following.\n",
            "metadata": {}
        },
        {
            "id": "ebc3b990",
            "cell_type": "code",
            "metadata": {},
            "execution_count": null,
            "source": "a1 = np.delete(a, slice(2,4), 0)\na1",
            "outputs": [
                {
                    "output_type": "execute_result",
                    "metadata": {},
                    "data": {
                        "text/plain": "array([[ 3., -2., -2.],\n       [ 6., -9., -3.],\n       [ 7.,  8., -6.]])"
                    },
                    "execution_count": null
                }
            ]
        },
        {
            "id": "3bc289e7",
            "cell_type": "code",
            "metadata": {},
            "execution_count": null,
            "source": "q_direct, r_direct = linalg.qr(a1)",
            "outputs": []
        },
        {
            "id": "05425d30",
            "cell_type": "markdown",
            "source": "Check that we have equivalent results:\n",
            "metadata": {}
        },
        {
            "id": "236093bc",
            "cell_type": "code",
            "metadata": {},
            "execution_count": null,
            "source": "np.dot(q1, r1)",
            "outputs": [
                {
                    "output_type": "execute_result",
                    "metadata": {},
                    "data": {
                        "text/plain": "array([[ 3., -2., -2.],\n       [ 6., -9., -3.],\n       [ 7.,  8., -6.]])"
                    },
                    "execution_count": null
                }
            ]
        },
        {
            "id": "af7c28e4",
            "cell_type": "code",
            "metadata": {},
            "execution_count": null,
            "source": "np.allclose(np.dot(q1, r1), a1)",
            "outputs": [
                {
                    "output_type": "execute_result",
                    "metadata": {},
                    "data": {
                        "text/plain": "True"
                    },
                    "execution_count": null
                }
            ]
        },
        {
            "id": "6beb886e",
            "cell_type": "markdown",
            "source": "And the updated Q is still unitary:\n",
            "metadata": {}
        },
        {
            "id": "7ea40c1d",
            "cell_type": "code",
            "metadata": {},
            "execution_count": null,
            "source": "np.allclose(np.dot(q1.T, q1), np.eye(3))",
            "outputs": [
                {
                    "output_type": "execute_result",
                    "metadata": {},
                    "data": {
                        "text/plain": "True"
                    },
                    "execution_count": null
                }
            ]
        }
    ]
}