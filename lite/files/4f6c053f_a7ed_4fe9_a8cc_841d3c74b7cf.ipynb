{
    "nbformat": 4,
    "nbformat_minor": 5,
    "metadata": {
        "kernelspec": {
            "display_name": "Python",
            "language": "python",
            "name": "python"
        },
        "language_info": {
            "name": "python"
        }
    },
    "cells": [
        {
            "id": "90bc3dc6",
            "cell_type": "markdown",
            "source": "<div class='alert alert-warning'>\n\nSciPy's interactive examples with Jupyterlite are experimental and may not always work as expected. Execution of cells containing imports may result in large downloads (up to 60MB of content for the first import from SciPy). Load times when importing from SciPy may take roughly 10-20 seconds. If you notice any problems, feel free to open an [issue](https://github.com/scipy/scipy/issues/new/choose).\n\n</div>",
            "metadata": {}
        },
        {
            "id": "5995576e",
            "cell_type": "code",
            "metadata": {},
            "execution_count": null,
            "source": "from scipy.spatial import distance\ndistance.minkowski([1, 0, 0], [0, 1, 0], 1)",
            "outputs": [
                {
                    "output_type": "execute_result",
                    "metadata": {},
                    "data": {
                        "text/plain": "2.0"
                    },
                    "execution_count": null
                }
            ]
        },
        {
            "id": "55850377",
            "cell_type": "code",
            "metadata": {},
            "execution_count": null,
            "source": "distance.minkowski([1, 0, 0], [0, 1, 0], 2)",
            "outputs": [
                {
                    "output_type": "execute_result",
                    "metadata": {},
                    "data": {
                        "text/plain": "1.4142135623730951"
                    },
                    "execution_count": null
                }
            ]
        },
        {
            "id": "c7c250b2",
            "cell_type": "code",
            "metadata": {},
            "execution_count": null,
            "source": "distance.minkowski([1, 0, 0], [0, 1, 0], 3)",
            "outputs": [
                {
                    "output_type": "execute_result",
                    "metadata": {},
                    "data": {
                        "text/plain": "1.2599210498948732"
                    },
                    "execution_count": null
                }
            ]
        },
        {
            "id": "c96ffe9c",
            "cell_type": "code",
            "metadata": {},
            "execution_count": null,
            "source": "distance.minkowski([1, 1, 0], [0, 1, 0], 1)",
            "outputs": [
                {
                    "output_type": "execute_result",
                    "metadata": {},
                    "data": {
                        "text/plain": "1.0"
                    },
                    "execution_count": null
                }
            ]
        },
        {
            "id": "f5e4d1e6",
            "cell_type": "code",
            "metadata": {},
            "execution_count": null,
            "source": "distance.minkowski([1, 1, 0], [0, 1, 0], 2)",
            "outputs": [
                {
                    "output_type": "execute_result",
                    "metadata": {},
                    "data": {
                        "text/plain": "1.0"
                    },
                    "execution_count": null
                }
            ]
        },
        {
            "id": "b0c48969",
            "cell_type": "code",
            "metadata": {},
            "execution_count": null,
            "source": "distance.minkowski([1, 1, 0], [0, 1, 0], 3)",
            "outputs": [
                {
                    "output_type": "execute_result",
                    "metadata": {},
                    "data": {
                        "text/plain": "1.0"
                    },
                    "execution_count": null
                }
            ]
        }
    ]
}