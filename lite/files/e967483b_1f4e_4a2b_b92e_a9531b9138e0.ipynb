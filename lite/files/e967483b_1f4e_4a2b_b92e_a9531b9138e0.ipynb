{
    "nbformat": 4,
    "nbformat_minor": 5,
    "metadata": {
        "kernelspec": {
            "display_name": "Python",
            "language": "python",
            "name": "python"
        },
        "language_info": {
            "name": "python"
        }
    },
    "cells": [
        {
            "id": "1176a521",
            "cell_type": "markdown",
            "source": "<div class='alert alert-warning'>\n\nSciPy's interactive examples with Jupyterlite are experimental and may not always work as expected. Execution of cells containing imports may result in large downloads (up to 60MB of content for the first import from SciPy). Load times when importing from SciPy may take roughly 10-20 seconds. If you notice any problems, feel free to open an [issue](https://github.com/scipy/scipy/issues/new/choose).\n\n</div>",
            "metadata": {}
        },
        {
            "id": "613f6585",
            "cell_type": "markdown",
            "source": "In [5], the influence of vitamin C on the tooth growth of guinea pigs\nwas investigated. In a control study, 60 subjects were divided into\nsmall dose, medium dose, and large dose groups that received\ndaily doses of 0.5, 1.0 and 2.0 mg of vitamin C, respectively.\nAfter 42 days, the tooth growth was measured.\n\nThe ``small_dose``, ``medium_dose``, and ``large_dose`` arrays below record\ntooth growth measurements of the three groups in microns.\n",
            "metadata": {}
        },
        {
            "id": "77f2081c",
            "cell_type": "code",
            "metadata": {},
            "execution_count": null,
            "source": "import numpy as np\nsmall_dose = np.array([\n    4.2, 11.5, 7.3, 5.8, 6.4, 10, 11.2, 11.2, 5.2, 7,\n    15.2, 21.5, 17.6, 9.7, 14.5, 10, 8.2, 9.4, 16.5, 9.7\n])\nmedium_dose = np.array([\n    16.5, 16.5, 15.2, 17.3, 22.5, 17.3, 13.6, 14.5, 18.8, 15.5,\n    19.7, 23.3, 23.6, 26.4, 20, 25.2, 25.8, 21.2, 14.5, 27.3\n])\nlarge_dose = np.array([\n    23.6, 18.5, 33.9, 25.5, 26.4, 32.5, 26.7, 21.5, 23.3, 29.5,\n    25.5, 26.4, 22.4, 24.5, 24.8, 30.9, 26.4, 27.3, 29.4, 23\n])",
            "outputs": []
        },
        {
            "id": "bda40f04",
            "cell_type": "markdown",
            "source": "The `fligner` statistic is sensitive to differences in variances\nbetween the samples.\n",
            "metadata": {}
        },
        {
            "id": "2b80cfc3",
            "cell_type": "code",
            "metadata": {},
            "execution_count": null,
            "source": "from scipy import stats\nres = stats.fligner(small_dose, medium_dose, large_dose)\nres.statistic",
            "outputs": [
                {
                    "output_type": "execute_result",
                    "metadata": {},
                    "data": {
                        "text/plain": "1.3878943408857916"
                    },
                    "execution_count": null
                }
            ]
        },
        {
            "id": "b7518899",
            "cell_type": "markdown",
            "source": "The value of the statistic tends to be high when there is a large\ndifference in variances.\n\nWe can test for inequality of variance among the groups by comparing the\nobserved value of the statistic against the null distribution: the\ndistribution of statistic values derived under the null hypothesis that\nthe population variances of the three groups are equal.\n\nFor this test, the null distribution follows the chi-square distribution\nas shown below.\n",
            "metadata": {}
        },
        {
            "id": "f11bea52",
            "cell_type": "code",
            "metadata": {},
            "execution_count": null,
            "source": "import matplotlib.pyplot as plt\nk = 3  # number of samples\ndist = stats.chi2(df=k-1)\nval = np.linspace(0, 8, 100)\npdf = dist.pdf(val)\nfig, ax = plt.subplots(figsize=(8, 5))\ndef plot(ax):  # we'll reuse this\n    ax.plot(val, pdf, color='C0')\n    ax.set_title(\"Fligner Test Null Distribution\")\n    ax.set_xlabel(\"statistic\")\n    ax.set_ylabel(\"probability density\")\n    ax.set_xlim(0, 8)\n    ax.set_ylim(0, 0.5)\nplot(ax)\nplt.show()",
            "outputs": []
        },
        {
            "id": "4c39eb4e",
            "cell_type": "markdown",
            "source": "The comparison is quantified by the p-value: the proportion of values in\nthe null distribution greater than or equal to the observed value of the\nstatistic.\n",
            "metadata": {}
        },
        {
            "id": "803eecc4",
            "cell_type": "code",
            "metadata": {},
            "execution_count": null,
            "source": "fig, ax = plt.subplots(figsize=(8, 5))\nplot(ax)\npvalue = dist.sf(res.statistic)\nannotation = (f'p-value={pvalue:.4f}\\n(shaded area)')\nprops = dict(facecolor='black', width=1, headwidth=5, headlength=8)\n_ = ax.annotate(annotation, (1.5, 0.22), (2.25, 0.3), arrowprops=props)\ni = val >= res.statistic\nax.fill_between(val[i], y1=0, y2=pdf[i], color='C0')\nplt.show()",
            "outputs": []
        },
        {
            "id": "1c8b4fa2",
            "cell_type": "code",
            "metadata": {},
            "execution_count": null,
            "source": "res.pvalue",
            "outputs": [
                {
                    "output_type": "execute_result",
                    "metadata": {},
                    "data": {
                        "text/plain": "0.49960016501182125"
                    },
                    "execution_count": null
                }
            ]
        },
        {
            "id": "6e3cc979",
            "cell_type": "markdown",
            "source": "If the p-value is \"small\" - that is, if there is a low probability of\nsampling data from distributions with identical variances that produces\nsuch an extreme value of the statistic - this may be taken as evidence\nagainst the null hypothesis in favor of the alternative: the variances of\nthe groups are not equal. Note that:\n\n- The inverse is not true; that is, the test is not used to provide\n  evidence for the null hypothesis.\n- The threshold for values that will be considered \"small\" is a choice that\n  should be made before the data is analyzed [6] with consideration of the\n  risks of both false positives (incorrectly rejecting the null hypothesis)\n  and false negatives (failure to reject a false null hypothesis).\n- Small p-values are not evidence for a *large* effect; rather, they can\n  only provide evidence for a \"significant\" effect, meaning that they are\n  unlikely to have occurred under the null hypothesis.\n\nNote that the chi-square distribution provides an asymptotic approximation\nof the null distribution.\nFor small samples, it may be more appropriate to perform a\npermutation test: Under the null hypothesis that all three samples were\ndrawn from the same population, each of the measurements is equally likely\nto have been observed in any of the three samples. Therefore, we can form\na randomized null distribution by calculating the statistic under many\nrandomly-generated partitionings of the observations into the three\nsamples.\n",
            "metadata": {}
        },
        {
            "id": "922984b6",
            "cell_type": "code",
            "metadata": {},
            "execution_count": null,
            "source": "def statistic(*samples):\n    return stats.fligner(*samples).statistic\nref = stats.permutation_test(\n    (small_dose, medium_dose, large_dose), statistic,\n    permutation_type='independent', alternative='greater'\n)\nfig, ax = plt.subplots(figsize=(8, 5))\nplot(ax)\nbins = np.linspace(0, 8, 25)\nax.hist(\n    ref.null_distribution, bins=bins, density=True, facecolor=\"C1\"\n)\nax.legend(['aymptotic approximation\\n(many observations)',\n           'randomized null distribution'])\nplot(ax)\nplt.show()",
            "outputs": []
        },
        {
            "id": "42e105a9",
            "cell_type": "code",
            "metadata": {},
            "execution_count": null,
            "source": "ref.pvalue  # randomized test p-value",
            "outputs": [
                {
                    "output_type": "execute_result",
                    "metadata": {},
                    "data": {
                        "text/plain": "0.4332  # may vary"
                    },
                    "execution_count": null
                }
            ]
        },
        {
            "id": "b8c8aa90",
            "cell_type": "markdown",
            "source": "Note that there is significant disagreement between the p-value calculated\nhere and the asymptotic approximation returned by `fligner` above.\nThe statistical inferences that can be drawn rigorously from a permutation\ntest are limited; nonetheless, they may be the preferred approach in many\ncircumstances [7].\n\nFollowing is another generic example where the null hypothesis would be\nrejected.\n\nTest whether the lists `a`, `b` and `c` come from populations\nwith equal variances.\n",
            "metadata": {}
        },
        {
            "id": "3a862ce3",
            "cell_type": "code",
            "metadata": {},
            "execution_count": null,
            "source": "a = [8.88, 9.12, 9.04, 8.98, 9.00, 9.08, 9.01, 8.85, 9.06, 8.99]\nb = [8.88, 8.95, 9.29, 9.44, 9.15, 9.58, 8.36, 9.18, 8.67, 9.05]\nc = [8.95, 9.12, 8.95, 8.85, 9.03, 8.84, 9.07, 8.98, 8.86, 8.98]\nstat, p = stats.fligner(a, b, c)\np",
            "outputs": [
                {
                    "output_type": "execute_result",
                    "metadata": {},
                    "data": {
                        "text/plain": "0.00450826080004775"
                    },
                    "execution_count": null
                }
            ]
        },
        {
            "id": "1c376e7b",
            "cell_type": "markdown",
            "source": "The small p-value suggests that the populations do not have equal\nvariances.\n\nThis is not surprising, given that the sample variance of `b` is much\nlarger than that of `a` and `c`:\n",
            "metadata": {}
        },
        {
            "id": "383c664c",
            "cell_type": "code",
            "metadata": {},
            "execution_count": null,
            "source": "[np.var(x, ddof=1) for x in [a, b, c]]",
            "outputs": [
                {
                    "output_type": "execute_result",
                    "metadata": {},
                    "data": {
                        "text/plain": "[0.007054444444444413, 0.13073888888888888, 0.008890000000000002]"
                    },
                    "execution_count": null
                }
            ]
        }
    ]
}