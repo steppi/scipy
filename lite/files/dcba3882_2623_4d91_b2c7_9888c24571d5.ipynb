{
    "nbformat": 4,
    "nbformat_minor": 5,
    "metadata": {
        "kernelspec": {
            "display_name": "Python",
            "language": "python",
            "name": "python"
        },
        "language_info": {
            "name": "python"
        }
    },
    "cells": [
        {
            "id": "21e3dd9c",
            "cell_type": "markdown",
            "source": "<div class='alert alert-warning'>\n\nSciPy's interactive examples with Jupyterlite are experimental and may not always work as expected. Execution of cells containing imports may result in large downloads (up to 60MB of content for the first import from SciPy). Load times when importing from SciPy may take roughly 10-20 seconds. If you notice any problems, feel free to open an [issue](https://github.com/scipy/scipy/issues/new/choose).\n\n</div>",
            "metadata": {}
        },
        {
            "id": "de62c58e",
            "cell_type": "code",
            "metadata": {},
            "execution_count": null,
            "source": "import numpy as np\nfrom scipy import signal\nimport matplotlib.pyplot as plt",
            "outputs": []
        },
        {
            "id": "6db1d081",
            "cell_type": "markdown",
            "source": "Define wave parameters.\n",
            "metadata": {}
        },
        {
            "id": "cd35808c",
            "cell_type": "code",
            "metadata": {},
            "execution_count": null,
            "source": "wave_duration = 3\nsample_rate = 100\nfreq = 2\nq = 5",
            "outputs": []
        },
        {
            "id": "f84bd337",
            "cell_type": "markdown",
            "source": "Calculate number of samples.\n",
            "metadata": {}
        },
        {
            "id": "fcfc3c61",
            "cell_type": "code",
            "metadata": {},
            "execution_count": null,
            "source": "samples = wave_duration*sample_rate\nsamples_decimated = int(samples/q)",
            "outputs": []
        },
        {
            "id": "0e60b88e",
            "cell_type": "markdown",
            "source": "Create cosine wave.\n",
            "metadata": {}
        },
        {
            "id": "3a9d933d",
            "cell_type": "code",
            "metadata": {},
            "execution_count": null,
            "source": "x = np.linspace(0, wave_duration, samples, endpoint=False)\ny = np.cos(x*np.pi*freq*2)",
            "outputs": []
        },
        {
            "id": "10c76c64",
            "cell_type": "markdown",
            "source": "Decimate cosine wave.\n",
            "metadata": {}
        },
        {
            "id": "1ec16a09",
            "cell_type": "code",
            "metadata": {},
            "execution_count": null,
            "source": "ydem = signal.decimate(y, q)\nxnew = np.linspace(0, wave_duration, samples_decimated, endpoint=False)",
            "outputs": []
        },
        {
            "id": "63af8d00",
            "cell_type": "markdown",
            "source": "Plot original and decimated waves.\n",
            "metadata": {}
        },
        {
            "id": "347e5a49",
            "cell_type": "code",
            "metadata": {},
            "execution_count": null,
            "source": "plt.plot(x, y, '.-', xnew, ydem, 'o-')\nplt.xlabel('Time, Seconds')\nplt.legend(['data', 'decimated'], loc='best')\nplt.show()",
            "outputs": []
        }
    ]
}