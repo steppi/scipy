{
    "nbformat": 4,
    "nbformat_minor": 5,
    "metadata": {
        "kernelspec": {
            "display_name": "Python",
            "language": "python",
            "name": "python"
        },
        "language_info": {
            "name": "python"
        }
    },
    "cells": [
        {
            "id": "74100df0",
            "cell_type": "markdown",
            "source": "<div class='alert alert-warning'>\n\nSciPy's interactive examples with Jupyterlite are experimental and may not always work as expected. Execution of cells containing imports may result in large downloads (up to 60MB of content for the first import from SciPy). Load times when importing from SciPy may take roughly 10-20 seconds. If you notice any problems, feel free to open an [issue](https://github.com/scipy/scipy/issues/new/choose).\n\n</div>",
            "metadata": {}
        },
        {
            "id": "0b0f1ab0",
            "cell_type": "markdown",
            "source": "The spherical Bessel functions of the first kind $j_n$ accept\nboth real and complex second argument. They can return a complex type:\n",
            "metadata": {}
        },
        {
            "id": "986a1a57",
            "cell_type": "code",
            "metadata": {},
            "execution_count": null,
            "source": "from scipy.special import spherical_jn\nspherical_jn(0, 3+5j)",
            "outputs": [
                {
                    "output_type": "execute_result",
                    "metadata": {},
                    "data": {
                        "text/plain": "(-9.878987731663194-8.021894345786002j)"
                    },
                    "execution_count": null
                }
            ]
        },
        {
            "id": "7e6e9a03",
            "cell_type": "code",
            "metadata": {},
            "execution_count": null,
            "source": "type(spherical_jn(0, 3+5j))",
            "outputs": [
                {
                    "output_type": "execute_result",
                    "metadata": {},
                    "data": {
                        "text/plain": "<class 'numpy.complex128'>"
                    },
                    "execution_count": null
                }
            ]
        },
        {
            "id": "f438426e",
            "cell_type": "markdown",
            "source": "We can verify the relation for the derivative from the Notes\nfor $n=3$ in the interval $[1, 2]$:\n",
            "metadata": {}
        },
        {
            "id": "e37544ae",
            "cell_type": "code",
            "metadata": {},
            "execution_count": null,
            "source": "import numpy as np\nx = np.arange(1.0, 2.0, 0.01)\nnp.allclose(spherical_jn(3, x, True),\n            spherical_jn(2, x) - 4/x * spherical_jn(3, x))",
            "outputs": [
                {
                    "output_type": "execute_result",
                    "metadata": {},
                    "data": {
                        "text/plain": "True"
                    },
                    "execution_count": null
                }
            ]
        },
        {
            "id": "1f3dc1ca",
            "cell_type": "markdown",
            "source": "The first few $j_n$ with real argument:\n",
            "metadata": {}
        },
        {
            "id": "c8ed7bbf",
            "cell_type": "code",
            "metadata": {},
            "execution_count": null,
            "source": "import matplotlib.pyplot as plt\nx = np.arange(0.0, 10.0, 0.01)\nfig, ax = plt.subplots()\nax.set_ylim(-0.5, 1.5)\nax.set_title(r'Spherical Bessel functions $j_n$')\nfor n in np.arange(0, 4):\n    ax.plot(x, spherical_jn(n, x), label=rf'$j_{n}$')\nplt.legend(loc='best')\nplt.show()",
            "outputs": []
        }
    ]
}