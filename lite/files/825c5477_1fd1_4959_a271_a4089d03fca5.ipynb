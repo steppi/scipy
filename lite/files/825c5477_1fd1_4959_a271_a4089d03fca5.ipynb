{
    "nbformat": 4,
    "nbformat_minor": 5,
    "metadata": {
        "kernelspec": {
            "display_name": "Python",
            "language": "python",
            "name": "python"
        },
        "language_info": {
            "name": "python"
        }
    },
    "cells": [
        {
            "id": "7a346ab6",
            "cell_type": "markdown",
            "source": "<div class='alert alert-warning'>\n\nSciPy's interactive examples with Jupyterlite are experimental and may not always work as expected. Execution of cells containing imports may result in large downloads (up to 60MB of content for the first import from SciPy). Load times when importing from SciPy may take roughly 10-20 seconds. If you notice any problems, feel free to open an [issue](https://github.com/scipy/scipy/issues/new/choose).\n\n</div>",
            "metadata": {}
        },
        {
            "id": "7de98e2b",
            "cell_type": "code",
            "metadata": {},
            "execution_count": null,
            "source": "from scipy import stats\nimport matplotlib.pyplot as plt",
            "outputs": []
        },
        {
            "id": "d1bdd975",
            "cell_type": "markdown",
            "source": "Generate some non-normally distributed data, and create a Yeo-Johnson plot:\n",
            "metadata": {}
        },
        {
            "id": "65593828",
            "cell_type": "code",
            "metadata": {},
            "execution_count": null,
            "source": "x = stats.loggamma.rvs(5, size=500) + 5\nfig = plt.figure()\nax = fig.add_subplot(111)\nprob = stats.yeojohnson_normplot(x, -20, 20, plot=ax)",
            "outputs": []
        },
        {
            "id": "b1e84951",
            "cell_type": "markdown",
            "source": "Determine and plot the optimal ``lmbda`` to transform ``x`` and plot it in\nthe same plot:\n",
            "metadata": {}
        },
        {
            "id": "13e798ca",
            "cell_type": "code",
            "metadata": {},
            "execution_count": null,
            "source": "_, maxlog = stats.yeojohnson(x)\nax.axvline(maxlog, color='r')",
            "outputs": []
        },
        {
            "id": "afc5eccd",
            "cell_type": "code",
            "metadata": {},
            "execution_count": null,
            "source": "plt.show()",
            "outputs": []
        }
    ]
}