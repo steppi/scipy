{
    "nbformat": 4,
    "nbformat_minor": 5,
    "metadata": {
        "kernelspec": {
            "display_name": "Python",
            "language": "python",
            "name": "python"
        },
        "language_info": {
            "name": "python"
        }
    },
    "cells": [
        {
            "id": "99ec5818",
            "cell_type": "markdown",
            "source": "<div class='alert alert-warning'>\n\nSciPy's interactive examples with Jupyterlite are experimental and may not always work as expected. Execution of cells containing imports may result in large downloads (up to 60MB of content for the first import from SciPy). Load times when importing from SciPy may take roughly 10-20 seconds. If you notice any problems, feel free to open an [issue](https://github.com/scipy/scipy/issues/new/choose).\n\n</div>",
            "metadata": {}
        },
        {
            "id": "fa303be9",
            "cell_type": "markdown",
            "source": "Prepare a symmetric positive definite covariance matrix ``A`` and a\ndata point ``x``.\n",
            "metadata": {}
        },
        {
            "id": "2ba88dc2",
            "cell_type": "code",
            "metadata": {},
            "execution_count": null,
            "source": "import numpy as np\nfrom scipy import stats\nrng = np.random.default_rng()\nn = 5\nA = rng.random(size=(n, n))\nA = A @ A.T  # make the covariance symmetric positive definite\nx = rng.random(size=n)",
            "outputs": []
        },
        {
            "id": "4352a43c",
            "cell_type": "markdown",
            "source": "Perform the Cholesky decomposition of ``A`` and create the\n`Covariance` object.\n",
            "metadata": {}
        },
        {
            "id": "5942d065",
            "cell_type": "code",
            "metadata": {},
            "execution_count": null,
            "source": "L = np.linalg.cholesky(A)\ncov = stats.Covariance.from_cholesky(L)",
            "outputs": []
        },
        {
            "id": "46a1e26a",
            "cell_type": "markdown",
            "source": "Compare the functionality of the `Covariance` object against\nreference implementation.\n",
            "metadata": {}
        },
        {
            "id": "48601198",
            "cell_type": "code",
            "metadata": {},
            "execution_count": null,
            "source": "from scipy.linalg import solve_triangular\nres = cov.whiten(x)\nref = solve_triangular(L, x, lower=True)\nnp.allclose(res, ref)",
            "outputs": [
                {
                    "output_type": "execute_result",
                    "metadata": {},
                    "data": {
                        "text/plain": "True"
                    },
                    "execution_count": null
                }
            ]
        },
        {
            "id": "51c2b5e5",
            "cell_type": "code",
            "metadata": {},
            "execution_count": null,
            "source": "res = cov.log_pdet\nref = np.linalg.slogdet(A)[-1]\nnp.allclose(res, ref)",
            "outputs": [
                {
                    "output_type": "execute_result",
                    "metadata": {},
                    "data": {
                        "text/plain": "True"
                    },
                    "execution_count": null
                }
            ]
        }
    ]
}