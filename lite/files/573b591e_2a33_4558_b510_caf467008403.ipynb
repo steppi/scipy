{
    "nbformat": 4,
    "nbformat_minor": 5,
    "metadata": {
        "kernelspec": {
            "display_name": "Python",
            "language": "python",
            "name": "python"
        },
        "language_info": {
            "name": "python"
        }
    },
    "cells": [
        {
            "id": "b2b41ea9",
            "cell_type": "markdown",
            "source": "<div class='alert alert-warning'>\n\nSciPy's interactive examples with Jupyterlite are experimental and may not always work as expected. Execution of cells containing imports may result in large downloads (up to 60MB of content for the first import from SciPy). Load times when importing from SciPy may take roughly 10-20 seconds. If you notice any problems, feel free to open an [issue](https://github.com/scipy/scipy/issues/new/choose).\n\n</div>",
            "metadata": {}
        },
        {
            "id": "f77601b6",
            "cell_type": "markdown",
            "source": "Basic homogeneity property:\n",
            "metadata": {}
        },
        {
            "id": "db81db41",
            "cell_type": "code",
            "metadata": {},
            "execution_count": null,
            "source": "import numpy as np\nfrom scipy.special import elliprf",
            "outputs": []
        },
        {
            "id": "d7a14bab",
            "cell_type": "code",
            "metadata": {},
            "execution_count": null,
            "source": "x = 1.2 + 3.4j\ny = 5.\nz = 6.\nscale = 0.3 + 0.4j\nelliprf(scale*x, scale*y, scale*z)",
            "outputs": [
                {
                    "output_type": "execute_result",
                    "metadata": {},
                    "data": {
                        "text/plain": "(0.5328051227278146-0.4008623567957094j)"
                    },
                    "execution_count": null
                }
            ]
        },
        {
            "id": "3ed17b76",
            "cell_type": "code",
            "metadata": {},
            "execution_count": null,
            "source": "elliprf(x, y, z)/np.sqrt(scale)",
            "outputs": [
                {
                    "output_type": "execute_result",
                    "metadata": {},
                    "data": {
                        "text/plain": "(0.5328051227278147-0.4008623567957095j)"
                    },
                    "execution_count": null
                }
            ]
        },
        {
            "id": "9a3a2c1c",
            "cell_type": "markdown",
            "source": "All three arguments coincide:\n",
            "metadata": {}
        },
        {
            "id": "c82281eb",
            "cell_type": "code",
            "metadata": {},
            "execution_count": null,
            "source": "x = 1.2 + 3.4j\nelliprf(x, x, x)",
            "outputs": [
                {
                    "output_type": "execute_result",
                    "metadata": {},
                    "data": {
                        "text/plain": "(0.42991731206146316-0.30417298187455954j)"
                    },
                    "execution_count": null
                }
            ]
        },
        {
            "id": "26f2637a",
            "cell_type": "code",
            "metadata": {},
            "execution_count": null,
            "source": "1/np.sqrt(x)",
            "outputs": [
                {
                    "output_type": "execute_result",
                    "metadata": {},
                    "data": {
                        "text/plain": "(0.4299173120614631-0.30417298187455954j)"
                    },
                    "execution_count": null
                }
            ]
        },
        {
            "id": "c568996b",
            "cell_type": "markdown",
            "source": "The so-called \"first lemniscate constant\":\n",
            "metadata": {}
        },
        {
            "id": "80d770e4",
            "cell_type": "code",
            "metadata": {},
            "execution_count": null,
            "source": "elliprf(0, 1, 2)",
            "outputs": [
                {
                    "output_type": "execute_result",
                    "metadata": {},
                    "data": {
                        "text/plain": "1.3110287771460598"
                    },
                    "execution_count": null
                }
            ]
        },
        {
            "id": "15d97bcb",
            "cell_type": "code",
            "metadata": {},
            "execution_count": null,
            "source": "from scipy.special import gamma\ngamma(0.25)**2/(4*np.sqrt(2*np.pi))",
            "outputs": [
                {
                    "output_type": "execute_result",
                    "metadata": {},
                    "data": {
                        "text/plain": "1.3110287771460598"
                    },
                    "execution_count": null
                }
            ]
        }
    ]
}