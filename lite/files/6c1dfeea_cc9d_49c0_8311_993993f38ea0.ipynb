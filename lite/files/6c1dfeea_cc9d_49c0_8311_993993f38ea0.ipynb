{
    "nbformat": 4,
    "nbformat_minor": 5,
    "metadata": {
        "kernelspec": {
            "display_name": "Python",
            "language": "python",
            "name": "python"
        },
        "language_info": {
            "name": "python"
        }
    },
    "cells": [
        {
            "id": "582048a2",
            "cell_type": "markdown",
            "source": "<div class='alert alert-warning'>\n\nSciPy's interactive examples with Jupyterlite are experimental and may not always work as expected. Execution of cells containing imports may result in large downloads (up to 60MB of content for the first import from SciPy). Load times when importing from SciPy may take roughly 10-20 seconds. If you notice any problems, feel free to open an [issue](https://github.com/scipy/scipy/issues/new/choose).\n\n</div>",
            "metadata": {}
        },
        {
            "id": "329b748f",
            "cell_type": "code",
            "metadata": {},
            "execution_count": null,
            "source": "import numpy as np\nfrom scipy.special import comb\nk = np.array([3, 4])\nn = np.array([10, 10])\ncomb(n, k, exact=False)",
            "outputs": [
                {
                    "output_type": "execute_result",
                    "metadata": {},
                    "data": {
                        "text/plain": "array([ 120.,  210.])"
                    },
                    "execution_count": null
                }
            ]
        },
        {
            "id": "e30c1d2f",
            "cell_type": "code",
            "metadata": {},
            "execution_count": null,
            "source": "comb(10, 3, exact=True)",
            "outputs": [
                {
                    "output_type": "execute_result",
                    "metadata": {},
                    "data": {
                        "text/plain": "120"
                    },
                    "execution_count": null
                }
            ]
        },
        {
            "id": "36bfd7f1",
            "cell_type": "code",
            "metadata": {},
            "execution_count": null,
            "source": "comb(10, 3, exact=True, repetition=True)",
            "outputs": [
                {
                    "output_type": "execute_result",
                    "metadata": {},
                    "data": {
                        "text/plain": "220"
                    },
                    "execution_count": null
                }
            ]
        }
    ]
}