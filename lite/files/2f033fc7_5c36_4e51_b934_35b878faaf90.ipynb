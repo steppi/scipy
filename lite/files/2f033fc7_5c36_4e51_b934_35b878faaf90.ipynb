{
    "nbformat": 4,
    "nbformat_minor": 5,
    "metadata": {
        "kernelspec": {
            "display_name": "Python",
            "language": "python",
            "name": "python"
        },
        "language_info": {
            "name": "python"
        }
    },
    "cells": [
        {
            "id": "9cc76af4",
            "cell_type": "markdown",
            "source": "<div class='alert alert-warning'>\n\nSciPy's interactive examples with Jupyterlite are experimental and may not always work as expected. Execution of cells containing imports may result in large downloads (up to 60MB of content for the first import from SciPy). Load times when importing from SciPy may take roughly 10-20 seconds. If you notice any problems, feel free to open an [issue](https://github.com/scipy/scipy/issues/new/choose).\n\n</div>",
            "metadata": {}
        },
        {
            "id": "8375ebe6",
            "cell_type": "code",
            "metadata": {},
            "execution_count": null,
            "source": "import numpy as np\nfrom scipy.linalg import lu\nA = np.array([[2, 5, 8, 7], [5, 2, 2, 8], [7, 5, 6, 6], [5, 4, 4, 8]])\np, l, u = lu(A)\nnp.allclose(A, p @ l @ u)",
            "outputs": [
                {
                    "output_type": "execute_result",
                    "metadata": {},
                    "data": {
                        "text/plain": "True"
                    },
                    "execution_count": null
                }
            ]
        },
        {
            "id": "022bd82b",
            "cell_type": "code",
            "metadata": {},
            "execution_count": null,
            "source": "p  # Permutation matrix",
            "outputs": [
                {
                    "output_type": "execute_result",
                    "metadata": {},
                    "data": {
                        "text/plain": "array([[0., 1., 0., 0.],  # Row index 1\n       [0., 0., 0., 1.],  # Row index 3\n       [1., 0., 0., 0.],  # Row index 0\n       [0., 0., 1., 0.]]) # Row index 2"
                    },
                    "execution_count": null
                }
            ]
        },
        {
            "id": "0f289672",
            "cell_type": "code",
            "metadata": {},
            "execution_count": null,
            "source": "p, _, _ = lu(A, p_indices=True)\np",
            "outputs": [
                {
                    "output_type": "execute_result",
                    "metadata": {},
                    "data": {
                        "text/plain": "array([1, 3, 0, 2])  # as given by row indices above"
                    },
                    "execution_count": null
                }
            ]
        },
        {
            "id": "f5d7acc4",
            "cell_type": "code",
            "metadata": {},
            "execution_count": null,
            "source": "np.allclose(A, l[p, :] @ u)",
            "outputs": [
                {
                    "output_type": "execute_result",
                    "metadata": {},
                    "data": {
                        "text/plain": "True"
                    },
                    "execution_count": null
                }
            ]
        },
        {
            "id": "2bafdc75",
            "cell_type": "markdown",
            "source": "We can also use nd-arrays, for example, a demonstration with 4D array:\n",
            "metadata": {}
        },
        {
            "id": "b12e4b6f",
            "cell_type": "code",
            "metadata": {},
            "execution_count": null,
            "source": "rng = np.random.default_rng()\nA = rng.uniform(low=-4, high=4, size=[3, 2, 4, 8])\np, l, u = lu(A)\np.shape, l.shape, u.shape",
            "outputs": [
                {
                    "output_type": "execute_result",
                    "metadata": {},
                    "data": {
                        "text/plain": "((3, 2, 4, 4), (3, 2, 4, 4), (3, 2, 4, 8))"
                    },
                    "execution_count": null
                }
            ]
        },
        {
            "id": "26d40a17",
            "cell_type": "code",
            "metadata": {},
            "execution_count": null,
            "source": "np.allclose(A, p @ l @ u)",
            "outputs": [
                {
                    "output_type": "execute_result",
                    "metadata": {},
                    "data": {
                        "text/plain": "True"
                    },
                    "execution_count": null
                }
            ]
        },
        {
            "id": "c0261d14",
            "cell_type": "code",
            "metadata": {},
            "execution_count": null,
            "source": "PL, U = lu(A, permute_l=True)\nnp.allclose(A, PL @ U)",
            "outputs": [
                {
                    "output_type": "execute_result",
                    "metadata": {},
                    "data": {
                        "text/plain": "True"
                    },
                    "execution_count": null
                }
            ]
        }
    ]
}