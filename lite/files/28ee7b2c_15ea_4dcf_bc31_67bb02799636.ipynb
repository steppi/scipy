{
    "nbformat": 4,
    "nbformat_minor": 5,
    "metadata": {
        "kernelspec": {
            "display_name": "Python",
            "language": "python",
            "name": "python"
        },
        "language_info": {
            "name": "python"
        }
    },
    "cells": [
        {
            "id": "155a1cdf",
            "cell_type": "markdown",
            "source": "<div class='alert alert-warning'>\n\nSciPy's interactive examples with Jupyterlite are experimental and may not always work as expected. Execution of cells containing imports may result in large downloads (up to 60MB of content for the first import from SciPy). Load times when importing from SciPy may take roughly 10-20 seconds. If you notice any problems, feel free to open an [issue](https://github.com/scipy/scipy/issues/new/choose).\n\n</div>",
            "metadata": {}
        },
        {
            "id": "20b3c4d8",
            "cell_type": "code",
            "metadata": {},
            "execution_count": null,
            "source": "import numpy as np\nfrom scipy.stats import skellam\nimport matplotlib.pyplot as plt\nfig, ax = plt.subplots(1, 1)",
            "outputs": []
        },
        {
            "id": "2a9ceb90",
            "cell_type": "markdown",
            "source": "Calculate the first four moments:\n",
            "metadata": {}
        },
        {
            "id": "86343c09",
            "cell_type": "code",
            "metadata": {},
            "execution_count": null,
            "source": "mu1, mu2 = 15, 8\nmean, var, skew, kurt = skellam.stats(mu1, mu2, moments='mvsk')",
            "outputs": []
        },
        {
            "id": "2c087f06",
            "cell_type": "markdown",
            "source": "Display the probability mass function (``pmf``):\n",
            "metadata": {}
        },
        {
            "id": "cfd66ae5",
            "cell_type": "code",
            "metadata": {},
            "execution_count": null,
            "source": "x = np.arange(skellam.ppf(0.01, mu1, mu2),\n              skellam.ppf(0.99, mu1, mu2))\nax.plot(x, skellam.pmf(x, mu1, mu2), 'bo', ms=8, label='skellam pmf')\nax.vlines(x, 0, skellam.pmf(x, mu1, mu2), colors='b', lw=5, alpha=0.5)",
            "outputs": []
        },
        {
            "id": "c23d1f2a",
            "cell_type": "markdown",
            "source": "Alternatively, the distribution object can be called (as a function)\nto fix the shape and location. This returns a \"frozen\" RV object holding\nthe given parameters fixed.\n\nFreeze the distribution and display the frozen ``pmf``:\n",
            "metadata": {}
        },
        {
            "id": "8f85d874",
            "cell_type": "code",
            "metadata": {},
            "execution_count": null,
            "source": "rv = skellam(mu1, mu2)\nax.vlines(x, 0, rv.pmf(x), colors='k', linestyles='-', lw=1,\n        label='frozen pmf')\nax.legend(loc='best', frameon=False)\nplt.show()",
            "outputs": []
        },
        {
            "id": "f8d8f922",
            "cell_type": "markdown",
            "source": "Check accuracy of ``cdf`` and ``ppf``:\n",
            "metadata": {}
        },
        {
            "id": "21df1c8a",
            "cell_type": "code",
            "metadata": {},
            "execution_count": null,
            "source": "prob = skellam.cdf(x, mu1, mu2)\nnp.allclose(x, skellam.ppf(prob, mu1, mu2))",
            "outputs": [
                {
                    "output_type": "execute_result",
                    "metadata": {},
                    "data": {
                        "text/plain": "True"
                    },
                    "execution_count": null
                }
            ]
        },
        {
            "id": "480e3f8f",
            "cell_type": "markdown",
            "source": "Generate random numbers:\n",
            "metadata": {}
        },
        {
            "id": "785ef8ec",
            "cell_type": "code",
            "metadata": {},
            "execution_count": null,
            "source": "r = skellam.rvs(mu1, mu2, size=1000)",
            "outputs": []
        }
    ]
}