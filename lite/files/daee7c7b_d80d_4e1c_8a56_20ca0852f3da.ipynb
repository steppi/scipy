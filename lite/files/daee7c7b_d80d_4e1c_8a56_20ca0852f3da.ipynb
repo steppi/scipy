{
    "nbformat": 4,
    "nbformat_minor": 5,
    "metadata": {
        "kernelspec": {
            "display_name": "Python",
            "language": "python",
            "name": "python"
        },
        "language_info": {
            "name": "python"
        }
    },
    "cells": [
        {
            "id": "74559481",
            "cell_type": "markdown",
            "source": "<div class='alert alert-warning'>\n\nSciPy's interactive examples with Jupyterlite are experimental and may not always work as expected. Execution of cells containing imports may result in large downloads (up to 60MB of content for the first import from SciPy). Load times when importing from SciPy may take roughly 10-20 seconds. If you notice any problems, feel free to open an [issue](https://github.com/scipy/scipy/issues/new/choose).\n\n</div>",
            "metadata": {}
        },
        {
            "id": "b16f14c5",
            "cell_type": "markdown",
            "source": "This can be used for finding maxima of a curve:\n",
            "metadata": {}
        },
        {
            "id": "0c7c65f2",
            "cell_type": "code",
            "metadata": {},
            "execution_count": null,
            "source": "from scipy.interpolate import splrep, splder, sproot\nimport numpy as np\nx = np.linspace(0, 10, 70)\ny = np.sin(x)\nspl = splrep(x, y, k=4)",
            "outputs": []
        },
        {
            "id": "3f94c889",
            "cell_type": "markdown",
            "source": "Now, differentiate the spline and find the zeros of the\nderivative. (NB: `sproot` only works for order 3 splines, so we\nfit an order 4 spline):\n",
            "metadata": {}
        },
        {
            "id": "bcf9d818",
            "cell_type": "code",
            "metadata": {},
            "execution_count": null,
            "source": "dspl = splder(spl)\nsproot(dspl) / np.pi",
            "outputs": [
                {
                    "output_type": "execute_result",
                    "metadata": {},
                    "data": {
                        "text/plain": "array([ 0.50000001,  1.5       ,  2.49999998])"
                    },
                    "execution_count": null
                }
            ]
        },
        {
            "id": "3b17c2c0",
            "cell_type": "markdown",
            "source": "This agrees well with roots $\\pi/2 + n\\pi$ of\n$\\cos(x) = \\sin'(x)$.",
            "metadata": {}
        }
    ]
}