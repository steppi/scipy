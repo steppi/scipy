{
    "nbformat": 4,
    "nbformat_minor": 5,
    "metadata": {
        "kernelspec": {
            "display_name": "Python",
            "language": "python",
            "name": "python"
        },
        "language_info": {
            "name": "python"
        }
    },
    "cells": [
        {
            "id": "92d6d0b3",
            "cell_type": "markdown",
            "source": "<div class='alert alert-warning'>\n\nSciPy's interactive examples with Jupyterlite are experimental and may not always work as expected. Execution of cells containing imports may result in large downloads (up to 60MB of content for the first import from SciPy). Load times when importing from SciPy may take roughly 10-20 seconds. If you notice any problems, feel free to open an [issue](https://github.com/scipy/scipy/issues/new/choose).\n\n</div>",
            "metadata": {}
        },
        {
            "id": "32bf4618",
            "cell_type": "markdown",
            "source": "Construct a 2-D grid and interpolate on it:\n",
            "metadata": {}
        },
        {
            "id": "bcc58fb3",
            "cell_type": "code",
            "metadata": {},
            "execution_count": null,
            "source": "import numpy as np\nfrom scipy import interpolate\nx = np.arange(-5.01, 5.01, 0.25)\ny = np.arange(-5.01, 5.01, 0.25)\nxx, yy = np.meshgrid(x, y)\nz = np.sin(xx**2+yy**2)\nf = interpolate.interp2d(x, y, z, kind='cubic')",
            "outputs": []
        },
        {
            "id": "4bae2d7e",
            "cell_type": "markdown",
            "source": "Now use the obtained interpolation function and plot the result:\n",
            "metadata": {}
        },
        {
            "id": "ab6c2d2f",
            "cell_type": "code",
            "metadata": {},
            "execution_count": null,
            "source": "import matplotlib.pyplot as plt\nxnew = np.arange(-5.01, 5.01, 1e-2)\nynew = np.arange(-5.01, 5.01, 1e-2)\nznew = f(xnew, ynew)\nplt.plot(x, z[0, :], 'ro-', xnew, znew[0, :], 'b-')\nplt.show()",
            "outputs": []
        }
    ]
}