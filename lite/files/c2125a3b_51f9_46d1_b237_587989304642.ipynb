{
    "nbformat": 4,
    "nbformat_minor": 5,
    "metadata": {
        "kernelspec": {
            "display_name": "Python",
            "language": "python",
            "name": "python"
        },
        "language_info": {
            "name": "python"
        }
    },
    "cells": [
        {
            "id": "f52ccb14",
            "cell_type": "markdown",
            "source": "<div class='alert alert-warning'>\n\nSciPy's interactive examples with Jupyterlite are experimental and may not always work as expected. Execution of cells containing imports may result in large downloads (up to 60MB of content for the first import from SciPy). Load times when importing from SciPy may take roughly 10-20 seconds. If you notice any problems, feel free to open an [issue](https://github.com/scipy/scipy/issues/new/choose).\n\n</div>",
            "metadata": {}
        },
        {
            "id": "78c57f49",
            "cell_type": "markdown",
            "source": "Find standard error along the first axis:\n",
            "metadata": {}
        },
        {
            "id": "ad6bf58b",
            "cell_type": "code",
            "metadata": {},
            "execution_count": null,
            "source": "import numpy as np\nfrom scipy import stats\na = np.arange(20).reshape(5,4)\nprint(stats.mstats.sem(a))",
            "outputs": [
                {
                    "output_type": "execute_result",
                    "metadata": {},
                    "data": {
                        "text/plain": "[2.8284271247461903 2.8284271247461903 2.8284271247461903\n 2.8284271247461903]"
                    },
                    "execution_count": null
                }
            ]
        },
        {
            "id": "6879fbaf",
            "cell_type": "markdown",
            "source": "Find standard error across the whole array, using n degrees of freedom:\n",
            "metadata": {}
        },
        {
            "id": "86be73dd",
            "cell_type": "code",
            "metadata": {},
            "execution_count": null,
            "source": "print(stats.mstats.sem(a, axis=None, ddof=0))",
            "outputs": [
                {
                    "output_type": "execute_result",
                    "metadata": {},
                    "data": {
                        "text/plain": "1.2893796958227628"
                    },
                    "execution_count": null
                }
            ]
        }
    ]
}