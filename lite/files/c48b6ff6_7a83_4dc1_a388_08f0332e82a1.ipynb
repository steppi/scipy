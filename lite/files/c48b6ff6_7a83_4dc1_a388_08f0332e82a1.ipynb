{
    "nbformat": 4,
    "nbformat_minor": 5,
    "metadata": {
        "kernelspec": {
            "display_name": "Python",
            "language": "python",
            "name": "python"
        },
        "language_info": {
            "name": "python"
        }
    },
    "cells": [
        {
            "id": "22ab4fee",
            "cell_type": "markdown",
            "source": "<div class='alert alert-warning'>\n\nSciPy's interactive examples with Jupyterlite are experimental and may not always work as expected. Execution of cells containing imports may result in large downloads (up to 60MB of content for the first import from SciPy). Load times when importing from SciPy may take roughly 10-20 seconds. If you notice any problems, feel free to open an [issue](https://github.com/scipy/scipy/issues/new/choose).\n\n</div>",
            "metadata": {}
        },
        {
            "id": "4fc36526",
            "cell_type": "code",
            "metadata": {},
            "execution_count": null,
            "source": "import numpy as np\nfrom scipy.stats import geninvgauss\nimport matplotlib.pyplot as plt\nfig, ax = plt.subplots(1, 1)",
            "outputs": []
        },
        {
            "id": "8b4499d9",
            "cell_type": "markdown",
            "source": "Calculate the first four moments:\n",
            "metadata": {}
        },
        {
            "id": "5d0fc1c9",
            "cell_type": "code",
            "metadata": {},
            "execution_count": null,
            "source": "p, b = 2.3, 1.5\nmean, var, skew, kurt = geninvgauss.stats(p, b, moments='mvsk')",
            "outputs": []
        },
        {
            "id": "cbdf96c0",
            "cell_type": "markdown",
            "source": "Display the probability density function (``pdf``):\n",
            "metadata": {}
        },
        {
            "id": "bff3a9e1",
            "cell_type": "code",
            "metadata": {},
            "execution_count": null,
            "source": "x = np.linspace(geninvgauss.ppf(0.01, p, b),\n                geninvgauss.ppf(0.99, p, b), 100)\nax.plot(x, geninvgauss.pdf(x, p, b),\n       'r-', lw=5, alpha=0.6, label='geninvgauss pdf')",
            "outputs": []
        },
        {
            "id": "3bcdded1",
            "cell_type": "markdown",
            "source": "Alternatively, the distribution object can be called (as a function)\nto fix the shape, location and scale parameters. This returns a \"frozen\"\nRV object holding the given parameters fixed.\n\nFreeze the distribution and display the frozen ``pdf``:\n",
            "metadata": {}
        },
        {
            "id": "b4081774",
            "cell_type": "code",
            "metadata": {},
            "execution_count": null,
            "source": "rv = geninvgauss(p, b)\nax.plot(x, rv.pdf(x), 'k-', lw=2, label='frozen pdf')",
            "outputs": []
        },
        {
            "id": "e7fc509c",
            "cell_type": "markdown",
            "source": "Check accuracy of ``cdf`` and ``ppf``:\n",
            "metadata": {}
        },
        {
            "id": "53f5c07f",
            "cell_type": "code",
            "metadata": {},
            "execution_count": null,
            "source": "vals = geninvgauss.ppf([0.001, 0.5, 0.999], p, b)\nnp.allclose([0.001, 0.5, 0.999], geninvgauss.cdf(vals, p, b))",
            "outputs": [
                {
                    "output_type": "execute_result",
                    "metadata": {},
                    "data": {
                        "text/plain": "True"
                    },
                    "execution_count": null
                }
            ]
        },
        {
            "id": "55afb584",
            "cell_type": "markdown",
            "source": "Generate random numbers:\n",
            "metadata": {}
        },
        {
            "id": "2a31c352",
            "cell_type": "code",
            "metadata": {},
            "execution_count": null,
            "source": "r = geninvgauss.rvs(p, b, size=1000)",
            "outputs": []
        },
        {
            "id": "90f561d2",
            "cell_type": "markdown",
            "source": "And compare the histogram:\n",
            "metadata": {}
        },
        {
            "id": "0770a2b6",
            "cell_type": "code",
            "metadata": {},
            "execution_count": null,
            "source": "ax.hist(r, density=True, bins='auto', histtype='stepfilled', alpha=0.2)\nax.set_xlim([x[0], x[-1]])\nax.legend(loc='best', frameon=False)\nplt.show()",
            "outputs": []
        }
    ]
}