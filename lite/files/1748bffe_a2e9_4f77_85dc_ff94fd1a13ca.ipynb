{
    "nbformat": 4,
    "nbformat_minor": 5,
    "metadata": {
        "kernelspec": {
            "display_name": "Python",
            "language": "python",
            "name": "python"
        },
        "language_info": {
            "name": "python"
        }
    },
    "cells": [
        {
            "id": "24843bc1",
            "cell_type": "markdown",
            "source": "<div class='alert alert-warning'>\n\nSciPy's interactive examples with Jupyterlite are experimental and may not always work as expected. Execution of cells containing imports may result in large downloads (up to 60MB of content for the first import from SciPy). Load times when importing from SciPy may take roughly 10-20 seconds. If you notice any problems, feel free to open an [issue](https://github.com/scipy/scipy/issues/new/choose).\n\n</div>",
            "metadata": {}
        },
        {
            "id": "4694937c",
            "cell_type": "code",
            "metadata": {},
            "execution_count": null,
            "source": "from scipy.stats import energy_distance\nenergy_distance([0], [2])",
            "outputs": [
                {
                    "output_type": "execute_result",
                    "metadata": {},
                    "data": {
                        "text/plain": "2.0000000000000004"
                    },
                    "execution_count": null
                }
            ]
        },
        {
            "id": "4e4dc64a",
            "cell_type": "code",
            "metadata": {},
            "execution_count": null,
            "source": "energy_distance([0, 8], [0, 8], [3, 1], [2, 2])",
            "outputs": [
                {
                    "output_type": "execute_result",
                    "metadata": {},
                    "data": {
                        "text/plain": "1.0000000000000002"
                    },
                    "execution_count": null
                }
            ]
        },
        {
            "id": "8d0baa7d",
            "cell_type": "code",
            "metadata": {},
            "execution_count": null,
            "source": "energy_distance([0.7, 7.4, 2.4, 6.8], [1.4, 8. ],\n                [2.1, 4.2, 7.4, 8. ], [7.6, 8.8])",
            "outputs": [
                {
                    "output_type": "execute_result",
                    "metadata": {},
                    "data": {
                        "text/plain": "0.88003340976158217"
                    },
                    "execution_count": null
                }
            ]
        }
    ]
}