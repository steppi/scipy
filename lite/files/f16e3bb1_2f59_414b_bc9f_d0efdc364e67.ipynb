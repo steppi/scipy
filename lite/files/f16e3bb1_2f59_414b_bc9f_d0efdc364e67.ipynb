{
    "nbformat": 4,
    "nbformat_minor": 5,
    "metadata": {
        "kernelspec": {
            "display_name": "Python",
            "language": "python",
            "name": "python"
        },
        "language_info": {
            "name": "python"
        }
    },
    "cells": [
        {
            "id": "29f0a59e",
            "cell_type": "markdown",
            "source": "<div class='alert alert-warning'>\n\nSciPy's interactive examples with Jupyterlite are experimental and may not always work as expected. Execution of cells containing imports may result in large downloads (up to 60MB of content for the first import from SciPy). Load times when importing from SciPy may take roughly 10-20 seconds. If you notice any problems, feel free to open an [issue](https://github.com/scipy/scipy/issues/new/choose).\n\n</div>",
            "metadata": {}
        },
        {
            "id": "c3b7c5b2",
            "cell_type": "code",
            "metadata": {},
            "execution_count": null,
            "source": "import numpy as np\nfrom scipy.spatial import cKDTree\nx, y = np.mgrid[0:5, 2:8]\ntree = cKDTree(np.c_[x.ravel(), y.ravel()])",
            "outputs": []
        },
        {
            "id": "b5825bd9",
            "cell_type": "markdown",
            "source": "To query the nearest neighbours and return squeezed result, use\n",
            "metadata": {}
        },
        {
            "id": "15547b8b",
            "cell_type": "code",
            "metadata": {},
            "execution_count": null,
            "source": "dd, ii = tree.query([[0, 0], [2.2, 2.9]], k=1)\nprint(dd, ii, sep='\\n')",
            "outputs": [
                {
                    "output_type": "execute_result",
                    "metadata": {},
                    "data": {
                        "text/plain": "[2.         0.2236068]\n[ 0 13]"
                    },
                    "execution_count": null
                }
            ]
        },
        {
            "id": "ecd81060",
            "cell_type": "markdown",
            "source": "To query the nearest neighbours and return unsqueezed result, use\n",
            "metadata": {}
        },
        {
            "id": "2b10371d",
            "cell_type": "code",
            "metadata": {},
            "execution_count": null,
            "source": "dd, ii = tree.query([[0, 0], [2.2, 2.9]], k=[1])\nprint(dd, ii, sep='\\n')",
            "outputs": [
                {
                    "output_type": "execute_result",
                    "metadata": {},
                    "data": {
                        "text/plain": "[[2.        ]\n [0.2236068]]\n[[ 0]\n [13]]"
                    },
                    "execution_count": null
                }
            ]
        },
        {
            "id": "5674bb11",
            "cell_type": "markdown",
            "source": "To query the second nearest neighbours and return unsqueezed result,\nuse\n",
            "metadata": {}
        },
        {
            "id": "3a16dc1c",
            "cell_type": "code",
            "metadata": {},
            "execution_count": null,
            "source": "dd, ii = tree.query([[0, 0], [2.2, 2.9]], k=[2])\nprint(dd, ii, sep='\\n')",
            "outputs": [
                {
                    "output_type": "execute_result",
                    "metadata": {},
                    "data": {
                        "text/plain": "[[2.23606798]\n [0.80622577]]\n[[ 6]\n [19]]"
                    },
                    "execution_count": null
                }
            ]
        },
        {
            "id": "6b4b6b58",
            "cell_type": "markdown",
            "source": "To query the first and second nearest neighbours, use\n",
            "metadata": {}
        },
        {
            "id": "b4e72704",
            "cell_type": "code",
            "metadata": {},
            "execution_count": null,
            "source": "dd, ii = tree.query([[0, 0], [2.2, 2.9]], k=2)\nprint(dd, ii, sep='\\n')",
            "outputs": [
                {
                    "output_type": "execute_result",
                    "metadata": {},
                    "data": {
                        "text/plain": "[[2.         2.23606798]\n [0.2236068  0.80622577]]\n[[ 0  6]\n [13 19]]"
                    },
                    "execution_count": null
                }
            ]
        },
        {
            "id": "1f463141",
            "cell_type": "markdown",
            "source": "or, be more specific\n",
            "metadata": {}
        },
        {
            "id": "f9aa8a93",
            "cell_type": "code",
            "metadata": {},
            "execution_count": null,
            "source": "dd, ii = tree.query([[0, 0], [2.2, 2.9]], k=[1, 2])\nprint(dd, ii, sep='\\n')",
            "outputs": [
                {
                    "output_type": "execute_result",
                    "metadata": {},
                    "data": {
                        "text/plain": "[[2.         2.23606798]\n [0.2236068  0.80622577]]\n[[ 0  6]\n [13 19]]"
                    },
                    "execution_count": null
                }
            ]
        }
    ]
}