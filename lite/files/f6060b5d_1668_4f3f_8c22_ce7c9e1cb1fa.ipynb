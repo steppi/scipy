{
    "nbformat": 4,
    "nbformat_minor": 5,
    "metadata": {
        "kernelspec": {
            "display_name": "Python",
            "language": "python",
            "name": "python"
        },
        "language_info": {
            "name": "python"
        }
    },
    "cells": [
        {
            "id": "4c992cc9",
            "cell_type": "markdown",
            "source": "<div class='alert alert-warning'>\n\nSciPy's interactive examples with Jupyterlite are experimental and may not always work as expected. Execution of cells containing imports may result in large downloads (up to 60MB of content for the first import from SciPy). Load times when importing from SciPy may take roughly 10-20 seconds. If you notice any problems, feel free to open an [issue](https://github.com/scipy/scipy/issues/new/choose).\n\n</div>",
            "metadata": {}
        },
        {
            "id": "5e680be8",
            "cell_type": "code",
            "metadata": {},
            "execution_count": null,
            "source": "from scipy import ndimage\nimport numpy as np\na = np.arange(12.).reshape((4, 3))\na",
            "outputs": [
                {
                    "output_type": "execute_result",
                    "metadata": {},
                    "data": {
                        "text/plain": "array([[  0.,   1.,   2.],\n       [  3.,   4.,   5.],\n       [  6.,   7.,   8.],\n       [  9.,  10.,  11.]])"
                    },
                    "execution_count": null
                }
            ]
        },
        {
            "id": "ba5211f3",
            "cell_type": "code",
            "metadata": {},
            "execution_count": null,
            "source": "ndimage.map_coordinates(a, [[0.5, 2], [0.5, 1]], order=1)",
            "outputs": [
                {
                    "output_type": "execute_result",
                    "metadata": {},
                    "data": {
                        "text/plain": "array([ 2.,  7.])"
                    },
                    "execution_count": null
                }
            ]
        },
        {
            "id": "6c8dde9f",
            "cell_type": "markdown",
            "source": "Above, the interpolated value of a[0.5, 0.5] gives output[0], while\na[2, 1] is output[1].\n",
            "metadata": {}
        },
        {
            "id": "4bf72513",
            "cell_type": "code",
            "metadata": {},
            "execution_count": null,
            "source": "inds = np.array([[0.5, 2], [0.5, 4]])\nndimage.map_coordinates(a, inds, order=1, cval=-33.3)",
            "outputs": [
                {
                    "output_type": "execute_result",
                    "metadata": {},
                    "data": {
                        "text/plain": "array([  2. , -33.3])"
                    },
                    "execution_count": null
                }
            ]
        },
        {
            "id": "ddb6be49",
            "cell_type": "code",
            "metadata": {},
            "execution_count": null,
            "source": "ndimage.map_coordinates(a, inds, order=1, mode='nearest')",
            "outputs": [
                {
                    "output_type": "execute_result",
                    "metadata": {},
                    "data": {
                        "text/plain": "array([ 2.,  8.])"
                    },
                    "execution_count": null
                }
            ]
        },
        {
            "id": "def1c605",
            "cell_type": "code",
            "metadata": {},
            "execution_count": null,
            "source": "ndimage.map_coordinates(a, inds, order=1, cval=0, output=bool)",
            "outputs": [
                {
                    "output_type": "execute_result",
                    "metadata": {},
                    "data": {
                        "text/plain": "array([ True, False], dtype=bool)"
                    },
                    "execution_count": null
                }
            ]
        }
    ]
}