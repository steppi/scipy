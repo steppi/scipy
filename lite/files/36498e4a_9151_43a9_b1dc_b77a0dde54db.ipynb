{
    "nbformat": 4,
    "nbformat_minor": 5,
    "metadata": {
        "kernelspec": {
            "display_name": "Python",
            "language": "python",
            "name": "python"
        },
        "language_info": {
            "name": "python"
        }
    },
    "cells": [
        {
            "id": "ab0f19cc",
            "cell_type": "markdown",
            "source": "<div class='alert alert-warning'>\n\nSciPy's interactive examples with Jupyterlite are experimental and may not always work as expected. Execution of cells containing imports may result in large downloads (up to 60MB of content for the first import from SciPy). Load times when importing from SciPy may take roughly 10-20 seconds. If you notice any problems, feel free to open an [issue](https://github.com/scipy/scipy/issues/new/choose).\n\n</div>",
            "metadata": {}
        },
        {
            "id": "cf53edb9",
            "cell_type": "code",
            "metadata": {},
            "execution_count": null,
            "source": "from scipy.spatial.transform import Rotation as R\nimport numpy as np",
            "outputs": []
        },
        {
            "id": "e77d5c7b",
            "cell_type": "markdown",
            "source": "Represent a single rotation:\n",
            "metadata": {}
        },
        {
            "id": "d9156993",
            "cell_type": "code",
            "metadata": {},
            "execution_count": null,
            "source": "r = R.from_euler('z', 90, degrees=True)\nr.as_rotvec()",
            "outputs": [
                {
                    "output_type": "execute_result",
                    "metadata": {},
                    "data": {
                        "text/plain": "array([0.        , 0.        , 1.57079633])"
                    },
                    "execution_count": null
                }
            ]
        },
        {
            "id": "5725edd7",
            "cell_type": "code",
            "metadata": {},
            "execution_count": null,
            "source": "r.as_rotvec().shape",
            "outputs": [
                {
                    "output_type": "execute_result",
                    "metadata": {},
                    "data": {
                        "text/plain": "(3,)"
                    },
                    "execution_count": null
                }
            ]
        },
        {
            "id": "ba62ba3b",
            "cell_type": "markdown",
            "source": "Represent a rotation in degrees:\n",
            "metadata": {}
        },
        {
            "id": "e4a6044e",
            "cell_type": "code",
            "metadata": {},
            "execution_count": null,
            "source": "r = R.from_euler('YX', (-90, -90), degrees=True)\ns = r.as_rotvec(degrees=True)\ns",
            "outputs": [
                {
                    "output_type": "execute_result",
                    "metadata": {},
                    "data": {
                        "text/plain": "array([-69.2820323, -69.2820323, -69.2820323])"
                    },
                    "execution_count": null
                }
            ]
        },
        {
            "id": "142831d8",
            "cell_type": "code",
            "metadata": {},
            "execution_count": null,
            "source": "np.linalg.norm(s)",
            "outputs": [
                {
                    "output_type": "execute_result",
                    "metadata": {},
                    "data": {
                        "text/plain": "120.00000000000001"
                    },
                    "execution_count": null
                }
            ]
        },
        {
            "id": "b942b1db",
            "cell_type": "markdown",
            "source": "Represent a stack with a single rotation:\n",
            "metadata": {}
        },
        {
            "id": "43630a4a",
            "cell_type": "code",
            "metadata": {},
            "execution_count": null,
            "source": "r = R.from_quat([[0, 0, 1, 1]])\nr.as_rotvec()",
            "outputs": [
                {
                    "output_type": "execute_result",
                    "metadata": {},
                    "data": {
                        "text/plain": "array([[0.        , 0.        , 1.57079633]])"
                    },
                    "execution_count": null
                }
            ]
        },
        {
            "id": "b3afd4da",
            "cell_type": "code",
            "metadata": {},
            "execution_count": null,
            "source": "r.as_rotvec().shape",
            "outputs": [
                {
                    "output_type": "execute_result",
                    "metadata": {},
                    "data": {
                        "text/plain": "(1, 3)"
                    },
                    "execution_count": null
                }
            ]
        },
        {
            "id": "a627608e",
            "cell_type": "markdown",
            "source": "Represent multiple rotations in a single object:\n",
            "metadata": {}
        },
        {
            "id": "ce2f66cb",
            "cell_type": "code",
            "metadata": {},
            "execution_count": null,
            "source": "r = R.from_quat([[0, 0, 1, 1], [1, 1, 0, 1]])\nr.as_rotvec()",
            "outputs": [
                {
                    "output_type": "execute_result",
                    "metadata": {},
                    "data": {
                        "text/plain": "array([[0.        , 0.        , 1.57079633],\n       [1.35102172, 1.35102172, 0.        ]])"
                    },
                    "execution_count": null
                }
            ]
        },
        {
            "id": "c595937c",
            "cell_type": "code",
            "metadata": {},
            "execution_count": null,
            "source": "r.as_rotvec().shape",
            "outputs": [
                {
                    "output_type": "execute_result",
                    "metadata": {},
                    "data": {
                        "text/plain": "(2, 3)"
                    },
                    "execution_count": null
                }
            ]
        }
    ]
}