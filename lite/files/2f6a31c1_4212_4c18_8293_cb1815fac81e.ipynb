{
    "nbformat": 4,
    "nbformat_minor": 5,
    "metadata": {
        "kernelspec": {
            "display_name": "Python",
            "language": "python",
            "name": "python"
        },
        "language_info": {
            "name": "python"
        }
    },
    "cells": [
        {
            "id": "b856c45e",
            "cell_type": "markdown",
            "source": "<div class='alert alert-warning'>\n\nSciPy's interactive examples with Jupyterlite are experimental and may not always work as expected. Execution of cells containing imports may result in large downloads (up to 60MB of content for the first import from SciPy). Load times when importing from SciPy may take roughly 10-20 seconds. If you notice any problems, feel free to open an [issue](https://github.com/scipy/scipy/issues/new/choose).\n\n</div>",
            "metadata": {}
        },
        {
            "id": "ab834ae3",
            "cell_type": "code",
            "metadata": {},
            "execution_count": null,
            "source": "from scipy import ndimage\nimport numpy as np\na = np.zeros((5,5), dtype=int)\na[1:4, 1:4] = 1; a[4, 4] = 1\na",
            "outputs": [
                {
                    "output_type": "execute_result",
                    "metadata": {},
                    "data": {
                        "text/plain": "array([[0, 0, 0, 0, 0],\n       [0, 1, 1, 1, 0],\n       [0, 1, 1, 1, 0],\n       [0, 1, 1, 1, 0],\n       [0, 0, 0, 0, 1]])"
                    },
                    "execution_count": null
                }
            ]
        },
        {
            "id": "996f5c0e",
            "cell_type": "code",
            "metadata": {},
            "execution_count": null,
            "source": "# Opening removes small objects\nndimage.binary_opening(a, structure=np.ones((3,3))).astype(int)",
            "outputs": [
                {
                    "output_type": "execute_result",
                    "metadata": {},
                    "data": {
                        "text/plain": "array([[0, 0, 0, 0, 0],\n       [0, 1, 1, 1, 0],\n       [0, 1, 1, 1, 0],\n       [0, 1, 1, 1, 0],\n       [0, 0, 0, 0, 0]])"
                    },
                    "execution_count": null
                }
            ]
        },
        {
            "id": "61f6b087",
            "cell_type": "code",
            "metadata": {},
            "execution_count": null,
            "source": "# Opening can also smooth corners\nndimage.binary_opening(a).astype(int)",
            "outputs": [
                {
                    "output_type": "execute_result",
                    "metadata": {},
                    "data": {
                        "text/plain": "array([[0, 0, 0, 0, 0],\n       [0, 0, 1, 0, 0],\n       [0, 1, 1, 1, 0],\n       [0, 0, 1, 0, 0],\n       [0, 0, 0, 0, 0]])"
                    },
                    "execution_count": null
                }
            ]
        },
        {
            "id": "438a22c8",
            "cell_type": "code",
            "metadata": {},
            "execution_count": null,
            "source": "# Opening is the dilation of the erosion of the input\nndimage.binary_erosion(a).astype(int)",
            "outputs": [
                {
                    "output_type": "execute_result",
                    "metadata": {},
                    "data": {
                        "text/plain": "array([[0, 0, 0, 0, 0],\n       [0, 0, 0, 0, 0],\n       [0, 0, 1, 0, 0],\n       [0, 0, 0, 0, 0],\n       [0, 0, 0, 0, 0]])"
                    },
                    "execution_count": null
                }
            ]
        },
        {
            "id": "91937411",
            "cell_type": "code",
            "metadata": {},
            "execution_count": null,
            "source": "ndimage.binary_dilation(ndimage.binary_erosion(a)).astype(int)",
            "outputs": [
                {
                    "output_type": "execute_result",
                    "metadata": {},
                    "data": {
                        "text/plain": "array([[0, 0, 0, 0, 0],\n       [0, 0, 1, 0, 0],\n       [0, 1, 1, 1, 0],\n       [0, 0, 1, 0, 0],\n       [0, 0, 0, 0, 0]])"
                    },
                    "execution_count": null
                }
            ]
        }
    ]
}