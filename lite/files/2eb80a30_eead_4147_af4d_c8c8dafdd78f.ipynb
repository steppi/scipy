{
    "nbformat": 4,
    "nbformat_minor": 5,
    "metadata": {
        "kernelspec": {
            "display_name": "Python",
            "language": "python",
            "name": "python"
        },
        "language_info": {
            "name": "python"
        }
    },
    "cells": [
        {
            "id": "5d961b70",
            "cell_type": "markdown",
            "source": "<div class='alert alert-warning'>\n\nSciPy's interactive examples with Jupyterlite are experimental and may not always work as expected. Execution of cells containing imports may result in large downloads (up to 60MB of content for the first import from SciPy). Load times when importing from SciPy may take roughly 10-20 seconds. If you notice any problems, feel free to open an [issue](https://github.com/scipy/scipy/issues/new/choose).\n\n</div>",
            "metadata": {}
        },
        {
            "id": "51db8f37",
            "cell_type": "markdown",
            "source": "Create an image with some features, then label it using the default\n(cross-shaped) structuring element:\n",
            "metadata": {}
        },
        {
            "id": "8d6de351",
            "cell_type": "code",
            "metadata": {},
            "execution_count": null,
            "source": "from scipy.ndimage import label, generate_binary_structure\nimport numpy as np\na = np.array([[0,0,1,1,0,0],\n              [0,0,0,1,0,0],\n              [1,1,0,0,1,0],\n              [0,0,0,1,0,0]])\nlabeled_array, num_features = label(a)",
            "outputs": []
        },
        {
            "id": "60520f94",
            "cell_type": "markdown",
            "source": "Each of the 4 features are labeled with a different integer:\n",
            "metadata": {}
        },
        {
            "id": "9acb2396",
            "cell_type": "code",
            "metadata": {},
            "execution_count": null,
            "source": "num_features",
            "outputs": [
                {
                    "output_type": "execute_result",
                    "metadata": {},
                    "data": {
                        "text/plain": "4"
                    },
                    "execution_count": null
                }
            ]
        },
        {
            "id": "c7016521",
            "cell_type": "code",
            "metadata": {},
            "execution_count": null,
            "source": "labeled_array",
            "outputs": [
                {
                    "output_type": "execute_result",
                    "metadata": {},
                    "data": {
                        "text/plain": "array([[0, 0, 1, 1, 0, 0],\n       [0, 0, 0, 1, 0, 0],\n       [2, 2, 0, 0, 3, 0],\n       [0, 0, 0, 4, 0, 0]])"
                    },
                    "execution_count": null
                }
            ]
        },
        {
            "id": "c694f4c2",
            "cell_type": "markdown",
            "source": "Generate a structuring element that will consider features connected even\nif they touch diagonally:\n",
            "metadata": {}
        },
        {
            "id": "b1ab1bb7",
            "cell_type": "code",
            "metadata": {},
            "execution_count": null,
            "source": "s = generate_binary_structure(2,2)",
            "outputs": []
        },
        {
            "id": "2fbeb9cd",
            "cell_type": "markdown",
            "source": "or,\n",
            "metadata": {}
        },
        {
            "id": "d658ddff",
            "cell_type": "code",
            "metadata": {},
            "execution_count": null,
            "source": "s = [[1,1,1],\n     [1,1,1],\n     [1,1,1]]",
            "outputs": []
        },
        {
            "id": "a432f948",
            "cell_type": "markdown",
            "source": "Label the image using the new structuring element:\n",
            "metadata": {}
        },
        {
            "id": "e503d50e",
            "cell_type": "code",
            "metadata": {},
            "execution_count": null,
            "source": "labeled_array, num_features = label(a, structure=s)",
            "outputs": []
        },
        {
            "id": "a8e37876",
            "cell_type": "markdown",
            "source": "Show the 2 labeled features (note that features 1, 3, and 4 from above are\nnow considered a single feature):\n",
            "metadata": {}
        },
        {
            "id": "ad1f5535",
            "cell_type": "code",
            "metadata": {},
            "execution_count": null,
            "source": "num_features",
            "outputs": [
                {
                    "output_type": "execute_result",
                    "metadata": {},
                    "data": {
                        "text/plain": "2"
                    },
                    "execution_count": null
                }
            ]
        },
        {
            "id": "88f4973c",
            "cell_type": "code",
            "metadata": {},
            "execution_count": null,
            "source": "labeled_array",
            "outputs": [
                {
                    "output_type": "execute_result",
                    "metadata": {},
                    "data": {
                        "text/plain": "array([[0, 0, 1, 1, 0, 0],\n       [0, 0, 0, 1, 0, 0],\n       [2, 2, 0, 0, 1, 0],\n       [0, 0, 0, 1, 0, 0]])"
                    },
                    "execution_count": null
                }
            ]
        }
    ]
}