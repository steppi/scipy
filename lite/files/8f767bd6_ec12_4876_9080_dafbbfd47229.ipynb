{
    "nbformat": 4,
    "nbformat_minor": 5,
    "metadata": {
        "kernelspec": {
            "display_name": "Python",
            "language": "python",
            "name": "python"
        },
        "language_info": {
            "name": "python"
        }
    },
    "cells": [
        {
            "id": "f86fad0f",
            "cell_type": "markdown",
            "source": "<div class='alert alert-warning'>\n\nSciPy's interactive examples with Jupyterlite are experimental and may not always work as expected. Execution of cells containing imports may result in large downloads (up to 60MB of content for the first import from SciPy). Load times when importing from SciPy may take roughly 10-20 seconds. If you notice any problems, feel free to open an [issue](https://github.com/scipy/scipy/issues/new/choose).\n\n</div>",
            "metadata": {}
        },
        {
            "id": "cd91e04e",
            "cell_type": "markdown",
            "source": "Passing a ``np.random.Generator`` instance for better performance:\n",
            "metadata": {}
        },
        {
            "id": "8846c581",
            "cell_type": "code",
            "metadata": {},
            "execution_count": null,
            "source": "import numpy as np\nimport scipy as sp\nrng = np.random.default_rng()",
            "outputs": []
        },
        {
            "id": "a9f606f4",
            "cell_type": "markdown",
            "source": "Default sampling uniformly from [0, 1):\n",
            "metadata": {}
        },
        {
            "id": "9556d739",
            "cell_type": "code",
            "metadata": {},
            "execution_count": null,
            "source": "S = sp.sparse.random_array((3, 4), density=0.25, random_state=rng)",
            "outputs": []
        },
        {
            "id": "a1111dba",
            "cell_type": "markdown",
            "source": "Providing a sampler for the values:\n",
            "metadata": {}
        },
        {
            "id": "2a7415b9",
            "cell_type": "code",
            "metadata": {},
            "execution_count": null,
            "source": "rvs = sp.stats.poisson(25, loc=10).rvs\nS = sp.sparse.random_array((3, 4), density=0.25,\n                           random_state=rng, data_sampler=rvs)\nS.toarray()",
            "outputs": [
                {
                    "output_type": "execute_result",
                    "metadata": {},
                    "data": {
                        "text/plain": "array([[ 36.,   0.,  33.,   0.],   # random\n       [  0.,   0.,   0.,   0.],\n       [  0.,   0.,  36.,   0.]])"
                    },
                    "execution_count": null
                }
            ]
        },
        {
            "id": "58d80528",
            "cell_type": "markdown",
            "source": "Building a custom distribution.\nThis example builds a squared normal from np.random:\n",
            "metadata": {}
        },
        {
            "id": "4ebfc042",
            "cell_type": "code",
            "metadata": {},
            "execution_count": null,
            "source": "def np_normal_squared(size=None, random_state=rng):\n    return random_state.standard_normal(size) ** 2\nS = sp.sparse.random_array((3, 4), density=0.25, random_state=rng,\n                     data_sampler=np_normal_squared)",
            "outputs": []
        },
        {
            "id": "6da13107",
            "cell_type": "markdown",
            "source": "Or we can build it from sp.stats style rvs functions:\n",
            "metadata": {}
        },
        {
            "id": "88f03d39",
            "cell_type": "code",
            "metadata": {},
            "execution_count": null,
            "source": "def sp_stats_normal_squared(size=None, random_state=rng):\n    std_normal = sp.stats.distributions.norm_gen().rvs\n    return std_normal(size=size, random_state=random_state) ** 2\nS = sp.sparse.random_array((3, 4), density=0.25, random_state=rng,\n                     data_sampler=sp_stats_normal_squared)",
            "outputs": []
        },
        {
            "id": "49911e83",
            "cell_type": "markdown",
            "source": "Or we can subclass sp.stats rv_continous or rv_discrete:\n",
            "metadata": {}
        },
        {
            "id": "9cc9b790",
            "cell_type": "code",
            "metadata": {},
            "execution_count": null,
            "source": "class NormalSquared(sp.stats.rv_continuous):\n    def _rvs(self,  size=None, random_state=rng):\n        return random_state.standard_normal(size) ** 2\nX = NormalSquared()\nY = X().rvs\nS = sp.sparse.random_array((3, 4), density=0.25,\n                           random_state=rng, data_sampler=Y)",
            "outputs": []
        }
    ]
}