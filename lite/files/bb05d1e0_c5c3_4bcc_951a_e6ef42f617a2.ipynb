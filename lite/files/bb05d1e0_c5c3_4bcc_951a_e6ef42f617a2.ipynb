{
    "nbformat": 4,
    "nbformat_minor": 5,
    "metadata": {
        "kernelspec": {
            "display_name": "Python",
            "language": "python",
            "name": "python"
        },
        "language_info": {
            "name": "python"
        }
    },
    "cells": [
        {
            "id": "35915d17",
            "cell_type": "markdown",
            "source": "<div class='alert alert-warning'>\n\nSciPy's interactive examples with Jupyterlite are experimental and may not always work as expected. Execution of cells containing imports may result in large downloads (up to 60MB of content for the first import from SciPy). Load times when importing from SciPy may take roughly 10-20 seconds. If you notice any problems, feel free to open an [issue](https://github.com/scipy/scipy/issues/new/choose).\n\n</div>",
            "metadata": {}
        },
        {
            "id": "ac5b54ff",
            "cell_type": "markdown",
            "source": "Generate a discretization of a limacon curve in the polar coordinates:\n",
            "metadata": {}
        },
        {
            "id": "15b000cb",
            "cell_type": "code",
            "metadata": {},
            "execution_count": null,
            "source": "import numpy as np\nphi = np.linspace(0, 2.*np.pi, 40)\nr = 0.5 + np.cos(phi)         # polar coords\nx, y = r * np.cos(phi), r * np.sin(phi)    # convert to cartesian",
            "outputs": []
        },
        {
            "id": "7f01db03",
            "cell_type": "markdown",
            "source": "And interpolate:\n",
            "metadata": {}
        },
        {
            "id": "771c5193",
            "cell_type": "code",
            "metadata": {},
            "execution_count": null,
            "source": "from scipy.interpolate import splprep, splev\ntck, u = splprep([x, y], s=0)\nnew_points = splev(u, tck)",
            "outputs": []
        },
        {
            "id": "6bdad0d2",
            "cell_type": "markdown",
            "source": "Notice that (i) we force interpolation by using `s=0`,\n(ii) the parameterization, ``u``, is generated automatically.\nNow plot the result:\n",
            "metadata": {}
        },
        {
            "id": "94f5fe78",
            "cell_type": "code",
            "metadata": {},
            "execution_count": null,
            "source": "import matplotlib.pyplot as plt\nfig, ax = plt.subplots()\nax.plot(x, y, 'ro')\nax.plot(new_points[0], new_points[1], 'r-')\nplt.show()",
            "outputs": []
        }
    ]
}