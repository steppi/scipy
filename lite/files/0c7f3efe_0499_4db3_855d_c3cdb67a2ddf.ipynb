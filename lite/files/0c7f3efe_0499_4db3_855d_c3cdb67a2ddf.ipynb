{
    "nbformat": 4,
    "nbformat_minor": 5,
    "metadata": {
        "kernelspec": {
            "display_name": "Python",
            "language": "python",
            "name": "python"
        },
        "language_info": {
            "name": "python"
        }
    },
    "cells": [
        {
            "id": "a2fc0c50",
            "cell_type": "markdown",
            "source": "<div class='alert alert-warning'>\n\nSciPy's interactive examples with Jupyterlite are experimental and may not always work as expected. Execution of cells containing imports may result in large downloads (up to 60MB of content for the first import from SciPy). Load times when importing from SciPy may take roughly 10-20 seconds. If you notice any problems, feel free to open an [issue](https://github.com/scipy/scipy/issues/new/choose).\n\n</div>",
            "metadata": {}
        },
        {
            "id": "3cc7da8f",
            "cell_type": "code",
            "metadata": {},
            "execution_count": null,
            "source": "import numpy as np\nfrom scipy.stats import pareto\nimport matplotlib.pyplot as plt\nfig, ax = plt.subplots(1, 1)",
            "outputs": []
        },
        {
            "id": "ca6962a3",
            "cell_type": "markdown",
            "source": "Calculate the first four moments:\n",
            "metadata": {}
        },
        {
            "id": "6206bfd6",
            "cell_type": "code",
            "metadata": {},
            "execution_count": null,
            "source": "b = 2.62\nmean, var, skew, kurt = pareto.stats(b, moments='mvsk')",
            "outputs": []
        },
        {
            "id": "b41c2cd8",
            "cell_type": "markdown",
            "source": "Display the probability density function (``pdf``):\n",
            "metadata": {}
        },
        {
            "id": "2627c89b",
            "cell_type": "code",
            "metadata": {},
            "execution_count": null,
            "source": "x = np.linspace(pareto.ppf(0.01, b),\n                pareto.ppf(0.99, b), 100)\nax.plot(x, pareto.pdf(x, b),\n       'r-', lw=5, alpha=0.6, label='pareto pdf')",
            "outputs": []
        },
        {
            "id": "0fd6ec7e",
            "cell_type": "markdown",
            "source": "Alternatively, the distribution object can be called (as a function)\nto fix the shape, location and scale parameters. This returns a \"frozen\"\nRV object holding the given parameters fixed.\n\nFreeze the distribution and display the frozen ``pdf``:\n",
            "metadata": {}
        },
        {
            "id": "da4f1f0c",
            "cell_type": "code",
            "metadata": {},
            "execution_count": null,
            "source": "rv = pareto(b)\nax.plot(x, rv.pdf(x), 'k-', lw=2, label='frozen pdf')",
            "outputs": []
        },
        {
            "id": "1a89406e",
            "cell_type": "markdown",
            "source": "Check accuracy of ``cdf`` and ``ppf``:\n",
            "metadata": {}
        },
        {
            "id": "339b4ffb",
            "cell_type": "code",
            "metadata": {},
            "execution_count": null,
            "source": "vals = pareto.ppf([0.001, 0.5, 0.999], b)\nnp.allclose([0.001, 0.5, 0.999], pareto.cdf(vals, b))",
            "outputs": [
                {
                    "output_type": "execute_result",
                    "metadata": {},
                    "data": {
                        "text/plain": "True"
                    },
                    "execution_count": null
                }
            ]
        },
        {
            "id": "1341925a",
            "cell_type": "markdown",
            "source": "Generate random numbers:\n",
            "metadata": {}
        },
        {
            "id": "9e1a3186",
            "cell_type": "code",
            "metadata": {},
            "execution_count": null,
            "source": "r = pareto.rvs(b, size=1000)",
            "outputs": []
        },
        {
            "id": "6c282412",
            "cell_type": "markdown",
            "source": "And compare the histogram:\n",
            "metadata": {}
        },
        {
            "id": "99f22a71",
            "cell_type": "code",
            "metadata": {},
            "execution_count": null,
            "source": "ax.hist(r, density=True, bins='auto', histtype='stepfilled', alpha=0.2)\nax.set_xlim([x[0], x[-1]])\nax.legend(loc='best', frameon=False)\nplt.show()",
            "outputs": []
        }
    ]
}