{
    "nbformat": 4,
    "nbformat_minor": 5,
    "metadata": {
        "kernelspec": {
            "display_name": "Python",
            "language": "python",
            "name": "python"
        },
        "language_info": {
            "name": "python"
        }
    },
    "cells": [
        {
            "id": "ad07e7ad",
            "cell_type": "markdown",
            "source": "<div class='alert alert-warning'>\n\nSciPy's interactive examples with Jupyterlite are experimental and may not always work as expected. Execution of cells containing imports may result in large downloads (up to 60MB of content for the first import from SciPy). Load times when importing from SciPy may take roughly 10-20 seconds. If you notice any problems, feel free to open an [issue](https://github.com/scipy/scipy/issues/new/choose).\n\n</div>",
            "metadata": {}
        },
        {
            "id": "f2f616cb",
            "cell_type": "markdown",
            "source": "We can filter an image using multidimentional splines:\n",
            "metadata": {}
        },
        {
            "id": "7db2dc3a",
            "cell_type": "code",
            "metadata": {},
            "execution_count": null,
            "source": "from scipy.ndimage import spline_filter\nimport numpy as np\nimport matplotlib.pyplot as plt\norig_img = np.eye(20)  # create an image\norig_img[10, :] = 1.0\nsp_filter = spline_filter(orig_img, order=3)\nf, ax = plt.subplots(1, 2, sharex=True)\nfor ind, data in enumerate([[orig_img, \"original image\"],\n                            [sp_filter, \"spline filter\"]]):\n    ax[ind].imshow(data[0], cmap='gray_r')\n    ax[ind].set_title(data[1])\nplt.tight_layout()\nplt.show()",
            "outputs": []
        }
    ]
}