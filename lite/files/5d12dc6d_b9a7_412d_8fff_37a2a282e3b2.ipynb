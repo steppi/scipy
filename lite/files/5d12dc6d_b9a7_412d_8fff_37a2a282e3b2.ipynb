{
    "nbformat": 4,
    "nbformat_minor": 5,
    "metadata": {
        "kernelspec": {
            "display_name": "Python",
            "language": "python",
            "name": "python"
        },
        "language_info": {
            "name": "python"
        }
    },
    "cells": [
        {
            "id": "2f30a3c8",
            "cell_type": "markdown",
            "source": "<div class='alert alert-warning'>\n\nSciPy's interactive examples with Jupyterlite are experimental and may not always work as expected. Execution of cells containing imports may result in large downloads (up to 60MB of content for the first import from SciPy). Load times when importing from SciPy may take roughly 10-20 seconds. If you notice any problems, feel free to open an [issue](https://github.com/scipy/scipy/issues/new/choose).\n\n</div>",
            "metadata": {}
        },
        {
            "id": "1116b97e",
            "cell_type": "code",
            "metadata": {},
            "execution_count": null,
            "source": "import numpy as np\nfrom scipy import signal\nx = np.arange(25).reshape(5, 5)\nx",
            "outputs": [
                {
                    "output_type": "execute_result",
                    "metadata": {},
                    "data": {
                        "text/plain": "array([[ 0,  1,  2,  3,  4],\n       [ 5,  6,  7,  8,  9],\n       [10, 11, 12, 13, 14],\n       [15, 16, 17, 18, 19],\n       [20, 21, 22, 23, 24]])"
                    },
                    "execution_count": null
                }
            ]
        },
        {
            "id": "83a594b6",
            "cell_type": "markdown",
            "source": "# Replaces i,j with the median out of 5*5 window\n",
            "metadata": {}
        },
        {
            "id": "cb15c796",
            "cell_type": "code",
            "metadata": {},
            "execution_count": null,
            "source": "signal.medfilt2d(x, kernel_size=5)",
            "outputs": [
                {
                    "output_type": "execute_result",
                    "metadata": {},
                    "data": {
                        "text/plain": "array([[ 0,  0,  2,  0,  0],\n       [ 0,  3,  7,  4,  0],\n       [ 2,  8, 12,  9,  4],\n       [ 0,  8, 12,  9,  0],\n       [ 0,  0, 12,  0,  0]])"
                    },
                    "execution_count": null
                }
            ]
        },
        {
            "id": "de8e9a60",
            "cell_type": "markdown",
            "source": "# Replaces i,j with the median out of default 3*3 window\n",
            "metadata": {}
        },
        {
            "id": "60e033d7",
            "cell_type": "code",
            "metadata": {},
            "execution_count": null,
            "source": "signal.medfilt2d(x)",
            "outputs": [
                {
                    "output_type": "execute_result",
                    "metadata": {},
                    "data": {
                        "text/plain": "array([[ 0,  1,  2,  3,  0],\n       [ 1,  6,  7,  8,  4],\n       [ 6, 11, 12, 13,  9],\n       [11, 16, 17, 18, 14],\n       [ 0, 16, 17, 18,  0]])"
                    },
                    "execution_count": null
                }
            ]
        },
        {
            "id": "0754ebb4",
            "cell_type": "markdown",
            "source": "# Replaces i,j with the median out of default 5*3 window\n",
            "metadata": {}
        },
        {
            "id": "ab832bfc",
            "cell_type": "code",
            "metadata": {},
            "execution_count": null,
            "source": "signal.medfilt2d(x, kernel_size=[5,3])",
            "outputs": [
                {
                    "output_type": "execute_result",
                    "metadata": {},
                    "data": {
                        "text/plain": "array([[ 0,  1,  2,  3,  0],\n       [ 0,  6,  7,  8,  3],\n       [ 5, 11, 12, 13,  8],\n       [ 5, 11, 12, 13,  8],\n       [ 0, 11, 12, 13,  0]])"
                    },
                    "execution_count": null
                }
            ]
        },
        {
            "id": "ae107f36",
            "cell_type": "markdown",
            "source": "# Replaces i,j with the median out of default 3*5 window\n",
            "metadata": {}
        },
        {
            "id": "c72e6a4e",
            "cell_type": "code",
            "metadata": {},
            "execution_count": null,
            "source": "signal.medfilt2d(x, kernel_size=[3,5])",
            "outputs": [
                {
                    "output_type": "execute_result",
                    "metadata": {},
                    "data": {
                        "text/plain": "array([[ 0,  0,  2,  1,  0],\n       [ 1,  5,  7,  6,  3],\n       [ 6, 10, 12, 11,  8],\n       [11, 15, 17, 16, 13],\n       [ 0, 15, 17, 16,  0]])"
                    },
                    "execution_count": null
                }
            ]
        },
        {
            "id": "0eac8f4a",
            "cell_type": "markdown",
            "source": "# As seen in the examples,\n# kernel numbers must be odd and not exceed original array dim",
            "metadata": {}
        }
    ]
}