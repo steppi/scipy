{
    "nbformat": 4,
    "nbformat_minor": 5,
    "metadata": {
        "kernelspec": {
            "display_name": "Python",
            "language": "python",
            "name": "python"
        },
        "language_info": {
            "name": "python"
        }
    },
    "cells": [
        {
            "id": "52d19fcb",
            "cell_type": "markdown",
            "source": "<div class='alert alert-warning'>\n\nSciPy's interactive examples with Jupyterlite are experimental and may not always work as expected. Execution of cells containing imports may result in large downloads (up to 60MB of content for the first import from SciPy). Load times when importing from SciPy may take roughly 10-20 seconds. If you notice any problems, feel free to open an [issue](https://github.com/scipy/scipy/issues/new/choose).\n\n</div>",
            "metadata": {}
        },
        {
            "id": "cc614542",
            "cell_type": "code",
            "metadata": {},
            "execution_count": null,
            "source": "import numpy as np\nfrom scipy import stats\nimport matplotlib.pyplot as plt",
            "outputs": []
        },
        {
            "id": "4c624300",
            "cell_type": "code",
            "metadata": {},
            "execution_count": null,
            "source": "x = np.linspace(-5, 5, num=150)\ny = x + np.random.normal(size=x.size)\ny[11:15] += 10  # add outliers\ny[-5:] -= 7",
            "outputs": []
        },
        {
            "id": "f6de0d78",
            "cell_type": "markdown",
            "source": "Compute the slope and intercept.  For comparison, also compute the\nleast-squares fit with `linregress`:\n",
            "metadata": {}
        },
        {
            "id": "2f47c41a",
            "cell_type": "code",
            "metadata": {},
            "execution_count": null,
            "source": "res = stats.siegelslopes(y, x)\nlsq_res = stats.linregress(x, y)",
            "outputs": []
        },
        {
            "id": "50f7e9a9",
            "cell_type": "markdown",
            "source": "Plot the results. The Siegel regression line is shown in red. The green\nline shows the least-squares fit for comparison.\n",
            "metadata": {}
        },
        {
            "id": "15ef0ce6",
            "cell_type": "code",
            "metadata": {},
            "execution_count": null,
            "source": "fig = plt.figure()\nax = fig.add_subplot(111)\nax.plot(x, y, 'b.')\nax.plot(x, res[1] + res[0] * x, 'r-')\nax.plot(x, lsq_res[1] + lsq_res[0] * x, 'g-')\nplt.show()",
            "outputs": []
        }
    ]
}