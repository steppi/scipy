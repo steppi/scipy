{
    "nbformat": 4,
    "nbformat_minor": 5,
    "metadata": {
        "kernelspec": {
            "display_name": "Python",
            "language": "python",
            "name": "python"
        },
        "language_info": {
            "name": "python"
        }
    },
    "cells": [
        {
            "id": "b81eaa7d",
            "cell_type": "markdown",
            "source": "<div class='alert alert-warning'>\n\nSciPy's interactive examples with Jupyterlite are experimental and may not always work as expected. Execution of cells containing imports may result in large downloads (up to 60MB of content for the first import from SciPy). Load times when importing from SciPy may take roughly 10-20 seconds. If you notice any problems, feel free to open an [issue](https://github.com/scipy/scipy/issues/new/choose).\n\n</div>",
            "metadata": {}
        },
        {
            "id": "715f33b0",
            "cell_type": "markdown",
            "source": "We can print documentations of a solver in stdout:\n",
            "metadata": {}
        },
        {
            "id": "eaf9742c",
            "cell_type": "code",
            "metadata": {},
            "execution_count": null,
            "source": "from scipy.optimize import show_options\nshow_options(solver=\"minimize\")\n",
            "outputs": []
        },
        {
            "id": "3fcdf85e",
            "cell_type": "markdown",
            "source": "Specifying a method is possible:\n",
            "metadata": {}
        },
        {
            "id": "6aba5c8a",
            "cell_type": "code",
            "metadata": {},
            "execution_count": null,
            "source": "show_options(solver=\"minimize\", method=\"Nelder-Mead\")\n",
            "outputs": []
        },
        {
            "id": "9d77fceb",
            "cell_type": "markdown",
            "source": "We can also get the documentations as a string:\n",
            "metadata": {}
        },
        {
            "id": "e689d036",
            "cell_type": "code",
            "metadata": {},
            "execution_count": null,
            "source": "show_options(solver=\"minimize\", method=\"Nelder-Mead\", disp=False)",
            "outputs": [
                {
                    "output_type": "execute_result",
                    "metadata": {},
                    "data": {
                        "text/plain": "Minimization of scalar function of one or more variables using the ..."
                    },
                    "execution_count": null
                }
            ]
        }
    ]
}