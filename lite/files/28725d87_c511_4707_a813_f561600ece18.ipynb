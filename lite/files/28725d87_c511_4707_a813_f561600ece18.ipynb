{
    "nbformat": 4,
    "nbformat_minor": 5,
    "metadata": {
        "kernelspec": {
            "display_name": "Python",
            "language": "python",
            "name": "python"
        },
        "language_info": {
            "name": "python"
        }
    },
    "cells": [
        {
            "id": "46b5ca0e",
            "cell_type": "markdown",
            "source": "<div class='alert alert-warning'>\n\nSciPy's interactive examples with Jupyterlite are experimental and may not always work as expected. Execution of cells containing imports may result in large downloads (up to 60MB of content for the first import from SciPy). Load times when importing from SciPy may take roughly 10-20 seconds. If you notice any problems, feel free to open an [issue](https://github.com/scipy/scipy/issues/new/choose).\n\n</div>",
            "metadata": {}
        },
        {
            "id": "d2dc7aa4",
            "cell_type": "code",
            "metadata": {},
            "execution_count": null,
            "source": "from scipy.signal import normalize",
            "outputs": []
        },
        {
            "id": "1c3e60c4",
            "cell_type": "markdown",
            "source": "Normalize the coefficients of the transfer function\n``(3*s^2 - 2*s + 5) / (2*s^2 + 3*s + 1)``:\n",
            "metadata": {}
        },
        {
            "id": "62d16a64",
            "cell_type": "code",
            "metadata": {},
            "execution_count": null,
            "source": "b = [3, -2, 5]\na = [2, 3, 1]\nnormalize(b, a)",
            "outputs": [
                {
                    "output_type": "execute_result",
                    "metadata": {},
                    "data": {
                        "text/plain": "(array([ 1.5, -1. ,  2.5]), array([1. , 1.5, 0.5]))"
                    },
                    "execution_count": null
                }
            ]
        },
        {
            "id": "1ed4b183",
            "cell_type": "markdown",
            "source": "A warning is generated if, for example, the first coefficient of\n`b` is 0.  In the following example, the result is as expected:\n",
            "metadata": {}
        },
        {
            "id": "9052d247",
            "cell_type": "code",
            "metadata": {},
            "execution_count": null,
            "source": "import warnings\nwith warnings.catch_warnings(record=True) as w:\n    num, den = normalize([0, 3, 6], [2, -5, 4])",
            "outputs": []
        },
        {
            "id": "3583c0f8",
            "cell_type": "code",
            "metadata": {},
            "execution_count": null,
            "source": "num",
            "outputs": [
                {
                    "output_type": "execute_result",
                    "metadata": {},
                    "data": {
                        "text/plain": "array([1.5, 3. ])"
                    },
                    "execution_count": null
                }
            ]
        },
        {
            "id": "a7946c8b",
            "cell_type": "code",
            "metadata": {},
            "execution_count": null,
            "source": "den",
            "outputs": [
                {
                    "output_type": "execute_result",
                    "metadata": {},
                    "data": {
                        "text/plain": "array([ 1. , -2.5,  2. ])"
                    },
                    "execution_count": null
                }
            ]
        },
        {
            "id": "224e6ae1",
            "cell_type": "code",
            "metadata": {},
            "execution_count": null,
            "source": "print(w[0].message)",
            "outputs": [
                {
                    "output_type": "execute_result",
                    "metadata": {},
                    "data": {
                        "text/plain": "Badly conditioned filter coefficients (numerator): the results may be meaningless"
                    },
                    "execution_count": null
                }
            ]
        }
    ]
}