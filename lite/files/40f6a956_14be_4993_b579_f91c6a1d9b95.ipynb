{
    "nbformat": 4,
    "nbformat_minor": 5,
    "metadata": {
        "kernelspec": {
            "display_name": "Python",
            "language": "python",
            "name": "python"
        },
        "language_info": {
            "name": "python"
        }
    },
    "cells": [
        {
            "id": "30092012",
            "cell_type": "markdown",
            "source": "<div class='alert alert-warning'>\n\nSciPy's interactive examples with Jupyterlite are experimental and may not always work as expected. Execution of cells containing imports may result in large downloads (up to 60MB of content for the first import from SciPy). Load times when importing from SciPy may take roughly 10-20 seconds. If you notice any problems, feel free to open an [issue](https://github.com/scipy/scipy/issues/new/choose).\n\n</div>",
            "metadata": {}
        },
        {
            "id": "b6fec9ea",
            "cell_type": "markdown",
            "source": "In this example, a problem with a large sparse matrix and bounds on the\nvariables is solved.\n",
            "metadata": {}
        },
        {
            "id": "a1a561b1",
            "cell_type": "code",
            "metadata": {},
            "execution_count": null,
            "source": "import numpy as np\nfrom scipy.sparse import rand\nfrom scipy.optimize import lsq_linear\nrng = np.random.default_rng()\n\nm = 20000\nn = 10000\n\nA = rand(m, n, density=1e-4, random_state=rng)\nb = rng.standard_normal(m)\n\nlb = rng.standard_normal(n)\nub = lb + 1\n\nres = lsq_linear(A, b, bounds=(lb, ub), lsmr_tol='auto', verbose=1)",
            "outputs": [
                {
                    "output_type": "execute_result",
                    "metadata": {},
                    "data": {
                        "text/plain": "# may vary\nThe relative change of the cost function is less than `tol`.\nNumber of iterations 16, initial cost 1.5039e+04, final cost 1.1112e+04,\nfirst-order optimality 4.66e-08."
                    },
                    "execution_count": null
                }
            ]
        }
    ]
}