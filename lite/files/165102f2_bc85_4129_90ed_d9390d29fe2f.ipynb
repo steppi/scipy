{
    "nbformat": 4,
    "nbformat_minor": 5,
    "metadata": {
        "kernelspec": {
            "display_name": "Python",
            "language": "python",
            "name": "python"
        },
        "language_info": {
            "name": "python"
        }
    },
    "cells": [
        {
            "id": "86b5ad59",
            "cell_type": "markdown",
            "source": "<div class='alert alert-warning'>\n\nSciPy's interactive examples with Jupyterlite are experimental and may not always work as expected. Execution of cells containing imports may result in large downloads (up to 60MB of content for the first import from SciPy). Load times when importing from SciPy may take roughly 10-20 seconds. If you notice any problems, feel free to open an [issue](https://github.com/scipy/scipy/issues/new/choose).\n\n</div>",
            "metadata": {}
        },
        {
            "id": "b7a8440f",
            "cell_type": "markdown",
            "source": "Let us consider the problem of minimizing the Rosenbrock function. This\nfunction (and its respective derivatives) is implemented in `rosen`\n(resp. `rosen_der`, `rosen_hess`) in the `scipy.optimize`.\n",
            "metadata": {}
        },
        {
            "id": "0d953167",
            "cell_type": "code",
            "metadata": {},
            "execution_count": null,
            "source": "from scipy.optimize import minimize, rosen, rosen_der",
            "outputs": []
        },
        {
            "id": "3af26353",
            "cell_type": "markdown",
            "source": "A simple application of the *Nelder-Mead* method is:\n",
            "metadata": {}
        },
        {
            "id": "9bbb77f3",
            "cell_type": "code",
            "metadata": {},
            "execution_count": null,
            "source": "x0 = [1.3, 0.7, 0.8, 1.9, 1.2]\nres = minimize(rosen, x0, method='Nelder-Mead', tol=1e-6)\nres.x",
            "outputs": [
                {
                    "output_type": "execute_result",
                    "metadata": {},
                    "data": {
                        "text/plain": "array([ 1.,  1.,  1.,  1.,  1.])"
                    },
                    "execution_count": null
                }
            ]
        },
        {
            "id": "ea1721b9",
            "cell_type": "markdown",
            "source": "Now using the *BFGS* algorithm, using the first derivative and a few\noptions:\n",
            "metadata": {}
        },
        {
            "id": "d8e800f3",
            "cell_type": "code",
            "metadata": {},
            "execution_count": null,
            "source": "res = minimize(rosen, x0, method='BFGS', jac=rosen_der,\n               options={'gtol': 1e-6, 'disp': True})",
            "outputs": [
                {
                    "output_type": "execute_result",
                    "metadata": {},
                    "data": {
                        "text/plain": "Optimization terminated successfully.\n         Current function value: 0.000000\n         Iterations: 26\n         Function evaluations: 31\n         Gradient evaluations: 31"
                    },
                    "execution_count": null
                }
            ]
        },
        {
            "id": "ac7a9a76",
            "cell_type": "code",
            "metadata": {},
            "execution_count": null,
            "source": "res.x",
            "outputs": [
                {
                    "output_type": "execute_result",
                    "metadata": {},
                    "data": {
                        "text/plain": "array([ 1.,  1.,  1.,  1.,  1.])"
                    },
                    "execution_count": null
                }
            ]
        },
        {
            "id": "f66b9a37",
            "cell_type": "code",
            "metadata": {},
            "execution_count": null,
            "source": "print(res.message)",
            "outputs": [
                {
                    "output_type": "execute_result",
                    "metadata": {},
                    "data": {
                        "text/plain": "Optimization terminated successfully."
                    },
                    "execution_count": null
                }
            ]
        },
        {
            "id": "e9031ea9",
            "cell_type": "code",
            "metadata": {},
            "execution_count": null,
            "source": "res.hess_inv",
            "outputs": [
                {
                    "output_type": "execute_result",
                    "metadata": {},
                    "data": {
                        "text/plain": "array([\n    [ 0.00749589,  0.01255155,  0.02396251,  0.04750988,  0.09495377],  # may vary\n    [ 0.01255155,  0.02510441,  0.04794055,  0.09502834,  0.18996269],\n    [ 0.02396251,  0.04794055,  0.09631614,  0.19092151,  0.38165151],\n    [ 0.04750988,  0.09502834,  0.19092151,  0.38341252,  0.7664427 ],\n    [ 0.09495377,  0.18996269,  0.38165151,  0.7664427,   1.53713523]\n])"
                    },
                    "execution_count": null
                }
            ]
        },
        {
            "id": "48c090b6",
            "cell_type": "markdown",
            "source": "Next, consider a minimization problem with several constraints (namely\nExample 16.4 from [5]). The objective function is:\n",
            "metadata": {}
        },
        {
            "id": "db3d816f",
            "cell_type": "code",
            "metadata": {},
            "execution_count": null,
            "source": "fun = lambda x: (x[0] - 1)**2 + (x[1] - 2.5)**2",
            "outputs": []
        },
        {
            "id": "db3b3ce9",
            "cell_type": "markdown",
            "source": "There are three constraints defined as:\n",
            "metadata": {}
        },
        {
            "id": "4eb79341",
            "cell_type": "code",
            "metadata": {},
            "execution_count": null,
            "source": "cons = ({'type': 'ineq', 'fun': lambda x:  x[0] - 2 * x[1] + 2},\n        {'type': 'ineq', 'fun': lambda x: -x[0] - 2 * x[1] + 6},\n        {'type': 'ineq', 'fun': lambda x: -x[0] + 2 * x[1] + 2})",
            "outputs": []
        },
        {
            "id": "ac3911fa",
            "cell_type": "markdown",
            "source": "And variables must be positive, hence the following bounds:\n",
            "metadata": {}
        },
        {
            "id": "dedbccd7",
            "cell_type": "code",
            "metadata": {},
            "execution_count": null,
            "source": "bnds = ((0, None), (0, None))",
            "outputs": []
        },
        {
            "id": "10558cae",
            "cell_type": "markdown",
            "source": "The optimization problem is solved using the SLSQP method as:\n",
            "metadata": {}
        },
        {
            "id": "ad3f82c2",
            "cell_type": "code",
            "metadata": {},
            "execution_count": null,
            "source": "res = minimize(fun, (2, 0), method='SLSQP', bounds=bnds,\n               constraints=cons)",
            "outputs": []
        },
        {
            "id": "76181583",
            "cell_type": "markdown",
            "source": "It should converge to the theoretical solution (1.4 ,1.7).",
            "metadata": {}
        }
    ]
}