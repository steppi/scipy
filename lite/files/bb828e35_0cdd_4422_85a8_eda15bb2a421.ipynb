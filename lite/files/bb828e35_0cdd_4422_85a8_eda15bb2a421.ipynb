{
    "nbformat": 4,
    "nbformat_minor": 5,
    "metadata": {
        "kernelspec": {
            "display_name": "Python",
            "language": "python",
            "name": "python"
        },
        "language_info": {
            "name": "python"
        }
    },
    "cells": [
        {
            "id": "1e950145",
            "cell_type": "markdown",
            "source": "<div class='alert alert-warning'>\n\nSciPy's interactive examples with Jupyterlite are experimental and may not always work as expected. Execution of cells containing imports may result in large downloads (up to 60MB of content for the first import from SciPy). Load times when importing from SciPy may take roughly 10-20 seconds. If you notice any problems, feel free to open an [issue](https://github.com/scipy/scipy/issues/new/choose).\n\n</div>",
            "metadata": {}
        },
        {
            "id": "208c3565",
            "cell_type": "markdown",
            "source": "Suppose we wish to test the null hypothesis that the mean of a population\nis equal to 0.5. We choose a confidence level of 99%; that is, we will\nreject the null hypothesis in favor of the alternative if the p-value is\nless than 0.01.\n\nWhen testing random variates from the standard uniform distribution, which\nhas a mean of 0.5, we expect the data to be consistent with the null\nhypothesis most of the time.\n",
            "metadata": {}
        },
        {
            "id": "e3a2c644",
            "cell_type": "code",
            "metadata": {},
            "execution_count": null,
            "source": "import numpy as np\nfrom scipy import stats\nrng = np.random.default_rng()\nrvs = stats.uniform.rvs(size=50, random_state=rng)\nstats.ttest_1samp(rvs, popmean=0.5)",
            "outputs": [
                {
                    "output_type": "execute_result",
                    "metadata": {},
                    "data": {
                        "text/plain": "TtestResult(statistic=2.456308468440, pvalue=0.017628209047638, df=49)"
                    },
                    "execution_count": null
                }
            ]
        },
        {
            "id": "3907b648",
            "cell_type": "markdown",
            "source": "As expected, the p-value of 0.017 is not below our threshold of 0.01, so\nwe cannot reject the null hypothesis.\n\nWhen testing data from the standard *normal* distribution, which has a mean\nof 0, we would expect the null hypothesis to be rejected.\n",
            "metadata": {}
        },
        {
            "id": "0fb870da",
            "cell_type": "code",
            "metadata": {},
            "execution_count": null,
            "source": "rvs = stats.norm.rvs(size=50, random_state=rng)\nstats.ttest_1samp(rvs, popmean=0.5)",
            "outputs": [
                {
                    "output_type": "execute_result",
                    "metadata": {},
                    "data": {
                        "text/plain": "TtestResult(statistic=-7.433605518875, pvalue=1.416760157221e-09, df=49)"
                    },
                    "execution_count": null
                }
            ]
        },
        {
            "id": "594f7bd6",
            "cell_type": "markdown",
            "source": "Indeed, the p-value is lower than our threshold of 0.01, so we reject the\nnull hypothesis in favor of the default \"two-sided\" alternative: the mean\nof the population is *not* equal to 0.5.\n\nHowever, suppose we were to test the null hypothesis against the\none-sided alternative that the mean of the population is *greater* than\n0.5. Since the mean of the standard normal is less than 0.5, we would not\nexpect the null hypothesis to be rejected.\n",
            "metadata": {}
        },
        {
            "id": "b62024f7",
            "cell_type": "code",
            "metadata": {},
            "execution_count": null,
            "source": "stats.ttest_1samp(rvs, popmean=0.5, alternative='greater')",
            "outputs": [
                {
                    "output_type": "execute_result",
                    "metadata": {},
                    "data": {
                        "text/plain": "TtestResult(statistic=-7.433605518875, pvalue=0.99999999929, df=49)"
                    },
                    "execution_count": null
                }
            ]
        },
        {
            "id": "2f55ac22",
            "cell_type": "markdown",
            "source": "Unsurprisingly, with a p-value greater than our threshold, we would not\nreject the null hypothesis.\n\nNote that when working with a confidence level of 99%, a true null\nhypothesis will be rejected approximately 1% of the time.\n",
            "metadata": {}
        },
        {
            "id": "90087ac0",
            "cell_type": "code",
            "metadata": {},
            "execution_count": null,
            "source": "rvs = stats.uniform.rvs(size=(100, 50), random_state=rng)\nres = stats.ttest_1samp(rvs, popmean=0.5, axis=1)\nnp.sum(res.pvalue < 0.01)",
            "outputs": [
                {
                    "output_type": "execute_result",
                    "metadata": {},
                    "data": {
                        "text/plain": "1"
                    },
                    "execution_count": null
                }
            ]
        },
        {
            "id": "57e58972",
            "cell_type": "markdown",
            "source": "Indeed, even though all 100 samples above were drawn from the standard\nuniform distribution, which *does* have a population mean of 0.5, we would\nmistakenly reject the null hypothesis for one of them.\n\n`ttest_1samp` can also compute a confidence interval around the population\nmean.\n",
            "metadata": {}
        },
        {
            "id": "bdf3736d",
            "cell_type": "code",
            "metadata": {},
            "execution_count": null,
            "source": "rvs = stats.norm.rvs(size=50, random_state=rng)\nres = stats.ttest_1samp(rvs, popmean=0)\nci = res.confidence_interval(confidence_level=0.95)\nci",
            "outputs": [
                {
                    "output_type": "execute_result",
                    "metadata": {},
                    "data": {
                        "text/plain": "ConfidenceInterval(low=-0.3193887540880017, high=0.2898583388980972)"
                    },
                    "execution_count": null
                }
            ]
        },
        {
            "id": "e62190f0",
            "cell_type": "markdown",
            "source": "The bounds of the 95% confidence interval are the\nminimum and maximum values of the parameter `popmean` for which the\np-value of the test would be 0.05.\n",
            "metadata": {}
        },
        {
            "id": "8326712e",
            "cell_type": "code",
            "metadata": {},
            "execution_count": null,
            "source": "res = stats.ttest_1samp(rvs, popmean=ci.low)\nnp.testing.assert_allclose(res.pvalue, 0.05)\nres = stats.ttest_1samp(rvs, popmean=ci.high)\nnp.testing.assert_allclose(res.pvalue, 0.05)",
            "outputs": []
        },
        {
            "id": "a18e1ebb",
            "cell_type": "markdown",
            "source": "Under certain assumptions about the population from which a sample\nis drawn, the confidence interval with confidence level 95% is expected\nto contain the true population mean in 95% of sample replications.\n",
            "metadata": {}
        },
        {
            "id": "f43a46a9",
            "cell_type": "code",
            "metadata": {},
            "execution_count": null,
            "source": "rvs = stats.norm.rvs(size=(50, 1000), loc=1, random_state=rng)\nres = stats.ttest_1samp(rvs, popmean=0)\nci = res.confidence_interval()\ncontains_pop_mean = (ci.low < 1) & (ci.high > 1)\ncontains_pop_mean.sum()",
            "outputs": [
                {
                    "output_type": "execute_result",
                    "metadata": {},
                    "data": {
                        "text/plain": "953"
                    },
                    "execution_count": null
                }
            ]
        }
    ]
}