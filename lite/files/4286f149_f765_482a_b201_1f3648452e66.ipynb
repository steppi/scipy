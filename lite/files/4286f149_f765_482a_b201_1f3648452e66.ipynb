{
    "nbformat": 4,
    "nbformat_minor": 5,
    "metadata": {
        "kernelspec": {
            "display_name": "Python",
            "language": "python",
            "name": "python"
        },
        "language_info": {
            "name": "python"
        }
    },
    "cells": [
        {
            "id": "dbf2cd02",
            "cell_type": "markdown",
            "source": "<div class='alert alert-warning'>\n\nSciPy's interactive examples with Jupyterlite are experimental and may not always work as expected. Execution of cells containing imports may result in large downloads (up to 60MB of content for the first import from SciPy). Load times when importing from SciPy may take roughly 10-20 seconds. If you notice any problems, feel free to open an [issue](https://github.com/scipy/scipy/issues/new/choose).\n\n</div>",
            "metadata": {}
        },
        {
            "id": "2e4e03af",
            "cell_type": "code",
            "metadata": {},
            "execution_count": null,
            "source": "import numpy as np\nfrom scipy.optimize import quadratic_assignment\nA = np.array([[0, 80, 150, 170], [80, 0, 130, 100],\n              [150, 130, 0, 120], [170, 100, 120, 0]])\nB = np.array([[0, 5, 2, 7], [0, 0, 3, 8],\n              [0, 0, 0, 3], [0, 0, 0, 0]])\nres = quadratic_assignment(A, B)\nprint(res)",
            "outputs": [
                {
                    "output_type": "execute_result",
                    "metadata": {},
                    "data": {
                        "text/plain": "     fun: 3260\n col_ind: [0 3 2 1]\n     nit: 9"
                    },
                    "execution_count": null
                }
            ]
        },
        {
            "id": "f597b3b8",
            "cell_type": "markdown",
            "source": "The see the relationship between the returned ``col_ind`` and ``fun``,\nuse ``col_ind`` to form the best permutation matrix found, then evaluate\nthe objective function $f(P) = trace(A^T P B P^T )$.\n",
            "metadata": {}
        },
        {
            "id": "b63ccb32",
            "cell_type": "code",
            "metadata": {},
            "execution_count": null,
            "source": "perm = res['col_ind']\nP = np.eye(len(A), dtype=int)[perm]\nfun = np.trace(A.T @ P @ B @ P.T)\nprint(fun)",
            "outputs": [
                {
                    "output_type": "execute_result",
                    "metadata": {},
                    "data": {
                        "text/plain": "3260"
                    },
                    "execution_count": null
                }
            ]
        },
        {
            "id": "21cb3c0f",
            "cell_type": "markdown",
            "source": "Alternatively, to avoid constructing the permutation matrix explicitly,\ndirectly permute the rows and columns of the distance matrix.\n",
            "metadata": {}
        },
        {
            "id": "00c68cdc",
            "cell_type": "code",
            "metadata": {},
            "execution_count": null,
            "source": "fun = np.trace(A.T @ B[perm][:, perm])\nprint(fun)",
            "outputs": [
                {
                    "output_type": "execute_result",
                    "metadata": {},
                    "data": {
                        "text/plain": "3260"
                    },
                    "execution_count": null
                }
            ]
        },
        {
            "id": "e985025e",
            "cell_type": "markdown",
            "source": "Although not guaranteed in general, ``quadratic_assignment`` happens to\nhave found the globally optimal solution.\n",
            "metadata": {}
        },
        {
            "id": "0d56a6bd",
            "cell_type": "code",
            "metadata": {},
            "execution_count": null,
            "source": "from itertools import permutations\nperm_opt, fun_opt = None, np.inf\nfor perm in permutations([0, 1, 2, 3]):\n    perm = np.array(perm)\n    fun = np.trace(A.T @ B[perm][:, perm])\n    if fun < fun_opt:\n        fun_opt, perm_opt = fun, perm\nprint(np.array_equal(perm_opt, res['col_ind']))",
            "outputs": [
                {
                    "output_type": "execute_result",
                    "metadata": {},
                    "data": {
                        "text/plain": "True"
                    },
                    "execution_count": null
                }
            ]
        },
        {
            "id": "1570643d",
            "cell_type": "markdown",
            "source": "Here is an example for which the default method,\n:ref:`'faq' <optimize.qap-faq>`, does not find the global optimum.\n",
            "metadata": {}
        },
        {
            "id": "cfb1189c",
            "cell_type": "code",
            "metadata": {},
            "execution_count": null,
            "source": "A = np.array([[0, 5, 8, 6], [5, 0, 5, 1],\n              [8, 5, 0, 2], [6, 1, 2, 0]])\nB = np.array([[0, 1, 8, 4], [1, 0, 5, 2],\n              [8, 5, 0, 5], [4, 2, 5, 0]])\nres = quadratic_assignment(A, B)\nprint(res)",
            "outputs": [
                {
                    "output_type": "execute_result",
                    "metadata": {},
                    "data": {
                        "text/plain": "     fun: 178\n col_ind: [1 0 3 2]\n     nit: 13"
                    },
                    "execution_count": null
                }
            ]
        },
        {
            "id": "dc86251f",
            "cell_type": "markdown",
            "source": "If accuracy is important, consider using  :ref:`'2opt' <optimize.qap-2opt>`\nto refine the solution.\n",
            "metadata": {}
        },
        {
            "id": "bcd90398",
            "cell_type": "code",
            "metadata": {},
            "execution_count": null,
            "source": "guess = np.array([np.arange(len(A)), res.col_ind]).T\nres = quadratic_assignment(A, B, method=\"2opt\",\n                           options = {'partial_guess': guess})\nprint(res)",
            "outputs": [
                {
                    "output_type": "execute_result",
                    "metadata": {},
                    "data": {
                        "text/plain": "     fun: 176\n col_ind: [1 2 3 0]\n     nit: 17"
                    },
                    "execution_count": null
                }
            ]
        }
    ]
}