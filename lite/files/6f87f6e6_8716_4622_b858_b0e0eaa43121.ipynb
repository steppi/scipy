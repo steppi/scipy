{
    "nbformat": 4,
    "nbformat_minor": 5,
    "metadata": {
        "kernelspec": {
            "display_name": "Python",
            "language": "python",
            "name": "python"
        },
        "language_info": {
            "name": "python"
        }
    },
    "cells": [
        {
            "id": "4263f224",
            "cell_type": "markdown",
            "source": "<div class='alert alert-warning'>\n\nSciPy's interactive examples with Jupyterlite are experimental and may not always work as expected. Execution of cells containing imports may result in large downloads (up to 60MB of content for the first import from SciPy). Load times when importing from SciPy may take roughly 10-20 seconds. If you notice any problems, feel free to open an [issue](https://github.com/scipy/scipy/issues/new/choose).\n\n</div>",
            "metadata": {}
        },
        {
            "id": "f2353bc2",
            "cell_type": "code",
            "metadata": {},
            "execution_count": null,
            "source": "import numpy as np\nfrom scipy.stats import zipfian\nimport matplotlib.pyplot as plt\nfig, ax = plt.subplots(1, 1)",
            "outputs": []
        },
        {
            "id": "521cb0c2",
            "cell_type": "markdown",
            "source": "Calculate the first four moments:\n",
            "metadata": {}
        },
        {
            "id": "a55f557c",
            "cell_type": "code",
            "metadata": {},
            "execution_count": null,
            "source": "a, n = 1.25, 10\nmean, var, skew, kurt = zipfian.stats(a, n, moments='mvsk')",
            "outputs": []
        },
        {
            "id": "a1b6e60c",
            "cell_type": "markdown",
            "source": "Display the probability mass function (``pmf``):\n",
            "metadata": {}
        },
        {
            "id": "35862a98",
            "cell_type": "code",
            "metadata": {},
            "execution_count": null,
            "source": "x = np.arange(zipfian.ppf(0.01, a, n),\n              zipfian.ppf(0.99, a, n))\nax.plot(x, zipfian.pmf(x, a, n), 'bo', ms=8, label='zipfian pmf')\nax.vlines(x, 0, zipfian.pmf(x, a, n), colors='b', lw=5, alpha=0.5)",
            "outputs": []
        },
        {
            "id": "8a041526",
            "cell_type": "markdown",
            "source": "Alternatively, the distribution object can be called (as a function)\nto fix the shape and location. This returns a \"frozen\" RV object holding\nthe given parameters fixed.\n\nFreeze the distribution and display the frozen ``pmf``:\n",
            "metadata": {}
        },
        {
            "id": "2a0a1966",
            "cell_type": "code",
            "metadata": {},
            "execution_count": null,
            "source": "rv = zipfian(a, n)\nax.vlines(x, 0, rv.pmf(x), colors='k', linestyles='-', lw=1,\n        label='frozen pmf')\nax.legend(loc='best', frameon=False)\nplt.show()",
            "outputs": []
        },
        {
            "id": "b3d62be0",
            "cell_type": "markdown",
            "source": "Check accuracy of ``cdf`` and ``ppf``:\n",
            "metadata": {}
        },
        {
            "id": "3e4cde7f",
            "cell_type": "code",
            "metadata": {},
            "execution_count": null,
            "source": "prob = zipfian.cdf(x, a, n)\nnp.allclose(x, zipfian.ppf(prob, a, n))",
            "outputs": [
                {
                    "output_type": "execute_result",
                    "metadata": {},
                    "data": {
                        "text/plain": "True"
                    },
                    "execution_count": null
                }
            ]
        },
        {
            "id": "107b3c29",
            "cell_type": "markdown",
            "source": "Generate random numbers:\n",
            "metadata": {}
        },
        {
            "id": "e9218ffa",
            "cell_type": "code",
            "metadata": {},
            "execution_count": null,
            "source": "r = zipfian.rvs(a, n, size=1000)",
            "outputs": []
        },
        {
            "id": "04d13276",
            "cell_type": "markdown",
            "source": "Confirm that `zipfian` reduces to `zipf` for large `n`, `a > 1`.\n",
            "metadata": {}
        },
        {
            "id": "e0edd6ff",
            "cell_type": "code",
            "metadata": {},
            "execution_count": null,
            "source": "import numpy as np\nfrom scipy.stats import zipf, zipfian\nk = np.arange(11)\nnp.allclose(zipfian.pmf(k, a=3.5, n=10000000), zipf.pmf(k, a=3.5))",
            "outputs": [
                {
                    "output_type": "execute_result",
                    "metadata": {},
                    "data": {
                        "text/plain": "True"
                    },
                    "execution_count": null
                }
            ]
        }
    ]
}