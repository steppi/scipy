{
    "nbformat": 4,
    "nbformat_minor": 5,
    "metadata": {
        "kernelspec": {
            "display_name": "Python",
            "language": "python",
            "name": "python"
        },
        "language_info": {
            "name": "python"
        }
    },
    "cells": [
        {
            "id": "902cdb85",
            "cell_type": "markdown",
            "source": "<div class='alert alert-warning'>\n\nSciPy's interactive examples with Jupyterlite are experimental and may not always work as expected. Execution of cells containing imports may result in large downloads (up to 60MB of content for the first import from SciPy). Load times when importing from SciPy may take roughly 10-20 seconds. If you notice any problems, feel free to open an [issue](https://github.com/scipy/scipy/issues/new/choose).\n\n</div>",
            "metadata": {}
        },
        {
            "id": "b0c059d4",
            "cell_type": "code",
            "metadata": {},
            "execution_count": null,
            "source": "import numpy as np\nfrom scipy.stats import planck\nimport matplotlib.pyplot as plt\nfig, ax = plt.subplots(1, 1)",
            "outputs": []
        },
        {
            "id": "d3a5cb14",
            "cell_type": "markdown",
            "source": "Calculate the first four moments:\n",
            "metadata": {}
        },
        {
            "id": "dc9a9186",
            "cell_type": "code",
            "metadata": {},
            "execution_count": null,
            "source": "lambda_ = 0.51\nmean, var, skew, kurt = planck.stats(lambda_, moments='mvsk')",
            "outputs": []
        },
        {
            "id": "dfcb5ff3",
            "cell_type": "markdown",
            "source": "Display the probability mass function (``pmf``):\n",
            "metadata": {}
        },
        {
            "id": "1947734b",
            "cell_type": "code",
            "metadata": {},
            "execution_count": null,
            "source": "x = np.arange(planck.ppf(0.01, lambda_),\n              planck.ppf(0.99, lambda_))\nax.plot(x, planck.pmf(x, lambda_), 'bo', ms=8, label='planck pmf')\nax.vlines(x, 0, planck.pmf(x, lambda_), colors='b', lw=5, alpha=0.5)",
            "outputs": []
        },
        {
            "id": "0f09e327",
            "cell_type": "markdown",
            "source": "Alternatively, the distribution object can be called (as a function)\nto fix the shape and location. This returns a \"frozen\" RV object holding\nthe given parameters fixed.\n\nFreeze the distribution and display the frozen ``pmf``:\n",
            "metadata": {}
        },
        {
            "id": "f71d6ae7",
            "cell_type": "code",
            "metadata": {},
            "execution_count": null,
            "source": "rv = planck(lambda_)\nax.vlines(x, 0, rv.pmf(x), colors='k', linestyles='-', lw=1,\n        label='frozen pmf')\nax.legend(loc='best', frameon=False)\nplt.show()",
            "outputs": []
        },
        {
            "id": "60254910",
            "cell_type": "markdown",
            "source": "Check accuracy of ``cdf`` and ``ppf``:\n",
            "metadata": {}
        },
        {
            "id": "5dcd25ec",
            "cell_type": "code",
            "metadata": {},
            "execution_count": null,
            "source": "prob = planck.cdf(x, lambda_)\nnp.allclose(x, planck.ppf(prob, lambda_))",
            "outputs": [
                {
                    "output_type": "execute_result",
                    "metadata": {},
                    "data": {
                        "text/plain": "True"
                    },
                    "execution_count": null
                }
            ]
        },
        {
            "id": "b3131ba1",
            "cell_type": "markdown",
            "source": "Generate random numbers:\n",
            "metadata": {}
        },
        {
            "id": "57c4f19d",
            "cell_type": "code",
            "metadata": {},
            "execution_count": null,
            "source": "r = planck.rvs(lambda_, size=1000)",
            "outputs": []
        }
    ]
}