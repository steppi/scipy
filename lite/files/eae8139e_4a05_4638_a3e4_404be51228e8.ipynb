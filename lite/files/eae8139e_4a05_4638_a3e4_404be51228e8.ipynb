{
    "nbformat": 4,
    "nbformat_minor": 5,
    "metadata": {
        "kernelspec": {
            "display_name": "Python",
            "language": "python",
            "name": "python"
        },
        "language_info": {
            "name": "python"
        }
    },
    "cells": [
        {
            "id": "3cb80a8e",
            "cell_type": "markdown",
            "source": "<div class='alert alert-warning'>\n\nSciPy's interactive examples with Jupyterlite are experimental and may not always work as expected. Execution of cells containing imports may result in large downloads (up to 60MB of content for the first import from SciPy). Load times when importing from SciPy may take roughly 10-20 seconds. If you notice any problems, feel free to open an [issue](https://github.com/scipy/scipy/issues/new/choose).\n\n</div>",
            "metadata": {}
        },
        {
            "id": "cef2cfda",
            "cell_type": "markdown",
            "source": "Let $B(a, b)$ be the `beta` function.\n",
            "metadata": {}
        },
        {
            "id": "9e59b8a2",
            "cell_type": "code",
            "metadata": {},
            "execution_count": null,
            "source": "import scipy.special as sc",
            "outputs": []
        },
        {
            "id": "31d8b5c0",
            "cell_type": "markdown",
            "source": "The coefficient in terms of `gamma` is equal to\n$1/B(a, b)$. Also, when $x=1$\nthe integral is equal to $B(a, b)$.\nTherefore, $I_{x=1}(a, b) = 1$ for any $a, b$.\n",
            "metadata": {}
        },
        {
            "id": "2c776542",
            "cell_type": "code",
            "metadata": {},
            "execution_count": null,
            "source": "sc.betainc(0.2, 3.5, 1.0)",
            "outputs": [
                {
                    "output_type": "execute_result",
                    "metadata": {},
                    "data": {
                        "text/plain": "1.0"
                    },
                    "execution_count": null
                }
            ]
        },
        {
            "id": "c6a03074",
            "cell_type": "markdown",
            "source": "It satisfies\n$I_x(a, b) = x^a F(a, 1-b, a+1, x)/ (aB(a, b))$,\nwhere $F$ is the hypergeometric function `hyp2f1`:\n",
            "metadata": {}
        },
        {
            "id": "d8370d64",
            "cell_type": "code",
            "metadata": {},
            "execution_count": null,
            "source": "a, b, x = 1.4, 3.1, 0.5\nx**a * sc.hyp2f1(a, 1 - b, a + 1, x)/(a * sc.beta(a, b))",
            "outputs": [
                {
                    "output_type": "execute_result",
                    "metadata": {},
                    "data": {
                        "text/plain": "0.8148904036225295"
                    },
                    "execution_count": null
                }
            ]
        },
        {
            "id": "068e0ff5",
            "cell_type": "code",
            "metadata": {},
            "execution_count": null,
            "source": "sc.betainc(a, b, x)",
            "outputs": [
                {
                    "output_type": "execute_result",
                    "metadata": {},
                    "data": {
                        "text/plain": "0.8148904036225296"
                    },
                    "execution_count": null
                }
            ]
        },
        {
            "id": "23360afb",
            "cell_type": "markdown",
            "source": "This functions satisfies the relationship\n$I_x(a, b) = 1 - I_{1-x}(b, a)$:\n",
            "metadata": {}
        },
        {
            "id": "c9130305",
            "cell_type": "code",
            "metadata": {},
            "execution_count": null,
            "source": "sc.betainc(2.2, 3.1, 0.4)",
            "outputs": [
                {
                    "output_type": "execute_result",
                    "metadata": {},
                    "data": {
                        "text/plain": "0.49339638807619446"
                    },
                    "execution_count": null
                }
            ]
        },
        {
            "id": "fd606011",
            "cell_type": "code",
            "metadata": {},
            "execution_count": null,
            "source": "1 - sc.betainc(3.1, 2.2, 1 - 0.4)",
            "outputs": [
                {
                    "output_type": "execute_result",
                    "metadata": {},
                    "data": {
                        "text/plain": "0.49339638807619446"
                    },
                    "execution_count": null
                }
            ]
        }
    ]
}