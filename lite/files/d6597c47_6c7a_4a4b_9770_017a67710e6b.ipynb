{
    "nbformat": 4,
    "nbformat_minor": 5,
    "metadata": {
        "kernelspec": {
            "display_name": "Python",
            "language": "python",
            "name": "python"
        },
        "language_info": {
            "name": "python"
        }
    },
    "cells": [
        {
            "id": "aaa10a58",
            "cell_type": "markdown",
            "source": "<div class='alert alert-warning'>\n\nSciPy's interactive examples with Jupyterlite are experimental and may not always work as expected. Execution of cells containing imports may result in large downloads (up to 60MB of content for the first import from SciPy). Load times when importing from SciPy may take roughly 10-20 seconds. If you notice any problems, feel free to open an [issue](https://github.com/scipy/scipy/issues/new/choose).\n\n</div>",
            "metadata": {}
        },
        {
            "id": "e29c1af7",
            "cell_type": "code",
            "metadata": {},
            "execution_count": null,
            "source": "import numpy as np\nfrom scipy import stats\nrng = np.random.default_rng()",
            "outputs": []
        },
        {
            "id": "494d0d93",
            "cell_type": "markdown",
            "source": "Test with sample with identical means:\n",
            "metadata": {}
        },
        {
            "id": "fa5dda78",
            "cell_type": "code",
            "metadata": {},
            "execution_count": null,
            "source": "rvs1 = stats.norm.rvs(loc=5, scale=10, size=500, random_state=rng)\nrvs2 = stats.norm.rvs(loc=5, scale=10, size=500, random_state=rng)\nstats.ttest_ind(rvs1, rvs2)",
            "outputs": [
                {
                    "output_type": "execute_result",
                    "metadata": {},
                    "data": {
                        "text/plain": "Ttest_indResult(statistic=-0.4390847099199348, pvalue=0.6606952038870015)"
                    },
                    "execution_count": null
                }
            ]
        },
        {
            "id": "39908b58",
            "cell_type": "code",
            "metadata": {},
            "execution_count": null,
            "source": "stats.ttest_ind(rvs1, rvs2, equal_var=False)",
            "outputs": [
                {
                    "output_type": "execute_result",
                    "metadata": {},
                    "data": {
                        "text/plain": "Ttest_indResult(statistic=-0.4390847099199348, pvalue=0.6606952553131064)"
                    },
                    "execution_count": null
                }
            ]
        },
        {
            "id": "9186cfad",
            "cell_type": "markdown",
            "source": "`ttest_ind` underestimates p for unequal variances:\n",
            "metadata": {}
        },
        {
            "id": "d377ed65",
            "cell_type": "code",
            "metadata": {},
            "execution_count": null,
            "source": "rvs3 = stats.norm.rvs(loc=5, scale=20, size=500, random_state=rng)\nstats.ttest_ind(rvs1, rvs3)",
            "outputs": [
                {
                    "output_type": "execute_result",
                    "metadata": {},
                    "data": {
                        "text/plain": "Ttest_indResult(statistic=-1.6370984482905417, pvalue=0.1019251574705033)"
                    },
                    "execution_count": null
                }
            ]
        },
        {
            "id": "a86303a8",
            "cell_type": "code",
            "metadata": {},
            "execution_count": null,
            "source": "stats.ttest_ind(rvs1, rvs3, equal_var=False)",
            "outputs": [
                {
                    "output_type": "execute_result",
                    "metadata": {},
                    "data": {
                        "text/plain": "Ttest_indResult(statistic=-1.637098448290542, pvalue=0.10202110497954867)"
                    },
                    "execution_count": null
                }
            ]
        },
        {
            "id": "039a060b",
            "cell_type": "markdown",
            "source": "When ``n1 != n2``, the equal variance t-statistic is no longer equal to the\nunequal variance t-statistic:\n",
            "metadata": {}
        },
        {
            "id": "af2f5ce1",
            "cell_type": "code",
            "metadata": {},
            "execution_count": null,
            "source": "rvs4 = stats.norm.rvs(loc=5, scale=20, size=100, random_state=rng)\nstats.ttest_ind(rvs1, rvs4)",
            "outputs": [
                {
                    "output_type": "execute_result",
                    "metadata": {},
                    "data": {
                        "text/plain": "Ttest_indResult(statistic=-1.9481646859513422, pvalue=0.05186270935842703)"
                    },
                    "execution_count": null
                }
            ]
        },
        {
            "id": "6b55491b",
            "cell_type": "code",
            "metadata": {},
            "execution_count": null,
            "source": "stats.ttest_ind(rvs1, rvs4, equal_var=False)",
            "outputs": [
                {
                    "output_type": "execute_result",
                    "metadata": {},
                    "data": {
                        "text/plain": "Ttest_indResult(statistic=-1.3146566100751664, pvalue=0.1913495266513811)"
                    },
                    "execution_count": null
                }
            ]
        },
        {
            "id": "a415b16a",
            "cell_type": "markdown",
            "source": "T-test with different means, variance, and n:\n",
            "metadata": {}
        },
        {
            "id": "0d4540f2",
            "cell_type": "code",
            "metadata": {},
            "execution_count": null,
            "source": "rvs5 = stats.norm.rvs(loc=8, scale=20, size=100, random_state=rng)\nstats.ttest_ind(rvs1, rvs5)",
            "outputs": [
                {
                    "output_type": "execute_result",
                    "metadata": {},
                    "data": {
                        "text/plain": "Ttest_indResult(statistic=-2.8415950600298774, pvalue=0.0046418707568707885)"
                    },
                    "execution_count": null
                }
            ]
        },
        {
            "id": "fe855f61",
            "cell_type": "code",
            "metadata": {},
            "execution_count": null,
            "source": "stats.ttest_ind(rvs1, rvs5, equal_var=False)",
            "outputs": [
                {
                    "output_type": "execute_result",
                    "metadata": {},
                    "data": {
                        "text/plain": "Ttest_indResult(statistic=-1.8686598649188084, pvalue=0.06434714193919686)"
                    },
                    "execution_count": null
                }
            ]
        },
        {
            "id": "ea67d822",
            "cell_type": "markdown",
            "source": "When performing a permutation test, more permutations typically yields\nmore accurate results. Use a ``np.random.Generator`` to ensure\nreproducibility:\n",
            "metadata": {}
        },
        {
            "id": "17e60e3b",
            "cell_type": "code",
            "metadata": {},
            "execution_count": null,
            "source": "stats.ttest_ind(rvs1, rvs5, permutations=10000,\n                random_state=rng)",
            "outputs": [
                {
                    "output_type": "execute_result",
                    "metadata": {},
                    "data": {
                        "text/plain": "Ttest_indResult(statistic=-2.8415950600298774, pvalue=0.0052994700529947)"
                    },
                    "execution_count": null
                }
            ]
        },
        {
            "id": "2c77c526",
            "cell_type": "markdown",
            "source": "Take these two samples, one of which has an extreme tail.\n",
            "metadata": {}
        },
        {
            "id": "0f53ddfd",
            "cell_type": "code",
            "metadata": {},
            "execution_count": null,
            "source": "a = (56, 128.6, 12, 123.8, 64.34, 78, 763.3)\nb = (1.1, 2.9, 4.2)",
            "outputs": []
        },
        {
            "id": "e2191dca",
            "cell_type": "markdown",
            "source": "Use the `trim` keyword to perform a trimmed (Yuen) t-test. For example,\nusing 20% trimming, ``trim=.2``, the test will reduce the impact of one\n(``np.floor(trim*len(a))``) element from each tail of sample `a`. It will\nhave no effect on sample `b` because ``np.floor(trim*len(b))`` is 0.\n",
            "metadata": {}
        },
        {
            "id": "6d74d104",
            "cell_type": "code",
            "metadata": {},
            "execution_count": null,
            "source": "stats.ttest_ind(a, b, trim=.2)",
            "outputs": [
                {
                    "output_type": "execute_result",
                    "metadata": {},
                    "data": {
                        "text/plain": "Ttest_indResult(statistic=3.4463884028073513,\n                pvalue=0.01369338726499547)"
                    },
                    "execution_count": null
                }
            ]
        }
    ]
}