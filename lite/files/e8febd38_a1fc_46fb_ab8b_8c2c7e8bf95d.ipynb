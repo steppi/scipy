{
    "nbformat": 4,
    "nbformat_minor": 5,
    "metadata": {
        "kernelspec": {
            "display_name": "Python",
            "language": "python",
            "name": "python"
        },
        "language_info": {
            "name": "python"
        }
    },
    "cells": [
        {
            "id": "38891246",
            "cell_type": "markdown",
            "source": "<div class='alert alert-warning'>\n\nSciPy's interactive examples with Jupyterlite are experimental and may not always work as expected. Execution of cells containing imports may result in large downloads (up to 60MB of content for the first import from SciPy). Load times when importing from SciPy may take roughly 10-20 seconds. If you notice any problems, feel free to open an [issue](https://github.com/scipy/scipy/issues/new/choose).\n\n</div>",
            "metadata": {}
        },
        {
            "id": "ac6b18bf",
            "cell_type": "code",
            "metadata": {},
            "execution_count": null,
            "source": "import numpy as np\nfrom scipy.stats import loguniform\nimport matplotlib.pyplot as plt\nfig, ax = plt.subplots(1, 1)",
            "outputs": []
        },
        {
            "id": "31a1cc39",
            "cell_type": "markdown",
            "source": "Calculate the first four moments:\n",
            "metadata": {}
        },
        {
            "id": "1a59b9d1",
            "cell_type": "code",
            "metadata": {},
            "execution_count": null,
            "source": "a, b = 0.01, 1.25\nmean, var, skew, kurt = loguniform.stats(a, b, moments='mvsk')",
            "outputs": []
        },
        {
            "id": "b54cf445",
            "cell_type": "markdown",
            "source": "Display the probability density function (``pdf``):\n",
            "metadata": {}
        },
        {
            "id": "32a410a6",
            "cell_type": "code",
            "metadata": {},
            "execution_count": null,
            "source": "x = np.linspace(loguniform.ppf(0.01, a, b),\n                loguniform.ppf(0.99, a, b), 100)\nax.plot(x, loguniform.pdf(x, a, b),\n       'r-', lw=5, alpha=0.6, label='loguniform pdf')",
            "outputs": []
        },
        {
            "id": "0f0fecfb",
            "cell_type": "markdown",
            "source": "Alternatively, the distribution object can be called (as a function)\nto fix the shape, location and scale parameters. This returns a \"frozen\"\nRV object holding the given parameters fixed.\n\nFreeze the distribution and display the frozen ``pdf``:\n",
            "metadata": {}
        },
        {
            "id": "a5996d70",
            "cell_type": "code",
            "metadata": {},
            "execution_count": null,
            "source": "rv = loguniform(a, b)\nax.plot(x, rv.pdf(x), 'k-', lw=2, label='frozen pdf')",
            "outputs": []
        },
        {
            "id": "02ab86bd",
            "cell_type": "markdown",
            "source": "Check accuracy of ``cdf`` and ``ppf``:\n",
            "metadata": {}
        },
        {
            "id": "89f58414",
            "cell_type": "code",
            "metadata": {},
            "execution_count": null,
            "source": "vals = loguniform.ppf([0.001, 0.5, 0.999], a, b)\nnp.allclose([0.001, 0.5, 0.999], loguniform.cdf(vals, a, b))",
            "outputs": [
                {
                    "output_type": "execute_result",
                    "metadata": {},
                    "data": {
                        "text/plain": "True"
                    },
                    "execution_count": null
                }
            ]
        },
        {
            "id": "1cc6b72a",
            "cell_type": "markdown",
            "source": "Generate random numbers:\n",
            "metadata": {}
        },
        {
            "id": "8d8dc58a",
            "cell_type": "code",
            "metadata": {},
            "execution_count": null,
            "source": "r = loguniform.rvs(a, b, size=1000)",
            "outputs": []
        },
        {
            "id": "d1e8f2e0",
            "cell_type": "markdown",
            "source": "And compare the histogram:\n",
            "metadata": {}
        },
        {
            "id": "91b32fef",
            "cell_type": "code",
            "metadata": {},
            "execution_count": null,
            "source": "ax.hist(r, density=True, bins='auto', histtype='stepfilled', alpha=0.2)\nax.set_xlim([x[0], x[-1]])\nax.legend(loc='best', frameon=False)\nplt.show()",
            "outputs": []
        },
        {
            "id": "a9a1b26b",
            "cell_type": "markdown",
            "source": "This doesn't show the equal probability of ``0.01``, ``0.1`` and\n``1``. This is best when the x-axis is log-scaled:\n",
            "metadata": {}
        },
        {
            "id": "e2bd6e8e",
            "cell_type": "code",
            "metadata": {},
            "execution_count": null,
            "source": "import numpy as np\nimport matplotlib.pyplot as plt\nfig, ax = plt.subplots(1, 1)\nax.hist(np.log10(r))\nax.set_ylabel(\"Frequency\")\nax.set_xlabel(\"Value of random variable\")\nax.xaxis.set_major_locator(plt.FixedLocator([-2, -1, 0]))\nticks = [\"$10^{{ {} }}$\".format(i) for i in [-2, -1, 0]]\nax.set_xticklabels(ticks)  # doctest: +SKIP\nplt.show()",
            "outputs": []
        },
        {
            "id": "f39dc3d8",
            "cell_type": "markdown",
            "source": "This random variable will be log-uniform regardless of the base chosen for\n``a`` and ``b``. Let's specify with base ``2`` instead:\n",
            "metadata": {}
        },
        {
            "id": "24268652",
            "cell_type": "code",
            "metadata": {},
            "execution_count": null,
            "source": "rvs = loguniform(2**-2, 2**0).rvs(size=1000)",
            "outputs": []
        },
        {
            "id": "3d6dcb35",
            "cell_type": "markdown",
            "source": "Values of ``1/4``, ``1/2`` and ``1`` are equally likely with this random\nvariable.  Here's the histogram:\n",
            "metadata": {}
        },
        {
            "id": "2317dc8a",
            "cell_type": "code",
            "metadata": {},
            "execution_count": null,
            "source": "fig, ax = plt.subplots(1, 1)\nax.hist(np.log2(rvs))\nax.set_ylabel(\"Frequency\")\nax.set_xlabel(\"Value of random variable\")\nax.xaxis.set_major_locator(plt.FixedLocator([-2, -1, 0]))\nticks = [\"$2^{{ {} }}$\".format(i) for i in [-2, -1, 0]]\nax.set_xticklabels(ticks)  # doctest: +SKIP\nplt.show()",
            "outputs": []
        }
    ]
}