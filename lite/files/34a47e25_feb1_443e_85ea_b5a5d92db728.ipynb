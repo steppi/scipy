{
    "nbformat": 4,
    "nbformat_minor": 5,
    "metadata": {
        "kernelspec": {
            "display_name": "Python",
            "language": "python",
            "name": "python"
        },
        "language_info": {
            "name": "python"
        }
    },
    "cells": [
        {
            "id": "bc3432a5",
            "cell_type": "markdown",
            "source": "<div class='alert alert-warning'>\n\nSciPy's interactive examples with Jupyterlite are experimental and may not always work as expected. Execution of cells containing imports may result in large downloads (up to 60MB of content for the first import from SciPy). Load times when importing from SciPy may take roughly 10-20 seconds. If you notice any problems, feel free to open an [issue](https://github.com/scipy/scipy/issues/new/choose).\n\n</div>",
            "metadata": {}
        },
        {
            "id": "d8455e2a",
            "cell_type": "code",
            "metadata": {},
            "execution_count": null,
            "source": "from scipy.cluster.vq import kmeans2\nimport matplotlib.pyplot as plt\nimport numpy as np",
            "outputs": []
        },
        {
            "id": "8d4c6892",
            "cell_type": "markdown",
            "source": "Create z, an array with shape (100, 2) containing a mixture of samples\nfrom three multivariate normal distributions.\n",
            "metadata": {}
        },
        {
            "id": "ca11d352",
            "cell_type": "code",
            "metadata": {},
            "execution_count": null,
            "source": "rng = np.random.default_rng()\na = rng.multivariate_normal([0, 6], [[2, 1], [1, 1.5]], size=45)\nb = rng.multivariate_normal([2, 0], [[1, -1], [-1, 3]], size=30)\nc = rng.multivariate_normal([6, 4], [[5, 0], [0, 1.2]], size=25)\nz = np.concatenate((a, b, c))\nrng.shuffle(z)",
            "outputs": []
        },
        {
            "id": "c21ee460",
            "cell_type": "markdown",
            "source": "Compute three clusters.\n",
            "metadata": {}
        },
        {
            "id": "7d4b8502",
            "cell_type": "code",
            "metadata": {},
            "execution_count": null,
            "source": "centroid, label = kmeans2(z, 3, minit='points')\ncentroid",
            "outputs": [
                {
                    "output_type": "execute_result",
                    "metadata": {},
                    "data": {
                        "text/plain": "array([[ 2.22274463, -0.61666946],  # may vary\n       [ 0.54069047,  5.86541444],\n       [ 6.73846769,  4.01991898]])"
                    },
                    "execution_count": null
                }
            ]
        },
        {
            "id": "e4612393",
            "cell_type": "markdown",
            "source": "How many points are in each cluster?\n",
            "metadata": {}
        },
        {
            "id": "c76f8861",
            "cell_type": "code",
            "metadata": {},
            "execution_count": null,
            "source": "counts = np.bincount(label)\ncounts",
            "outputs": [
                {
                    "output_type": "execute_result",
                    "metadata": {},
                    "data": {
                        "text/plain": "array([29, 51, 20])  # may vary"
                    },
                    "execution_count": null
                }
            ]
        },
        {
            "id": "6082564e",
            "cell_type": "markdown",
            "source": "Plot the clusters.\n",
            "metadata": {}
        },
        {
            "id": "fc34dfcb",
            "cell_type": "code",
            "metadata": {},
            "execution_count": null,
            "source": "w0 = z[label == 0]\nw1 = z[label == 1]\nw2 = z[label == 2]\nplt.plot(w0[:, 0], w0[:, 1], 'o', alpha=0.5, label='cluster 0')\nplt.plot(w1[:, 0], w1[:, 1], 'd', alpha=0.5, label='cluster 1')\nplt.plot(w2[:, 0], w2[:, 1], 's', alpha=0.5, label='cluster 2')\nplt.plot(centroid[:, 0], centroid[:, 1], 'k*', label='centroids')\nplt.axis('equal')\nplt.legend(shadow=True)\nplt.show()",
            "outputs": []
        }
    ]
}