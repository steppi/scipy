{
    "nbformat": 4,
    "nbformat_minor": 5,
    "metadata": {
        "kernelspec": {
            "display_name": "Python",
            "language": "python",
            "name": "python"
        },
        "language_info": {
            "name": "python"
        }
    },
    "cells": [
        {
            "id": "e816d30a",
            "cell_type": "markdown",
            "source": "<div class='alert alert-warning'>\n\nSciPy's interactive examples with Jupyterlite are experimental and may not always work as expected. Execution of cells containing imports may result in large downloads (up to 60MB of content for the first import from SciPy). Load times when importing from SciPy may take roughly 10-20 seconds. If you notice any problems, feel free to open an [issue](https://github.com/scipy/scipy/issues/new/choose).\n\n</div>",
            "metadata": {}
        },
        {
            "id": "5910cfd8",
            "cell_type": "code",
            "metadata": {},
            "execution_count": null,
            "source": "import numpy as np\nfrom scipy.stats import truncpareto\nimport matplotlib.pyplot as plt\nfig, ax = plt.subplots(1, 1)",
            "outputs": []
        },
        {
            "id": "3f3cca65",
            "cell_type": "markdown",
            "source": "Calculate the first four moments:\n",
            "metadata": {}
        },
        {
            "id": "e09a8819",
            "cell_type": "code",
            "metadata": {},
            "execution_count": null,
            "source": "b, c = 2, 5\nmean, var, skew, kurt = truncpareto.stats(b, c, moments='mvsk')",
            "outputs": []
        },
        {
            "id": "a58e5ebc",
            "cell_type": "markdown",
            "source": "Display the probability density function (``pdf``):\n",
            "metadata": {}
        },
        {
            "id": "e16571fd",
            "cell_type": "code",
            "metadata": {},
            "execution_count": null,
            "source": "x = np.linspace(truncpareto.ppf(0.01, b, c),\n                truncpareto.ppf(0.99, b, c), 100)\nax.plot(x, truncpareto.pdf(x, b, c),\n       'r-', lw=5, alpha=0.6, label='truncpareto pdf')",
            "outputs": []
        },
        {
            "id": "b65059dd",
            "cell_type": "markdown",
            "source": "Alternatively, the distribution object can be called (as a function)\nto fix the shape, location and scale parameters. This returns a \"frozen\"\nRV object holding the given parameters fixed.\n\nFreeze the distribution and display the frozen ``pdf``:\n",
            "metadata": {}
        },
        {
            "id": "14c40b65",
            "cell_type": "code",
            "metadata": {},
            "execution_count": null,
            "source": "rv = truncpareto(b, c)\nax.plot(x, rv.pdf(x), 'k-', lw=2, label='frozen pdf')",
            "outputs": []
        },
        {
            "id": "15febbc3",
            "cell_type": "markdown",
            "source": "Check accuracy of ``cdf`` and ``ppf``:\n",
            "metadata": {}
        },
        {
            "id": "effe3940",
            "cell_type": "code",
            "metadata": {},
            "execution_count": null,
            "source": "vals = truncpareto.ppf([0.001, 0.5, 0.999], b, c)\nnp.allclose([0.001, 0.5, 0.999], truncpareto.cdf(vals, b, c))",
            "outputs": [
                {
                    "output_type": "execute_result",
                    "metadata": {},
                    "data": {
                        "text/plain": "True"
                    },
                    "execution_count": null
                }
            ]
        },
        {
            "id": "e22f625a",
            "cell_type": "markdown",
            "source": "Generate random numbers:\n",
            "metadata": {}
        },
        {
            "id": "bf4eb9f9",
            "cell_type": "code",
            "metadata": {},
            "execution_count": null,
            "source": "r = truncpareto.rvs(b, c, size=1000)",
            "outputs": []
        },
        {
            "id": "a6bc2c8c",
            "cell_type": "markdown",
            "source": "And compare the histogram:\n",
            "metadata": {}
        },
        {
            "id": "964dd158",
            "cell_type": "code",
            "metadata": {},
            "execution_count": null,
            "source": "ax.hist(r, density=True, bins='auto', histtype='stepfilled', alpha=0.2)\nax.set_xlim([x[0], x[-1]])\nax.legend(loc='best', frameon=False)\nplt.show()",
            "outputs": []
        }
    ]
}