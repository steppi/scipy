{
    "nbformat": 4,
    "nbformat_minor": 5,
    "metadata": {
        "kernelspec": {
            "display_name": "Python",
            "language": "python",
            "name": "python"
        },
        "language_info": {
            "name": "python"
        }
    },
    "cells": [
        {
            "id": "808355a4",
            "cell_type": "markdown",
            "source": "<div class='alert alert-warning'>\n\nSciPy's interactive examples with Jupyterlite are experimental and may not always work as expected. Execution of cells containing imports may result in large downloads (up to 60MB of content for the first import from SciPy). Load times when importing from SciPy may take roughly 10-20 seconds. If you notice any problems, feel free to open an [issue](https://github.com/scipy/scipy/issues/new/choose).\n\n</div>",
            "metadata": {}
        },
        {
            "id": "8556afd0",
            "cell_type": "markdown",
            "source": "Compute the waveform with instantaneous frequency\n```\n\nf(t) = 0.025*t**3 - 0.36*t**2 + 1.25*t + 2\n\n```\nover the interval 0 <= t <= 10.\n",
            "metadata": {}
        },
        {
            "id": "0d464652",
            "cell_type": "code",
            "metadata": {},
            "execution_count": null,
            "source": "import numpy as np\nfrom scipy.signal import sweep_poly\np = np.poly1d([0.025, -0.36, 1.25, 2.0])\nt = np.linspace(0, 10, 5001)\nw = sweep_poly(t, p)",
            "outputs": []
        },
        {
            "id": "242b7c05",
            "cell_type": "markdown",
            "source": "Plot it:\n",
            "metadata": {}
        },
        {
            "id": "167697c8",
            "cell_type": "code",
            "metadata": {},
            "execution_count": null,
            "source": "import matplotlib.pyplot as plt\nplt.subplot(2, 1, 1)\nplt.plot(t, w)\nplt.title(\"Sweep Poly\\nwith frequency \" +\n          \"$f(t) = 0.025t^3 - 0.36t^2 + 1.25t + 2$\")\nplt.subplot(2, 1, 2)\nplt.plot(t, p(t), 'r', label='f(t)')\nplt.legend()\nplt.xlabel('t')\nplt.tight_layout()\nplt.show()",
            "outputs": []
        }
    ]
}