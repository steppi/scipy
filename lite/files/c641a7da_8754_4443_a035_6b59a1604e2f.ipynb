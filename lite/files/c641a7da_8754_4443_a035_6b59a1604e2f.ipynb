{
    "nbformat": 4,
    "nbformat_minor": 5,
    "metadata": {
        "kernelspec": {
            "display_name": "Python",
            "language": "python",
            "name": "python"
        },
        "language_info": {
            "name": "python"
        }
    },
    "cells": [
        {
            "id": "7ea41386",
            "cell_type": "markdown",
            "source": "<div class='alert alert-warning'>\n\nSciPy's interactive examples with Jupyterlite are experimental and may not always work as expected. Execution of cells containing imports may result in large downloads (up to 60MB of content for the first import from SciPy). Load times when importing from SciPy may take roughly 10-20 seconds. If you notice any problems, feel free to open an [issue](https://github.com/scipy/scipy/issues/new/choose).\n\n</div>",
            "metadata": {}
        },
        {
            "id": "ce2d4695",
            "cell_type": "code",
            "metadata": {},
            "execution_count": null,
            "source": "import numpy as np\nfrom scipy.stats import studentized_range\nimport matplotlib.pyplot as plt\nfig, ax = plt.subplots(1, 1)",
            "outputs": []
        },
        {
            "id": "165e02c0",
            "cell_type": "markdown",
            "source": "Calculate the first four moments:\n",
            "metadata": {}
        },
        {
            "id": "17a86bfa",
            "cell_type": "code",
            "metadata": {},
            "execution_count": null,
            "source": "k, df = 3, 10\nmean, var, skew, kurt = studentized_range.stats(k, df, moments='mvsk')",
            "outputs": []
        },
        {
            "id": "6317ab71",
            "cell_type": "markdown",
            "source": "Display the probability density function (``pdf``):\n",
            "metadata": {}
        },
        {
            "id": "df6eee89",
            "cell_type": "code",
            "metadata": {},
            "execution_count": null,
            "source": "x = np.linspace(studentized_range.ppf(0.01, k, df),\n                studentized_range.ppf(0.99, k, df), 100)\nax.plot(x, studentized_range.pdf(x, k, df),\n        'r-', lw=5, alpha=0.6, label='studentized_range pdf')",
            "outputs": []
        },
        {
            "id": "72bccc28",
            "cell_type": "markdown",
            "source": "Alternatively, the distribution object can be called (as a function)\nto fix the shape, location and scale parameters. This returns a \"frozen\"\nRV object holding the given parameters fixed.\n\nFreeze the distribution and display the frozen ``pdf``:\n",
            "metadata": {}
        },
        {
            "id": "1786b31a",
            "cell_type": "code",
            "metadata": {},
            "execution_count": null,
            "source": "rv = studentized_range(k, df)\nax.plot(x, rv.pdf(x), 'k-', lw=2, label='frozen pdf')",
            "outputs": []
        },
        {
            "id": "e0022f55",
            "cell_type": "markdown",
            "source": "Check accuracy of ``cdf`` and ``ppf``:\n",
            "metadata": {}
        },
        {
            "id": "6675d1dc",
            "cell_type": "code",
            "metadata": {},
            "execution_count": null,
            "source": "vals = studentized_range.ppf([0.001, 0.5, 0.999], k, df)\nnp.allclose([0.001, 0.5, 0.999], studentized_range.cdf(vals, k, df))",
            "outputs": [
                {
                    "output_type": "execute_result",
                    "metadata": {},
                    "data": {
                        "text/plain": "True"
                    },
                    "execution_count": null
                }
            ]
        },
        {
            "id": "3d2282b0",
            "cell_type": "markdown",
            "source": "Rather than using (``studentized_range.rvs``) to generate random variates,\nwhich is very slow for this distribution, we can approximate the inverse\nCDF using an interpolator, and then perform inverse transform sampling\nwith this approximate inverse CDF.\n\nThis distribution has an infinite but thin right tail, so we focus our\nattention on the leftmost 99.9 percent.\n",
            "metadata": {}
        },
        {
            "id": "7e3feb5f",
            "cell_type": "code",
            "metadata": {},
            "execution_count": null,
            "source": "a, b = studentized_range.ppf([0, .999], k, df)\na, b",
            "outputs": [
                {
                    "output_type": "execute_result",
                    "metadata": {},
                    "data": {
                        "text/plain": "0, 7.41058083802274"
                    },
                    "execution_count": null
                }
            ]
        },
        {
            "id": "c4a4abf2",
            "cell_type": "code",
            "metadata": {},
            "execution_count": null,
            "source": "from scipy.interpolate import interp1d\nrng = np.random.default_rng()\nxs = np.linspace(a, b, 50)\ncdf = studentized_range.cdf(xs, k, df)",
            "outputs": [
                {
                    "output_type": "execute_result",
                    "metadata": {},
                    "data": {
                        "text/plain": "# Create an interpolant of the inverse CDF"
                    },
                    "execution_count": null
                }
            ]
        },
        {
            "id": "c831927f",
            "cell_type": "code",
            "metadata": {},
            "execution_count": null,
            "source": "ppf = interp1d(cdf, xs, fill_value='extrapolate')",
            "outputs": [
                {
                    "output_type": "execute_result",
                    "metadata": {},
                    "data": {
                        "text/plain": "# Perform inverse transform sampling using the interpolant"
                    },
                    "execution_count": null
                }
            ]
        },
        {
            "id": "0b2e0706",
            "cell_type": "code",
            "metadata": {},
            "execution_count": null,
            "source": "r = ppf(rng.uniform(size=1000))",
            "outputs": []
        },
        {
            "id": "36851fa6",
            "cell_type": "markdown",
            "source": "And compare the histogram:\n",
            "metadata": {}
        },
        {
            "id": "3224f6f2",
            "cell_type": "code",
            "metadata": {},
            "execution_count": null,
            "source": "ax.hist(r, density=True, histtype='stepfilled', alpha=0.2)\nax.legend(loc='best', frameon=False)\nplt.show()",
            "outputs": []
        }
    ]
}