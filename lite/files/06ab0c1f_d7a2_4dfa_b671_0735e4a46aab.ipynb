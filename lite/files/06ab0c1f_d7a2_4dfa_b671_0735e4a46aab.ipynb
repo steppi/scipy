{
    "nbformat": 4,
    "nbformat_minor": 5,
    "metadata": {
        "kernelspec": {
            "display_name": "Python",
            "language": "python",
            "name": "python"
        },
        "language_info": {
            "name": "python"
        }
    },
    "cells": [
        {
            "id": "9c2a60dd",
            "cell_type": "markdown",
            "source": "<div class='alert alert-warning'>\n\nSciPy's interactive examples with Jupyterlite are experimental and may not always work as expected. Execution of cells containing imports may result in large downloads (up to 60MB of content for the first import from SciPy). Load times when importing from SciPy may take roughly 10-20 seconds. If you notice any problems, feel free to open an [issue](https://github.com/scipy/scipy/issues/new/choose).\n\n</div>",
            "metadata": {}
        },
        {
            "id": "141bd4b1",
            "cell_type": "markdown",
            "source": "We illustrate the behaviour of the function when `brack` is of\nsize 2 and 3 respectively. In the case where `brack` is of the\nform ``(xa, xb)``, we can see for the given values, the output does\nnot necessarily lie in the range ``(xa, xb)``.\n",
            "metadata": {}
        },
        {
            "id": "a8c5013a",
            "cell_type": "code",
            "metadata": {},
            "execution_count": null,
            "source": "def f(x):\n    return (x-1)**2",
            "outputs": []
        },
        {
            "id": "6af393a3",
            "cell_type": "code",
            "metadata": {},
            "execution_count": null,
            "source": "from scipy import optimize",
            "outputs": []
        },
        {
            "id": "9e76d01a",
            "cell_type": "code",
            "metadata": {},
            "execution_count": null,
            "source": "minimizer = optimize.brent(f, brack=(1, 2))\nminimizer",
            "outputs": [
                {
                    "output_type": "execute_result",
                    "metadata": {},
                    "data": {
                        "text/plain": "1"
                    },
                    "execution_count": null
                }
            ]
        },
        {
            "id": "67f8af2a",
            "cell_type": "code",
            "metadata": {},
            "execution_count": null,
            "source": "res = optimize.brent(f, brack=(-1, 0.5, 2), full_output=True)\nxmin, fval, iter, funcalls = res\nf(xmin), fval",
            "outputs": [
                {
                    "output_type": "execute_result",
                    "metadata": {},
                    "data": {
                        "text/plain": "(0.0, 0.0)"
                    },
                    "execution_count": null
                }
            ]
        }
    ]
}