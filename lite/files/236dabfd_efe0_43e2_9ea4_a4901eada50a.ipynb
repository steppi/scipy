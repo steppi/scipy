{
    "nbformat": 4,
    "nbformat_minor": 5,
    "metadata": {
        "kernelspec": {
            "display_name": "Python",
            "language": "python",
            "name": "python"
        },
        "language_info": {
            "name": "python"
        }
    },
    "cells": [
        {
            "id": "82228229",
            "cell_type": "markdown",
            "source": "<div class='alert alert-warning'>\n\nSciPy's interactive examples with Jupyterlite are experimental and may not always work as expected. Execution of cells containing imports may result in large downloads (up to 60MB of content for the first import from SciPy). Load times when importing from SciPy may take roughly 10-20 seconds. If you notice any problems, feel free to open an [issue](https://github.com/scipy/scipy/issues/new/choose).\n\n</div>",
            "metadata": {}
        },
        {
            "id": "3baf3b18",
            "cell_type": "code",
            "metadata": {},
            "execution_count": null,
            "source": "from scipy.spatial.transform import Rotation as R\nr = R.from_quat([\n[1, 1, 0, 0],\n[0, 1, 0, 1],\n[1, 1, -1, 0]])\nr.as_quat()",
            "outputs": [
                {
                    "output_type": "execute_result",
                    "metadata": {},
                    "data": {
                        "text/plain": "array([[ 0.70710678,  0.70710678,  0.        ,  0.        ],\n       [ 0.        ,  0.70710678,  0.        ,  0.70710678],\n       [ 0.57735027,  0.57735027, -0.57735027,  0.        ]])"
                    },
                    "execution_count": null
                }
            ]
        },
        {
            "id": "ca3d06e5",
            "cell_type": "markdown",
            "source": "Indexing using a single index:\n",
            "metadata": {}
        },
        {
            "id": "3ad00ba4",
            "cell_type": "code",
            "metadata": {},
            "execution_count": null,
            "source": "p = r[0]\np.as_quat()",
            "outputs": [
                {
                    "output_type": "execute_result",
                    "metadata": {},
                    "data": {
                        "text/plain": "array([0.70710678, 0.70710678, 0.        , 0.        ])"
                    },
                    "execution_count": null
                }
            ]
        },
        {
            "id": "91a04026",
            "cell_type": "markdown",
            "source": "Array slicing:\n",
            "metadata": {}
        },
        {
            "id": "59ba0b09",
            "cell_type": "code",
            "metadata": {},
            "execution_count": null,
            "source": "q = r[1:3]\nq.as_quat()",
            "outputs": [
                {
                    "output_type": "execute_result",
                    "metadata": {},
                    "data": {
                        "text/plain": "array([[ 0.        ,  0.70710678,  0.        ,  0.70710678],\n       [ 0.57735027,  0.57735027, -0.57735027,  0.        ]])"
                    },
                    "execution_count": null
                }
            ]
        }
    ]
}