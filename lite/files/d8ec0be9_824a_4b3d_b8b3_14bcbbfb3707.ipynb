{
    "nbformat": 4,
    "nbformat_minor": 5,
    "metadata": {
        "kernelspec": {
            "display_name": "Python",
            "language": "python",
            "name": "python"
        },
        "language_info": {
            "name": "python"
        }
    },
    "cells": [
        {
            "id": "57589bcc",
            "cell_type": "markdown",
            "source": "<div class='alert alert-warning'>\n\nSciPy's interactive examples with Jupyterlite are experimental and may not always work as expected. Execution of cells containing imports may result in large downloads (up to 60MB of content for the first import from SciPy). Load times when importing from SciPy may take roughly 10-20 seconds. If you notice any problems, feel free to open an [issue](https://github.com/scipy/scipy/issues/new/choose).\n\n</div>",
            "metadata": {}
        },
        {
            "id": "1a3f708f",
            "cell_type": "code",
            "metadata": {},
            "execution_count": null,
            "source": "import numpy as np\nfrom scipy import signal\nimport matplotlib.pyplot as plt\nrng = np.random.default_rng()",
            "outputs": []
        },
        {
            "id": "b5e72e15",
            "cell_type": "markdown",
            "source": "Generate two test signals with some common features.\n",
            "metadata": {}
        },
        {
            "id": "57a208b6",
            "cell_type": "code",
            "metadata": {},
            "execution_count": null,
            "source": "fs = 10e3\nN = 1e5\namp = 20\nfreq = 1234.0\nnoise_power = 0.001 * fs / 2\ntime = np.arange(N) / fs\nb, a = signal.butter(2, 0.25, 'low')\nx = rng.normal(scale=np.sqrt(noise_power), size=time.shape)\ny = signal.lfilter(b, a, x)\nx += amp*np.sin(2*np.pi*freq*time)\ny += rng.normal(scale=0.1*np.sqrt(noise_power), size=time.shape)",
            "outputs": []
        },
        {
            "id": "62fb0808",
            "cell_type": "markdown",
            "source": "Compute and plot the coherence.\n",
            "metadata": {}
        },
        {
            "id": "1e2f3c01",
            "cell_type": "code",
            "metadata": {},
            "execution_count": null,
            "source": "f, Cxy = signal.coherence(x, y, fs, nperseg=1024)\nplt.semilogy(f, Cxy)\nplt.xlabel('frequency [Hz]')\nplt.ylabel('Coherence')\nplt.show()",
            "outputs": []
        }
    ]
}