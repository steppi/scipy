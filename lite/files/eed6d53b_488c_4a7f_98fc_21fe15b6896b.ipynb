{
    "nbformat": 4,
    "nbformat_minor": 5,
    "metadata": {
        "kernelspec": {
            "display_name": "Python",
            "language": "python",
            "name": "python"
        },
        "language_info": {
            "name": "python"
        }
    },
    "cells": [
        {
            "id": "a3e77a75",
            "cell_type": "markdown",
            "source": "<div class='alert alert-warning'>\n\nSciPy's interactive examples with Jupyterlite are experimental and may not always work as expected. Execution of cells containing imports may result in large downloads (up to 60MB of content for the first import from SciPy). Load times when importing from SciPy may take roughly 10-20 seconds. If you notice any problems, feel free to open an [issue](https://github.com/scipy/scipy/issues/new/choose).\n\n</div>",
            "metadata": {}
        },
        {
            "id": "f7e56538",
            "cell_type": "code",
            "metadata": {},
            "execution_count": null,
            "source": "from scipy.stats import pmean, hmean, gmean\npmean([1, 4], 1.3)",
            "outputs": [
                {
                    "output_type": "execute_result",
                    "metadata": {},
                    "data": {
                        "text/plain": "2.639372938300652"
                    },
                    "execution_count": null
                }
            ]
        },
        {
            "id": "e23e6df5",
            "cell_type": "code",
            "metadata": {},
            "execution_count": null,
            "source": "pmean([1, 2, 3, 4, 5, 6, 7], 1.3)",
            "outputs": [
                {
                    "output_type": "execute_result",
                    "metadata": {},
                    "data": {
                        "text/plain": "4.157111214492084"
                    },
                    "execution_count": null
                }
            ]
        },
        {
            "id": "d82f4761",
            "cell_type": "code",
            "metadata": {},
            "execution_count": null,
            "source": "pmean([1, 4, 7], -2, weights=[3, 1, 3])",
            "outputs": [
                {
                    "output_type": "execute_result",
                    "metadata": {},
                    "data": {
                        "text/plain": "1.4969684896631954"
                    },
                    "execution_count": null
                }
            ]
        },
        {
            "id": "adb24bbf",
            "cell_type": "markdown",
            "source": "For p=-1, power mean is equal to harmonic mean:\n",
            "metadata": {}
        },
        {
            "id": "ee905cea",
            "cell_type": "code",
            "metadata": {},
            "execution_count": null,
            "source": "pmean([1, 4, 7], -1, weights=[3, 1, 3])",
            "outputs": [
                {
                    "output_type": "execute_result",
                    "metadata": {},
                    "data": {
                        "text/plain": "1.9029126213592233"
                    },
                    "execution_count": null
                }
            ]
        },
        {
            "id": "805f053d",
            "cell_type": "code",
            "metadata": {},
            "execution_count": null,
            "source": "hmean([1, 4, 7], weights=[3, 1, 3])",
            "outputs": [
                {
                    "output_type": "execute_result",
                    "metadata": {},
                    "data": {
                        "text/plain": "1.9029126213592233"
                    },
                    "execution_count": null
                }
            ]
        },
        {
            "id": "058fb247",
            "cell_type": "markdown",
            "source": "For p=0, power mean is defined as the geometric mean:\n",
            "metadata": {}
        },
        {
            "id": "7fca9040",
            "cell_type": "code",
            "metadata": {},
            "execution_count": null,
            "source": "pmean([1, 4, 7], 0, weights=[3, 1, 3])",
            "outputs": [
                {
                    "output_type": "execute_result",
                    "metadata": {},
                    "data": {
                        "text/plain": "2.80668351922014"
                    },
                    "execution_count": null
                }
            ]
        },
        {
            "id": "d1c924b0",
            "cell_type": "code",
            "metadata": {},
            "execution_count": null,
            "source": "gmean([1, 4, 7], weights=[3, 1, 3])",
            "outputs": [
                {
                    "output_type": "execute_result",
                    "metadata": {},
                    "data": {
                        "text/plain": "2.80668351922014"
                    },
                    "execution_count": null
                }
            ]
        }
    ]
}