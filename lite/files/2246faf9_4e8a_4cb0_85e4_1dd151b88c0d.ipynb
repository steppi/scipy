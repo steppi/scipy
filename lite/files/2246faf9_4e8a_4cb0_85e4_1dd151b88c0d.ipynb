{
    "nbformat": 4,
    "nbformat_minor": 5,
    "metadata": {
        "kernelspec": {
            "display_name": "Python",
            "language": "python",
            "name": "python"
        },
        "language_info": {
            "name": "python"
        }
    },
    "cells": [
        {
            "id": "79b7010c",
            "cell_type": "markdown",
            "source": "<div class='alert alert-warning'>\n\nSciPy's interactive examples with Jupyterlite are experimental and may not always work as expected. Execution of cells containing imports may result in large downloads (up to 60MB of content for the first import from SciPy). Load times when importing from SciPy may take roughly 10-20 seconds. If you notice any problems, feel free to open an [issue](https://github.com/scipy/scipy/issues/new/choose).\n\n</div>",
            "metadata": {}
        },
        {
            "id": "38b769bc",
            "cell_type": "code",
            "metadata": {},
            "execution_count": null,
            "source": "import numpy as np\nfrom scipy.stats import exponnorm\nimport matplotlib.pyplot as plt\nfig, ax = plt.subplots(1, 1)",
            "outputs": []
        },
        {
            "id": "add4627f",
            "cell_type": "markdown",
            "source": "Calculate the first four moments:\n",
            "metadata": {}
        },
        {
            "id": "94f92fe9",
            "cell_type": "code",
            "metadata": {},
            "execution_count": null,
            "source": "K = 1.5\nmean, var, skew, kurt = exponnorm.stats(K, moments='mvsk')",
            "outputs": []
        },
        {
            "id": "b12f1fe2",
            "cell_type": "markdown",
            "source": "Display the probability density function (``pdf``):\n",
            "metadata": {}
        },
        {
            "id": "abcff36d",
            "cell_type": "code",
            "metadata": {},
            "execution_count": null,
            "source": "x = np.linspace(exponnorm.ppf(0.01, K),\n                exponnorm.ppf(0.99, K), 100)\nax.plot(x, exponnorm.pdf(x, K),\n       'r-', lw=5, alpha=0.6, label='exponnorm pdf')",
            "outputs": []
        },
        {
            "id": "c21185b1",
            "cell_type": "markdown",
            "source": "Alternatively, the distribution object can be called (as a function)\nto fix the shape, location and scale parameters. This returns a \"frozen\"\nRV object holding the given parameters fixed.\n\nFreeze the distribution and display the frozen ``pdf``:\n",
            "metadata": {}
        },
        {
            "id": "05736489",
            "cell_type": "code",
            "metadata": {},
            "execution_count": null,
            "source": "rv = exponnorm(K)\nax.plot(x, rv.pdf(x), 'k-', lw=2, label='frozen pdf')",
            "outputs": []
        },
        {
            "id": "80780581",
            "cell_type": "markdown",
            "source": "Check accuracy of ``cdf`` and ``ppf``:\n",
            "metadata": {}
        },
        {
            "id": "233a36ec",
            "cell_type": "code",
            "metadata": {},
            "execution_count": null,
            "source": "vals = exponnorm.ppf([0.001, 0.5, 0.999], K)\nnp.allclose([0.001, 0.5, 0.999], exponnorm.cdf(vals, K))",
            "outputs": [
                {
                    "output_type": "execute_result",
                    "metadata": {},
                    "data": {
                        "text/plain": "True"
                    },
                    "execution_count": null
                }
            ]
        },
        {
            "id": "6d22c118",
            "cell_type": "markdown",
            "source": "Generate random numbers:\n",
            "metadata": {}
        },
        {
            "id": "df92509b",
            "cell_type": "code",
            "metadata": {},
            "execution_count": null,
            "source": "r = exponnorm.rvs(K, size=1000)",
            "outputs": []
        },
        {
            "id": "40e65e7c",
            "cell_type": "markdown",
            "source": "And compare the histogram:\n",
            "metadata": {}
        },
        {
            "id": "18a3c523",
            "cell_type": "code",
            "metadata": {},
            "execution_count": null,
            "source": "ax.hist(r, density=True, bins='auto', histtype='stepfilled', alpha=0.2)\nax.set_xlim([x[0], x[-1]])\nax.legend(loc='best', frameon=False)\nplt.show()",
            "outputs": []
        }
    ]
}