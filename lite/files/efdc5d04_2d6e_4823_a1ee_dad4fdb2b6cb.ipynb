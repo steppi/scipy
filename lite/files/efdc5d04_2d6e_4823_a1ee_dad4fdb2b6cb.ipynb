{
    "nbformat": 4,
    "nbformat_minor": 5,
    "metadata": {
        "kernelspec": {
            "display_name": "Python",
            "language": "python",
            "name": "python"
        },
        "language_info": {
            "name": "python"
        }
    },
    "cells": [
        {
            "id": "bb75b037",
            "cell_type": "markdown",
            "source": "<div class='alert alert-warning'>\n\nSciPy's interactive examples with Jupyterlite are experimental and may not always work as expected. Execution of cells containing imports may result in large downloads (up to 60MB of content for the first import from SciPy). Load times when importing from SciPy may take roughly 10-20 seconds. If you notice any problems, feel free to open an [issue](https://github.com/scipy/scipy/issues/new/choose).\n\n</div>",
            "metadata": {}
        },
        {
            "id": "c316ea5b",
            "cell_type": "code",
            "metadata": {},
            "execution_count": null,
            "source": "import numpy as np\nfrom scipy.special import zetac, zeta",
            "outputs": []
        },
        {
            "id": "86dbf136",
            "cell_type": "markdown",
            "source": "Some special values:\n",
            "metadata": {}
        },
        {
            "id": "2c22d0a4",
            "cell_type": "code",
            "metadata": {},
            "execution_count": null,
            "source": "zetac(2), np.pi**2/6 - 1",
            "outputs": [
                {
                    "output_type": "execute_result",
                    "metadata": {},
                    "data": {
                        "text/plain": "(0.64493406684822641, 0.6449340668482264)"
                    },
                    "execution_count": null
                }
            ]
        },
        {
            "id": "0fa660f2",
            "cell_type": "code",
            "metadata": {},
            "execution_count": null,
            "source": "zetac(-1), -1.0/12 - 1",
            "outputs": [
                {
                    "output_type": "execute_result",
                    "metadata": {},
                    "data": {
                        "text/plain": "(-1.0833333333333333, -1.0833333333333333)"
                    },
                    "execution_count": null
                }
            ]
        },
        {
            "id": "5287ee66",
            "cell_type": "markdown",
            "source": "Compare ``zetac(x)`` to ``zeta(x) - 1`` for large `x`:\n",
            "metadata": {}
        },
        {
            "id": "7d74b3c4",
            "cell_type": "code",
            "metadata": {},
            "execution_count": null,
            "source": "zetac(60), zeta(60) - 1",
            "outputs": [
                {
                    "output_type": "execute_result",
                    "metadata": {},
                    "data": {
                        "text/plain": "(8.673617380119933e-19, 0.0)"
                    },
                    "execution_count": null
                }
            ]
        }
    ]
}