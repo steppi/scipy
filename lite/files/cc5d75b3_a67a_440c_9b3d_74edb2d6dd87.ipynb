{
    "nbformat": 4,
    "nbformat_minor": 5,
    "metadata": {
        "kernelspec": {
            "display_name": "Python",
            "language": "python",
            "name": "python"
        },
        "language_info": {
            "name": "python"
        }
    },
    "cells": [
        {
            "id": "24a8faeb",
            "cell_type": "markdown",
            "source": "<div class='alert alert-warning'>\n\nSciPy's interactive examples with Jupyterlite are experimental and may not always work as expected. Execution of cells containing imports may result in large downloads (up to 60MB of content for the first import from SciPy). Load times when importing from SciPy may take roughly 10-20 seconds. If you notice any problems, feel free to open an [issue](https://github.com/scipy/scipy/issues/new/choose).\n\n</div>",
            "metadata": {}
        },
        {
            "id": "acab5798",
            "cell_type": "code",
            "metadata": {},
            "execution_count": null,
            "source": "from scipy.sparse import csr_matrix\nfrom scipy.sparse.csgraph import connected_components",
            "outputs": []
        },
        {
            "id": "8381a634",
            "cell_type": "code",
            "metadata": {},
            "execution_count": null,
            "source": "graph = [\n[0, 1, 1, 0, 0],\n[0, 0, 1, 0, 0],\n[0, 0, 0, 0, 0],\n[0, 0, 0, 0, 1],\n[0, 0, 0, 0, 0]\n]\ngraph = csr_matrix(graph)\nprint(graph)",
            "outputs": [
                {
                    "output_type": "execute_result",
                    "metadata": {},
                    "data": {
                        "text/plain": "  (0, 1)    1\n  (0, 2)    1\n  (1, 2)    1\n  (3, 4)    1"
                    },
                    "execution_count": null
                }
            ]
        },
        {
            "id": "1c9136c1",
            "cell_type": "code",
            "metadata": {},
            "execution_count": null,
            "source": "n_components, labels = connected_components(csgraph=graph, directed=False, return_labels=True)\nn_components",
            "outputs": [
                {
                    "output_type": "execute_result",
                    "metadata": {},
                    "data": {
                        "text/plain": "2"
                    },
                    "execution_count": null
                }
            ]
        },
        {
            "id": "6bda7f48",
            "cell_type": "code",
            "metadata": {},
            "execution_count": null,
            "source": "labels",
            "outputs": [
                {
                    "output_type": "execute_result",
                    "metadata": {},
                    "data": {
                        "text/plain": "array([0, 0, 0, 1, 1], dtype=int32)"
                    },
                    "execution_count": null
                }
            ]
        }
    ]
}