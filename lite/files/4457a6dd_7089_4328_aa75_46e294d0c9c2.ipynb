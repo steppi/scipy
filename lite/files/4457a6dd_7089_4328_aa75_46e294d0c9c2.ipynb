{
    "nbformat": 4,
    "nbformat_minor": 5,
    "metadata": {
        "kernelspec": {
            "display_name": "Python",
            "language": "python",
            "name": "python"
        },
        "language_info": {
            "name": "python"
        }
    },
    "cells": [
        {
            "id": "a7dcd769",
            "cell_type": "markdown",
            "source": "<div class='alert alert-warning'>\n\nSciPy's interactive examples with Jupyterlite are experimental and may not always work as expected. Execution of cells containing imports may result in large downloads (up to 60MB of content for the first import from SciPy). Load times when importing from SciPy may take roughly 10-20 seconds. If you notice any problems, feel free to open an [issue](https://github.com/scipy/scipy/issues/new/choose).\n\n</div>",
            "metadata": {}
        },
        {
            "id": "b457add7",
            "cell_type": "code",
            "metadata": {},
            "execution_count": null,
            "source": "import numpy as np\nfrom scipy import special\nimport matplotlib.pyplot as plt",
            "outputs": []
        },
        {
            "id": "e05bd81e",
            "cell_type": "markdown",
            "source": "We can initialize a variable ``p`` as a Gegenbauer polynomial using the\n`gegenbauer` function and evaluate at a point ``x = 1``.\n",
            "metadata": {}
        },
        {
            "id": "09785856",
            "cell_type": "code",
            "metadata": {},
            "execution_count": null,
            "source": "p = special.gegenbauer(3, 0.5, monic=False)\np",
            "outputs": [
                {
                    "output_type": "execute_result",
                    "metadata": {},
                    "data": {
                        "text/plain": "poly1d([ 2.5,  0. , -1.5,  0. ])"
                    },
                    "execution_count": null
                }
            ]
        },
        {
            "id": "1d7fb3e8",
            "cell_type": "code",
            "metadata": {},
            "execution_count": null,
            "source": "p(1)",
            "outputs": [
                {
                    "output_type": "execute_result",
                    "metadata": {},
                    "data": {
                        "text/plain": "1.0"
                    },
                    "execution_count": null
                }
            ]
        },
        {
            "id": "98bd5c13",
            "cell_type": "markdown",
            "source": "To evaluate ``p`` at various points ``x`` in the interval ``(-3, 3)``,\nsimply pass an array ``x`` to ``p`` as follows:\n",
            "metadata": {}
        },
        {
            "id": "c0d716af",
            "cell_type": "code",
            "metadata": {},
            "execution_count": null,
            "source": "x = np.linspace(-3, 3, 400)\ny = p(x)",
            "outputs": []
        },
        {
            "id": "ab8a4b41",
            "cell_type": "markdown",
            "source": "We can then visualize ``x, y`` using `matplotlib.pyplot`.\n",
            "metadata": {}
        },
        {
            "id": "74754291",
            "cell_type": "code",
            "metadata": {},
            "execution_count": null,
            "source": "fig, ax = plt.subplots()\nax.plot(x, y)\nax.set_title(\"Gegenbauer (ultraspherical) polynomial of degree 3\")\nax.set_xlabel(\"x\")\nax.set_ylabel(\"G_3(x)\")\nplt.show()",
            "outputs": []
        }
    ]
}