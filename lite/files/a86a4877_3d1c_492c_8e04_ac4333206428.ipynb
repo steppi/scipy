{
    "nbformat": 4,
    "nbformat_minor": 5,
    "metadata": {
        "kernelspec": {
            "display_name": "Python",
            "language": "python",
            "name": "python"
        },
        "language_info": {
            "name": "python"
        }
    },
    "cells": [
        {
            "id": "e3763075",
            "cell_type": "markdown",
            "source": "<div class='alert alert-warning'>\n\nSciPy's interactive examples with Jupyterlite are experimental and may not always work as expected. Execution of cells containing imports may result in large downloads (up to 60MB of content for the first import from SciPy). Load times when importing from SciPy may take roughly 10-20 seconds. If you notice any problems, feel free to open an [issue](https://github.com/scipy/scipy/issues/new/choose).\n\n</div>",
            "metadata": {}
        },
        {
            "id": "94ab83d6",
            "cell_type": "code",
            "metadata": {},
            "execution_count": null,
            "source": "from scipy.spatial.transform import Rotation as R\nimport numpy as np",
            "outputs": []
        },
        {
            "id": "1244d88c",
            "cell_type": "markdown",
            "source": "Single rotation applied on a single vector:\n",
            "metadata": {}
        },
        {
            "id": "a7ab8885",
            "cell_type": "code",
            "metadata": {},
            "execution_count": null,
            "source": "vector = np.array([1, 0, 0])\nr = R.from_rotvec([0, 0, np.pi/2])\nr.as_matrix()",
            "outputs": [
                {
                    "output_type": "execute_result",
                    "metadata": {},
                    "data": {
                        "text/plain": "array([[ 2.22044605e-16, -1.00000000e+00,  0.00000000e+00],\n       [ 1.00000000e+00,  2.22044605e-16,  0.00000000e+00],\n       [ 0.00000000e+00,  0.00000000e+00,  1.00000000e+00]])"
                    },
                    "execution_count": null
                }
            ]
        },
        {
            "id": "ac952e51",
            "cell_type": "code",
            "metadata": {},
            "execution_count": null,
            "source": "r.apply(vector)",
            "outputs": [
                {
                    "output_type": "execute_result",
                    "metadata": {},
                    "data": {
                        "text/plain": "array([2.22044605e-16, 1.00000000e+00, 0.00000000e+00])"
                    },
                    "execution_count": null
                }
            ]
        },
        {
            "id": "ec9eb450",
            "cell_type": "code",
            "metadata": {},
            "execution_count": null,
            "source": "r.apply(vector).shape",
            "outputs": [
                {
                    "output_type": "execute_result",
                    "metadata": {},
                    "data": {
                        "text/plain": "(3,)"
                    },
                    "execution_count": null
                }
            ]
        },
        {
            "id": "ed31ebed",
            "cell_type": "markdown",
            "source": "Single rotation applied on multiple vectors:\n",
            "metadata": {}
        },
        {
            "id": "c0dc2ec3",
            "cell_type": "code",
            "metadata": {},
            "execution_count": null,
            "source": "vectors = np.array([\n[1, 0, 0],\n[1, 2, 3]])\nr = R.from_rotvec([0, 0, np.pi/4])\nr.as_matrix()",
            "outputs": [
                {
                    "output_type": "execute_result",
                    "metadata": {},
                    "data": {
                        "text/plain": "array([[ 0.70710678, -0.70710678,  0.        ],\n       [ 0.70710678,  0.70710678,  0.        ],\n       [ 0.        ,  0.        ,  1.        ]])"
                    },
                    "execution_count": null
                }
            ]
        },
        {
            "id": "282c6e20",
            "cell_type": "code",
            "metadata": {},
            "execution_count": null,
            "source": "r.apply(vectors)",
            "outputs": [
                {
                    "output_type": "execute_result",
                    "metadata": {},
                    "data": {
                        "text/plain": "array([[ 0.70710678,  0.70710678,  0.        ],\n       [-0.70710678,  2.12132034,  3.        ]])"
                    },
                    "execution_count": null
                }
            ]
        },
        {
            "id": "6822f131",
            "cell_type": "code",
            "metadata": {},
            "execution_count": null,
            "source": "r.apply(vectors).shape",
            "outputs": [
                {
                    "output_type": "execute_result",
                    "metadata": {},
                    "data": {
                        "text/plain": "(2, 3)"
                    },
                    "execution_count": null
                }
            ]
        },
        {
            "id": "77ded070",
            "cell_type": "markdown",
            "source": "Multiple rotations on a single vector:\n",
            "metadata": {}
        },
        {
            "id": "44e1461f",
            "cell_type": "code",
            "metadata": {},
            "execution_count": null,
            "source": "r = R.from_rotvec([[0, 0, np.pi/4], [np.pi/2, 0, 0]])\nvector = np.array([1,2,3])\nr.as_matrix()",
            "outputs": [
                {
                    "output_type": "execute_result",
                    "metadata": {},
                    "data": {
                        "text/plain": "array([[[ 7.07106781e-01, -7.07106781e-01,  0.00000000e+00],\n        [ 7.07106781e-01,  7.07106781e-01,  0.00000000e+00],\n        [ 0.00000000e+00,  0.00000000e+00,  1.00000000e+00]],\n       [[ 1.00000000e+00,  0.00000000e+00,  0.00000000e+00],\n        [ 0.00000000e+00,  2.22044605e-16, -1.00000000e+00],\n        [ 0.00000000e+00,  1.00000000e+00,  2.22044605e-16]]])"
                    },
                    "execution_count": null
                }
            ]
        },
        {
            "id": "34afe623",
            "cell_type": "code",
            "metadata": {},
            "execution_count": null,
            "source": "r.apply(vector)",
            "outputs": [
                {
                    "output_type": "execute_result",
                    "metadata": {},
                    "data": {
                        "text/plain": "array([[-0.70710678,  2.12132034,  3.        ],\n       [ 1.        , -3.        ,  2.        ]])"
                    },
                    "execution_count": null
                }
            ]
        },
        {
            "id": "aa0848a5",
            "cell_type": "code",
            "metadata": {},
            "execution_count": null,
            "source": "r.apply(vector).shape",
            "outputs": [
                {
                    "output_type": "execute_result",
                    "metadata": {},
                    "data": {
                        "text/plain": "(2, 3)"
                    },
                    "execution_count": null
                }
            ]
        },
        {
            "id": "3b3af108",
            "cell_type": "markdown",
            "source": "Multiple rotations on multiple vectors. Each rotation is applied on the\ncorresponding vector:\n",
            "metadata": {}
        },
        {
            "id": "cab393eb",
            "cell_type": "code",
            "metadata": {},
            "execution_count": null,
            "source": "r = R.from_euler('zxy', [\n[0, 0, 90],\n[45, 30, 60]], degrees=True)\nvectors = [\n[1, 2, 3],\n[1, 0, -1]]\nr.apply(vectors)",
            "outputs": [
                {
                    "output_type": "execute_result",
                    "metadata": {},
                    "data": {
                        "text/plain": "array([[ 3.        ,  2.        , -1.        ],\n       [-0.09026039,  1.11237244, -0.86860844]])"
                    },
                    "execution_count": null
                }
            ]
        },
        {
            "id": "9b23ef87",
            "cell_type": "code",
            "metadata": {},
            "execution_count": null,
            "source": "r.apply(vectors).shape",
            "outputs": [
                {
                    "output_type": "execute_result",
                    "metadata": {},
                    "data": {
                        "text/plain": "(2, 3)"
                    },
                    "execution_count": null
                }
            ]
        },
        {
            "id": "6ec2d8b0",
            "cell_type": "markdown",
            "source": "It is also possible to apply the inverse rotation:\n",
            "metadata": {}
        },
        {
            "id": "486cfad5",
            "cell_type": "code",
            "metadata": {},
            "execution_count": null,
            "source": "r = R.from_euler('zxy', [\n[0, 0, 90],\n[45, 30, 60]], degrees=True)\nvectors = [\n[1, 2, 3],\n[1, 0, -1]]\nr.apply(vectors, inverse=True)",
            "outputs": [
                {
                    "output_type": "execute_result",
                    "metadata": {},
                    "data": {
                        "text/plain": "array([[-3.        ,  2.        ,  1.        ],\n       [ 1.09533535, -0.8365163 ,  0.3169873 ]])"
                    },
                    "execution_count": null
                }
            ]
        }
    ]
}