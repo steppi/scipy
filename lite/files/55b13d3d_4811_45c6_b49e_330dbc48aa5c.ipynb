{
    "nbformat": 4,
    "nbformat_minor": 5,
    "metadata": {
        "kernelspec": {
            "display_name": "Python",
            "language": "python",
            "name": "python"
        },
        "language_info": {
            "name": "python"
        }
    },
    "cells": [
        {
            "id": "0c0f09d5",
            "cell_type": "markdown",
            "source": "<div class='alert alert-warning'>\n\nSciPy's interactive examples with Jupyterlite are experimental and may not always work as expected. Execution of cells containing imports may result in large downloads (up to 60MB of content for the first import from SciPy). Load times when importing from SciPy may take roughly 10-20 seconds. If you notice any problems, feel free to open an [issue](https://github.com/scipy/scipy/issues/new/choose).\n\n</div>",
            "metadata": {}
        },
        {
            "id": "2e7bdd43",
            "cell_type": "code",
            "metadata": {},
            "execution_count": null,
            "source": "from scipy import ndimage\nimport numpy as np\na = np.array([[1, 2, 0, 0],\n              [5, 3, 0, 4],\n              [0, 0, 0, 7],\n              [9, 3, 0, 0]])\nndimage.maximum_position(a)",
            "outputs": [
                {
                    "output_type": "execute_result",
                    "metadata": {},
                    "data": {
                        "text/plain": "(3, 0)"
                    },
                    "execution_count": null
                }
            ]
        },
        {
            "id": "fd5e8518",
            "cell_type": "markdown",
            "source": "Features to process can be specified using `labels` and `index`:\n",
            "metadata": {}
        },
        {
            "id": "2786bd56",
            "cell_type": "code",
            "metadata": {},
            "execution_count": null,
            "source": "lbl = np.array([[0, 1, 2, 3],\n                [0, 1, 2, 3],\n                [0, 1, 2, 3],\n                [0, 1, 2, 3]])\nndimage.maximum_position(a, lbl, 1)",
            "outputs": [
                {
                    "output_type": "execute_result",
                    "metadata": {},
                    "data": {
                        "text/plain": "(1, 1)"
                    },
                    "execution_count": null
                }
            ]
        },
        {
            "id": "85673c19",
            "cell_type": "markdown",
            "source": "If no index is given, non-zero `labels` are processed:\n",
            "metadata": {}
        },
        {
            "id": "fea64f97",
            "cell_type": "code",
            "metadata": {},
            "execution_count": null,
            "source": "ndimage.maximum_position(a, lbl)",
            "outputs": [
                {
                    "output_type": "execute_result",
                    "metadata": {},
                    "data": {
                        "text/plain": "(2, 3)"
                    },
                    "execution_count": null
                }
            ]
        },
        {
            "id": "7171e649",
            "cell_type": "markdown",
            "source": "If there are no maxima, the position of the first element is returned:\n",
            "metadata": {}
        },
        {
            "id": "7bc0037e",
            "cell_type": "code",
            "metadata": {},
            "execution_count": null,
            "source": "ndimage.maximum_position(a, lbl, 2)",
            "outputs": [
                {
                    "output_type": "execute_result",
                    "metadata": {},
                    "data": {
                        "text/plain": "(0, 2)"
                    },
                    "execution_count": null
                }
            ]
        }
    ]
}