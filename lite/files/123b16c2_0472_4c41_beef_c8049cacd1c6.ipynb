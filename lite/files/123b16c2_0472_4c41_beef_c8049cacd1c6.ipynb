{
    "nbformat": 4,
    "nbformat_minor": 5,
    "metadata": {
        "kernelspec": {
            "display_name": "Python",
            "language": "python",
            "name": "python"
        },
        "language_info": {
            "name": "python"
        }
    },
    "cells": [
        {
            "id": "73e9d934",
            "cell_type": "markdown",
            "source": "<div class='alert alert-warning'>\n\nSciPy's interactive examples with Jupyterlite are experimental and may not always work as expected. Execution of cells containing imports may result in large downloads (up to 60MB of content for the first import from SciPy). Load times when importing from SciPy may take roughly 10-20 seconds. If you notice any problems, feel free to open an [issue](https://github.com/scipy/scipy/issues/new/choose).\n\n</div>",
            "metadata": {}
        },
        {
            "id": "6e041266",
            "cell_type": "code",
            "metadata": {},
            "execution_count": null,
            "source": "from scipy.special import factorialk\nfactorialk(5, k=1, exact=True)",
            "outputs": [
                {
                    "output_type": "execute_result",
                    "metadata": {},
                    "data": {
                        "text/plain": "120"
                    },
                    "execution_count": null
                }
            ]
        },
        {
            "id": "dc9fad24",
            "cell_type": "code",
            "metadata": {},
            "execution_count": null,
            "source": "factorialk(5, k=3, exact=True)",
            "outputs": [
                {
                    "output_type": "execute_result",
                    "metadata": {},
                    "data": {
                        "text/plain": "10"
                    },
                    "execution_count": null
                }
            ]
        },
        {
            "id": "35b94a71",
            "cell_type": "code",
            "metadata": {},
            "execution_count": null,
            "source": "factorialk([5, 7, 9], k=3, exact=True)",
            "outputs": [
                {
                    "output_type": "execute_result",
                    "metadata": {},
                    "data": {
                        "text/plain": "array([ 10,  28, 162])"
                    },
                    "execution_count": null
                }
            ]
        },
        {
            "id": "ebd0a194",
            "cell_type": "code",
            "metadata": {},
            "execution_count": null,
            "source": "factorialk([5, 7, 9], k=3, exact=False)",
            "outputs": [
                {
                    "output_type": "execute_result",
                    "metadata": {},
                    "data": {
                        "text/plain": "array([ 10.,  28., 162.])"
                    },
                    "execution_count": null
                }
            ]
        }
    ]
}