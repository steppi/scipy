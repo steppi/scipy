{
    "nbformat": 4,
    "nbformat_minor": 5,
    "metadata": {
        "kernelspec": {
            "display_name": "Python",
            "language": "python",
            "name": "python"
        },
        "language_info": {
            "name": "python"
        }
    },
    "cells": [
        {
            "id": "58d12917",
            "cell_type": "markdown",
            "source": "<div class='alert alert-warning'>\n\nSciPy's interactive examples with Jupyterlite are experimental and may not always work as expected. Execution of cells containing imports may result in large downloads (up to 60MB of content for the first import from SciPy). Load times when importing from SciPy may take roughly 10-20 seconds. If you notice any problems, feel free to open an [issue](https://github.com/scipy/scipy/issues/new/choose).\n\n</div>",
            "metadata": {}
        },
        {
            "id": "0007488f",
            "cell_type": "code",
            "metadata": {},
            "execution_count": null,
            "source": "from scipy import stats\nfrom numpy.random import default_rng\nrng = default_rng()",
            "outputs": []
        },
        {
            "id": "3d69c1a9",
            "cell_type": "markdown",
            "source": "As sample size increases, n-th moment and n-th k-statistic converge to the\nsame number (although they aren't identical). In the case of the normal\ndistribution, they converge to zero.\n",
            "metadata": {}
        },
        {
            "id": "0c6a0355",
            "cell_type": "code",
            "metadata": {},
            "execution_count": null,
            "source": "for n in [2, 3, 4, 5, 6, 7]:\n    x = rng.normal(size=10**n)\n    m, k = stats.moment(x, 3), stats.kstat(x, 3)\n    print(\"%.3g %.3g %.3g\" % (m, k, m-k))",
            "outputs": [
                {
                    "output_type": "execute_result",
                    "metadata": {},
                    "data": {
                        "text/plain": "-0.631 -0.651 0.0194  # random\n0.0282 0.0283 -8.49e-05\n-0.0454 -0.0454 1.36e-05\n7.53e-05 7.53e-05 -2.26e-09\n0.00166 0.00166 -4.99e-09\n-2.88e-06 -2.88e-06 8.63e-13"
                    },
                    "execution_count": null
                }
            ]
        }
    ]
}