{
    "nbformat": 4,
    "nbformat_minor": 5,
    "metadata": {
        "kernelspec": {
            "display_name": "Python",
            "language": "python",
            "name": "python"
        },
        "language_info": {
            "name": "python"
        }
    },
    "cells": [
        {
            "id": "ac05141e",
            "cell_type": "markdown",
            "source": "<div class='alert alert-warning'>\n\nSciPy's interactive examples with Jupyterlite are experimental and may not always work as expected. Execution of cells containing imports may result in large downloads (up to 60MB of content for the first import from SciPy). Load times when importing from SciPy may take roughly 10-20 seconds. If you notice any problems, feel free to open an [issue](https://github.com/scipy/scipy/issues/new/choose).\n\n</div>",
            "metadata": {}
        },
        {
            "id": "8d10d36c",
            "cell_type": "code",
            "metadata": {},
            "execution_count": null,
            "source": "from scipy import signal\nimport numpy as np\nb = signal.firwin(80, 0.5, window=('kaiser', 8))\nw, h = signal.freqz(b)",
            "outputs": []
        },
        {
            "id": "42385942",
            "cell_type": "code",
            "metadata": {},
            "execution_count": null,
            "source": "import matplotlib.pyplot as plt\nfig, ax1 = plt.subplots()\nax1.set_title('Digital filter frequency response')",
            "outputs": []
        },
        {
            "id": "4bdbef78",
            "cell_type": "code",
            "metadata": {},
            "execution_count": null,
            "source": "ax1.plot(w, 20 * np.log10(abs(h)), 'b')\nax1.set_ylabel('Amplitude [dB]', color='b')\nax1.set_xlabel('Frequency [rad/sample]')",
            "outputs": []
        },
        {
            "id": "682df0fe",
            "cell_type": "code",
            "metadata": {},
            "execution_count": null,
            "source": "ax2 = ax1.twinx()\nangles = np.unwrap(np.angle(h))\nax2.plot(w, angles, 'g')\nax2.set_ylabel('Angle (radians)', color='g')\nax2.grid(True)\nax2.axis('tight')\nplt.show()",
            "outputs": []
        },
        {
            "id": "e8b2193d",
            "cell_type": "markdown",
            "source": "Broadcasting Examples\n\nSuppose we have two FIR filters whose coefficients are stored in the\nrows of an array with shape (2, 25). For this demonstration, we'll\nuse random data:\n",
            "metadata": {}
        },
        {
            "id": "8e0f589c",
            "cell_type": "code",
            "metadata": {},
            "execution_count": null,
            "source": "rng = np.random.default_rng()\nb = rng.random((2, 25))",
            "outputs": []
        },
        {
            "id": "c2e3cf20",
            "cell_type": "markdown",
            "source": "To compute the frequency response for these two filters with one call\nto `freqz`, we must pass in ``b.T``, because `freqz` expects the first\naxis to hold the coefficients. We must then extend the shape with a\ntrivial dimension of length 1 to allow broadcasting with the array\nof frequencies.  That is, we pass in ``b.T[..., np.newaxis]``, which has\nshape (25, 2, 1):\n",
            "metadata": {}
        },
        {
            "id": "daef6e02",
            "cell_type": "code",
            "metadata": {},
            "execution_count": null,
            "source": "w, h = signal.freqz(b.T[..., np.newaxis], worN=1024)\nw.shape",
            "outputs": [
                {
                    "output_type": "execute_result",
                    "metadata": {},
                    "data": {
                        "text/plain": "(1024,)"
                    },
                    "execution_count": null
                }
            ]
        },
        {
            "id": "1930e5e3",
            "cell_type": "code",
            "metadata": {},
            "execution_count": null,
            "source": "h.shape",
            "outputs": [
                {
                    "output_type": "execute_result",
                    "metadata": {},
                    "data": {
                        "text/plain": "(2, 1024)"
                    },
                    "execution_count": null
                }
            ]
        },
        {
            "id": "24cdfab0",
            "cell_type": "markdown",
            "source": "Now, suppose we have two transfer functions, with the same numerator\ncoefficients ``b = [0.5, 0.5]``. The coefficients for the two denominators\nare stored in the first dimension of the 2-D array  `a`\n```\n\na = [   1      1  ]\n[ -0.25, -0.5 ]\n\n```",
            "metadata": {}
        },
        {
            "id": "332db7db",
            "cell_type": "code",
            "metadata": {},
            "execution_count": null,
            "source": "b = np.array([0.5, 0.5])\na = np.array([[1, 1], [-0.25, -0.5]])",
            "outputs": []
        },
        {
            "id": "626b3ada",
            "cell_type": "markdown",
            "source": "Only `a` is more than 1-D. To make it compatible for\nbroadcasting with the frequencies, we extend it with a trivial dimension\nin the call to `freqz`:\n",
            "metadata": {}
        },
        {
            "id": "b43e8669",
            "cell_type": "code",
            "metadata": {},
            "execution_count": null,
            "source": "w, h = signal.freqz(b, a[..., np.newaxis], worN=1024)\nw.shape",
            "outputs": [
                {
                    "output_type": "execute_result",
                    "metadata": {},
                    "data": {
                        "text/plain": "(1024,)"
                    },
                    "execution_count": null
                }
            ]
        },
        {
            "id": "0c3c9a4f",
            "cell_type": "code",
            "metadata": {},
            "execution_count": null,
            "source": "h.shape",
            "outputs": [
                {
                    "output_type": "execute_result",
                    "metadata": {},
                    "data": {
                        "text/plain": "(2, 1024)"
                    },
                    "execution_count": null
                }
            ]
        }
    ]
}