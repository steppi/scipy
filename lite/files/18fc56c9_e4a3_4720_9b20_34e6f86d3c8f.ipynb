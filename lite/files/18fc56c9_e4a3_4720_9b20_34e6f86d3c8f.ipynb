{
    "nbformat": 4,
    "nbformat_minor": 5,
    "metadata": {
        "kernelspec": {
            "display_name": "Python",
            "language": "python",
            "name": "python"
        },
        "language_info": {
            "name": "python"
        }
    },
    "cells": [
        {
            "id": "d633a31a",
            "cell_type": "markdown",
            "source": "<div class='alert alert-warning'>\n\nSciPy's interactive examples with Jupyterlite are experimental and may not always work as expected. Execution of cells containing imports may result in large downloads (up to 60MB of content for the first import from SciPy). Load times when importing from SciPy may take roughly 10-20 seconds. If you notice any problems, feel free to open an [issue](https://github.com/scipy/scipy/issues/new/choose).\n\n</div>",
            "metadata": {}
        },
        {
            "id": "de48c5eb",
            "cell_type": "code",
            "metadata": {},
            "execution_count": null,
            "source": "from scipy.sparse import csc_matrix\nfrom scipy.sparse.linalg import inv\nA = csc_matrix([[1., 0.], [1., 2.]])\nAinv = inv(A)\nAinv",
            "outputs": [
                {
                    "output_type": "execute_result",
                    "metadata": {},
                    "data": {
                        "text/plain": "<2x2 sparse matrix of type '<class 'numpy.float64'>'\n    with 3 stored elements in Compressed Sparse Column format>"
                    },
                    "execution_count": null
                }
            ]
        },
        {
            "id": "c812a4c3",
            "cell_type": "code",
            "metadata": {},
            "execution_count": null,
            "source": "A.dot(Ainv)",
            "outputs": [
                {
                    "output_type": "execute_result",
                    "metadata": {},
                    "data": {
                        "text/plain": "<2x2 sparse matrix of type '<class 'numpy.float64'>'\n    with 2 stored elements in Compressed Sparse Column format>"
                    },
                    "execution_count": null
                }
            ]
        },
        {
            "id": "53211a01",
            "cell_type": "code",
            "metadata": {},
            "execution_count": null,
            "source": "A.dot(Ainv).toarray()",
            "outputs": [
                {
                    "output_type": "execute_result",
                    "metadata": {},
                    "data": {
                        "text/plain": "array([[ 1.,  0.],\n       [ 0.,  1.]])"
                    },
                    "execution_count": null
                }
            ]
        },
        {
            "id": "fdaf994d",
            "cell_type": "markdown",
            "source": ".. versionadded:: 0.12.0",
            "metadata": {}
        }
    ]
}