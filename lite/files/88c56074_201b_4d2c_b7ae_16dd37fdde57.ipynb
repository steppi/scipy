{
    "nbformat": 4,
    "nbformat_minor": 5,
    "metadata": {
        "kernelspec": {
            "display_name": "Python",
            "language": "python",
            "name": "python"
        },
        "language_info": {
            "name": "python"
        }
    },
    "cells": [
        {
            "id": "cf6f4ee5",
            "cell_type": "markdown",
            "source": "<div class='alert alert-warning'>\n\nSciPy's interactive examples with Jupyterlite are experimental and may not always work as expected. Execution of cells containing imports may result in large downloads (up to 60MB of content for the first import from SciPy). Load times when importing from SciPy may take roughly 10-20 seconds. If you notice any problems, feel free to open an [issue](https://github.com/scipy/scipy/issues/new/choose).\n\n</div>",
            "metadata": {}
        },
        {
            "id": "898bee6c",
            "cell_type": "markdown",
            "source": "The following examples illustrate the ways in which `binom` differs from\nthe function `comb`.\n",
            "metadata": {}
        },
        {
            "id": "20424e18",
            "cell_type": "code",
            "metadata": {},
            "execution_count": null,
            "source": "from scipy.special import binom, comb",
            "outputs": []
        },
        {
            "id": "bed58273",
            "cell_type": "markdown",
            "source": "When ``exact=False`` and ``x`` and ``y`` are both positive, `comb` calls\n`binom` internally.\n",
            "metadata": {}
        },
        {
            "id": "9a0641ba",
            "cell_type": "code",
            "metadata": {},
            "execution_count": null,
            "source": "x, y = 3, 2\n(binom(x, y), comb(x, y), comb(x, y, exact=True))",
            "outputs": [
                {
                    "output_type": "execute_result",
                    "metadata": {},
                    "data": {
                        "text/plain": "(3.0, 3.0, 3)"
                    },
                    "execution_count": null
                }
            ]
        },
        {
            "id": "873c00f0",
            "cell_type": "markdown",
            "source": "For larger values, `comb` with ``exact=True`` no longer agrees\nwith `binom`.\n",
            "metadata": {}
        },
        {
            "id": "75e3c594",
            "cell_type": "code",
            "metadata": {},
            "execution_count": null,
            "source": "x, y = 43, 23\n(binom(x, y), comb(x, y), comb(x, y, exact=True))",
            "outputs": [
                {
                    "output_type": "execute_result",
                    "metadata": {},
                    "data": {
                        "text/plain": "(960566918219.9999, 960566918219.9999, 960566918220)"
                    },
                    "execution_count": null
                }
            ]
        },
        {
            "id": "5b49d204",
            "cell_type": "markdown",
            "source": "`binom` returns ``nan`` when ``x`` is a negative integer, but is otherwise\ndefined for negative arguments. `comb` returns 0 whenever one of ``x`` or\n``y`` is negative or ``x`` is less than ``y``.\n",
            "metadata": {}
        },
        {
            "id": "978c8a96",
            "cell_type": "code",
            "metadata": {},
            "execution_count": null,
            "source": "x, y = -3, 2\n(binom(x, y), comb(x, y), comb(x, y, exact=True))",
            "outputs": [
                {
                    "output_type": "execute_result",
                    "metadata": {},
                    "data": {
                        "text/plain": "(nan, 0.0, 0)"
                    },
                    "execution_count": null
                }
            ]
        },
        {
            "id": "b2e6ebc1",
            "cell_type": "code",
            "metadata": {},
            "execution_count": null,
            "source": "x, y = -3.1, 2.2\n(binom(x, y), comb(x, y), comb(x, y, exact=True))",
            "outputs": [
                {
                    "output_type": "execute_result",
                    "metadata": {},
                    "data": {
                        "text/plain": "(18.714147876804432, 0.0, 0)"
                    },
                    "execution_count": null
                }
            ]
        },
        {
            "id": "c795ec97",
            "cell_type": "code",
            "metadata": {},
            "execution_count": null,
            "source": "x, y = 2.2, 3.1\n(binom(x, y), comb(x, y), comb(x, y, exact=True))",
            "outputs": [
                {
                    "output_type": "execute_result",
                    "metadata": {},
                    "data": {
                        "text/plain": "(0.037399983365134115, 0.0, 0)"
                    },
                    "execution_count": null
                }
            ]
        }
    ]
}